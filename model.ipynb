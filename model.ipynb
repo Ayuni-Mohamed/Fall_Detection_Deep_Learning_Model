{
  "nbformat": 4,
  "nbformat_minor": 0,
  "metadata": {
    "colab": {
      "name": "Copy of 636model.ipynb",
      "provenance": [],
      "collapsed_sections": []
    },
    "kernelspec": {
      "name": "python3",
      "display_name": "Python 3"
    },
    "accelerator": "GPU"
  },
  "cells": [
    {
      "cell_type": "code",
      "metadata": {
        "id": "_ZYHC0XOvjYK",
        "colab_type": "code",
        "colab": {}
      },
      "source": [
        "import keras\n",
        "keras.__version__"
      ],
      "execution_count": 0,
      "outputs": []
    },
    {
      "cell_type": "code",
      "metadata": {
        "id": "SG9jbsQVueU9",
        "colab_type": "code",
        "colab": {}
      },
      "source": [
        "from keras import models\n",
        "from keras import layers\n",
        "\n",
        "import numpy as np\n",
        "import json\n",
        "import os\n",
        "import csv\n",
        "import pandas as pd"
      ],
      "execution_count": 0,
      "outputs": []
    },
    {
      "cell_type": "code",
      "metadata": {
        "id": "QbBQ69_hPudh",
        "colab_type": "code",
        "outputId": "1f0a0887-87ab-4d77-a8dc-78ef86f19d63",
        "colab": {
          "base_uri": "https://localhost:8080/",
          "height": 122
        }
      },
      "source": [
        "from google.colab import drive\n",
        "drive.mount('/content/drive')"
      ],
      "execution_count": 3,
      "outputs": [
        {
          "output_type": "stream",
          "text": [
            "Go to this URL in a browser: https://accounts.google.com/o/oauth2/auth?client_id=947318989803-6bn6qk8qdgf4n4g3pfee6491hc0brc4i.apps.googleusercontent.com&redirect_uri=urn%3aietf%3awg%3aoauth%3a2.0%3aoob&response_type=code&scope=email%20https%3a%2f%2fwww.googleapis.com%2fauth%2fdocs.test%20https%3a%2f%2fwww.googleapis.com%2fauth%2fdrive%20https%3a%2f%2fwww.googleapis.com%2fauth%2fdrive.photos.readonly%20https%3a%2f%2fwww.googleapis.com%2fauth%2fpeopleapi.readonly\n",
            "\n",
            "Enter your authorization code:\n",
            "··········\n",
            "Mounted at /content/drive\n"
          ],
          "name": "stdout"
        }
      ]
    },
    {
      "cell_type": "code",
      "metadata": {
        "id": "e3ic_oC0Yq9N",
        "colab_type": "code",
        "colab": {}
      },
      "source": [
        "# read json 2-d pose as data, without using: \n",
        "#     {15, \"REye\"},\n",
        "#     {16, \"LEye\"},\n",
        "#     {17, \"REar\"},\n",
        "#     {18, \"LEar\"}\n",
        "\n",
        "basepath1 = '/content/drive/My Drive/636project/data/fall_UR/fall-cam0'\n",
        "basepath2 = '/content/drive/My Drive/636project/data/adl_UR'\n",
        "\n",
        "def input_data(basepath):\n",
        "  data = []\n",
        "  entries = os.listdir(basepath)\n",
        "  for entry in entries:\n",
        "    path = os.path.join(basepath, entry)\n",
        "    frames = os.listdir(path)\n",
        "    for frame in frames:\n",
        "      frame_path = os.path.join(path, frame)\n",
        "      with open(frame_path, mode='r') as json_file:\n",
        "        people_dict = json.load(json_file)\n",
        "        people = people_dict[\"people\"]\n",
        "        pose_keypoints_2d = []\n",
        "        # fill missing data as 0\n",
        "        if len(people) == 0:\n",
        "          pose_keypoints_2d = [0] * 63\n",
        "        else:\n",
        "          full_pose = people[0].get(\"pose_keypoints_2d\")\n",
        "          pose_keypoints_2d = full_pose[:45] + full_pose[57:]\n",
        "         \n",
        "        pose_keypoints_2d.append(frame.split('.')[0])\n",
        "        # each pose_keypoints_2d: \n",
        "        # [431.949, 196.241, 0.0564434, 437.194, 187.749, 0.552267,...'fall-06-cam0_000000000065_keypoints']\n",
        "        data.append(pose_keypoints_2d)        \n",
        "  return data\n",
        "\n",
        "  \n",
        "data1 = input_data(basepath1)\n",
        "print(len(data1))\n",
        "\n",
        "data2 = input_data(basepath2)\n",
        "print(len(data2))\n",
        "\n",
        "video_data = data1 + data2\n",
        "print(len(video_data))\n",
        "\n",
        "df = pd.DataFrame.from_records(video_data)\n",
        "df.to_csv (r'/content/drive/My Drive/636project/raw_data.csv', index = False, header=False)\n"
      ],
      "execution_count": 0,
      "outputs": []
    },
    {
      "cell_type": "code",
      "metadata": {
        "id": "v61HcYuUSK6K",
        "colab_type": "code",
        "colab": {}
      },
      "source": [
        "video_data = []\n",
        "path_of_video = '/content/drive/My Drive/636project/raw_data.csv'\n",
        "\n",
        "# read the video data csv,\n",
        "# it is faster than run the above code each time\n",
        "def read_data(path):\n",
        "  with open(path, mode='r') as csv_file:\n",
        "    reader = csv.reader(csv_file)\n",
        "    for row in reader:\n",
        "      video_data.append(row)\n",
        "\n",
        "read_data(path_of_video)"
      ],
      "execution_count": 0,
      "outputs": []
    },
    {
      "cell_type": "code",
      "metadata": {
        "id": "2DchOlwQNKUA",
        "colab_type": "code",
        "outputId": "d6ad4371-61a2-4600-a6d7-ab3214f3347f",
        "colab": {
          "base_uri": "https://localhost:8080/",
          "height": 85
        }
      },
      "source": [
        "# target: csv file\n",
        "target = []\n",
        "path1 = '/content/drive/My Drive/636project/target/urfall-cam0-falls.csv'\n",
        "path2 = '/content/drive/My Drive/636project/target/urfall-cam0-adls.csv'\n",
        "# in these csv of UR dataset, \n",
        "# '-1' means person is not lying, '1' means person is lying on the ground; '0' is temporary pose, when person \"is falling\"\n",
        "\n",
        "def input_fall(path):\n",
        "  falls = 0\n",
        "  not_fall = 0\n",
        "  with open(path, mode='r') as csv_file:\n",
        "    reader = csv.reader(csv_file)\n",
        "    for row in reader:\n",
        "      record = []\n",
        "      record.append(row[0])\n",
        "      record.append(row[1])\n",
        "      label = row[2]\n",
        "      if label == '1' or label == '0':\n",
        "        falls += 1\n",
        "        record.append(1)        \n",
        "      else:\n",
        "        not_fall += 1\n",
        "        record.append(0)\n",
        "      # each record: [<video_id>, <frame_id>, label], eg: ['fall-17', '22', 0] \n",
        "      target.append(record)\n",
        "  print(\"falls\", falls)\n",
        "  print(\"not_fall\", not_fall)\n",
        "\n",
        "# though laying in the video, but it is not fall, so I mark 0 as label\n",
        "def input_adl(path):\n",
        "  with open(path, mode='r') as csv_file:\n",
        "    reader = csv.reader(csv_file)\n",
        "    for row in reader:\n",
        "      record = []\n",
        "      record.append(row[0])\n",
        "      record.append(row[1])\n",
        "      record.append(0)\n",
        "      target.append(record)\n",
        "\n",
        "input_fall(path1)\n",
        "print(len(target))\n",
        "\n",
        "input_adl(path2)\n",
        "print(len(target))\n",
        "\n",
        "df = pd.DataFrame.from_records(target)\n",
        "df.to_csv (r'/content/drive/My Drive/636project/target_data.csv', index = False, header=False)\n"
      ],
      "execution_count": 6,
      "outputs": [
        {
          "output_type": "stream",
          "text": [
            "falls 1803\n",
            "not_fall 1192\n",
            "2995\n",
            "11544\n"
          ],
          "name": "stdout"
        }
      ]
    },
    {
      "cell_type": "code",
      "metadata": {
        "id": "WtMEv5GabKlC",
        "colab_type": "code",
        "colab": {}
      },
      "source": [
        "# make dictionary of target \n",
        "target_csv_path = '/content/drive/My Drive/636project/target_data.csv'\n",
        "idx = 0\n",
        "idx_dict = {}\n",
        "\n",
        "with open(target_csv_path, mode='r') as csv_file:\n",
        "  reader = csv.reader(csv_file)\n",
        "  for row in reader:\n",
        "    # each row: [<video_id>, <frame_id>, label], eg: ['fall-17', '22', 0] \n",
        "    idx_dict['.'.join(row[:2])] = idx  # {'fall-17.22' : 112}\n",
        "    idx += 1"
      ],
      "execution_count": 0,
      "outputs": []
    },
    {
      "cell_type": "code",
      "metadata": {
        "id": "ns3vNaNj5L3G",
        "colab_type": "code",
        "outputId": "f089cf12-9b3a-4291-8141-a2bfbdfa3219",
        "colab": {
          "base_uri": "https://localhost:8080/",
          "height": 88
        }
      },
      "source": [
        "bodylandmark = []\n",
        "label = []\n",
        "\n",
        "for landmark in video_data:\n",
        "  video_name = landmark[-1].split('_')  # 'fall-01-cam0_000000000004'\n",
        "  a = video_name[0].split('-')\n",
        "  video_type = a[0] # 'fall'\n",
        "  video_id = a[1]   # '01'\n",
        "  frame_id = str(int(video_name[1])) # '000000000004' become '4'\n",
        "  try:\n",
        "    a = '.'.join([video_id, frame_id])\n",
        "    b = '-'.join([video_type, a])\n",
        "    label.append(target[idx_dict[b]][-1])\n",
        "    bodylandmark.append(landmark[:-1])\n",
        "  except:\n",
        "    continue\n",
        "\n",
        "print(bodylandmark[0])\n",
        "print(len(label))\n",
        "print(len(bodylandmark))"
      ],
      "execution_count": 8,
      "outputs": [
        {
          "output_type": "stream",
          "text": [
            "['520.972', '128.178', '0.833728', '544.571', '130.782', '0.739747', '540.636', '132.754', '0.726633', '553.086', '154.999', '0.800764', '541.285', '166.155', '0.742877', '549.144', '129.467', '0.745059', '572.703', '155.035', '0.841464', '543.266', '171.369', '0.817947', '572.067', '169.415', '0.607432', '564.874', '166.16', '0.534525', '526.875', '181.191', '0.862423', '554.389', '217.851', '0.612664', '577.962', '170.732', '0.619415', '535.402', '188.398', '0.760066', '560.284', '220.479', '0.65847', '545.882', '232.266', '0.604373', '553.078', '232.915', '0.532739', '566.184', '222.453', '0.655722', '541.939', '229.002', '0.399536', '541.943', '227.687', '0.344383', '560.285', '217.223', '0.153482']\n",
            "11475\n",
            "11475\n"
          ],
          "name": "stdout"
        }
      ]
    },
    {
      "cell_type": "code",
      "metadata": {
        "id": "yjQH8nEGum9U",
        "colab_type": "code",
        "outputId": "714fa04d-4eb3-461a-ed8a-c01821b3f630",
        "colab": {
          "base_uri": "https://localhost:8080/",
          "height": 88
        }
      },
      "source": [
        "# normalize data \n",
        "for record in bodylandmark:\n",
        "  for i in range(0, 63, 3):\n",
        "    record[i] = float(record[i])/ 640\n",
        "    record[i + 1] = float(record[i + 1]) / 480\n",
        "\n",
        "print(bodylandmark[0])\n",
        "print(len(label))\n",
        "print(len(bodylandmark))"
      ],
      "execution_count": 9,
      "outputs": [
        {
          "output_type": "stream",
          "text": [
            "[0.81401875, 0.2670375, '0.833728', 0.8508921875000001, 0.2724625, '0.739747', 0.8447437499999999, 0.2765708333333333, '0.726633', 0.864196875, 0.32291458333333334, '0.800764', 0.8457578124999999, 0.34615625, '0.742877', 0.8580375, 0.2697229166666667, '0.745059', 0.8948484375, 0.32298958333333333, '0.841464', 0.848853125, 0.35701875, '0.817947', 0.8938546875, 0.35294791666666664, '0.607432', 0.882615625, 0.3461666666666667, '0.534525', 0.8232421875, 0.37748125, '0.862423', 0.8662328125000001, 0.45385625, '0.612664', 0.903065625, 0.3556916666666667, '0.619415', 0.8365656250000001, 0.3924958333333333, '0.760066', 0.87544375, 0.45933125, '0.65847', 0.8529406249999999, 0.48388749999999997, '0.604373', 0.864184375, 0.48523958333333334, '0.532739', 0.8846624999999999, 0.46344375, '0.655722', 0.8467796875, 0.4770875, '0.399536', 0.8467859375, 0.4743479166666667, '0.344383', 0.8754453124999999, 0.4525479166666667, '0.153482']\n",
            "11475\n",
            "11475\n"
          ],
          "name": "stdout"
        }
      ]
    },
    {
      "cell_type": "code",
      "metadata": {
        "id": "5TseRjvqzZ9a",
        "colab_type": "code",
        "outputId": "06c8082e-38a2-4b9d-c310-0b3bf457a867",
        "colab": {
          "base_uri": "https://localhost:8080/",
          "height": 88
        }
      },
      "source": [
        "# make bodylandmark and label to be a same data frame\n",
        "all_data = []\n",
        "\n",
        "for i in range(len(bodylandmark)):\n",
        "  all_data.append([label[i]])\n",
        "  all_data[i] = all_data[i] + bodylandmark[i]\n",
        "\n",
        "print(all_data[0])\n",
        "print(len(all_data))\n",
        "print(len(all_data[0]))"
      ],
      "execution_count": 10,
      "outputs": [
        {
          "output_type": "stream",
          "text": [
            "[0, 0.81401875, 0.2670375, '0.833728', 0.8508921875000001, 0.2724625, '0.739747', 0.8447437499999999, 0.2765708333333333, '0.726633', 0.864196875, 0.32291458333333334, '0.800764', 0.8457578124999999, 0.34615625, '0.742877', 0.8580375, 0.2697229166666667, '0.745059', 0.8948484375, 0.32298958333333333, '0.841464', 0.848853125, 0.35701875, '0.817947', 0.8938546875, 0.35294791666666664, '0.607432', 0.882615625, 0.3461666666666667, '0.534525', 0.8232421875, 0.37748125, '0.862423', 0.8662328125000001, 0.45385625, '0.612664', 0.903065625, 0.3556916666666667, '0.619415', 0.8365656250000001, 0.3924958333333333, '0.760066', 0.87544375, 0.45933125, '0.65847', 0.8529406249999999, 0.48388749999999997, '0.604373', 0.864184375, 0.48523958333333334, '0.532739', 0.8846624999999999, 0.46344375, '0.655722', 0.8467796875, 0.4770875, '0.399536', 0.8467859375, 0.4743479166666667, '0.344383', 0.8754453124999999, 0.4525479166666667, '0.153482']\n",
            "11475\n",
            "64\n"
          ],
          "name": "stdout"
        }
      ]
    },
    {
      "cell_type": "code",
      "metadata": {
        "id": "puE0mHIKnR3O",
        "colab_type": "code",
        "outputId": "6448f36a-d0ff-41f7-ee51-9950d62b3c69",
        "colab": {
          "base_uri": "https://localhost:8080/",
          "height": 170
        }
      },
      "source": [
        "# up-sampling to make the data balance\n",
        "# Separate majority and minority classes\n",
        "df = pd.DataFrame.from_records(all_data)\n",
        "header = ['label']\n",
        "for i in range(63):\n",
        "  header.append(i)\n",
        "\n",
        "df.columns = header\n",
        "df_majority = df[df.label==0]\n",
        "df_minority = df[df.label==1]\n",
        "print(\"before re-sampling, fall vs not fall: \")\n",
        "print(df['label'].value_counts())\n",
        "\n",
        "from sklearn.utils import resample\n",
        "print(\"begin to re sample...\")\n",
        "# Upsample minority class\n",
        "df_minority_upsampled = resample(df_minority, \n",
        "                                 replace=True,      # sample with replacement\n",
        "                                 n_samples=9741)    # to match majority class\n",
        "                                  \n",
        "# Combine majority class with upsampled minority class\n",
        "df_upsampled = pd.concat([df_majority, df_minority_upsampled])\n",
        " \n",
        "print(\"after re-sampling...\")\n",
        "# Display new class counts\n",
        "df_upsampled.label.value_counts()"
      ],
      "execution_count": 11,
      "outputs": [
        {
          "output_type": "stream",
          "text": [
            "before re-sampling, fall vs not fall: \n",
            "0    9702\n",
            "1    1773\n",
            "Name: label, dtype: int64\n",
            "begin to re sample...\n",
            "after re-sampling...\n"
          ],
          "name": "stdout"
        },
        {
          "output_type": "execute_result",
          "data": {
            "text/plain": [
              "1    9741\n",
              "0    9702\n",
              "Name: label, dtype: int64"
            ]
          },
          "metadata": {
            "tags": []
          },
          "execution_count": 11
        }
      ]
    },
    {
      "cell_type": "code",
      "metadata": {
        "id": "ok4SPC0u4LZX",
        "colab_type": "code",
        "outputId": "07e3b1a9-166f-47c3-ed6d-8681c1bc6def",
        "colab": {
          "base_uri": "https://localhost:8080/",
          "height": 272
        }
      },
      "source": [
        "all_data = df_upsampled.values\n",
        "\n",
        "print(all_data[0])\n",
        "print(len(all_data))\n",
        "print(len(all_data[0]))"
      ],
      "execution_count": 12,
      "outputs": [
        {
          "output_type": "stream",
          "text": [
            "[0 0.81401875 0.2670375 '0.833728' 0.8508921875000001 0.2724625 '0.739747'\n",
            " 0.8447437499999999 0.2765708333333333 '0.726633' 0.864196875\n",
            " 0.32291458333333334 '0.800764' 0.8457578124999999 0.34615625 '0.742877'\n",
            " 0.8580375 0.2697229166666667 '0.745059' 0.8948484375 0.32298958333333333\n",
            " '0.841464' 0.848853125 0.35701875 '0.817947' 0.8938546875\n",
            " 0.35294791666666664 '0.607432' 0.882615625 0.3461666666666667 '0.534525'\n",
            " 0.8232421875 0.37748125 '0.862423' 0.8662328125000001 0.45385625\n",
            " '0.612664' 0.903065625 0.3556916666666667 '0.619415' 0.8365656250000001\n",
            " 0.3924958333333333 '0.760066' 0.87544375 0.45933125 '0.65847'\n",
            " 0.8529406249999999 0.48388749999999997 '0.604373' 0.864184375\n",
            " 0.48523958333333334 '0.532739' 0.8846624999999999 0.46344375 '0.655722'\n",
            " 0.8467796875 0.4770875 '0.399536' 0.8467859375 0.4743479166666667\n",
            " '0.344383' 0.8754453124999999 0.4525479166666667 '0.153482']\n",
            "19443\n",
            "64\n"
          ],
          "name": "stdout"
        }
      ]
    },
    {
      "cell_type": "code",
      "metadata": {
        "id": "MEn4pkbz0SPf",
        "colab_type": "code",
        "outputId": "514de110-6c47-4e91-dee2-83e1ab717170",
        "colab": {
          "base_uri": "https://localhost:8080/",
          "height": 68
        }
      },
      "source": [
        "# split data into train and test set\n",
        "np.random.shuffle(all_data)\n",
        "split_point = len(all_data) // 9\n",
        "print(split_point)\n",
        "test_data = all_data[:split_point]\n",
        "train_data = all_data[split_point: ]\n",
        "\n",
        "print(len(test_data))\n",
        "print(len(train_data))"
      ],
      "execution_count": 13,
      "outputs": [
        {
          "output_type": "stream",
          "text": [
            "2160\n",
            "2160\n",
            "17283\n"
          ],
          "name": "stdout"
        }
      ]
    },
    {
      "cell_type": "code",
      "metadata": {
        "id": "qxdTfMk3TuYA",
        "colab_type": "code",
        "outputId": "4fb5107b-c3e6-4702-cd46-895091b2ae86",
        "colab": {
          "base_uri": "https://localhost:8080/",
          "height": 1000
        }
      },
      "source": [
        "#train model using lstm\n",
        "\n",
        "from keras.layers import LSTM\n",
        "from keras import callbacks\n",
        "from keras import layers\n",
        "from numpy import array\n",
        "from keras.models import Sequential\n",
        "\n",
        "def scheduler(epoch):\n",
        "  if epoch < 10:\n",
        "    return 0.001\n",
        "  else:\n",
        "    return 0.001 * np.exp(0.1 * (10 - epoch))\n",
        "\n",
        "x_train = []\n",
        "y_train = []\n",
        "\n",
        "for record in train_data:\n",
        "  x_train.append(record[1:])\n",
        "  label = int(record[0])\n",
        "  y_train.append(label) \n",
        "\n",
        "x_train = array(x_train)\n",
        "x_train = x_train.reshape((len(x_train), 1, len(x_train[0])))\n",
        "\n",
        "model = Sequential()\n",
        "model.add(LSTM(32, input_shape=(1, 63)))\n",
        "model.add(layers.Dense(1, activation='sigmoid'))\n",
        "model.compile(optimizer='rmsprop',\n",
        "              loss='binary_crossentropy',\n",
        "              metrics=['acc'])\n",
        "history = model.fit(x_train, y_train,\n",
        "                    epochs=100,\n",
        "                    batch_size=32,\n",
        "                    validation_split=0.2,\n",
        "                    callbacks=[callbacks.EarlyStopping(monitor='val_loss', patience=5),\n",
        "                    callbacks.LearningRateScheduler(scheduler)])\n"
      ],
      "execution_count": 17,
      "outputs": [
        {
          "output_type": "stream",
          "text": [
            "Train on 13826 samples, validate on 3457 samples\n",
            "Epoch 1/100\n",
            "13826/13826 [==============================] - 3s 251us/step - loss: 0.5328 - acc: 0.7561 - val_loss: 0.5344 - val_acc: 0.7290\n",
            "Epoch 2/100\n",
            "13826/13826 [==============================] - 3s 192us/step - loss: 0.4344 - acc: 0.8009 - val_loss: 0.4192 - val_acc: 0.8102\n",
            "Epoch 3/100\n",
            "13826/13826 [==============================] - 3s 194us/step - loss: 0.4065 - acc: 0.8126 - val_loss: 0.3890 - val_acc: 0.8178\n",
            "Epoch 4/100\n",
            "13826/13826 [==============================] - 3s 197us/step - loss: 0.3900 - acc: 0.8162 - val_loss: 0.4082 - val_acc: 0.8021\n",
            "Epoch 5/100\n",
            "13826/13826 [==============================] - 3s 195us/step - loss: 0.3775 - acc: 0.8220 - val_loss: 0.6012 - val_acc: 0.7009\n",
            "Epoch 6/100\n",
            "13826/13826 [==============================] - 3s 191us/step - loss: 0.3670 - acc: 0.8279 - val_loss: 0.3756 - val_acc: 0.8235\n",
            "Epoch 7/100\n",
            "13826/13826 [==============================] - 3s 193us/step - loss: 0.3567 - acc: 0.8321 - val_loss: 0.4106 - val_acc: 0.7940\n",
            "Epoch 8/100\n",
            "13826/13826 [==============================] - 3s 194us/step - loss: 0.3491 - acc: 0.8370 - val_loss: 0.3507 - val_acc: 0.8314\n",
            "Epoch 9/100\n",
            "13826/13826 [==============================] - 3s 187us/step - loss: 0.3405 - acc: 0.8434 - val_loss: 0.3353 - val_acc: 0.8429\n",
            "Epoch 10/100\n",
            "13826/13826 [==============================] - 3s 196us/step - loss: 0.3344 - acc: 0.8441 - val_loss: 0.3464 - val_acc: 0.8363\n",
            "Epoch 11/100\n",
            "13826/13826 [==============================] - 3s 191us/step - loss: 0.3277 - acc: 0.8503 - val_loss: 0.3359 - val_acc: 0.8415\n",
            "Epoch 12/100\n",
            "13826/13826 [==============================] - 3s 191us/step - loss: 0.3218 - acc: 0.8538 - val_loss: 0.3193 - val_acc: 0.8513\n",
            "Epoch 13/100\n",
            "13826/13826 [==============================] - 3s 191us/step - loss: 0.3147 - acc: 0.8544 - val_loss: 0.3172 - val_acc: 0.8504\n",
            "Epoch 14/100\n",
            "13826/13826 [==============================] - 3s 190us/step - loss: 0.3093 - acc: 0.8577 - val_loss: 0.3126 - val_acc: 0.8551\n",
            "Epoch 15/100\n",
            "13826/13826 [==============================] - 3s 194us/step - loss: 0.3049 - acc: 0.8637 - val_loss: 0.3132 - val_acc: 0.8571\n",
            "Epoch 16/100\n",
            "13826/13826 [==============================] - 3s 198us/step - loss: 0.3019 - acc: 0.8656 - val_loss: 0.3051 - val_acc: 0.8617\n",
            "Epoch 17/100\n",
            "13826/13826 [==============================] - 3s 191us/step - loss: 0.2977 - acc: 0.8665 - val_loss: 0.3112 - val_acc: 0.8562\n",
            "Epoch 18/100\n",
            "13826/13826 [==============================] - 3s 199us/step - loss: 0.2945 - acc: 0.8692 - val_loss: 0.2990 - val_acc: 0.8626\n",
            "Epoch 19/100\n",
            "13826/13826 [==============================] - 3s 198us/step - loss: 0.2917 - acc: 0.8708 - val_loss: 0.3108 - val_acc: 0.8562\n",
            "Epoch 20/100\n",
            "13826/13826 [==============================] - 3s 198us/step - loss: 0.2895 - acc: 0.8692 - val_loss: 0.2987 - val_acc: 0.8664\n",
            "Epoch 21/100\n",
            "13826/13826 [==============================] - 3s 203us/step - loss: 0.2872 - acc: 0.8734 - val_loss: 0.3330 - val_acc: 0.8423\n",
            "Epoch 22/100\n",
            "13826/13826 [==============================] - 3s 205us/step - loss: 0.2859 - acc: 0.8724 - val_loss: 0.2934 - val_acc: 0.8698\n",
            "Epoch 23/100\n",
            "13826/13826 [==============================] - 3s 197us/step - loss: 0.2832 - acc: 0.8758 - val_loss: 0.3050 - val_acc: 0.8635\n",
            "Epoch 24/100\n",
            "13826/13826 [==============================] - 3s 199us/step - loss: 0.2822 - acc: 0.8751 - val_loss: 0.2906 - val_acc: 0.8695\n",
            "Epoch 25/100\n",
            "13826/13826 [==============================] - 3s 202us/step - loss: 0.2809 - acc: 0.8767 - val_loss: 0.2976 - val_acc: 0.8609\n",
            "Epoch 26/100\n",
            "13826/13826 [==============================] - 3s 197us/step - loss: 0.2795 - acc: 0.8776 - val_loss: 0.2980 - val_acc: 0.8678\n",
            "Epoch 27/100\n",
            "13826/13826 [==============================] - 3s 203us/step - loss: 0.2781 - acc: 0.8781 - val_loss: 0.2881 - val_acc: 0.8739\n",
            "Epoch 28/100\n",
            "13826/13826 [==============================] - 3s 205us/step - loss: 0.2774 - acc: 0.8794 - val_loss: 0.2865 - val_acc: 0.8742\n",
            "Epoch 29/100\n",
            "13826/13826 [==============================] - 3s 208us/step - loss: 0.2764 - acc: 0.8797 - val_loss: 0.2859 - val_acc: 0.8733\n",
            "Epoch 30/100\n",
            "13826/13826 [==============================] - 3s 204us/step - loss: 0.2752 - acc: 0.8797 - val_loss: 0.2863 - val_acc: 0.8759\n",
            "Epoch 31/100\n",
            "13826/13826 [==============================] - 3s 202us/step - loss: 0.2743 - acc: 0.8812 - val_loss: 0.2848 - val_acc: 0.8747\n",
            "Epoch 32/100\n",
            "13826/13826 [==============================] - 3s 203us/step - loss: 0.2739 - acc: 0.8823 - val_loss: 0.2898 - val_acc: 0.8655\n",
            "Epoch 33/100\n",
            "13826/13826 [==============================] - 3s 197us/step - loss: 0.2734 - acc: 0.8803 - val_loss: 0.2841 - val_acc: 0.8768\n",
            "Epoch 34/100\n",
            "13826/13826 [==============================] - 3s 197us/step - loss: 0.2725 - acc: 0.8835 - val_loss: 0.2846 - val_acc: 0.8736\n",
            "Epoch 35/100\n",
            "13826/13826 [==============================] - 3s 196us/step - loss: 0.2721 - acc: 0.8828 - val_loss: 0.2832 - val_acc: 0.8753\n",
            "Epoch 36/100\n",
            "13826/13826 [==============================] - 3s 212us/step - loss: 0.2719 - acc: 0.8828 - val_loss: 0.2834 - val_acc: 0.8756\n",
            "Epoch 37/100\n",
            "13826/13826 [==============================] - 3s 207us/step - loss: 0.2711 - acc: 0.8821 - val_loss: 0.2827 - val_acc: 0.8768\n",
            "Epoch 38/100\n",
            "13826/13826 [==============================] - 3s 202us/step - loss: 0.2711 - acc: 0.8829 - val_loss: 0.2827 - val_acc: 0.8765\n",
            "Epoch 39/100\n",
            "13826/13826 [==============================] - 3s 199us/step - loss: 0.2708 - acc: 0.8834 - val_loss: 0.2874 - val_acc: 0.8742\n",
            "Epoch 40/100\n",
            "13826/13826 [==============================] - 3s 194us/step - loss: 0.2705 - acc: 0.8840 - val_loss: 0.2822 - val_acc: 0.8774\n",
            "Epoch 41/100\n",
            "13826/13826 [==============================] - 3s 200us/step - loss: 0.2702 - acc: 0.8838 - val_loss: 0.2823 - val_acc: 0.8759\n",
            "Epoch 42/100\n",
            "13826/13826 [==============================] - 3s 201us/step - loss: 0.2700 - acc: 0.8839 - val_loss: 0.2821 - val_acc: 0.8771\n",
            "Epoch 43/100\n",
            "13826/13826 [==============================] - 3s 197us/step - loss: 0.2697 - acc: 0.8836 - val_loss: 0.2823 - val_acc: 0.8779\n",
            "Epoch 44/100\n",
            "13826/13826 [==============================] - 3s 201us/step - loss: 0.2696 - acc: 0.8841 - val_loss: 0.2815 - val_acc: 0.8774\n",
            "Epoch 45/100\n",
            "13826/13826 [==============================] - 3s 198us/step - loss: 0.2694 - acc: 0.8841 - val_loss: 0.2813 - val_acc: 0.8774\n",
            "Epoch 46/100\n",
            "13826/13826 [==============================] - 3s 195us/step - loss: 0.2692 - acc: 0.8845 - val_loss: 0.2826 - val_acc: 0.8776\n",
            "Epoch 47/100\n",
            "13826/13826 [==============================] - 3s 198us/step - loss: 0.2690 - acc: 0.8841 - val_loss: 0.2814 - val_acc: 0.8782\n",
            "Epoch 48/100\n",
            "13826/13826 [==============================] - 3s 203us/step - loss: 0.2689 - acc: 0.8841 - val_loss: 0.2813 - val_acc: 0.8785\n",
            "Epoch 49/100\n",
            "13826/13826 [==============================] - 3s 204us/step - loss: 0.2687 - acc: 0.8840 - val_loss: 0.2809 - val_acc: 0.8776\n",
            "Epoch 50/100\n",
            "13826/13826 [==============================] - 3s 204us/step - loss: 0.2687 - acc: 0.8843 - val_loss: 0.2811 - val_acc: 0.8782\n",
            "Epoch 51/100\n",
            "13826/13826 [==============================] - 3s 205us/step - loss: 0.2686 - acc: 0.8846 - val_loss: 0.2809 - val_acc: 0.8779\n",
            "Epoch 52/100\n",
            "13826/13826 [==============================] - 3s 200us/step - loss: 0.2685 - acc: 0.8842 - val_loss: 0.2811 - val_acc: 0.8782\n",
            "Epoch 53/100\n",
            "13826/13826 [==============================] - 3s 204us/step - loss: 0.2684 - acc: 0.8852 - val_loss: 0.2810 - val_acc: 0.8782\n",
            "Epoch 54/100\n",
            "13826/13826 [==============================] - 3s 198us/step - loss: 0.2683 - acc: 0.8851 - val_loss: 0.2807 - val_acc: 0.8797\n",
            "Epoch 55/100\n",
            "13826/13826 [==============================] - 3s 196us/step - loss: 0.2683 - acc: 0.8850 - val_loss: 0.2807 - val_acc: 0.8788\n",
            "Epoch 56/100\n",
            "13826/13826 [==============================] - 3s 198us/step - loss: 0.2682 - acc: 0.8853 - val_loss: 0.2809 - val_acc: 0.8782\n",
            "Epoch 57/100\n",
            "13826/13826 [==============================] - 3s 202us/step - loss: 0.2681 - acc: 0.8849 - val_loss: 0.2807 - val_acc: 0.8782\n",
            "Epoch 58/100\n",
            "13826/13826 [==============================] - 3s 201us/step - loss: 0.2681 - acc: 0.8851 - val_loss: 0.2806 - val_acc: 0.8768\n",
            "Epoch 59/100\n",
            "13826/13826 [==============================] - 3s 200us/step - loss: 0.2681 - acc: 0.8852 - val_loss: 0.2806 - val_acc: 0.8779\n",
            "Epoch 60/100\n",
            "13826/13826 [==============================] - 3s 204us/step - loss: 0.2680 - acc: 0.8850 - val_loss: 0.2807 - val_acc: 0.8782\n",
            "Epoch 61/100\n",
            "13826/13826 [==============================] - 3s 205us/step - loss: 0.2680 - acc: 0.8851 - val_loss: 0.2805 - val_acc: 0.8776\n",
            "Epoch 62/100\n",
            "13826/13826 [==============================] - 3s 198us/step - loss: 0.2679 - acc: 0.8853 - val_loss: 0.2805 - val_acc: 0.8788\n",
            "Epoch 63/100\n",
            "13826/13826 [==============================] - 3s 196us/step - loss: 0.2679 - acc: 0.8854 - val_loss: 0.2804 - val_acc: 0.8788\n",
            "Epoch 64/100\n",
            "13826/13826 [==============================] - 3s 197us/step - loss: 0.2679 - acc: 0.8854 - val_loss: 0.2805 - val_acc: 0.8779\n",
            "Epoch 65/100\n",
            "13826/13826 [==============================] - 3s 196us/step - loss: 0.2679 - acc: 0.8853 - val_loss: 0.2805 - val_acc: 0.8779\n",
            "Epoch 66/100\n",
            "13826/13826 [==============================] - 3s 200us/step - loss: 0.2678 - acc: 0.8853 - val_loss: 0.2805 - val_acc: 0.8782\n",
            "Epoch 67/100\n",
            "13826/13826 [==============================] - 3s 201us/step - loss: 0.2678 - acc: 0.8852 - val_loss: 0.2805 - val_acc: 0.8779\n",
            "Epoch 68/100\n",
            "13826/13826 [==============================] - 3s 203us/step - loss: 0.2678 - acc: 0.8852 - val_loss: 0.2804 - val_acc: 0.8774\n",
            "Epoch 69/100\n",
            "13826/13826 [==============================] - 3s 201us/step - loss: 0.2678 - acc: 0.8851 - val_loss: 0.2804 - val_acc: 0.8782\n",
            "Epoch 70/100\n",
            "13826/13826 [==============================] - 3s 211us/step - loss: 0.2678 - acc: 0.8851 - val_loss: 0.2804 - val_acc: 0.8779\n",
            "Epoch 71/100\n",
            "13826/13826 [==============================] - 3s 200us/step - loss: 0.2677 - acc: 0.8851 - val_loss: 0.2805 - val_acc: 0.8779\n",
            "Epoch 72/100\n",
            "13826/13826 [==============================] - 3s 200us/step - loss: 0.2677 - acc: 0.8852 - val_loss: 0.2804 - val_acc: 0.8779\n",
            "Epoch 73/100\n",
            "13826/13826 [==============================] - 3s 202us/step - loss: 0.2677 - acc: 0.8855 - val_loss: 0.2804 - val_acc: 0.8779\n",
            "Epoch 74/100\n",
            "13826/13826 [==============================] - 3s 196us/step - loss: 0.2677 - acc: 0.8853 - val_loss: 0.2804 - val_acc: 0.8779\n",
            "Epoch 75/100\n",
            "13826/13826 [==============================] - 3s 195us/step - loss: 0.2677 - acc: 0.8853 - val_loss: 0.2804 - val_acc: 0.8779\n",
            "Epoch 76/100\n",
            "13826/13826 [==============================] - 3s 197us/step - loss: 0.2677 - acc: 0.8853 - val_loss: 0.2804 - val_acc: 0.8779\n",
            "Epoch 77/100\n",
            "13826/13826 [==============================] - 3s 194us/step - loss: 0.2677 - acc: 0.8853 - val_loss: 0.2804 - val_acc: 0.8779\n",
            "Epoch 78/100\n",
            "13826/13826 [==============================] - 3s 195us/step - loss: 0.2677 - acc: 0.8851 - val_loss: 0.2804 - val_acc: 0.8779\n",
            "Epoch 79/100\n",
            "13826/13826 [==============================] - 3s 197us/step - loss: 0.2677 - acc: 0.8852 - val_loss: 0.2804 - val_acc: 0.8779\n",
            "Epoch 80/100\n",
            "13826/13826 [==============================] - 3s 194us/step - loss: 0.2677 - acc: 0.8852 - val_loss: 0.2803 - val_acc: 0.8779\n",
            "Epoch 81/100\n",
            "13826/13826 [==============================] - 3s 194us/step - loss: 0.2677 - acc: 0.8851 - val_loss: 0.2803 - val_acc: 0.8779\n",
            "Epoch 82/100\n",
            "13826/13826 [==============================] - 3s 191us/step - loss: 0.2677 - acc: 0.8852 - val_loss: 0.2803 - val_acc: 0.8774\n",
            "Epoch 83/100\n",
            "13826/13826 [==============================] - 3s 199us/step - loss: 0.2676 - acc: 0.8853 - val_loss: 0.2803 - val_acc: 0.8774\n",
            "Epoch 84/100\n",
            "13826/13826 [==============================] - 3s 197us/step - loss: 0.2676 - acc: 0.8851 - val_loss: 0.2803 - val_acc: 0.8779\n",
            "Epoch 85/100\n",
            "13826/13826 [==============================] - 3s 200us/step - loss: 0.2676 - acc: 0.8853 - val_loss: 0.2803 - val_acc: 0.8779\n",
            "Epoch 86/100\n",
            "13826/13826 [==============================] - 3s 197us/step - loss: 0.2676 - acc: 0.8854 - val_loss: 0.2803 - val_acc: 0.8779\n",
            "Epoch 87/100\n",
            "13826/13826 [==============================] - 3s 197us/step - loss: 0.2676 - acc: 0.8852 - val_loss: 0.2803 - val_acc: 0.8779\n",
            "Epoch 88/100\n",
            "13826/13826 [==============================] - 3s 197us/step - loss: 0.2676 - acc: 0.8853 - val_loss: 0.2803 - val_acc: 0.8779\n",
            "Epoch 89/100\n",
            "13826/13826 [==============================] - 3s 191us/step - loss: 0.2676 - acc: 0.8853 - val_loss: 0.2803 - val_acc: 0.8779\n",
            "Epoch 90/100\n",
            "13826/13826 [==============================] - 3s 198us/step - loss: 0.2676 - acc: 0.8852 - val_loss: 0.2803 - val_acc: 0.8779\n",
            "Epoch 91/100\n",
            "13826/13826 [==============================] - 3s 198us/step - loss: 0.2676 - acc: 0.8853 - val_loss: 0.2803 - val_acc: 0.8779\n",
            "Epoch 92/100\n",
            "13826/13826 [==============================] - 3s 205us/step - loss: 0.2676 - acc: 0.8854 - val_loss: 0.2803 - val_acc: 0.8779\n",
            "Epoch 93/100\n",
            "13826/13826 [==============================] - 3s 197us/step - loss: 0.2676 - acc: 0.8853 - val_loss: 0.2803 - val_acc: 0.8779\n"
          ],
          "name": "stdout"
        }
      ]
    },
    {
      "cell_type": "code",
      "metadata": {
        "id": "yFKFHBmxvZuL",
        "colab_type": "code",
        "colab": {
          "base_uri": "https://localhost:8080/",
          "height": 221
        },
        "outputId": "10ae9f87-b7a5-45c2-f839-073b52a9c8aa"
      },
      "source": [
        "model.summary()"
      ],
      "execution_count": 19,
      "outputs": [
        {
          "output_type": "stream",
          "text": [
            "Model: \"sequential_2\"\n",
            "_________________________________________________________________\n",
            "Layer (type)                 Output Shape              Param #   \n",
            "=================================================================\n",
            "lstm_2 (LSTM)                (None, 32)                12288     \n",
            "_________________________________________________________________\n",
            "dense_2 (Dense)              (None, 1)                 33        \n",
            "=================================================================\n",
            "Total params: 12,321\n",
            "Trainable params: 12,321\n",
            "Non-trainable params: 0\n",
            "_________________________________________________________________\n"
          ],
          "name": "stdout"
        }
      ]
    },
    {
      "cell_type": "code",
      "metadata": {
        "id": "TB-7RM66Yp7w",
        "colab_type": "code",
        "outputId": "59400894-46dc-462d-cca4-cf2d57e23116",
        "colab": {
          "base_uri": "https://localhost:8080/",
          "height": 281
        }
      },
      "source": [
        "# plotting the results\n",
        "\n",
        "import matplotlib.pyplot as plt\n",
        "\n",
        "loss = history.history['loss']\n",
        "val_loss = history.history['val_loss']\n",
        "epochs = range(1, len(loss) + 1)\n",
        "\n",
        "plt.figure()\n",
        "plt.plot(epochs, loss, 'bo', label=\"Training loss\")\n",
        "plt.plot(epochs, val_loss, 'b', label='Validation loss')\n",
        "plt.title('Training and validation loss')\n",
        "plt.legend()\n",
        "\n",
        "plt.show()"
      ],
      "execution_count": 0,
      "outputs": [
        {
          "output_type": "display_data",
          "data": {
            "image/png": "[encoded data removed]",
            "text/plain": [
              "<Figure size 432x288 with 1 Axes>"
            ]
          },
          "metadata": {
            "tags": []
          }
        }
      ]
    },
    {
      "cell_type": "code",
      "metadata": {
        "id": "QdyJtNbDxV0x",
        "colab_type": "code",
        "outputId": "a6511d00-a056-466c-8f04-7ad1fce57284",
        "colab": {
          "base_uri": "https://localhost:8080/",
          "height": 102
        }
      },
      "source": [
        "# train the final model on all non-test data avaliable\n",
        "\n",
        "x_test = []\n",
        "y_test = []\n",
        "\n",
        "for record in test_data:\n",
        "  x_test.append(record[1:])\n",
        "  label = int(record[0])\n",
        "  y_test.append(label) \n",
        "\n",
        "x_test = array(x_test)\n",
        "x_test = x_test.reshape((len(x_test), 1, len(x_test[0])))\n",
        "\n",
        "test_score = model.evaluate(x_test, y_test)\n",
        "print(\"test loss:\")\n",
        "print(test_score[0])\n",
        "print(\"test accuracy:\")\n",
        "print(test_score[1])\n"
      ],
      "execution_count": 22,
      "outputs": [
        {
          "output_type": "stream",
          "text": [
            "2160/2160 [==============================] - 0s 84us/step\n",
            "test loss:\n",
            "0.283822970478623\n",
            "test accuracy:\n",
            "0.8685185185185185\n"
          ],
          "name": "stdout"
        }
      ]
    },
    {
      "cell_type": "code",
      "metadata": {
        "id": "ZR5MyMOF7zsI",
        "colab_type": "code",
        "colab": {}
      },
      "source": [
        "model.save(\"/content/drive/My Drive/636project/model.h5\")"
      ],
      "execution_count": 0,
      "outputs": []
    },
    {
      "cell_type": "code",
      "metadata": {
        "id": "Xt6eBYBH70i-",
        "colab_type": "code",
        "colab": {}
      },
      "source": [
        ""
      ],
      "execution_count": 0,
      "outputs": []
    }
  ]
}