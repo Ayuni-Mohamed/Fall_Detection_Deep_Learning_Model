{
  "nbformat": 4,
  "nbformat_minor": 0,
  "metadata": {
    "colab": {
      "name": "Copy of 636model.ipynb",
      "provenance": [],
      "collapsed_sections": [],
      "toc_visible": true
    },
    "kernelspec": {
      "name": "python3",
      "display_name": "Python 3"
    },
    "accelerator": "GPU"
  },
  "cells": [
    {
      "cell_type": "code",
      "metadata": {
        "id": "_ZYHC0XOvjYK",
        "colab_type": "code",
        "outputId": "2f95e563-4308-4f0b-eb51-398b8ccac194",
        "colab": {
          "base_uri": "https://localhost:8080/",
          "height": 97
        }
      },
      "source": [
        "import keras\n",
        "keras.__version__"
      ],
      "execution_count": 0,
      "outputs": [
        {
          "output_type": "stream",
          "text": [
            "Using TensorFlow backend.\n"
          ],
          "name": "stderr"
        },
        {
          "output_type": "display_data",
          "data": {
            "text/html": [
              "<p style=\"color: red;\">\n",
              "The default version of TensorFlow in Colab will soon switch to TensorFlow 2.x.<br>\n",
              "We recommend you <a href=\"https://www.tensorflow.org/guide/migrate\" target=\"_blank\">upgrade</a> now \n",
              "or ensure your notebook will continue to use TensorFlow 1.x via the <code>%tensorflow_version 1.x</code> magic:\n",
              "<a href=\"https://colab.research.google.com/notebooks/tensorflow_version.ipynb\" target=\"_blank\">more info</a>.</p>\n"
            ],
            "text/plain": [
              "<IPython.core.display.HTML object>"
            ]
          },
          "metadata": {
            "tags": []
          }
        },
        {
          "output_type": "execute_result",
          "data": {
            "text/plain": [
              "'2.2.5'"
            ]
          },
          "metadata": {
            "tags": []
          },
          "execution_count": 1
        }
      ]
    },
    {
      "cell_type": "code",
      "metadata": {
        "id": "SG9jbsQVueU9",
        "colab_type": "code",
        "colab": {}
      },
      "source": [
        "from keras import models\n",
        "from keras import layers\n",
        "\n",
        "import numpy as np\n",
        "import json\n",
        "import os\n",
        "import csv\n",
        "import pandas as pd"
      ],
      "execution_count": 0,
      "outputs": []
    },
    {
      "cell_type": "code",
      "metadata": {
        "id": "QbBQ69_hPudh",
        "colab_type": "code",
        "outputId": "b8fb36ee-6ac9-4db5-bc63-a39b0c80c35a",
        "colab": {
          "base_uri": "https://localhost:8080/",
          "height": 34
        }
      },
      "source": [
        "from google.colab import drive\n",
        "drive.mount('/content/drive')"
      ],
      "execution_count": 0,
      "outputs": [
        {
          "output_type": "stream",
          "text": [
            "Drive already mounted at /content/drive; to attempt to forcibly remount, call drive.mount(\"/content/drive\", force_remount=True).\n"
          ],
          "name": "stdout"
        }
      ]
    },
    {
      "cell_type": "code",
      "metadata": {
        "id": "e3ic_oC0Yq9N",
        "colab_type": "code",
        "colab": {}
      },
      "source": [
        "# read json 2-d pose as data, without using: \n",
        "#     {15, \"REye\"},\n",
        "#     {16, \"LEye\"},\n",
        "#     {17, \"REar\"},\n",
        "#     {18, \"LEar\"}\n",
        "\n",
        "basepath1 = '/content/drive/My Drive/636project/data/fall_UR/fall-cam0'\n",
        "basepath2 = '/content/drive/My Drive/636project/data/adl_UR'\n",
        "\n",
        "def input_data(basepath):\n",
        "  data = []\n",
        "  entries = os.listdir(basepath)\n",
        "  for entry in entries:\n",
        "    path = os.path.join(basepath, entry)\n",
        "    frames = os.listdir(path)\n",
        "    for frame in frames:\n",
        "      frame_path = os.path.join(path, frame)\n",
        "      with open(frame_path, mode='r') as json_file:\n",
        "        people_dict = json.load(json_file)\n",
        "        people = people_dict[\"people\"]\n",
        "        pose_keypoints_2d = []\n",
        "        # fill missing data as 0\n",
        "        if len(people) == 0:\n",
        "          pose_keypoints_2d = [0] * 63\n",
        "        else:\n",
        "          full_pose = people[0].get(\"pose_keypoints_2d\")\n",
        "          pose_keypoints_2d = full_pose[:45] + full_pose[57:]\n",
        "         \n",
        "        pose_keypoints_2d.append(frame.split('.')[0])\n",
        "        # each pose_keypoints_2d: \n",
        "        # [431.949, 196.241, 0.0564434, 437.194, 187.749, 0.552267,...'fall-06-cam0_000000000065_keypoints']\n",
        "        data.append(pose_keypoints_2d)        \n",
        "  return data\n",
        "\n",
        "  \n",
        "data1 = input_data(basepath1)\n",
        "print(len(data1))\n",
        "\n",
        "data2 = input_data(basepath2)\n",
        "print(len(data2))\n",
        "\n",
        "video_data = data1 + data2\n",
        "print(len(video_data))\n",
        "\n",
        "df = pd.DataFrame.from_records(video_data)\n",
        "df.to_csv (r'/content/drive/My Drive/636project/raw_data.csv', index = False, header=False)\n"
      ],
      "execution_count": 0,
      "outputs": []
    },
    {
      "cell_type": "code",
      "metadata": {
        "id": "v61HcYuUSK6K",
        "colab_type": "code",
        "colab": {}
      },
      "source": [
        "video_data = []\n",
        "path_of_video = '/content/drive/My Drive/636project/raw_data.csv'\n",
        "\n",
        "# read the video data csv,\n",
        "# it is faster than run the above code each time\n",
        "def read_data(path):\n",
        "  with open(path, mode='r') as csv_file:\n",
        "    reader = csv.reader(csv_file)\n",
        "    for row in reader:\n",
        "      video_data.append(row)\n",
        "\n",
        "read_data(path_of_video)"
      ],
      "execution_count": 0,
      "outputs": []
    },
    {
      "cell_type": "code",
      "metadata": {
        "id": "2DchOlwQNKUA",
        "colab_type": "code",
        "outputId": "e5d05700-ed86-4bd8-cf13-1129244004c2",
        "colab": {
          "base_uri": "https://localhost:8080/",
          "height": 85
        }
      },
      "source": [
        "# target: csv file\n",
        "target = []\n",
        "path1 = '/content/drive/My Drive/636project/target/urfall-cam0-falls.csv'\n",
        "path2 = '/content/drive/My Drive/636project/target/urfall-cam0-adls.csv'\n",
        "# in these csv of UR dataset, \n",
        "# '-1' means person is not lying, '1' means person is lying on the ground; '0' is temporary pose, when person \"is falling\"\n",
        "\n",
        "def input_fall(path):\n",
        "  falls = 0\n",
        "  not_fall = 0\n",
        "  with open(path, mode='r') as csv_file:\n",
        "    reader = csv.reader(csv_file)\n",
        "    for row in reader:\n",
        "      record = []\n",
        "      record.append(row[0])\n",
        "      record.append(row[1])\n",
        "      label = row[2]\n",
        "      if label == '1' or label == '0':\n",
        "        falls += 1\n",
        "        record.append(1)        \n",
        "      else:\n",
        "        not_fall += 1\n",
        "        record.append(0)\n",
        "      # each record: [<video_id>, <frame_id>, label], eg: ['fall-17', '22', 0] \n",
        "      target.append(record)\n",
        "  print(\"falls\", falls)\n",
        "  print(\"not_fall\", not_fall)\n",
        "\n",
        "# though laying in the video, but it is not fall, so I mark 0 as label\n",
        "def input_adl(path):\n",
        "  with open(path, mode='r') as csv_file:\n",
        "    reader = csv.reader(csv_file)\n",
        "    for row in reader:\n",
        "      record = []\n",
        "      record.append(row[0])\n",
        "      record.append(row[1])\n",
        "      record.append(0)\n",
        "      target.append(record)\n",
        "\n",
        "input_fall(path1)\n",
        "print(len(target))\n",
        "\n",
        "input_adl(path2)\n",
        "print(len(target))\n",
        "\n",
        "df = pd.DataFrame.from_records(target)\n",
        "df.to_csv (r'/content/drive/My Drive/636project/target_data.csv', index = False, header=False)\n"
      ],
      "execution_count": 0,
      "outputs": [
        {
          "output_type": "stream",
          "text": [
            "falls 1803\n",
            "not_fall 1192\n",
            "2995\n",
            "11544\n"
          ],
          "name": "stdout"
        }
      ]
    },
    {
      "cell_type": "code",
      "metadata": {
        "id": "WtMEv5GabKlC",
        "colab_type": "code",
        "colab": {}
      },
      "source": [
        "# make dictionary of target \n",
        "target_csv_path = '/content/drive/My Drive/636project/target_data.csv'\n",
        "idx = 0\n",
        "idx_dict = {}\n",
        "\n",
        "with open(target_csv_path, mode='r') as csv_file:\n",
        "  reader = csv.reader(csv_file)\n",
        "  for row in reader:\n",
        "    # each row: [<video_id>, <frame_id>, label], eg: ['fall-17', '22', 0] \n",
        "    idx_dict['.'.join(row[:2])] = idx  # {'fall-17.22' : 112}\n",
        "    idx += 1"
      ],
      "execution_count": 0,
      "outputs": []
    },
    {
      "cell_type": "code",
      "metadata": {
        "id": "ns3vNaNj5L3G",
        "colab_type": "code",
        "outputId": "21654211-a75f-4259-d969-004abc59a4e4",
        "colab": {
          "base_uri": "https://localhost:8080/",
          "height": 88
        }
      },
      "source": [
        "bodylandmark = []\n",
        "label = []\n",
        "\n",
        "for landmark in video_data:\n",
        "  video_name = landmark[-1].split('_')  # 'fall-01-cam0_000000000004'\n",
        "  a = video_name[0].split('-')\n",
        "  video_type = a[0] # 'fall'\n",
        "  video_id = a[1]   # '01'\n",
        "  frame_id = str(int(video_name[1])) # '000000000004' become '4'\n",
        "  try:\n",
        "    a = '.'.join([video_id, frame_id])\n",
        "    b = '-'.join([video_type, a])\n",
        "    label.append(target[idx_dict[b]][-1])\n",
        "    bodylandmark.append(landmark[:-1])\n",
        "  except:\n",
        "    continue\n",
        "\n",
        "print(bodylandmark[0])\n",
        "print(len(label))\n",
        "print(len(bodylandmark))"
      ],
      "execution_count": 0,
      "outputs": [
        {
          "output_type": "stream",
          "text": [
            "['520.972', '128.178', '0.833728', '544.571', '130.782', '0.739747', '540.636', '132.754', '0.726633', '553.086', '154.999', '0.800764', '541.285', '166.155', '0.742877', '549.144', '129.467', '0.745059', '572.703', '155.035', '0.841464', '543.266', '171.369', '0.817947', '572.067', '169.415', '0.607432', '564.874', '166.16', '0.534525', '526.875', '181.191', '0.862423', '554.389', '217.851', '0.612664', '577.962', '170.732', '0.619415', '535.402', '188.398', '0.760066', '560.284', '220.479', '0.65847', '545.882', '232.266', '0.604373', '553.078', '232.915', '0.532739', '566.184', '222.453', '0.655722', '541.939', '229.002', '0.399536', '541.943', '227.687', '0.344383', '560.285', '217.223', '0.153482']\n",
            "11475\n",
            "11475\n"
          ],
          "name": "stdout"
        }
      ]
    },
    {
      "cell_type": "code",
      "metadata": {
        "id": "yjQH8nEGum9U",
        "colab_type": "code",
        "outputId": "f281d165-92a7-41ba-ec61-134cb128dec7",
        "colab": {
          "base_uri": "https://localhost:8080/",
          "height": 88
        }
      },
      "source": [
        "# normalize data \n",
        "for record in bodylandmark:\n",
        "  for i in range(0, 63, 3):\n",
        "    record[i] = float(record[i])/ 640\n",
        "    record[i + 1] = float(record[i + 1]) / 480\n",
        "\n",
        "print(bodylandmark[0])\n",
        "print(len(label))\n",
        "print(len(bodylandmark))"
      ],
      "execution_count": 0,
      "outputs": [
        {
          "output_type": "stream",
          "text": [
            "[0.81401875, 0.2670375, '0.833728', 0.8508921875000001, 0.2724625, '0.739747', 0.8447437499999999, 0.2765708333333333, '0.726633', 0.864196875, 0.32291458333333334, '0.800764', 0.8457578124999999, 0.34615625, '0.742877', 0.8580375, 0.2697229166666667, '0.745059', 0.8948484375, 0.32298958333333333, '0.841464', 0.848853125, 0.35701875, '0.817947', 0.8938546875, 0.35294791666666664, '0.607432', 0.882615625, 0.3461666666666667, '0.534525', 0.8232421875, 0.37748125, '0.862423', 0.8662328125000001, 0.45385625, '0.612664', 0.903065625, 0.3556916666666667, '0.619415', 0.8365656250000001, 0.3924958333333333, '0.760066', 0.87544375, 0.45933125, '0.65847', 0.8529406249999999, 0.48388749999999997, '0.604373', 0.864184375, 0.48523958333333334, '0.532739', 0.8846624999999999, 0.46344375, '0.655722', 0.8467796875, 0.4770875, '0.399536', 0.8467859375, 0.4743479166666667, '0.344383', 0.8754453124999999, 0.4525479166666667, '0.153482']\n",
            "11475\n",
            "11475\n"
          ],
          "name": "stdout"
        }
      ]
    },
    {
      "cell_type": "code",
      "metadata": {
        "id": "5TseRjvqzZ9a",
        "colab_type": "code",
        "outputId": "a78fc869-0221-4422-8120-8123c360cc85",
        "colab": {
          "base_uri": "https://localhost:8080/",
          "height": 88
        }
      },
      "source": [
        "# make bodylandmark and label to be a same data frame\n",
        "all_data = []\n",
        "\n",
        "for i in range(len(bodylandmark)):\n",
        "  all_data.append([label[i]])\n",
        "  all_data[i] = all_data[i] + bodylandmark[i]\n",
        "\n",
        "print(all_data[0])\n",
        "print(len(all_data))\n",
        "print(len(all_data[0]))"
      ],
      "execution_count": 0,
      "outputs": [
        {
          "output_type": "stream",
          "text": [
            "[0, 0.81401875, 0.2670375, '0.833728', 0.8508921875000001, 0.2724625, '0.739747', 0.8447437499999999, 0.2765708333333333, '0.726633', 0.864196875, 0.32291458333333334, '0.800764', 0.8457578124999999, 0.34615625, '0.742877', 0.8580375, 0.2697229166666667, '0.745059', 0.8948484375, 0.32298958333333333, '0.841464', 0.848853125, 0.35701875, '0.817947', 0.8938546875, 0.35294791666666664, '0.607432', 0.882615625, 0.3461666666666667, '0.534525', 0.8232421875, 0.37748125, '0.862423', 0.8662328125000001, 0.45385625, '0.612664', 0.903065625, 0.3556916666666667, '0.619415', 0.8365656250000001, 0.3924958333333333, '0.760066', 0.87544375, 0.45933125, '0.65847', 0.8529406249999999, 0.48388749999999997, '0.604373', 0.864184375, 0.48523958333333334, '0.532739', 0.8846624999999999, 0.46344375, '0.655722', 0.8467796875, 0.4770875, '0.399536', 0.8467859375, 0.4743479166666667, '0.344383', 0.8754453124999999, 0.4525479166666667, '0.153482']\n",
            "11475\n",
            "64\n"
          ],
          "name": "stdout"
        }
      ]
    },
    {
      "cell_type": "code",
      "metadata": {
        "id": "puE0mHIKnR3O",
        "colab_type": "code",
        "outputId": "2dfc0fe5-3a49-4e82-8f42-90eb004a5654",
        "colab": {
          "base_uri": "https://localhost:8080/",
          "height": 170
        }
      },
      "source": [
        "# up-sampling to make the data balance\n",
        "# Separate majority and minority classes\n",
        "df = pd.DataFrame.from_records(all_data)\n",
        "header = ['label']\n",
        "for i in range(63):\n",
        "  header.append(i)\n",
        "\n",
        "df.columns = header\n",
        "df_majority = df[df.label==0]\n",
        "df_minority = df[df.label==1]\n",
        "print(\"before re-sampling, fall vs not fall: \")\n",
        "print(df['label'].value_counts())\n",
        "\n",
        "from sklearn.utils import resample\n",
        "print(\"begin to re sample...\")\n",
        "# Upsample minority class\n",
        "df_minority_upsampled = resample(df_minority, \n",
        "                                 replace=True,      # sample with replacement\n",
        "                                 n_samples=9741)    # to match majority class\n",
        "                                  \n",
        "# Combine majority class with upsampled minority class\n",
        "df_upsampled = pd.concat([df_majority, df_minority_upsampled])\n",
        " \n",
        "print(\"after re-sampling...\")\n",
        "# Display new class counts\n",
        "df_upsampled.label.value_counts()"
      ],
      "execution_count": 0,
      "outputs": [
        {
          "output_type": "stream",
          "text": [
            "before re-sampling, fall vs not fall: \n",
            "0    9702\n",
            "1    1773\n",
            "Name: label, dtype: int64\n",
            "begin to re sample...\n",
            "after re-sampling...\n"
          ],
          "name": "stdout"
        },
        {
          "output_type": "execute_result",
          "data": {
            "text/plain": [
              "1    9741\n",
              "0    9702\n",
              "Name: label, dtype: int64"
            ]
          },
          "metadata": {
            "tags": []
          },
          "execution_count": 11
        }
      ]
    },
    {
      "cell_type": "code",
      "metadata": {
        "id": "ok4SPC0u4LZX",
        "colab_type": "code",
        "outputId": "7eb4f951-97ce-4f4a-d984-ba0a94e431db",
        "colab": {
          "base_uri": "https://localhost:8080/",
          "height": 272
        }
      },
      "source": [
        "all_data = df_upsampled.values\n",
        "\n",
        "print(all_data[0])\n",
        "print(len(all_data))\n",
        "print(len(all_data[0]))"
      ],
      "execution_count": 0,
      "outputs": [
        {
          "output_type": "stream",
          "text": [
            "[0 0.81401875 0.2670375 '0.833728' 0.8508921875000001 0.2724625 '0.739747'\n",
            " 0.8447437499999999 0.2765708333333333 '0.726633' 0.864196875\n",
            " 0.32291458333333334 '0.800764' 0.8457578124999999 0.34615625 '0.742877'\n",
            " 0.8580375 0.2697229166666667 '0.745059' 0.8948484375 0.32298958333333333\n",
            " '0.841464' 0.848853125 0.35701875 '0.817947' 0.8938546875\n",
            " 0.35294791666666664 '0.607432' 0.882615625 0.3461666666666667 '0.534525'\n",
            " 0.8232421875 0.37748125 '0.862423' 0.8662328125000001 0.45385625\n",
            " '0.612664' 0.903065625 0.3556916666666667 '0.619415' 0.8365656250000001\n",
            " 0.3924958333333333 '0.760066' 0.87544375 0.45933125 '0.65847'\n",
            " 0.8529406249999999 0.48388749999999997 '0.604373' 0.864184375\n",
            " 0.48523958333333334 '0.532739' 0.8846624999999999 0.46344375 '0.655722'\n",
            " 0.8467796875 0.4770875 '0.399536' 0.8467859375 0.4743479166666667\n",
            " '0.344383' 0.8754453124999999 0.4525479166666667 '0.153482']\n",
            "19443\n",
            "64\n"
          ],
          "name": "stdout"
        }
      ]
    },
    {
      "cell_type": "code",
      "metadata": {
        "id": "MEn4pkbz0SPf",
        "colab_type": "code",
        "outputId": "560e04bf-57c4-421c-977c-843b3f18e239",
        "colab": {
          "base_uri": "https://localhost:8080/",
          "height": 68
        }
      },
      "source": [
        "# split data into train and test set\n",
        "np.random.shuffle(all_data)\n",
        "split_point = len(all_data) // 9\n",
        "print(split_point)\n",
        "test_data = all_data[:split_point]\n",
        "train_data = all_data[split_point: ]\n",
        "\n",
        "print(len(test_data))\n",
        "print(len(train_data))"
      ],
      "execution_count": 0,
      "outputs": [
        {
          "output_type": "stream",
          "text": [
            "2160\n",
            "2160\n",
            "17283\n"
          ],
          "name": "stdout"
        }
      ]
    },
    {
      "cell_type": "code",
      "metadata": {
        "id": "qxdTfMk3TuYA",
        "colab_type": "code",
        "outputId": "e0b6c0ef-4a99-4b3f-83ca-45aab47823e6",
        "colab": {
          "base_uri": "https://localhost:8080/",
          "height": 1000
        }
      },
      "source": [
        "#train model using lstm\n",
        "\n",
        "from keras.layers import LSTM\n",
        "from keras import callbacks\n",
        "from keras import layers\n",
        "from numpy import array\n",
        "from keras.models import Sequential\n",
        "\n",
        "def scheduler(epoch):\n",
        "  if epoch < 10:\n",
        "    return 0.001\n",
        "  else:\n",
        "    return 0.001 * np.exp(0.1 * (10 - epoch))\n",
        "\n",
        "x_train = []\n",
        "y_train = []\n",
        "\n",
        "for record in train_data:\n",
        "  x_train.append(record[1:])\n",
        "  label = int(record[0])\n",
        "  y_train.append(label) \n",
        "\n",
        "x_train = array(x_train)\n",
        "x_train = x_train.reshape((len(x_train), 1, len(x_train[0])))\n",
        "\n",
        "\n",
        "model = Sequential()\n",
        "model.add(LSTM(32, input_shape=(1, 63)))\n",
        "model.add(layers.Dense(1, activation='sigmoid'))\n",
        "model.compile(optimizer='rmsprop',\n",
        "              loss='binary_crossentropy',\n",
        "              metrics=['acc'])\n",
        "history = model.fit(x_train, y_train,\n",
        "                    epochs=100,\n",
        "                    batch_size=32,\n",
        "                    validation_split=0.2,\n",
        "                    callbacks=[callbacks.EarlyStopping(monitor='val_loss', patience=5),\n",
        "                    callbacks.LearningRateScheduler(scheduler)])\n"
      ],
      "execution_count": 0,
      "outputs": [
        {
          "output_type": "stream",
          "text": [
            "WARNING:tensorflow:From /usr/local/lib/python3.6/dist-packages/keras/backend/tensorflow_backend.py:66: The name tf.get_default_graph is deprecated. Please use tf.compat.v1.get_default_graph instead.\n",
            "\n",
            "WARNING:tensorflow:From /usr/local/lib/python3.6/dist-packages/keras/backend/tensorflow_backend.py:541: The name tf.placeholder is deprecated. Please use tf.compat.v1.placeholder instead.\n",
            "\n",
            "WARNING:tensorflow:From /usr/local/lib/python3.6/dist-packages/keras/backend/tensorflow_backend.py:4432: The name tf.random_uniform is deprecated. Please use tf.random.uniform instead.\n",
            "\n",
            "WARNING:tensorflow:From /usr/local/lib/python3.6/dist-packages/keras/optimizers.py:793: The name tf.train.Optimizer is deprecated. Please use tf.compat.v1.train.Optimizer instead.\n",
            "\n",
            "WARNING:tensorflow:From /usr/local/lib/python3.6/dist-packages/keras/backend/tensorflow_backend.py:3657: The name tf.log is deprecated. Please use tf.math.log instead.\n",
            "\n",
            "WARNING:tensorflow:From /tensorflow-1.15.0/python3.6/tensorflow_core/python/ops/nn_impl.py:183: where (from tensorflow.python.ops.array_ops) is deprecated and will be removed in a future version.\n",
            "Instructions for updating:\n",
            "Use tf.where in 2.0, which has the same broadcast rule as np.where\n",
            "WARNING:tensorflow:From /usr/local/lib/python3.6/dist-packages/keras/backend/tensorflow_backend.py:1033: The name tf.assign_add is deprecated. Please use tf.compat.v1.assign_add instead.\n",
            "\n",
            "WARNING:tensorflow:From /usr/local/lib/python3.6/dist-packages/keras/backend/tensorflow_backend.py:1020: The name tf.assign is deprecated. Please use tf.compat.v1.assign instead.\n",
            "\n",
            "WARNING:tensorflow:From /usr/local/lib/python3.6/dist-packages/keras/backend/tensorflow_backend.py:3005: The name tf.Session is deprecated. Please use tf.compat.v1.Session instead.\n",
            "\n",
            "Train on 13826 samples, validate on 3457 samples\n",
            "Epoch 1/100\n",
            "WARNING:tensorflow:From /usr/local/lib/python3.6/dist-packages/keras/backend/tensorflow_backend.py:190: The name tf.get_default_session is deprecated. Please use tf.compat.v1.get_default_session instead.\n",
            "\n",
            "WARNING:tensorflow:From /usr/local/lib/python3.6/dist-packages/keras/backend/tensorflow_backend.py:197: The name tf.ConfigProto is deprecated. Please use tf.compat.v1.ConfigProto instead.\n",
            "\n",
            "WARNING:tensorflow:From /usr/local/lib/python3.6/dist-packages/keras/backend/tensorflow_backend.py:207: The name tf.global_variables is deprecated. Please use tf.compat.v1.global_variables instead.\n",
            "\n",
            "WARNING:tensorflow:From /usr/local/lib/python3.6/dist-packages/keras/backend/tensorflow_backend.py:216: The name tf.is_variable_initialized is deprecated. Please use tf.compat.v1.is_variable_initialized instead.\n",
            "\n",
            "WARNING:tensorflow:From /usr/local/lib/python3.6/dist-packages/keras/backend/tensorflow_backend.py:223: The name tf.variables_initializer is deprecated. Please use tf.compat.v1.variables_initializer instead.\n",
            "\n",
            "13826/13826 [==============================] - 11s 828us/step - loss: 0.5312 - acc: 0.7591 - val_loss: 0.4487 - val_acc: 0.8045\n",
            "Epoch 2/100\n",
            "13826/13826 [==============================] - 3s 204us/step - loss: 0.4272 - acc: 0.8069 - val_loss: 0.4035 - val_acc: 0.8198\n",
            "Epoch 3/100\n",
            "13826/13826 [==============================] - 3s 196us/step - loss: 0.3987 - acc: 0.8174 - val_loss: 0.3883 - val_acc: 0.8221\n",
            "Epoch 4/100\n",
            "13826/13826 [==============================] - 3s 203us/step - loss: 0.3818 - acc: 0.8206 - val_loss: 0.3660 - val_acc: 0.8325\n",
            "Epoch 5/100\n",
            "13826/13826 [==============================] - 3s 210us/step - loss: 0.3707 - acc: 0.8276 - val_loss: 0.3556 - val_acc: 0.8386\n",
            "Epoch 6/100\n",
            "13826/13826 [==============================] - 3s 206us/step - loss: 0.3602 - acc: 0.8299 - val_loss: 0.4543 - val_acc: 0.7880\n",
            "Epoch 7/100\n",
            "13826/13826 [==============================] - 3s 191us/step - loss: 0.3515 - acc: 0.8351 - val_loss: 0.3380 - val_acc: 0.8397\n",
            "Epoch 8/100\n",
            "13826/13826 [==============================] - 3s 205us/step - loss: 0.3449 - acc: 0.8368 - val_loss: 0.3314 - val_acc: 0.8473\n",
            "Epoch 9/100\n",
            "13826/13826 [==============================] - 3s 196us/step - loss: 0.3369 - acc: 0.8447 - val_loss: 0.3531 - val_acc: 0.8421\n",
            "Epoch 10/100\n",
            "13826/13826 [==============================] - 3s 201us/step - loss: 0.3314 - acc: 0.8436 - val_loss: 0.4037 - val_acc: 0.8088\n",
            "Epoch 11/100\n",
            "13826/13826 [==============================] - 3s 192us/step - loss: 0.3259 - acc: 0.8462 - val_loss: 0.3138 - val_acc: 0.8588\n",
            "Epoch 12/100\n",
            "13826/13826 [==============================] - 3s 192us/step - loss: 0.3192 - acc: 0.8509 - val_loss: 0.3629 - val_acc: 0.8244\n",
            "Epoch 13/100\n",
            "13826/13826 [==============================] - 3s 192us/step - loss: 0.3138 - acc: 0.8540 - val_loss: 0.3780 - val_acc: 0.8296\n",
            "Epoch 14/100\n",
            "13826/13826 [==============================] - 3s 195us/step - loss: 0.3099 - acc: 0.8544 - val_loss: 0.3381 - val_acc: 0.8461\n",
            "Epoch 15/100\n",
            "13826/13826 [==============================] - 3s 198us/step - loss: 0.3057 - acc: 0.8587 - val_loss: 0.2998 - val_acc: 0.8675\n",
            "Epoch 16/100\n",
            "13826/13826 [==============================] - 3s 206us/step - loss: 0.3012 - acc: 0.8605 - val_loss: 0.2953 - val_acc: 0.8707\n",
            "Epoch 17/100\n",
            "13826/13826 [==============================] - 3s 192us/step - loss: 0.2975 - acc: 0.8642 - val_loss: 0.3038 - val_acc: 0.8704\n",
            "Epoch 18/100\n",
            "13826/13826 [==============================] - 3s 209us/step - loss: 0.2954 - acc: 0.8634 - val_loss: 0.2958 - val_acc: 0.8750\n",
            "Epoch 19/100\n",
            "13826/13826 [==============================] - 3s 193us/step - loss: 0.2922 - acc: 0.8667 - val_loss: 0.2916 - val_acc: 0.8759\n",
            "Epoch 20/100\n",
            "13826/13826 [==============================] - 3s 194us/step - loss: 0.2905 - acc: 0.8672 - val_loss: 0.2868 - val_acc: 0.8782\n",
            "Epoch 21/100\n",
            "13826/13826 [==============================] - 3s 191us/step - loss: 0.2879 - acc: 0.8682 - val_loss: 0.2871 - val_acc: 0.8739\n",
            "Epoch 22/100\n",
            "13826/13826 [==============================] - 3s 193us/step - loss: 0.2862 - acc: 0.8683 - val_loss: 0.2900 - val_acc: 0.8765\n",
            "Epoch 23/100\n",
            "13826/13826 [==============================] - 3s 193us/step - loss: 0.2844 - acc: 0.8701 - val_loss: 0.2841 - val_acc: 0.8782\n",
            "Epoch 24/100\n",
            "13826/13826 [==============================] - 3s 188us/step - loss: 0.2827 - acc: 0.8721 - val_loss: 0.2882 - val_acc: 0.8750\n",
            "Epoch 25/100\n",
            "13826/13826 [==============================] - 3s 189us/step - loss: 0.2805 - acc: 0.8744 - val_loss: 0.2823 - val_acc: 0.8802\n",
            "Epoch 26/100\n",
            "13826/13826 [==============================] - 3s 197us/step - loss: 0.2795 - acc: 0.8739 - val_loss: 0.2812 - val_acc: 0.8817\n",
            "Epoch 27/100\n",
            "13826/13826 [==============================] - 3s 189us/step - loss: 0.2786 - acc: 0.8738 - val_loss: 0.2797 - val_acc: 0.8802\n",
            "Epoch 28/100\n",
            "13826/13826 [==============================] - 3s 192us/step - loss: 0.2775 - acc: 0.8753 - val_loss: 0.2798 - val_acc: 0.8817\n",
            "Epoch 29/100\n",
            "13826/13826 [==============================] - 3s 199us/step - loss: 0.2772 - acc: 0.8763 - val_loss: 0.2787 - val_acc: 0.8849\n",
            "Epoch 30/100\n",
            "13826/13826 [==============================] - 3s 206us/step - loss: 0.2762 - acc: 0.8760 - val_loss: 0.2768 - val_acc: 0.8846\n",
            "Epoch 31/100\n",
            "13826/13826 [==============================] - 3s 200us/step - loss: 0.2757 - acc: 0.8772 - val_loss: 0.2767 - val_acc: 0.8857\n",
            "Epoch 32/100\n",
            "13826/13826 [==============================] - 3s 195us/step - loss: 0.2749 - acc: 0.8781 - val_loss: 0.2760 - val_acc: 0.8860\n",
            "Epoch 33/100\n",
            "13826/13826 [==============================] - 3s 213us/step - loss: 0.2741 - acc: 0.8795 - val_loss: 0.2767 - val_acc: 0.8814\n",
            "Epoch 34/100\n",
            "13826/13826 [==============================] - 3s 203us/step - loss: 0.2737 - acc: 0.8785 - val_loss: 0.2757 - val_acc: 0.8814\n",
            "Epoch 35/100\n",
            "13826/13826 [==============================] - 3s 224us/step - loss: 0.2730 - acc: 0.8789 - val_loss: 0.2757 - val_acc: 0.8854\n",
            "Epoch 36/100\n",
            "13826/13826 [==============================] - 3s 203us/step - loss: 0.2726 - acc: 0.8786 - val_loss: 0.2752 - val_acc: 0.8846\n",
            "Epoch 37/100\n",
            "13826/13826 [==============================] - 3s 196us/step - loss: 0.2723 - acc: 0.8780 - val_loss: 0.2744 - val_acc: 0.8852\n",
            "Epoch 38/100\n",
            "13826/13826 [==============================] - 3s 207us/step - loss: 0.2720 - acc: 0.8796 - val_loss: 0.2746 - val_acc: 0.8857\n",
            "Epoch 39/100\n",
            "13826/13826 [==============================] - 3s 192us/step - loss: 0.2717 - acc: 0.8799 - val_loss: 0.2742 - val_acc: 0.8826\n",
            "Epoch 40/100\n",
            "13826/13826 [==============================] - 3s 191us/step - loss: 0.2713 - acc: 0.8793 - val_loss: 0.2737 - val_acc: 0.8849\n",
            "Epoch 41/100\n",
            "13826/13826 [==============================] - 3s 189us/step - loss: 0.2711 - acc: 0.8791 - val_loss: 0.2734 - val_acc: 0.8852\n",
            "Epoch 42/100\n",
            "13826/13826 [==============================] - 3s 192us/step - loss: 0.2709 - acc: 0.8794 - val_loss: 0.2741 - val_acc: 0.8857\n",
            "Epoch 43/100\n",
            "13826/13826 [==============================] - 3s 197us/step - loss: 0.2705 - acc: 0.8807 - val_loss: 0.2745 - val_acc: 0.8869\n",
            "Epoch 44/100\n",
            "13826/13826 [==============================] - 3s 190us/step - loss: 0.2705 - acc: 0.8801 - val_loss: 0.2736 - val_acc: 0.8852\n",
            "Epoch 45/100\n",
            "13826/13826 [==============================] - 3s 195us/step - loss: 0.2702 - acc: 0.8796 - val_loss: 0.2732 - val_acc: 0.8840\n",
            "Epoch 46/100\n",
            "13826/13826 [==============================] - 3s 203us/step - loss: 0.2701 - acc: 0.8804 - val_loss: 0.2733 - val_acc: 0.8840\n",
            "Epoch 47/100\n",
            "13826/13826 [==============================] - 3s 199us/step - loss: 0.2699 - acc: 0.8798 - val_loss: 0.2729 - val_acc: 0.8863\n",
            "Epoch 48/100\n",
            "13826/13826 [==============================] - 3s 188us/step - loss: 0.2699 - acc: 0.8805 - val_loss: 0.2730 - val_acc: 0.8840\n",
            "Epoch 49/100\n",
            "13826/13826 [==============================] - 3s 187us/step - loss: 0.2697 - acc: 0.8800 - val_loss: 0.2728 - val_acc: 0.8857\n",
            "Epoch 50/100\n",
            "13826/13826 [==============================] - 3s 192us/step - loss: 0.2696 - acc: 0.8799 - val_loss: 0.2730 - val_acc: 0.8849\n",
            "Epoch 51/100\n",
            "13826/13826 [==============================] - 3s 208us/step - loss: 0.2694 - acc: 0.8807 - val_loss: 0.2736 - val_acc: 0.8860\n",
            "Epoch 52/100\n",
            "13826/13826 [==============================] - 3s 195us/step - loss: 0.2695 - acc: 0.8802 - val_loss: 0.2730 - val_acc: 0.8843\n",
            "Epoch 53/100\n",
            "13826/13826 [==============================] - 3s 188us/step - loss: 0.2692 - acc: 0.8815 - val_loss: 0.2730 - val_acc: 0.8863\n",
            "Epoch 54/100\n",
            "13826/13826 [==============================] - 3s 195us/step - loss: 0.2693 - acc: 0.8809 - val_loss: 0.2725 - val_acc: 0.8852\n",
            "Epoch 55/100\n",
            "13826/13826 [==============================] - 3s 187us/step - loss: 0.2692 - acc: 0.8805 - val_loss: 0.2730 - val_acc: 0.8863\n",
            "Epoch 56/100\n",
            "13826/13826 [==============================] - 3s 196us/step - loss: 0.2691 - acc: 0.8808 - val_loss: 0.2726 - val_acc: 0.8843\n",
            "Epoch 57/100\n",
            "13826/13826 [==============================] - 3s 206us/step - loss: 0.2691 - acc: 0.8808 - val_loss: 0.2727 - val_acc: 0.8846\n",
            "Epoch 58/100\n",
            "13826/13826 [==============================] - 3s 191us/step - loss: 0.2690 - acc: 0.8808 - val_loss: 0.2727 - val_acc: 0.8846\n",
            "Epoch 59/100\n",
            "13826/13826 [==============================] - 3s 196us/step - loss: 0.2690 - acc: 0.8807 - val_loss: 0.2730 - val_acc: 0.8854\n"
          ],
          "name": "stdout"
        }
      ]
    },
    {
      "cell_type": "code",
      "metadata": {
        "id": "TB-7RM66Yp7w",
        "colab_type": "code",
        "outputId": "59400894-46dc-462d-cca4-cf2d57e23116",
        "colab": {
          "base_uri": "https://localhost:8080/",
          "height": 281
        }
      },
      "source": [
        "# plotting the results\n",
        "\n",
        "import matplotlib.pyplot as plt\n",
        "\n",
        "loss = history.history['loss']\n",
        "val_loss = history.history['val_loss']\n",
        "epochs = range(1, len(loss) + 1)\n",
        "\n",
        "plt.figure()\n",
        "plt.plot(epochs, loss, 'bo', label=\"Training loss\")\n",
        "plt.plot(epochs, val_loss, 'b', label='Validation loss')\n",
        "plt.title('Training and validation loss')\n",
        "plt.legend()\n",
        "\n",
        "plt.show()"
      ],
      "execution_count": 0,
      "outputs": [
        {
          "output_type": "display_data",
          "data": {
            "image/png": "[encoded data removed]",
            "text/plain": [
              "<Figure size 432x288 with 1 Axes>"
            ]
          },
          "metadata": {
            "tags": []
          }
        }
      ]
    },
    {
      "cell_type": "code",
      "metadata": {
        "id": "QdyJtNbDxV0x",
        "colab_type": "code",
        "outputId": "ff2ae027-a58d-427e-a319-d55b948f622f",
        "colab": {
          "base_uri": "https://localhost:8080/",
          "height": 51
        }
      },
      "source": [
        "# train the final model on all non-test data avaliable\n",
        "\n",
        "x_test = []\n",
        "y_test = []\n",
        "\n",
        "for record in train_data:\n",
        "  x_test.append(record[1:])\n",
        "  label = int(record[0])\n",
        "  y_test.append(label) \n",
        "\n",
        "x_test = array(x_test)\n",
        "x_test = x_test.reshape((len(x_test), 1, len(x_test[0])))\n",
        "\n",
        "test_score = model.evaluate(x_test, y_test)\n",
        "print(test_score)\n",
        "\n"
      ],
      "execution_count": 0,
      "outputs": [
        {
          "output_type": "stream",
          "text": [
            "17283/17283 [==============================] - 1s 71us/step\n",
            "[0.26971266943292543, 0.8815020540415437]\n"
          ],
          "name": "stdout"
        }
      ]
    },
    {
      "cell_type": "code",
      "metadata": {
        "id": "ZR5MyMOF7zsI",
        "colab_type": "code",
        "colab": {}
      },
      "source": [
        "model.save(\"/content/drive/My Drive/636project/model.h5\")"
      ],
      "execution_count": 0,
      "outputs": []
    },
    {
      "cell_type": "code",
      "metadata": {
        "id": "Xt6eBYBH70i-",
        "colab_type": "code",
        "colab": {}
      },
      "source": [
        ""
      ],
      "execution_count": 0,
      "outputs": []
    }
  ]
}