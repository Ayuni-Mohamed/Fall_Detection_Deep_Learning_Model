{
  "nbformat": 4,
  "nbformat_minor": 0,
  "metadata": {
    "colab": {
      "name": "model_training_May08.ipynb",
      "provenance": [],
      "collapsed_sections": []
    },
    "kernelspec": {
      "name": "python3",
      "display_name": "Python 3"
    },
    "accelerator": "GPU"
  },
  "cells": [
    {
      "cell_type": "code",
      "metadata": {
        "id": "_ZYHC0XOvjYK",
        "colab_type": "code",
        "outputId": "2d9b2097-92fc-4c69-8fe7-a2cf24a8c939",
        "colab": {
          "base_uri": "https://localhost:8080/",
          "height": 34
        }
      },
      "source": [
        "# Apr 25, 2020\n",
        "# increse data by adding videos from youtube\n",
        "import keras\n",
        "keras.__version__"
      ],
      "execution_count": 6,
      "outputs": [
        {
          "output_type": "execute_result",
          "data": {
            "text/plain": [
              "'2.3.1'"
            ]
          },
          "metadata": {
            "tags": []
          },
          "execution_count": 6
        }
      ]
    },
    {
      "cell_type": "code",
      "metadata": {
        "id": "SG9jbsQVueU9",
        "colab_type": "code",
        "colab": {}
      },
      "source": [
        "from keras import models\n",
        "from keras import layers\n",
        "from keras import metrics\n",
        "from keras import optimizers\n",
        "\n",
        "import numpy as np\n",
        "import json\n",
        "import os\n",
        "import csv\n",
        "import pandas as pd\n",
        "import tensorflow_addons as tfa\n"
      ],
      "execution_count": 0,
      "outputs": []
    },
    {
      "cell_type": "code",
      "metadata": {
        "id": "QbBQ69_hPudh",
        "colab_type": "code",
        "outputId": "d2e77802-ffe2-40ea-8493-d9e5a7fe2aa6",
        "colab": {
          "base_uri": "https://localhost:8080/",
          "height": 122
        }
      },
      "source": [
        "from google.colab import drive\n",
        "drive.mount('/content/drive')\n"
      ],
      "execution_count": 3,
      "outputs": [
        {
          "output_type": "stream",
          "text": [
            "Go to this URL in a browser: https://accounts.google.com/o/oauth2/auth?client_id=947318989803-6bn6qk8qdgf4n4g3pfee6491hc0brc4i.apps.googleusercontent.com&redirect_uri=urn%3aietf%3awg%3aoauth%3a2.0%3aoob&response_type=code&scope=email%20https%3a%2f%2fwww.googleapis.com%2fauth%2fdocs.test%20https%3a%2f%2fwww.googleapis.com%2fauth%2fdrive%20https%3a%2f%2fwww.googleapis.com%2fauth%2fdrive.photos.readonly%20https%3a%2f%2fwww.googleapis.com%2fauth%2fpeopleapi.readonly\n",
            "\n",
            "Enter your authorization code:\n",
            "··········\n",
            "Mounted at /content/drive\n"
          ],
          "name": "stdout"
        }
      ]
    },
    {
      "cell_type": "code",
      "metadata": {
        "id": "PTKr-8Fzk69g",
        "colab_type": "code",
        "colab": {}
      },
      "source": [
        "# read json 2-d pose as data, without using: \n",
        "#     {15, \"REye\"},\n",
        "#     {16, \"LEye\"},\n",
        "#     {17, \"REar\"},\n",
        "#     {18, \"LEar\"}\n",
        "\n",
        "ur_basepath1 = '/content/drive/My Drive/636project/data/fall_UR/fall-cam0'\n",
        "ur_basepath2 = '/content/drive/My Drive/636project/data/adl_UR'\n",
        "mc_fall_path = '/content/drive/My Drive/636project/data/MCdataset/mc_fall'\n",
        "mc_notfall_path = '/content/drive/My Drive/636project/data/MCdataset/mc-notfall'\n",
        "youtube_fall_path = '/content/drive/My Drive/636project/data/Youtube/resize/resize_fall'\n",
        "youtube_notfall_path = '/content/drive/My Drive/636project/data/Youtube/resize/resize_notfall'\n",
        "\n",
        "def input_data(basepath):\n",
        "  data = []\n",
        "  entries = os.listdir(basepath)\n",
        "  for entry in entries:\n",
        "    path = os.path.join(basepath, entry)\n",
        "    frames = os.listdir(path)\n",
        "    for frame in frames:\n",
        "      frame_path = os.path.join(path, frame)\n",
        "      with open(frame_path, mode='r') as json_file:\n",
        "        people_dict = json.load(json_file)\n",
        "        people = people_dict[\"people\"]\n",
        "        pose_keypoints_2d = []\n",
        "        # fill missing data as 0\n",
        "        if len(people) == 0:\n",
        "          pose_keypoints_2d = [0] * 63\n",
        "        else:\n",
        "          full_pose = people[0].get(\"pose_keypoints_2d\")\n",
        "          pose_keypoints_2d = full_pose[:45] + full_pose[57:]\n",
        "         \n",
        "        pose_keypoints_2d.append(frame.split('.')[0])\n",
        "        # each pose_keypoints_2d: \n",
        "        #    [431.949, 196.241, 0.0564434, 437.194, 187.749, 0.552267,...'fall-06-cam0_000000000065_keypoints']\n",
        "        # OR [123.949, 283.241, 0.0564434, 437.194, 187.749, 0.552267,...'43_000000000000_keypoints']\n",
        "        data.append(pose_keypoints_2d)        \n",
        "  return data"
      ],
      "execution_count": 0,
      "outputs": []
    },
    {
      "cell_type": "code",
      "metadata": {
        "id": "e3ic_oC0Yq9N",
        "colab_type": "code",
        "colab": {}
      },
      "source": [
        "# read the data of UR dataset  \n",
        "# http://fenix.univ.rzeszow.pl/~mkepski/ds/uf.html\n",
        "ur_data1 = input_data(ur_basepath1)\n",
        "print(len(ur_data1))\n",
        "\n",
        "ur_data2 = input_data(ur_basepath2)\n",
        "print(len(ur_data2))\n",
        " \n",
        "ur_data = ur_data1 + ur_data2\n",
        "print(\"finish UR dataset, and the length of UR dataset: \", len(ur_data))\n",
        "\n",
        "df1 = pd.DataFrame.from_records(ur_data)\n",
        "df1.to_csv (r'/content/drive/My Drive/636project/ur_data.csv', index = False, header=False)\n",
        "\n",
        "# read the data of MC dataset\n",
        "# http://www.iro.umontreal.ca/~labimage/Dataset/\n",
        "mc_fall_data = input_data(mc_fall_path)\n",
        "print(\"finish mc fall data. the length of mc-fall dataset: \", len(mc_fall_data))\n",
        "\n",
        "\n",
        "df2 = pd.DataFrame.from_records(mc_fall_data)\n",
        "df2.to_csv(r'/content/drive/My Drive/636project/mc_fall_data.csv', index = False, header=False)\n",
        "\n",
        "mc_notfall_data = input_data(mc_notfall_path)\n",
        "print(\"length of mc_not_fall dataset: \", len(mc_notfall_data))\n",
        "\n",
        "df3 = pd.DataFrame.from_records(mc_notfall_data)\n",
        "df3.to_csv(r'/content/drive/My Drive/636project/mc_notfall_data.csv', index = False, header=False)\n"
      ],
      "execution_count": 0,
      "outputs": []
    },
    {
      "cell_type": "code",
      "metadata": {
        "id": "ksJ00J5us26_",
        "colab_type": "code",
        "outputId": "c0e6f620-8ce9-46f8-ce93-011af570d478",
        "colab": {
          "base_uri": "https://localhost:8080/",
          "height": 68
        }
      },
      "source": [
        "# read the data of youtube dataset\n",
        "youtube_fall_data = input_data(youtube_fall_path)\n",
        "print(\"length of youtube_fall dataset: \", len(youtube_fall_data))\n",
        "\n",
        "df4 = pd.DataFrame.from_records(youtube_fall_data)\n",
        "df4.to_csv(r'/content/drive/My Drive/636project/youtube_fall_data.csv', index = False, header=False)\n",
        "\n",
        "youtube_notfall_data = input_data(youtube_notfall_path)\n",
        "print(\"length of youtube_notfall dataset: \", len(youtube_notfall_data))\n",
        "\n",
        "df5 = pd.DataFrame.from_records(youtube_notfall_data)\n",
        "df5.to_csv(r'/content/drive/My Drive/636project/youtube_notfall_data.csv', index = False, header=False)\n",
        "\n",
        "print('finish loading youtube dataset')"
      ],
      "execution_count": 9,
      "outputs": [
        {
          "output_type": "stream",
          "text": [
            "length of youtube_fall dataset:  1867\n",
            "length of youtube_notfall dataset:  4213\n",
            "finish loading youtube dataset\n"
          ],
          "name": "stdout"
        }
      ]
    },
    {
      "cell_type": "code",
      "metadata": {
        "id": "v61HcYuUSK6K",
        "colab_type": "code",
        "outputId": "450afc3c-33b9-4b35-e745-ee05e8a56c04",
        "colab": {
          "base_uri": "https://localhost:8080/",
          "height": 122
        }
      },
      "source": [
        "# read the video data csv,\n",
        "# it is faster than running the above code each time\n",
        "\n",
        "ur_path = '/content/drive/My Drive/636project/ur_data.csv'\n",
        "mc_fall_path = '/content/drive/My Drive/636project/mc_fall_data.csv'\n",
        "mc_notfall_path = '/content/drive/My Drive/636project/mc_notfall_data.csv'\n",
        "youtube_fall_path = '/content/drive/My Drive/636project/youtube_fall_data.csv'\n",
        "youtube_notfall_path = '/content/drive/My Drive/636project/youtube_notfall_data.csv'\n",
        "\n",
        "def read_data(path):\n",
        "  video_data = []\n",
        "  with open(path, mode='r') as csv_file:\n",
        "    reader = csv.reader(csv_file)\n",
        "    for row in reader:\n",
        "      video_data.append(row)\n",
        "  return video_data\n",
        "\n",
        "ur_data = read_data(ur_path)\n",
        "mc_fall_data = read_data(mc_fall_path)\n",
        "mc_notfall_data = read_data(mc_notfall_path)\n",
        "youtube_fall_data = read_data(youtube_fall_path)\n",
        "youtube_notfall_data = read_data(youtube_notfall_path)\n",
        "\n",
        "\n",
        "print(ur_data[0])\n",
        "print(mc_fall_data[0])\n",
        "print(mc_notfall_data[0])\n",
        "print(youtube_fall_data[0])\n",
        "print(youtube_notfall_data[0])"
      ],
      "execution_count": 38,
      "outputs": [
        {
          "output_type": "stream",
          "text": [
            "['520.972', '128.178', '0.833728', '544.571', '130.782', '0.739747', '540.636', '132.754', '0.726633', '553.086', '154.999', '0.800764', '541.285', '166.155', '0.742877', '549.144', '129.467', '0.745059', '572.703', '155.035', '0.841464', '543.266', '171.369', '0.817947', '572.067', '169.415', '0.607432', '564.874', '166.16', '0.534525', '526.875', '181.191', '0.862423', '554.389', '217.851', '0.612664', '577.962', '170.732', '0.619415', '535.402', '188.398', '0.760066', '560.284', '220.479', '0.65847', '545.882', '232.266', '0.604373', '553.078', '232.915', '0.532739', '566.184', '222.453', '0.655722', '541.939', '229.002', '0.399536', '541.943', '227.687', '0.344383', '560.285', '217.223', '0.153482', 'fall-16-cam0_000000000016_keypoints']\n",
            "['504.171', '238.019', '0.119379', '481.995', '237.979', '0.647555', '471.564', '247.106', '0.6547', '485.918', '299.334', '0.780827', '525.04', '307.158', '0.770417', '495.036', '228.845', '0.474206', '519.863', '220.995', '0.283234', '539.41', '214.505', '0.246275', '478.096', '275.843', '0.378863', '474.176', '284.967', '0.370422', '528.986', '277.118', '0.213783', '0.0', '0.0', '0.0', '485.934', '266.741', '0.363281', '517.291', '258.887', '0.198486', '530.273', '274.524', '0.0747612', '542.03', '277.126', '0.114463', '539.417', '277.116', '0.0888912', '532.899', '274.487', '0.0731438', '0.0', '0.0', '0.0', '0.0', '0.0', '0.0', '0.0', '0.0', '0.0', '55_000000000000_keypoints']\n",
            "['643.854', '174.088', '0.796968', '652.912', '202.706', '0.916605', '633.362', '192.272', '0.886062', '609.831', '214.468', '0.928492', '579.903', '235.396', '0.884458', '672.491', '213.16', '0.871428', '664.737', '253.631', '0.843892', '653.025', '284.941', '0.864034', '625.542', '257.608', '0.738263', '612.549', '253.669', '0.758785', '602.079', '296.765', '0.733292', '590.279', '330.665', '0.457905', '637.277', '265.416', '0.734225', '605.954', '303.234', '0.712669', '566.825', '341.124', '0.72449', '548.572', '350.196', '0.637416', '557.634', '352.806', '0.630046', '561.622', '348.878', '0.52683', '0.0', '0.0', '0.0', '0.0', '0.0', '0.0', '590.367', '337.146', '0.274113', '60_000000000000_keypoints']\n",
            "['0.0', '0.0', '0.0', '343.849', '66.0223', '0.188148', '357.543', '65.0651', '0.218538', '363.4', '88.5165', '0.191749', '372.217', '105.197', '0.108987', '332.118', '66.0279', '0.150296', '0.0', '0.0', '0.0', '0.0', '0.0', '0.0', '326.252', '114.944', '0.284664', '338.962', '115.929', '0.30854', '347.785', '137.438', '0.560074', '343.839', '168.782', '0.551124', '312.554', '112.013', '0.206529', '318.401', '133.526', '0.458152', '302.762', '158.97', '0.660171', '317.411', '170.707', '0.600659', '315.461', '168.761', '0.53913', '296.89', '159.959', '0.631556', '349.714', '174.611', '0.319546', '348.751', '175.614', '0.397619', '340.902', '175.568', '0.545259', '20_000000000000_keypoints']\n",
            "['127.682', '35.6818', '0.86715', '160.95', '62.1388', '0.695363', '175.59', '57.2496', '0.554826', '0.0', '0.0', '0.0', '0.0', '0.0', '0.0', '149.194', '66.9858', '0.726184', '158.946', '134.519', '0.703452', '139.42', '185.404', '0.765717', '178.547', '178.524', '0.46768', '191.251', '177.548', '0.420402', '186.383', '242.124', '0.614888', '199.029', '301.81', '0.717645', '168.757', '179.502', '0.463228', '152.142', '247.998', '0.627453', '131.588', '310.611', '0.561644', '104.176', '303.749', '0.359979', '107.144', '308.644', '0.370667', '132.562', '323.297', '0.445868', '161.897', '314.483', '0.600495', '165.821', '311.581', '0.493078', '205.908', '309.59', '0.598985', '7_000000000000_keypoints']\n"
          ],
          "name": "stdout"
        }
      ]
    },
    {
      "cell_type": "code",
      "metadata": {
        "id": "LjGKTLykHbor",
        "colab_type": "code",
        "colab": {}
      },
      "source": [
        "# normalize data according to the size of videos in different dataset\n",
        "def normalize(list, width, height):\n",
        "  for record in list:\n",
        "    for i in range(0, 63, 3):\n",
        "        record[i] = float(record[i])/ width\n",
        "        record[i + 1] = float(record[i + 1]) / height\n",
        "\n",
        "normalize(ur_data, 640, 240)\n",
        "normalize(mc_fall_data, 720, 480)\n",
        "normalize(mc_notfall_data, 720, 480)\n",
        "normalize(youtube_fall_data, 640, 360)\n",
        "normalize(youtube_notfall_data, 640, 360)\n"
      ],
      "execution_count": 0,
      "outputs": []
    },
    {
      "cell_type": "code",
      "metadata": {
        "id": "QHUL5_k3p7Fy",
        "colab_type": "code",
        "colab": {
          "base_uri": "https://localhost:8080/",
          "height": 122
        },
        "outputId": "bac8df99-7aaa-490c-8024-1784d56c9194"
      },
      "source": [
        "print(ur_data[0])\n",
        "print(mc_fall_data[0])\n",
        "print(mc_notfall_data[0])\n",
        "print(youtube_fall_data[0])\n",
        "print(youtube_notfall_data[0])"
      ],
      "execution_count": 40,
      "outputs": [
        {
          "output_type": "stream",
          "text": [
            "[0.81401875, 0.534075, '0.833728', 0.8508921875000001, 0.544925, '0.739747', 0.8447437499999999, 0.5531416666666666, '0.726633', 0.864196875, 0.6458291666666667, '0.800764', 0.8457578124999999, 0.6923125, '0.742877', 0.8580375, 0.5394458333333334, '0.745059', 0.8948484375, 0.6459791666666667, '0.841464', 0.848853125, 0.7140375, '0.817947', 0.8938546875, 0.7058958333333333, '0.607432', 0.882615625, 0.6923333333333334, '0.534525', 0.8232421875, 0.7549625, '0.862423', 0.8662328125000001, 0.9077125, '0.612664', 0.903065625, 0.7113833333333334, '0.619415', 0.8365656250000001, 0.7849916666666666, '0.760066', 0.87544375, 0.9186625, '0.65847', 0.8529406249999999, 0.9677749999999999, '0.604373', 0.864184375, 0.9704791666666667, '0.532739', 0.8846624999999999, 0.9268875, '0.655722', 0.8467796875, 0.954175, '0.399536', 0.8467859375, 0.9486958333333334, '0.344383', 0.8754453124999999, 0.9050958333333334, '0.153482', 'fall-16-cam0_000000000016_keypoints']\n",
            "[0.7002375, 0.49587291666666666, '0.119379', 0.6694375, 0.49578958333333334, '0.647555', 0.65495, 0.5148041666666666, '0.6547', 0.6748861111111111, 0.6236125, '0.780827', 0.7292222222222222, 0.6399125, '0.770417', 0.68755, 0.4767604166666667, '0.474206', 0.7220319444444445, 0.46040625, '0.283234', 0.7491805555555555, 0.44688541666666665, '0.246275', 0.6640222222222222, 0.5746729166666668, '0.378863', 0.6585777777777777, 0.5936812499999999, '0.370422', 0.7347027777777778, 0.5773291666666667, '0.213783', 0.0, 0.0, '0.0', 0.6749083333333333, 0.5557104166666667, '0.363281', 0.7184597222222223, 0.5393479166666667, '0.198486', 0.7364902777777778, 0.571925, '0.0747612', 0.7528194444444444, 0.5773458333333333, '0.114463', 0.7491902777777778, 0.577325, '0.0888912', 0.7401375, 0.5718479166666667, '0.0731438', 0.0, 0.0, '0.0', 0.0, 0.0, '0.0', 0.0, 0.0, '0.0', '55_000000000000_keypoints']\n",
            "[0.8942416666666667, 0.3626833333333333, '0.796968', 0.9068222222222223, 0.42230416666666665, '0.916605', 0.8796694444444444, 0.4005666666666666, '0.886062', 0.8469875, 0.4468083333333333, '0.928492', 0.8054208333333334, 0.4904083333333333, '0.884458', 0.9340152777777777, 0.44408333333333333, '0.871428', 0.9232458333333333, 0.5283979166666667, '0.843892', 0.9069791666666667, 0.5936270833333332, '0.864034', 0.8688083333333334, 0.5366833333333333, '0.738263', 0.8507625, 0.5284770833333333, '0.758785', 0.8362208333333333, 0.6182604166666666, '0.733292', 0.8198319444444444, 0.6888854166666667, '0.457905', 0.8851069444444445, 0.5529499999999999, '0.734225', 0.8416027777777777, 0.6317375, '0.712669', 0.7872569444444445, 0.7106750000000001, '0.72449', 0.7619055555555556, 0.7295750000000001, '0.637416', 0.7744916666666667, 0.7350125, '0.630046', 0.7800305555555554, 0.7268291666666666, '0.52683', 0.0, 0.0, '0.0', 0.0, 0.0, '0.0', 0.8199541666666667, 0.7023875, '0.274113', '60_000000000000_keypoints']\n",
            "[0.0, 0.0, '0.0', 0.5372640625, 0.18339527777777778, '0.188148', 0.5586609375, 0.1807363888888889, '0.218538', 0.5678124999999999, 0.24587916666666665, '0.191749', 0.5815890625, 0.2922138888888889, '0.108987', 0.518934375, 0.18341083333333333, '0.150296', 0.0, 0.0, '0.0', 0.0, 0.0, '0.0', 0.50976875, 0.3192888888888889, '0.284664', 0.529628125, 0.322025, '0.30854', 0.5434140625, 0.3817722222222222, '0.560074', 0.5372484375, 0.4688388888888889, '0.551124', 0.48836562499999997, 0.31114722222222224, '0.206529', 0.4975015625, 0.3709055555555556, '0.458152', 0.473065625, 0.4415833333333333, '0.660171', 0.4959546875, 0.4741861111111111, '0.600659', 0.49290781250000004, 0.46878055555555553, '0.53913', 0.463890625, 0.44433055555555556, '0.631556', 0.546428125, 0.4850305555555555, '0.319546', 0.5449234374999999, 0.4878166666666667, '0.397619', 0.5326593749999999, 0.48768888888888895, '0.545259', '20_000000000000_keypoints']\n",
            "[0.199503125, 0.09911611111111111, '0.86715', 0.251484375, 0.17260777777777778, '0.695363', 0.274359375, 0.15902666666666668, '0.554826', 0.0, 0.0, '0.0', 0.0, 0.0, '0.0', 0.233115625, 0.18607166666666666, '0.726184', 0.248353125, 0.3736638888888889, '0.703452', 0.21784374999999997, 0.5150111111111111, '0.765717', 0.2789796875, 0.4959, '0.46768', 0.2988296875, 0.4931888888888889, '0.420402', 0.2912234375, 0.6725666666666666, '0.614888', 0.3109828125, 0.8383611111111111, '0.717645', 0.26368281250000003, 0.4986166666666667, '0.463228', 0.237721875, 0.6888833333333333, '0.627453', 0.20560625, 0.8628083333333333, '0.561644', 0.162775, 0.8437472222222223, '0.359979', 0.16741250000000002, 0.8573444444444445, '0.370667', 0.20712812500000002, 0.8980472222222223, '0.445868', 0.2529640625, 0.8735638888888889, '0.600495', 0.2590953125, 0.8655027777777778, '0.493078', 0.32173124999999997, 0.8599722222222221, '0.598985', '7_000000000000_keypoints']\n"
          ],
          "name": "stdout"
        }
      ]
    },
    {
      "cell_type": "code",
      "metadata": {
        "id": "2DchOlwQNKUA",
        "colab_type": "code",
        "outputId": "a49a5217-ede2-4eed-872f-95c2d4b6fa23",
        "colab": {
          "base_uri": "https://localhost:8080/",
          "height": 34
        }
      },
      "source": [
        "# read target label of UR dataset. \n",
        "\n",
        "target = []\n",
        "path1 = '/content/drive/My Drive/636project/target/urfall-cam0-falls.csv'\n",
        "path2 = '/content/drive/My Drive/636project/target/urfall-cam0-adls.csv'\n",
        "# in these csv of UR dataset, \n",
        "# '-1' means person is not lying, '1' means person is lying on the ground; '0' is temporary pose, when person \"is falling\"\n",
        "\n",
        "def input_fall(path):\n",
        "  with open(path, mode='r') as csv_file:\n",
        "    reader = csv.reader(csv_file)\n",
        "    for row in reader:\n",
        "      record = []\n",
        "      record.append(row[0])\n",
        "      record.append(row[1])\n",
        "      label = row[2]\n",
        "      if label == '1' or label == '0':\n",
        "        record.append(1)        \n",
        "      else:\n",
        "        record.append(0)\n",
        "      # each record: [<video_id>, <frame_id>, label], eg: ['fall-17', '22', 0] \n",
        "      target.append(record)\n",
        "\n",
        "# though laying in the video, but it is not fall, so I mark 0 as label\n",
        "def input_adl(path):\n",
        "  with open(path, mode='r') as csv_file:\n",
        "    reader = csv.reader(csv_file)\n",
        "    for row in reader:\n",
        "      record = []\n",
        "      record.append(row[0])\n",
        "      record.append(row[1])\n",
        "      record.append(0)\n",
        "      target.append(record)\n",
        "\n",
        "input_fall(path1)\n",
        "print(\"falls of UR dataset\", len(target))\n",
        "\n",
        "input_adl(path2)\n",
        "\n",
        "df = pd.DataFrame.from_records(target)\n",
        "df.to_csv (r'/content/drive/My Drive/636project/target_data.csv', index = False, header=False)\n"
      ],
      "execution_count": 41,
      "outputs": [
        {
          "output_type": "stream",
          "text": [
            "falls of UR dataset 2995\n"
          ],
          "name": "stdout"
        }
      ]
    },
    {
      "cell_type": "code",
      "metadata": {
        "id": "WtMEv5GabKlC",
        "colab_type": "code",
        "colab": {}
      },
      "source": [
        "# make dictionary of target of ur dataset\n",
        "target_csv_path = '/content/drive/My Drive/636project/target_data.csv'\n",
        "idx = 0\n",
        "idx_dict = {}\n",
        "\n",
        "with open(target_csv_path, mode='r') as csv_file:\n",
        "  reader = csv.reader(csv_file)\n",
        "  for row in reader:\n",
        "    # each row: [<video_id>, <frame_id>, label], eg: ['fall-17', '22', 0] \n",
        "    idx_dict['.'.join(row[:2])] = idx  # {'fall-17.22' : 112}\n",
        "    idx += 1"
      ],
      "execution_count": 0,
      "outputs": []
    },
    {
      "cell_type": "code",
      "metadata": {
        "id": "ns3vNaNj5L3G",
        "colab_type": "code",
        "outputId": "09e0dfdd-0a4e-4eb3-fa50-e31bcd1b51ea",
        "colab": {
          "base_uri": "https://localhost:8080/",
          "height": 122
        }
      },
      "source": [
        "# match body landmark data with label data of ur dataset\n",
        "bodylandmark = []\n",
        "label = []\n",
        "frame_name = []\n",
        "\n",
        "for landmark in ur_data:\n",
        "  video_name = landmark[-1].split('_')  # 'fall-01-cam0_000000000004'\n",
        "  a = video_name[0].split('-')\n",
        "  video_type = a[0] # 'fall'\n",
        "  video_id = a[1]   # '01'\n",
        "  frame_id = str(int(video_name[1])) # '000000000004' become '4'\n",
        "  try:\n",
        "    a = '.'.join([video_id, frame_id])\n",
        "    b = '-'.join([video_type, a])\n",
        "    label.append(target[idx_dict[b]][-1])\n",
        "    bl = landmark[:-1]\n",
        "    # convert string into float\n",
        "    bl = list(map(float,bl))\n",
        "    bodylandmark.append(bl)\n",
        "    frameName = landmark[-1]\n",
        "    frame_name.append(frameName)\n",
        "  except:\n",
        "    continue\n",
        "\n",
        "print(\"bodylandmark record sample of ur dataset:\" )\n",
        "print(bodylandmark[0])\n",
        "print(\"label of ur dataset: \", len(label))\n",
        "print(\"bodylandmark of ur dataset: \", len(bodylandmark))\n",
        "print(frame_name[0])"
      ],
      "execution_count": 43,
      "outputs": [
        {
          "output_type": "stream",
          "text": [
            "bodylandmark record sample of ur dataset:\n",
            "[0.81401875, 0.534075, 0.833728, 0.8508921875000001, 0.544925, 0.739747, 0.8447437499999999, 0.5531416666666666, 0.726633, 0.864196875, 0.6458291666666667, 0.800764, 0.8457578124999999, 0.6923125, 0.742877, 0.8580375, 0.5394458333333334, 0.745059, 0.8948484375, 0.6459791666666667, 0.841464, 0.848853125, 0.7140375, 0.817947, 0.8938546875, 0.7058958333333333, 0.607432, 0.882615625, 0.6923333333333334, 0.534525, 0.8232421875, 0.7549625, 0.862423, 0.8662328125000001, 0.9077125, 0.612664, 0.903065625, 0.7113833333333334, 0.619415, 0.8365656250000001, 0.7849916666666666, 0.760066, 0.87544375, 0.9186625, 0.65847, 0.8529406249999999, 0.9677749999999999, 0.604373, 0.864184375, 0.9704791666666667, 0.532739, 0.8846624999999999, 0.9268875, 0.655722, 0.8467796875, 0.954175, 0.399536, 0.8467859375, 0.9486958333333334, 0.344383, 0.8754453124999999, 0.9050958333333334, 0.153482]\n",
            "label of ur dataset:  11475\n",
            "bodylandmark of ur dataset:  11475\n",
            "fall-16-cam0_000000000016_keypoints\n"
          ],
          "name": "stdout"
        }
      ]
    },
    {
      "cell_type": "code",
      "metadata": {
        "id": "QPBAHX2HKxuL",
        "colab_type": "code",
        "colab": {}
      },
      "source": [
        "# add data of MC dataset to the whole dataset\n",
        "# For MC dataset, all frames in fall data should be label 1, \n",
        "# and all frames in notfall data should be label 0.\n",
        "for record in mc_fall_data:\n",
        "  bl = record[:-1]\n",
        "  bl = list(map(float,bl))\n",
        "  bodylandmark.append(bl)\n",
        "  label.append(1)\n",
        "  frameName = record[-1]\n",
        "  frame_name.append(frameName)\n",
        "\n",
        "for record in mc_notfall_data:\n",
        "  bl = record[:-1]\n",
        "  bl = list(map(float,bl))\n",
        "  bodylandmark.append(bl)\n",
        "  label.append(0)\n",
        "  frameName = record[-1]\n",
        "  frame_name.append(frameName)\n"
      ],
      "execution_count": 0,
      "outputs": []
    },
    {
      "cell_type": "code",
      "metadata": {
        "id": "xF6ZPhxIPLBd",
        "colab_type": "code",
        "colab": {}
      },
      "source": [
        "# add data of youtube dataset to the whole dataset\n",
        "# For youtube dataset, all frames in fall data should be label 1, \n",
        "# and all frames in notfall data should be label 0.\n",
        "for record in youtube_fall_data:\n",
        "  bl = record[:-1]\n",
        "  bl = list(map(float,bl))\n",
        "  bodylandmark.append(bl)\n",
        "  label.append(1)\n",
        "  frameName = record[-1]\n",
        "  frame_name.append(frameName)\n",
        "\n",
        "for record in youtube_notfall_data:\n",
        "  bl = record[:-1]\n",
        "  bl = list(map(float,bl))\n",
        "  bodylandmark.append(bl)\n",
        "  label.append(0)\n",
        "  frameName = record[-1]\n",
        "  frame_name.append(frameName)\n"
      ],
      "execution_count": 0,
      "outputs": []
    },
    {
      "cell_type": "code",
      "metadata": {
        "id": "5TseRjvqzZ9a",
        "colab_type": "code",
        "outputId": "7dd907a7-d154-4747-d82e-b2a84d67b21d",
        "colab": {
          "base_uri": "https://localhost:8080/",
          "height": 88
        }
      },
      "source": [
        "# make bodylandmark and label to be a same data frame\n",
        "all_data = []\n",
        "\n",
        "for i in range(len(bodylandmark)):\n",
        "  all_data.append([label[i]])\n",
        "  all_data[i] = all_data[i] + bodylandmark[i]\n",
        "\n",
        "print(all_data[0])\n",
        "print(len(all_data))\n",
        "print(len(all_data[0]))"
      ],
      "execution_count": 46,
      "outputs": [
        {
          "output_type": "stream",
          "text": [
            "[0, 0.81401875, 0.534075, 0.833728, 0.8508921875000001, 0.544925, 0.739747, 0.8447437499999999, 0.5531416666666666, 0.726633, 0.864196875, 0.6458291666666667, 0.800764, 0.8457578124999999, 0.6923125, 0.742877, 0.8580375, 0.5394458333333334, 0.745059, 0.8948484375, 0.6459791666666667, 0.841464, 0.848853125, 0.7140375, 0.817947, 0.8938546875, 0.7058958333333333, 0.607432, 0.882615625, 0.6923333333333334, 0.534525, 0.8232421875, 0.7549625, 0.862423, 0.8662328125000001, 0.9077125, 0.612664, 0.903065625, 0.7113833333333334, 0.619415, 0.8365656250000001, 0.7849916666666666, 0.760066, 0.87544375, 0.9186625, 0.65847, 0.8529406249999999, 0.9677749999999999, 0.604373, 0.864184375, 0.9704791666666667, 0.532739, 0.8846624999999999, 0.9268875, 0.655722, 0.8467796875, 0.954175, 0.399536, 0.8467859375, 0.9486958333333334, 0.344383, 0.8754453124999999, 0.9050958333333334, 0.153482]\n",
            "35279\n",
            "64\n"
          ],
          "name": "stdout"
        }
      ]
    },
    {
      "cell_type": "code",
      "metadata": {
        "id": "1KpO5VflM_zn",
        "colab_type": "code",
        "outputId": "eef49089-8f02-4d07-9fc0-170f37e38a83",
        "colab": {
          "base_uri": "https://localhost:8080/",
          "height": 51
        }
      },
      "source": [
        "# know the majority and minority\n",
        "fall = label.count(1)\n",
        "not_fall = label.count(0)\n",
        "print(fall)\n",
        "print(not_fall)"
      ],
      "execution_count": 47,
      "outputs": [
        {
          "output_type": "stream",
          "text": [
            "13128\n",
            "22151\n"
          ],
          "name": "stdout"
        }
      ]
    },
    {
      "cell_type": "code",
      "metadata": {
        "id": "puE0mHIKnR3O",
        "colab_type": "code",
        "outputId": "419fd3c6-667a-45c9-85da-63ca93b101cb",
        "colab": {
          "base_uri": "https://localhost:8080/",
          "height": 170
        }
      },
      "source": [
        "# up-sampling to make the data balance\n",
        "# Separate majority and minority classes\n",
        "df = pd.DataFrame.from_records(all_data)\n",
        "header = ['label']\n",
        "for i in range(63):\n",
        "  header.append(i)\n",
        "\n",
        "df.columns = header\n",
        "df_majority = df[df.label==0]\n",
        "df_minority = df[df.label==1]\n",
        "print(\"before re-sampling, not fall vs fall: \")\n",
        "print(df['label'].value_counts())\n",
        "\n",
        "from sklearn.utils import resample\n",
        "print(\"begin to re sample...\")\n",
        "# Upsample minority class\n",
        "df_minority_upsampled = resample(df_minority, \n",
        "                                 replace=True,      # sample with replacement\n",
        "                                 n_samples=not_fall)    # to match majority class\n",
        "                                  \n",
        "# Combine majority class with upsampled minority class\n",
        "df_upsampled = pd.concat([df_majority, df_minority_upsampled])\n",
        " \n",
        "print(\"after re-sampling...\")\n",
        "# Display new class counts\n",
        "df_upsampled.label.value_counts()"
      ],
      "execution_count": 48,
      "outputs": [
        {
          "output_type": "stream",
          "text": [
            "before re-sampling, not fall vs fall: \n",
            "0    22151\n",
            "1    13128\n",
            "Name: label, dtype: int64\n",
            "begin to re sample...\n",
            "after re-sampling...\n"
          ],
          "name": "stdout"
        },
        {
          "output_type": "execute_result",
          "data": {
            "text/plain": [
              "1    22151\n",
              "0    22151\n",
              "Name: label, dtype: int64"
            ]
          },
          "metadata": {
            "tags": []
          },
          "execution_count": 48
        }
      ]
    },
    {
      "cell_type": "code",
      "metadata": {
        "id": "ok4SPC0u4LZX",
        "colab_type": "code",
        "outputId": "7404ce4b-229b-4ba2-a2be-20d9f08f3d7e",
        "colab": {
          "base_uri": "https://localhost:8080/",
          "height": 238
        }
      },
      "source": [
        "all_data = df_upsampled.values\n",
        "\n",
        "print(all_data[0])\n",
        "print(len(all_data[0]))\n",
        "print(\"number of all data:\", len(all_data))"
      ],
      "execution_count": 49,
      "outputs": [
        {
          "output_type": "stream",
          "text": [
            "[0.         0.81401875 0.534075   0.833728   0.85089219 0.544925\n",
            " 0.739747   0.84474375 0.55314167 0.726633   0.86419687 0.64582917\n",
            " 0.800764   0.84575781 0.6923125  0.742877   0.8580375  0.53944583\n",
            " 0.745059   0.89484844 0.64597917 0.841464   0.84885312 0.7140375\n",
            " 0.817947   0.89385469 0.70589583 0.607432   0.88261563 0.69233333\n",
            " 0.534525   0.82324219 0.7549625  0.862423   0.86623281 0.9077125\n",
            " 0.612664   0.90306562 0.71138333 0.619415   0.83656563 0.78499167\n",
            " 0.760066   0.87544375 0.9186625  0.65847    0.85294062 0.967775\n",
            " 0.604373   0.86418438 0.97047917 0.532739   0.8846625  0.9268875\n",
            " 0.655722   0.84677969 0.954175   0.399536   0.84678594 0.94869583\n",
            " 0.344383   0.87544531 0.90509583 0.153482  ]\n",
            "64\n",
            "number of all data: 44302\n"
          ],
          "name": "stdout"
        }
      ]
    },
    {
      "cell_type": "code",
      "metadata": {
        "id": "MEn4pkbz0SPf",
        "colab_type": "code",
        "outputId": "7cfe141b-8f5d-415b-b713-46151d47d642",
        "colab": {
          "base_uri": "https://localhost:8080/",
          "height": 255
        }
      },
      "source": [
        "# split data into train and test set\n",
        "np.random.shuffle(all_data)\n",
        "split_point = len(all_data) // 9\n",
        "print(\"split point:\", split_point)\n",
        "test_data = all_data[:split_point]\n",
        "train_data = all_data[split_point: ]\n",
        "\n",
        "print(\"number of test data:\", len(test_data))\n",
        "print(\"number of train data:\",len(train_data))\n",
        "\n",
        "print(train_data[0])"
      ],
      "execution_count": 50,
      "outputs": [
        {
          "output_type": "stream",
          "text": [
            "split point: 4922\n",
            "number of test data: 4922\n",
            "number of train data: 39380\n",
            "[1.         0.2178125  0.881725   0.782707   0.26218281 0.81931389\n",
            " 0.688848   0.24531875 0.792075   0.516882   0.         0.\n",
            " 0.         0.         0.         0.         0.28200313 0.84373056\n",
            " 0.661276   0.33704219 0.87638611 0.878106   0.28504844 0.90345278\n",
            " 0.825419   0.35232188 0.77039722 0.586372   0.34925156 0.75676111\n",
            " 0.55277    0.41805781 0.71601111 0.548107   0.47000156 0.64273056\n",
            " 0.720842   0.35691406 0.78126389 0.516762   0.43490313 0.74869167\n",
            " 0.628867   0.49443281 0.68605278 0.578116   0.5311375  0.70791944\n",
            " 0.642946   0.53112344 0.70503611 0.606238   0.49754844 0.62364722\n",
            " 0.256272   0.53423438 0.70234167 0.0588153  0.         0.\n",
            " 0.         0.47765469 0.62087222 0.648173  ]\n"
          ],
          "name": "stdout"
        }
      ]
    },
    {
      "cell_type": "code",
      "metadata": {
        "id": "qxdTfMk3TuYA",
        "colab_type": "code",
        "outputId": "cbb34530-9bab-4115-cf6a-50f5608a28d1",
        "colab": {
          "base_uri": "https://localhost:8080/",
          "height": 1000
        }
      },
      "source": [
        "# solution 1: train model using lstm\n",
        "from tensorflow.keras.layers import LSTM\n",
        "from tensorflow.keras import callbacks\n",
        "from tensorflow.keras import layers\n",
        "from numpy import array\n",
        "from tensorflow.keras.models import Sequential\n",
        "\n",
        "def scheduler(epoch):\n",
        "  if epoch < 10:\n",
        "    return 0.001\n",
        "  else:\n",
        "    return 0.001 * np.exp(0.1 * (10 - epoch))\n",
        "\n",
        "x_train = []\n",
        "y_train = []\n",
        "\n",
        "for record in train_data:\n",
        "  x_train.append(record[1:])\n",
        "  label = int(record[0])\n",
        "  y_train.append(label) \n",
        "\n",
        "def train_lstm_model(x_train, y_train):\n",
        "  x_train = array(x_train)\n",
        "  x_train = x_train.reshape((len(x_train), 1, len(x_train[0])))\n",
        "  print(\"x_train.shape\", x_train.shape)\n",
        "  print(x_train[0])\n",
        "\n",
        "  y_train = array(y_train)\n",
        "  print(\"y_train.shape\", y_train.shape)\n",
        "\n",
        "  # imrpove log: use batch size 16 and add one more lstm layer\n",
        "\n",
        "  lstm_model = Sequential()\n",
        "  lstm_model.add(LSTM(16, \n",
        "                input_shape=(1, 63),\n",
        "                return_sequences=True))\n",
        "  lstm_model.add(LSTM(16, ))\n",
        "  lstm_model.add(layers.Dense(1, activation='sigmoid'))\n",
        "  lstm_model.compile(optimizer='rmsprop',\n",
        "                loss='binary_crossentropy',\n",
        "                metrics=['acc',\n",
        "                        metrics.AUC(), \n",
        "                        metrics.FalseNegatives(),\n",
        "                        metrics.Recall(),\n",
        "                        metrics.Precision(),\n",
        "                        metrics.FalseNegatives(),\n",
        "                        metrics.TrueNegatives(),\n",
        "                        metrics.FalsePositives(),\n",
        "                        metrics.TruePositives()])\n",
        "  lstm_history = lstm_model.fit(x_train, y_train,\n",
        "                      epochs=100,\n",
        "                      batch_size=16,\n",
        "                      validation_split=0.2,\n",
        "                      callbacks=[callbacks.EarlyStopping(monitor='val_loss', patience=5),\n",
        "                      callbacks.LearningRateScheduler(scheduler)])\n",
        "  print(\"finish training lstm model\")\n",
        "  return lstm_model, lstm_history\n",
        "\n",
        "lstm_model, lstm_history = train_lstm_model(x_train, y_train)"
      ],
      "execution_count": 51,
      "outputs": [
        {
          "output_type": "stream",
          "text": [
            "x_train.shape (39380, 1, 63)\n",
            "[[0.2178125  0.881725   0.782707   0.26218281 0.81931389 0.688848\n",
            "  0.24531875 0.792075   0.516882   0.         0.         0.\n",
            "  0.         0.         0.         0.28200313 0.84373056 0.661276\n",
            "  0.33704219 0.87638611 0.878106   0.28504844 0.90345278 0.825419\n",
            "  0.35232188 0.77039722 0.586372   0.34925156 0.75676111 0.55277\n",
            "  0.41805781 0.71601111 0.548107   0.47000156 0.64273056 0.720842\n",
            "  0.35691406 0.78126389 0.516762   0.43490313 0.74869167 0.628867\n",
            "  0.49443281 0.68605278 0.578116   0.5311375  0.70791944 0.642946\n",
            "  0.53112344 0.70503611 0.606238   0.49754844 0.62364722 0.256272\n",
            "  0.53423438 0.70234167 0.0588153  0.         0.         0.\n",
            "  0.47765469 0.62087222 0.648173  ]]\n",
            "y_train.shape (39380,)\n",
            "Epoch 1/100\n",
            "1969/1969 [==============================] - 15s 8ms/step - loss: 0.4105 - acc: 0.8095 - auc_5: 0.8259 - false_negatives_9: 1553.0823 - recall_5: 0.7224 - precision_5: 0.7476 - false_negatives_10: 1553.0823 - true_negatives_5: 5933.9214 - false_positives_5: 1935.7292 - true_positives_5: 6337.2671 - val_loss: 0.3465 - val_acc: 0.8509 - val_auc_5: 0.8956 - val_false_negatives_9: 2638.8174 - val_recall_5: 0.8512 - val_precision_5: 0.7922 - val_false_negatives_10: 2638.8174 - val_true_negatives_5: 13765.5762 - val_false_positives_5: 3955.5842 - val_true_positives_5: 15095.9980 - lr: 0.0010\n",
            "Epoch 2/100\n",
            "1969/1969 [==============================] - 14s 7ms/step - loss: 0.2929 - acc: 0.8808 - auc_5: 0.9131 - false_negatives_9: 3576.5271 - recall_5: 0.8690 - precision_5: 0.8119 - false_negatives_10: 3576.5271 - true_negatives_5: 22020.8008 - false_positives_5: 5524.0981 - true_positives_5: 24018.5977 - val_loss: 0.2858 - val_acc: 0.8796 - val_auc_5: 0.9247 - val_false_negatives_9: 4316.7910 - val_recall_5: 0.8846 - val_precision_5: 0.8237 - val_false_negatives_10: 4316.7910 - val_true_negatives_5: 30339.4609 - val_false_positives_5: 7084.6997 - val_true_positives_5: 33095.0234 - lr: 0.0010\n",
            "Epoch 3/100\n",
            "1969/1969 [==============================] - 14s 7ms/step - loss: 0.2640 - acc: 0.8940 - auc_5: 0.9317 - false_negatives_9: 5001.9214 - recall_5: 0.8937 - precision_5: 0.8309 - false_negatives_10: 5001.9214 - true_negatives_5: 38746.7109 - false_positives_5: 8566.9883 - true_positives_5: 42204.4219 - val_loss: 0.2672 - val_acc: 0.8996 - val_auc_5: 0.9368 - val_false_negatives_9: 5777.8784 - val_recall_5: 0.8988 - val_precision_5: 0.8391 - val_false_negatives_10: 5777.8784 - val_true_negatives_5: 47287.2344 - val_false_positives_5: 9839.9189 - val_true_positives_5: 51310.9062 - lr: 0.0010\n",
            "Epoch 4/100\n",
            "1969/1969 [==============================] - 14s 7ms/step - loss: 0.2483 - acc: 0.9015 - auc_5: 0.9407 - false_negatives_9: 6526.1421 - recall_5: 0.9023 - precision_5: 0.8454 - false_negatives_10: 6526.1421 - true_negatives_5: 55964.7227 - false_positives_5: 11025.1572 - true_positives_5: 60383.9023 - val_loss: 0.2505 - val_acc: 0.9073 - val_auc_5: 0.9438 - val_false_negatives_9: 7250.9717 - val_recall_5: 0.9055 - val_precision_5: 0.8504 - val_false_negatives_10: 7250.9717 - val_true_negatives_5: 64600.6094 - val_false_positives_5: 12229.5273 - val_true_positives_5: 69514.8359 - lr: 0.0010\n",
            "Epoch 5/100\n",
            "1969/1969 [==============================] - 14s 7ms/step - loss: 0.2365 - acc: 0.9080 - auc_5: 0.9464 - false_negatives_9: 7942.3330 - recall_5: 0.9082 - precision_5: 0.8547 - false_negatives_10: 7942.3330 - true_negatives_5: 73344.2734 - false_positives_5: 13355.5176 - true_positives_5: 78637.7578 - val_loss: 0.2358 - val_acc: 0.9072 - val_auc_5: 0.9486 - val_false_negatives_9: 8564.4932 - val_recall_5: 0.9112 - val_precision_5: 0.8580 - val_false_negatives_10: 8564.4932 - val_true_negatives_5: 81994.8828 - val_false_positives_5: 14538.2715 - val_true_positives_5: 87878.3047 - lr: 0.0010\n",
            "Epoch 6/100\n",
            "1969/1969 [==============================] - 15s 7ms/step - loss: 0.2286 - acc: 0.9096 - auc_5: 0.9505 - false_negatives_9: 9210.2520 - recall_5: 0.9132 - precision_5: 0.8605 - false_negatives_10: 9210.2520 - true_negatives_5: 90726.7344 - false_positives_5: 15714.8320 - true_positives_5: 97008.0312 - val_loss: 0.2477 - val_acc: 0.8975 - val_auc_5: 0.9521 - val_false_negatives_9: 9811.1318 - val_recall_5: 0.9155 - val_precision_5: 0.8628 - val_false_negatives_10: 9811.1318 - val_true_negatives_5: 99328.2812 - val_false_positives_5: 16907.8438 - val_true_positives_5: 106308.7031 - lr: 0.0010\n",
            "Epoch 7/100\n",
            "1969/1969 [==============================] - 14s 7ms/step - loss: 0.2211 - acc: 0.9124 - auc_5: 0.9535 - false_negatives_9: 10393.0820 - recall_5: 0.9175 - precision_5: 0.8646 - false_negatives_10: 10393.0820 - true_negatives_5: 107954.2812 - false_positives_5: 18094.0391 - true_positives_5: 115598.4531 - val_loss: 0.2366 - val_acc: 0.9044 - val_auc_5: 0.9547 - val_false_negatives_9: 11002.3877 - val_recall_5: 0.9190 - val_precision_5: 0.8663 - val_false_negatives_10: 11002.3877 - val_true_negatives_5: 116679.6562 - val_false_positives_5: 19259.4766 - val_true_positives_5: 124794.5000 - lr: 0.0010\n",
            "Epoch 8/100\n",
            "1969/1969 [==============================] - 14s 7ms/step - loss: 0.2151 - acc: 0.9154 - auc_5: 0.9558 - false_negatives_9: 11586.8281 - recall_5: 0.9204 - precision_5: 0.8679 - false_negatives_10: 11586.8281 - true_negatives_5: 125444.6250 - false_positives_5: 20388.2090 - true_positives_5: 134000.2031 - val_loss: 0.2476 - val_acc: 0.9046 - val_auc_5: 0.9568 - val_false_negatives_9: 12277.3916 - val_recall_5: 0.9210 - val_precision_5: 0.8700 - val_false_negatives_10: 12277.3916 - val_true_negatives_5: 134237.1875 - val_false_positives_5: 21404.9902 - val_true_positives_5: 143196.3750 - lr: 0.0010\n",
            "Epoch 9/100\n",
            "1969/1969 [==============================] - 14s 7ms/step - loss: 0.2102 - acc: 0.9177 - auc_5: 0.9577 - false_negatives_9: 12972.8955 - recall_5: 0.9215 - precision_5: 0.8719 - false_negatives_10: 12972.8955 - true_negatives_5: 143111.0156 - false_positives_5: 22369.2227 - true_positives_5: 152346.7500 - val_loss: 0.2097 - val_acc: 0.9214 - val_auc_5: 0.9585 - val_false_negatives_9: 13563.9414 - val_recall_5: 0.9226 - val_precision_5: 0.8735 - val_false_negatives_10: 13563.9414 - val_true_negatives_5: 151951.8125 - val_false_positives_5: 23393.3672 - val_true_positives_5: 161586.9531 - lr: 0.0010\n",
            "Epoch 10/100\n",
            "1969/1969 [==============================] - 14s 7ms/step - loss: 0.2057 - acc: 0.9189 - auc_5: 0.9594 - false_negatives_9: 14148.4648 - recall_5: 0.9235 - precision_5: 0.8750 - false_negatives_10: 14148.4648 - true_negatives_5: 160817.0312 - false_positives_5: 24394.2773 - true_positives_5: 170819.9688 - val_loss: 0.2322 - val_acc: 0.9109 - val_auc_5: 0.9601 - val_false_negatives_9: 14812.8008 - val_recall_5: 0.9240 - val_precision_5: 0.8765 - val_false_negatives_10: 14812.8008 - val_true_negatives_5: 169687.4219 - val_false_positives_5: 25360.7148 - val_true_positives_5: 180014.9219 - lr: 0.0010\n",
            "Epoch 11/100\n",
            "1969/1969 [==============================] - 14s 7ms/step - loss: 0.2013 - acc: 0.9203 - auc_5: 0.9608 - false_negatives_9: 15470.6836 - recall_5: 0.9244 - precision_5: 0.8779 - false_negatives_10: 15470.6836 - true_negatives_5: 178617.7656 - false_positives_5: 26300.4121 - true_positives_5: 189171.0938 - val_loss: 0.2041 - val_acc: 0.9212 - val_auc_5: 0.9615 - val_false_negatives_9: 16057.8887 - val_recall_5: 0.9251 - val_precision_5: 0.8791 - val_false_negatives_10: 16057.8887 - val_true_negatives_5: 187462.9688 - val_false_positives_5: 27288.1074 - val_true_positives_5: 198446.8438 - lr: 0.0010\n",
            "Epoch 12/100\n",
            "1969/1969 [==============================] - 14s 7ms/step - loss: 0.1948 - acc: 0.9223 - auc_5: 0.9621 - false_negatives_9: 16638.4746 - recall_5: 0.9258 - precision_5: 0.8803 - false_negatives_10: 16638.4746 - true_negatives_5: 196349.4219 - false_positives_5: 28237.9043 - true_positives_5: 207713.9219 - val_loss: 0.2072 - val_acc: 0.9167 - val_auc_5: 0.9627 - val_false_negatives_9: 17199.5547 - val_recall_5: 0.9266 - val_precision_5: 0.8813 - val_false_negatives_10: 17199.5547 - val_true_negatives_5: 205221.4531 - val_false_positives_5: 29232.7012 - val_true_positives_5: 216982.2812 - lr: 9.0484e-04\n",
            "Epoch 13/100\n",
            "1969/1969 [==============================] - 14s 7ms/step - loss: 0.1911 - acc: 0.9246 - auc_5: 0.9633 - false_negatives_9: 17754.9258 - recall_5: 0.9272 - precision_5: 0.8822 - false_negatives_10: 17754.9258 - true_negatives_5: 214068.8438 - false_positives_5: 30219.4453 - true_positives_5: 226276.6719 - val_loss: 0.2068 - val_acc: 0.9217 - val_auc_5: 0.9639 - val_false_negatives_9: 18293.2129 - val_recall_5: 0.9279 - val_precision_5: 0.8832 - val_false_negatives_10: 18293.2129 - val_true_negatives_5: 223006.6406 - val_false_positives_5: 31150.6309 - val_true_positives_5: 235565.7656 - lr: 8.1873e-04\n",
            "Epoch 14/100\n",
            "1969/1969 [==============================] - 14s 7ms/step - loss: 0.1875 - acc: 0.9255 - auc_5: 0.9644 - false_negatives_9: 18845.9531 - recall_5: 0.9285 - precision_5: 0.8842 - false_negatives_10: 18845.9531 - true_negatives_5: 231972.7656 - false_positives_5: 32064.4141 - true_positives_5: 244816.6250 - val_loss: 0.2119 - val_acc: 0.9210 - val_auc_5: 0.9649 - val_false_negatives_9: 19434.7539 - val_recall_5: 0.9289 - val_precision_5: 0.8851 - val_false_negatives_10: 19434.7539 - val_true_negatives_5: 240889.4844 - val_false_positives_5: 32970.6250 - val_true_positives_5: 254101.1094 - lr: 7.4082e-04\n",
            "Epoch 15/100\n",
            "1969/1969 [==============================] - 14s 7ms/step - loss: 0.1834 - acc: 0.9270 - auc_5: 0.9654 - false_negatives_9: 20015.8418 - recall_5: 0.9294 - precision_5: 0.8861 - false_negatives_10: 20015.8418 - true_negatives_5: 249892.4844 - false_positives_5: 33857.2383 - true_positives_5: 263314.4375 - val_loss: 0.1919 - val_acc: 0.9253 - val_auc_5: 0.9658 - val_false_negatives_9: 20548.1504 - val_recall_5: 0.9299 - val_precision_5: 0.8869 - val_false_negatives_10: 20548.1504 - val_true_negatives_5: 258794.2812 - val_false_positives_5: 34768.9336 - val_true_positives_5: 272664.5312 - lr: 6.7032e-04\n",
            "Epoch 16/100\n",
            "1969/1969 [==============================] - 14s 7ms/step - loss: 0.1809 - acc: 0.9279 - auc_5: 0.9663 - false_negatives_9: 21079.2207 - recall_5: 0.9304 - precision_5: 0.8877 - false_negatives_10: 21079.2207 - true_negatives_5: 267688.9688 - false_positives_5: 35680.2617 - true_positives_5: 282011.4375 - val_loss: 0.1896 - val_acc: 0.9266 - val_auc_5: 0.9667 - val_false_negatives_9: 21612.4355 - val_recall_5: 0.9309 - val_precision_5: 0.8885 - val_false_negatives_10: 21612.4355 - val_true_negatives_5: 276705.0312 - val_false_positives_5: 36561.1211 - val_true_positives_5: 291277.4688 - lr: 6.0653e-04\n",
            "Epoch 17/100\n",
            "1969/1969 [==============================] - 14s 7ms/step - loss: 0.1773 - acc: 0.9295 - auc_5: 0.9672 - false_negatives_9: 22131.9004 - recall_5: 0.9314 - precision_5: 0.8893 - false_negatives_10: 22131.9004 - true_negatives_5: 285728.5000 - false_positives_5: 37418.5039 - true_positives_5: 300560.8438 - val_loss: 0.1884 - val_acc: 0.9274 - val_auc_5: 0.9675 - val_false_negatives_9: 22662.4141 - val_recall_5: 0.9319 - val_precision_5: 0.8900 - val_false_negatives_10: 22662.4141 - val_true_negatives_5: 294660.1250 - val_false_positives_5: 38308.9336 - val_true_positives_5: 309904.5000 - lr: 5.4881e-04\n",
            "Epoch 18/100\n",
            "1969/1969 [==============================] - 14s 7ms/step - loss: 0.1760 - acc: 0.9296 - auc_5: 0.9679 - false_negatives_9: 23199.6875 - recall_5: 0.9322 - precision_5: 0.8907 - false_negatives_10: 23199.6875 - true_negatives_5: 303676.8438 - false_positives_5: 39161.0430 - true_positives_5: 319182.2812 - val_loss: 0.1924 - val_acc: 0.9275 - val_auc_5: 0.9683 - val_false_negatives_9: 23727.5469 - val_recall_5: 0.9326 - val_precision_5: 0.8914 - val_false_negatives_10: 23727.5469 - val_true_negatives_5: 312644.9062 - val_false_positives_5: 40027.3008 - val_true_positives_5: 328516.1562 - lr: 4.9659e-04\n",
            "Epoch 19/100\n",
            "1969/1969 [==============================] - 15s 8ms/step - loss: 0.1737 - acc: 0.9304 - auc_5: 0.9686 - false_negatives_9: 24260.8340 - recall_5: 0.9330 - precision_5: 0.8921 - false_negatives_10: 24260.8340 - true_negatives_5: 321634.2188 - false_positives_5: 40868.6484 - true_positives_5: 337836.2500 - val_loss: 0.1892 - val_acc: 0.9266 - val_auc_5: 0.9689 - val_false_negatives_9: 24762.9844 - val_recall_5: 0.9334 - val_precision_5: 0.8926 - val_false_negatives_10: 24762.9844 - val_true_negatives_5: 330612.0938 - val_false_positives_5: 41763.0977 - val_true_positives_5: 347157.8438 - lr: 4.4933e-04\n",
            "Epoch 20/100\n",
            "1969/1969 [==============================] - 14s 7ms/step - loss: 0.1708 - acc: 0.9319 - auc_5: 0.9693 - false_negatives_9: 25249.6250 - recall_5: 0.9339 - precision_5: 0.8932 - false_negatives_10: 25249.6250 - true_negatives_5: 339587.4062 - false_positives_5: 42617.9922 - true_positives_5: 356524.6562 - val_loss: 0.1872 - val_acc: 0.9280 - val_auc_5: 0.9696 - val_false_negatives_9: 25766.0879 - val_recall_5: 0.9342 - val_precision_5: 0.8938 - val_false_negatives_10: 25766.0879 - val_true_negatives_5: 348600.6562 - val_false_positives_5: 43477.4609 - val_true_positives_5: 365831.4688 - lr: 4.0657e-04\n",
            "Epoch 21/100\n",
            "1969/1969 [==============================] - 14s 7ms/step - loss: 0.1687 - acc: 0.9320 - auc_5: 0.9699 - false_negatives_9: 26269.5703 - recall_5: 0.9346 - precision_5: 0.8943 - false_negatives_10: 26269.5703 - true_negatives_5: 357627.4688 - false_positives_5: 44315.8242 - true_positives_5: 375146.8125 - val_loss: 0.1840 - val_acc: 0.9285 - val_auc_5: 0.9702 - val_false_negatives_9: 26779.3066 - val_recall_5: 0.9349 - val_precision_5: 0.8949 - val_false_negatives_10: 26779.3066 - val_true_negatives_5: 366613.7812 - val_false_positives_5: 45167.3672 - val_true_positives_5: 384495.5312 - lr: 3.6788e-04\n",
            "Epoch 22/100\n",
            "1969/1969 [==============================] - 14s 7ms/step - loss: 0.1671 - acc: 0.9327 - auc_5: 0.9704 - false_negatives_9: 27298.1992 - recall_5: 0.9352 - precision_5: 0.8954 - false_negatives_10: 27298.1992 - true_negatives_5: 375609.8125 - false_positives_5: 45999.6719 - true_positives_5: 393832.2500 - val_loss: 0.1899 - val_acc: 0.9286 - val_auc_5: 0.9707 - val_false_negatives_9: 27791.2188 - val_recall_5: 0.9355 - val_precision_5: 0.8959 - val_false_negatives_10: 27791.2188 - val_true_negatives_5: 384649.7812 - val_false_positives_5: 46834.2969 - val_true_positives_5: 403160.6875 - lr: 3.3287e-04\n",
            "Epoch 23/100\n",
            "1969/1969 [==============================] - 14s 7ms/step - loss: 0.1658 - acc: 0.9339 - auc_5: 0.9710 - false_negatives_9: 28286.7266 - recall_5: 0.9358 - precision_5: 0.8965 - false_negatives_10: 28286.7266 - true_negatives_5: 393711.8438 - false_positives_5: 47639.2578 - true_positives_5: 412481.9688 - val_loss: 0.1866 - val_acc: 0.9247 - val_auc_5: 0.9712 - val_false_negatives_9: 28764.6504 - val_recall_5: 0.9362 - val_precision_5: 0.8968 - val_false_negatives_10: 28764.6504 - val_true_negatives_5: 402661.7188 - val_false_positives_5: 48525.1758 - val_true_positives_5: 421864.0625 - lr: 3.0119e-04\n",
            "Epoch 24/100\n",
            "1969/1969 [==============================] - 14s 7ms/step - loss: 0.1650 - acc: 0.9335 - auc_5: 0.9715 - false_negatives_9: 29250.4062 - recall_5: 0.9365 - precision_5: 0.8973 - false_negatives_10: 29250.4062 - true_negatives_5: 411621.7188 - false_positives_5: 49370.5391 - true_positives_5: 431256.9688 - val_loss: 0.1836 - val_acc: 0.9292 - val_auc_5: 0.9717 - val_false_negatives_9: 29753.3105 - val_recall_5: 0.9367 - val_precision_5: 0.8977 - val_false_negatives_10: 29753.3105 - val_true_negatives_5: 420684.0000 - val_false_positives_5: 50205.9805 - val_true_positives_5: 440552.4688 - lr: 2.7253e-04\n",
            "Epoch 25/100\n",
            "1969/1969 [==============================] - 14s 7ms/step - loss: 0.1634 - acc: 0.9338 - auc_5: 0.9719 - false_negatives_9: 30265.8691 - recall_5: 0.9370 - precision_5: 0.8981 - false_negatives_10: 30265.8691 - true_negatives_5: 429670.3438 - false_positives_5: 51033.4180 - true_positives_5: 449910.4375 - val_loss: 0.1811 - val_acc: 0.9293 - val_auc_5: 0.9722 - val_false_negatives_9: 30765.6602 - val_recall_5: 0.9372 - val_precision_5: 0.8986 - val_false_negatives_10: 30765.6602 - val_true_negatives_5: 438759.7188 - val_false_positives_5: 51833.3555 - val_true_positives_5: 459217.3438 - lr: 2.4660e-04\n",
            "Epoch 26/100\n",
            "1969/1969 [==============================] - 14s 7ms/step - loss: 0.1630 - acc: 0.9347 - auc_5: 0.9724 - false_negatives_9: 31271.4238 - recall_5: 0.9374 - precision_5: 0.8990 - false_negatives_10: 31271.4238 - true_negatives_5: 447847.5625 - false_positives_5: 52631.8750 - true_positives_5: 468508.9688 - val_loss: 0.1801 - val_acc: 0.9299 - val_auc_5: 0.9726 - val_false_negatives_9: 31742.3105 - val_recall_5: 0.9377 - val_precision_5: 0.8994 - val_false_negatives_10: 31742.3105 - val_true_negatives_5: 456826.0625 - val_false_positives_5: 53469.9062 - val_true_positives_5: 477917.4062 - lr: 2.2313e-04\n",
            "Epoch 27/100\n",
            "1969/1969 [==============================] - 14s 7ms/step - loss: 0.1620 - acc: 0.9351 - auc_5: 0.9728 - false_negatives_9: 32221.1406 - recall_5: 0.9380 - precision_5: 0.8998 - false_negatives_10: 32221.1406 - true_negatives_5: 465859.3438 - false_positives_5: 54286.5859 - true_positives_5: 487272.6562 - val_loss: 0.1792 - val_acc: 0.9297 - val_auc_5: 0.9730 - val_false_negatives_9: 32691.6094 - val_recall_5: 0.9382 - val_precision_5: 0.9001 - val_false_negatives_10: 32691.6094 - val_true_negatives_5: 474881.3438 - val_false_positives_5: 55117.8242 - val_true_positives_5: 496645.2188 - lr: 2.0190e-04\n",
            "Epoch 28/100\n",
            "1969/1969 [==============================] - 14s 7ms/step - loss: 0.1600 - acc: 0.9359 - auc_5: 0.9731 - false_negatives_9: 33170.9258 - recall_5: 0.9385 - precision_5: 0.9004 - false_negatives_10: 33170.9258 - true_negatives_5: 483892.4062 - false_positives_5: 55945.0469 - true_positives_5: 506011.2812 - val_loss: 0.1828 - val_acc: 0.9286 - val_auc_5: 0.9733 - val_false_negatives_9: 33638.0586 - val_recall_5: 0.9387 - val_precision_5: 0.9008 - val_false_negatives_10: 33638.0586 - val_true_negatives_5: 492952.6562 - val_false_positives_5: 56749.2344 - val_true_positives_5: 515375.9062 - lr: 1.8268e-04\n",
            "Epoch 29/100\n",
            "1969/1969 [==============================] - 14s 7ms/step - loss: 0.1602 - acc: 0.9354 - auc_5: 0.9735 - false_negatives_9: 34131.2305 - recall_5: 0.9389 - precision_5: 0.9011 - false_negatives_10: 34131.2305 - true_negatives_5: 502005.4688 - false_positives_5: 57564.7422 - true_positives_5: 524698.5625 - val_loss: 0.1831 - val_acc: 0.9303 - val_auc_5: 0.9737 - val_false_negatives_9: 34619.9609 - val_recall_5: 0.9391 - val_precision_5: 0.9015 - val_false_negatives_10: 34619.9609 - val_true_negatives_5: 511048.7812 - val_false_positives_5: 58356.3828 - val_true_positives_5: 534070.6875 - lr: 1.6530e-04\n",
            "Epoch 30/100\n",
            "1969/1969 [==============================] - 14s 7ms/step - loss: 0.1596 - acc: 0.9351 - auc_5: 0.9738 - false_negatives_9: 35107.0000 - recall_5: 0.9393 - precision_5: 0.9018 - false_negatives_10: 35107.0000 - true_negatives_5: 520072.5625 - false_positives_5: 59167.3984 - true_positives_5: 543432.8750 - val_loss: 0.1792 - val_acc: 0.9297 - val_auc_5: 0.9740 - val_false_negatives_9: 35587.8828 - val_recall_5: 0.9395 - val_precision_5: 0.9021 - val_false_negatives_10: 35587.8828 - val_true_negatives_5: 529122.8125 - val_false_positives_5: 59985.0938 - val_true_positives_5: 552780.1250 - lr: 1.4957e-04\n",
            "Epoch 31/100\n",
            "1969/1969 [==============================] - 14s 7ms/step - loss: 0.1587 - acc: 0.9363 - auc_5: 0.9742 - false_negatives_9: 36071.4297 - recall_5: 0.9397 - precision_5: 0.9024 - false_negatives_10: 36071.4297 - true_negatives_5: 538205.0625 - false_positives_5: 60782.5039 - true_positives_5: 562100.4375 - val_loss: 0.1795 - val_acc: 0.9292 - val_auc_5: 0.9743 - val_false_negatives_9: 36542.9258 - val_recall_5: 0.9399 - val_precision_5: 0.9027 - val_false_negatives_10: 36542.9258 - val_true_negatives_5: 547218.6250 - val_false_positives_5: 61592.2578 - val_true_positives_5: 571501.7500 - lr: 1.3534e-04\n",
            "Epoch 32/100\n",
            "1969/1969 [==============================] - 14s 7ms/step - loss: 0.1579 - acc: 0.9367 - auc_5: 0.9745 - false_negatives_9: 37031.4805 - recall_5: 0.9401 - precision_5: 0.9030 - false_negatives_10: 37031.4805 - true_negatives_5: 556326.3750 - false_positives_5: 62384.0156 - true_positives_5: 580797.6875 - val_loss: 0.1792 - val_acc: 0.9298 - val_auc_5: 0.9746 - val_false_negatives_9: 37503.9609 - val_recall_5: 0.9403 - val_precision_5: 0.9033 - val_false_negatives_10: 37503.9609 - val_true_negatives_5: 565332.5000 - val_false_positives_5: 63181.8242 - val_true_positives_5: 590217.9375 - lr: 1.2246e-04\n",
            "finish training lstm model\n"
          ],
          "name": "stdout"
        }
      ]
    },
    {
      "cell_type": "code",
      "metadata": {
        "id": "E-KQYZ5ng7V1",
        "colab_type": "code",
        "outputId": "a5fb1f31-35e7-42ab-d3b7-2890d07dd21c",
        "colab": {
          "base_uri": "https://localhost:8080/",
          "height": 255
        }
      },
      "source": [
        "lstm_model.summary()\n",
        "lstm_model.save(\"/content/drive/My Drive/636project/model_improved_lstm.h5\")"
      ],
      "execution_count": 52,
      "outputs": [
        {
          "output_type": "stream",
          "text": [
            "Model: \"sequential_4\"\n",
            "_________________________________________________________________\n",
            "Layer (type)                 Output Shape              Param #   \n",
            "=================================================================\n",
            "lstm_4 (LSTM)                (None, 1, 16)             5120      \n",
            "_________________________________________________________________\n",
            "lstm_5 (LSTM)                (None, 16)                2112      \n",
            "_________________________________________________________________\n",
            "dense_6 (Dense)              (None, 1)                 17        \n",
            "=================================================================\n",
            "Total params: 7,249\n",
            "Trainable params: 7,249\n",
            "Non-trainable params: 0\n",
            "_________________________________________________________________\n"
          ],
          "name": "stdout"
        }
      ]
    },
    {
      "cell_type": "code",
      "metadata": {
        "id": "TB-7RM66Yp7w",
        "colab_type": "code",
        "colab": {}
      },
      "source": [
        "# plotting the results\n",
        "\n",
        "import matplotlib.pyplot as plt\n",
        "\n",
        "def plotting_training(history):\n",
        "  # Plot training & validation accuracy values\n",
        "  plt.plot(history.history['acc'])\n",
        "  plt.plot(history.history['val_acc'])\n",
        "  plt.title('Model accuracy')\n",
        "  plt.ylabel('Accuracy')\n",
        "  plt.xlabel('Epoch')\n",
        "  plt.legend(['Train', 'Test'], loc='upper left')\n",
        "  plt.show()\n",
        "  # Plot training & validation loss values\n",
        "  loss = history.history['loss']\n",
        "  val_loss = history.history['val_loss']\n",
        "  epochs = range(1, len(loss) + 1)\n",
        "  plt.figure()\n",
        "  plt.plot(epochs, loss, 'bo', label=\"Training loss\")\n",
        "  plt.plot(epochs, val_loss, 'b', label='Validation loss')\n",
        "  plt.title('Training and validation loss')\n",
        "  plt.xlabel('epoch', fontsize=10)\n",
        "  plt.ylabel('loss', fontsize=10)\n",
        "  plt.ylim(0.0,0.5)\n",
        "  plt.legend()\n",
        "  plt.show()"
      ],
      "execution_count": 0,
      "outputs": []
    },
    {
      "cell_type": "code",
      "metadata": {
        "id": "ziJTzntiE9SM",
        "colab_type": "code",
        "outputId": "b8df26d4-00fe-42d9-e2bf-8c870467ec06",
        "colab": {
          "base_uri": "https://localhost:8080/",
          "height": 573
        }
      },
      "source": [
        "plotting_training(lstm_history)"
      ],
      "execution_count": 54,
      "outputs": [
        {
          "output_type": "display_data",
          "data": {
            "image/png": "[encoded data removed]",
            "text/plain": [
              "<Figure size 432x288 with 1 Axes>"
            ]
          },
          "metadata": {
            "tags": [],
            "needs_background": "light"
          }
        },
        {
          "output_type": "display_data",
          "data": {
            "image/png": "[encoded data removed]",
            "text/plain": [
              "<Figure size 432x288 with 1 Axes>"
            ]
          },
          "metadata": {
            "tags": [],
            "needs_background": "light"
          }
        }
      ]
    },
    {
      "cell_type": "code",
      "metadata": {
        "id": "QdyJtNbDxV0x",
        "colab_type": "code",
        "outputId": "9892e9af-c24a-4ddc-dbc8-eb7a9971c9cb",
        "colab": {
          "base_uri": "https://localhost:8080/",
          "height": 71
        }
      },
      "source": [
        "# test \n",
        "# for lstm\n",
        "x_test = []\n",
        "y_test = []\n",
        "\n",
        "for record in train_data:\n",
        "  x_test.append(record[1:])\n",
        "  label = int(record[0])\n",
        "  y_test.append(label) \n",
        "\n",
        "x_test = array(x_test)\n",
        "x_test = x_test.reshape((len(x_test), 1, len(x_test[0])))\n",
        "\n",
        "y_test = array(y_test)\n",
        "\n",
        "test_score = lstm_model.evaluate(x_test, y_test)\n",
        "print(test_score)"
      ],
      "execution_count": 55,
      "outputs": [
        {
          "output_type": "stream",
          "text": [
            "1231/1231 [==============================] - 5s 4ms/step - loss: 0.1628 - acc: 0.9348 - auc_5: 0.9748 - false_negatives_9: 38168.7539 - recall_5: 0.9403 - precision_5: 0.9037 - false_negatives_10: 38168.7539 - true_negatives_5: 576324.6875 - false_positives_5: 64064.6641 - true_positives_5: 601313.5625\n",
            "[0.1628316342830658, 0.93478924036026, 0.9747593998908997, 38168.75390625, 0.9403020739555359, 0.9037158489227295, 38168.75390625, 576324.6875, 64064.6640625, 601313.5625]\n"
          ],
          "name": "stdout"
        }
      ]
    },
    {
      "cell_type": "code",
      "metadata": {
        "id": "525FNc0f5Hj9",
        "colab_type": "code",
        "outputId": "99a9ff3a-78c1-41ff-e6a5-14b104db7869",
        "colab": {
          "base_uri": "https://localhost:8080/",
          "height": 734
        }
      },
      "source": [
        "# solution 2: train model using CNN\n",
        "from tensorflow.keras.models import Sequential\n",
        "from tensorflow.keras.layers import Dense, Conv2D, Flatten, MaxPooling2D\n",
        "\n",
        "def scheduler(epoch):\n",
        "  if epoch < 10:\n",
        "    return 0.001\n",
        "  else:\n",
        "    return 0.001 * np.exp(0.1 * (10 - epoch))\n",
        "\n",
        "x_train = []\n",
        "y_train = []\n",
        "\n",
        "for record in train_data:\n",
        "  x_train.append(record[1:])\n",
        "  label = int(record[0])\n",
        "  y_train.append(label) \n",
        "\n",
        "def train_cnn_model(x_train, y_train):\n",
        "  x_train = array(x_train)\n",
        "  x_train = x_train.reshape((len(x_train), 3, int(len(x_train[0])/3), 1))\n",
        "\n",
        "  y_train = array(y_train)\n",
        "\n",
        "  #create model\n",
        "  cnn_model = Sequential()\n",
        "  cnn_model.add(Conv2D(64, \n",
        "                  kernel_size=3, \n",
        "                  activation='relu', \n",
        "                  input_shape=(3,21,1), \n",
        "                  padding='same'))\n",
        "  cnn_model.add(layers.BatchNormalization(1))\n",
        "  cnn_model.add(Conv2D(64, \n",
        "                  kernel_size=3, \n",
        "                  activation='relu', \n",
        "                  padding='same'))\n",
        "  cnn_model.add(layers.BatchNormalization(1))\n",
        "  cnn_model.add(MaxPooling2D(2,2))\n",
        "  cnn_model.add(Flatten())\n",
        "  cnn_model.add(Dense(512, activation = 'relu')) \n",
        "  cnn_model.add(Dense(1, activation='sigmoid'))\n",
        "\n",
        "  # compile and fit\n",
        "  cnn_model.compile(optimizer='Adam',\n",
        "                loss='binary_crossentropy',\n",
        "                metrics=['acc', \n",
        "                        metrics.AUC(), \n",
        "                        metrics.FalseNegatives(),\n",
        "                        metrics.Recall(),\n",
        "                        metrics.Precision(),\n",
        "                        metrics.FalseNegatives(),\n",
        "                        metrics.TrueNegatives(),\n",
        "                        metrics.FalsePositives(),\n",
        "                        metrics.TruePositives()])\n",
        "  cnn_history = cnn_model.fit(x_train, y_train,\n",
        "                      epochs=100,\n",
        "                      batch_size=16,\n",
        "                      validation_split=0.2,\n",
        "                      callbacks=[callbacks.EarlyStopping(monitor='val_loss', patience=5),\n",
        "                      callbacks.LearningRateScheduler(scheduler)])\n",
        "    \n",
        "  print(\"finish training cnn model\")\n",
        "  return cnn_model, cnn_history\n",
        "\n",
        "\n",
        "cnn_model, cnn_history = train_cnn_model(x_train, y_train)"
      ],
      "execution_count": 56,
      "outputs": [
        {
          "output_type": "stream",
          "text": [
            "Epoch 1/100\n",
            "1969/1969 [==============================] - 11s 5ms/step - loss: 0.2714 - acc: 0.8856 - auc_6: 0.9124 - false_negatives_11: 917.2113 - recall_6: 0.8593 - precision_6: 0.8282 - false_negatives_12: 917.2113 - true_negatives_6: 6678.1650 - false_positives_6: 1209.9467 - true_positives_6: 6954.6768 - val_loss: 0.1980 - val_acc: 0.9222 - val_auc_6: 0.9579 - val_false_negatives_11: 1649.4767 - val_recall_6: 0.9069 - val_precision_6: 0.8769 - val_false_negatives_12: 1649.4767 - val_true_negatives_6: 15465.4805 - val_false_positives_6: 2255.6794 - val_true_positives_6: 16085.3389 - lr: 0.0010\n",
            "Epoch 2/100\n",
            "1969/1969 [==============================] - 10s 5ms/step - loss: 0.1729 - acc: 0.9308 - auc_6: 0.9658 - false_negatives_11: 2229.6150 - recall_6: 0.9183 - precision_6: 0.8897 - false_negatives_12: 2229.6150 - true_negatives_6: 24455.9785 - false_positives_6: 3116.7908 - true_positives_6: 25337.5898 - val_loss: 0.1680 - val_acc: 0.9327 - val_auc_6: 0.9710 - val_false_negatives_11: 2724.0466 - val_recall_6: 0.9272 - val_precision_6: 0.8979 - val_false_negatives_12: 2724.0466 - val_true_negatives_6: 33480.9102 - val_false_positives_6: 3943.2515 - val_true_positives_6: 34687.7656 - lr: 0.0010\n",
            "Epoch 3/100\n",
            "1969/1969 [==============================] - 10s 5ms/step - loss: 0.1402 - acc: 0.9414 - auc_6: 0.9744 - false_negatives_11: 3163.3774 - recall_6: 0.9328 - precision_6: 0.9034 - false_negatives_12: 3163.3774 - true_negatives_6: 42553.5000 - false_positives_6: 4705.2280 - true_positives_6: 44097.9531 - val_loss: 0.1662 - val_acc: 0.9331 - val_auc_6: 0.9769 - val_false_negatives_11: 3552.1338 - val_recall_6: 0.9378 - val_precision_6: 0.9070 - val_false_negatives_12: 3552.1338 - val_true_negatives_6: 51640.1680 - val_false_positives_6: 5486.9839 - val_true_positives_6: 53536.6719 - lr: 0.0010\n",
            "Epoch 4/100\n",
            "1969/1969 [==============================] - 10s 5ms/step - loss: 0.1216 - acc: 0.9490 - auc_6: 0.9788 - false_negatives_11: 3879.4470 - recall_6: 0.9419 - precision_6: 0.9100 - false_negatives_12: 3879.4470 - true_negatives_6: 60753.7773 - false_positives_6: 6224.4688 - true_positives_6: 63042.2734 - val_loss: 0.1515 - val_acc: 0.9377 - val_auc_6: 0.9804 - val_false_negatives_11: 4178.8843 - val_recall_6: 0.9456 - val_precision_6: 0.9124 - val_false_negatives_12: 4178.8843 - val_true_negatives_6: 69857.7500 - val_false_positives_6: 6972.4238 - val_true_positives_6: 72586.9141 - lr: 0.0010\n",
            "Epoch 5/100\n",
            "1969/1969 [==============================] - 10s 5ms/step - loss: 0.1093 - acc: 0.9533 - auc_6: 0.9817 - false_negatives_11: 4445.9028 - recall_6: 0.9486 - precision_6: 0.9143 - false_negatives_12: 4445.9028 - true_negatives_6: 79017.3438 - false_positives_6: 7693.1426 - true_positives_6: 82123.5859 - val_loss: 0.1408 - val_acc: 0.9405 - val_auc_6: 0.9828 - val_false_negatives_11: 4674.3813 - val_recall_6: 0.9515 - val_precision_6: 0.9159 - val_false_negatives_12: 4674.3813 - val_true_negatives_6: 88103.0391 - val_false_positives_6: 8430.1035 - val_true_positives_6: 91768.4531 - lr: 0.0010\n",
            "Epoch 6/100\n",
            "1969/1969 [==============================] - 10s 5ms/step - loss: 0.1006 - acc: 0.9571 - auc_6: 0.9837 - false_negatives_11: 4874.0547 - recall_6: 0.9541 - precision_6: 0.9171 - false_negatives_12: 4874.0547 - true_negatives_6: 97253.1016 - false_positives_6: 9155.4395 - true_positives_6: 101377.3047 - val_loss: 0.0999 - val_acc: 0.9570 - val_auc_6: 0.9847 - val_false_negatives_11: 5060.2290 - val_recall_6: 0.9564 - val_precision_6: 0.9189 - val_false_negatives_12: 5060.2290 - val_true_negatives_6: 106433.5312 - val_false_positives_6: 9802.6387 - val_true_positives_6: 111059.5391 - lr: 0.0010\n",
            "Epoch 7/100\n",
            "1969/1969 [==============================] - 11s 5ms/step - loss: 0.0955 - acc: 0.9586 - auc_6: 0.9855 - false_negatives_11: 5239.3696 - recall_6: 0.9584 - precision_6: 0.9204 - false_negatives_12: 5239.3696 - true_negatives_6: 115646.9375 - false_positives_6: 10440.5889 - true_positives_6: 120712.9844 - val_loss: 0.1131 - val_acc: 0.9514 - val_auc_6: 0.9861 - val_false_negatives_11: 5446.1763 - val_recall_6: 0.9599 - val_precision_6: 0.9217 - val_false_negatives_12: 5446.1763 - val_true_negatives_6: 124859.0469 - val_false_positives_6: 11080.0908 - val_true_positives_6: 130350.7031 - lr: 0.0010\n",
            "Epoch 8/100\n",
            "1969/1969 [==============================] - 10s 5ms/step - loss: 0.0872 - acc: 0.9617 - auc_6: 0.9867 - false_negatives_11: 5615.4927 - recall_6: 0.9614 - precision_6: 0.9228 - false_negatives_12: 5615.4927 - true_negatives_6: 134097.1406 - false_positives_6: 11710.9170 - true_positives_6: 139996.4531 - val_loss: 0.0933 - val_acc: 0.9577 - val_auc_6: 0.9873 - val_false_negatives_11: 5764.6816 - val_recall_6: 0.9629 - val_precision_6: 0.9239 - val_false_negatives_12: 5764.6816 - val_true_negatives_6: 143316.7656 - val_false_positives_6: 12325.4316 - val_true_positives_6: 149709.1875 - lr: 0.0010\n",
            "Epoch 9/100\n",
            "1969/1969 [==============================] - 10s 5ms/step - loss: 0.0847 - acc: 0.9623 - auc_6: 0.9878 - false_negatives_11: 5909.6294 - recall_6: 0.9642 - precision_6: 0.9249 - false_negatives_12: 5909.6294 - true_negatives_6: 152546.7656 - false_positives_6: 12935.1309 - true_positives_6: 159408.3438 - val_loss: 0.1215 - val_acc: 0.9504 - val_auc_6: 0.9882 - val_false_negatives_11: 6059.2798 - val_recall_6: 0.9654 - val_precision_6: 0.9256 - val_false_negatives_12: 6059.2798 - val_true_negatives_6: 161763.1406 - val_false_positives_6: 13582.0449 - val_true_positives_6: 169091.6406 - lr: 0.0010\n",
            "Epoch 10/100\n",
            "1969/1969 [==============================] - 11s 5ms/step - loss: 0.0814 - acc: 0.9630 - auc_6: 0.9886 - false_negatives_11: 6203.0327 - recall_6: 0.9665 - precision_6: 0.9264 - false_negatives_12: 6203.0327 - true_negatives_6: 170998.1562 - false_positives_6: 14202.6162 - true_positives_6: 178776.1875 - val_loss: 0.0963 - val_acc: 0.9573 - val_auc_6: 0.9889 - val_false_negatives_11: 6336.3286 - val_recall_6: 0.9675 - val_precision_6: 0.9270 - val_false_negatives_12: 6336.3286 - val_true_negatives_6: 180215.5312 - val_false_positives_6: 14832.5840 - val_true_positives_6: 188491.5156 - lr: 0.0010\n",
            "Epoch 11/100\n",
            "1969/1969 [==============================] - 11s 6ms/step - loss: 0.0771 - acc: 0.9646 - auc_6: 0.9893 - false_negatives_11: 6456.3071 - recall_6: 0.9684 - precision_6: 0.9277 - false_negatives_12: 6456.3071 - true_negatives_6: 189491.0781 - false_positives_6: 15449.0029 - true_positives_6: 198163.4844 - val_loss: 0.1276 - val_acc: 0.9559 - val_auc_6: 0.9896 - val_false_negatives_11: 6578.7061 - val_recall_6: 0.9693 - val_precision_6: 0.9283 - val_false_negatives_12: 6578.7061 - val_true_negatives_6: 198701.6719 - val_false_positives_6: 16049.5332 - val_true_positives_6: 207926.2031 - lr: 0.0010\n",
            "Epoch 12/100\n",
            "1969/1969 [==============================] - 10s 5ms/step - loss: 0.0734 - acc: 0.9664 - auc_6: 0.9898 - false_negatives_11: 6678.4775 - recall_6: 0.9702 - precision_6: 0.9290 - false_negatives_12: 6678.4775 - true_negatives_6: 207984.9844 - false_positives_6: 16640.2871 - true_positives_6: 217636.1719 - val_loss: 0.0914 - val_acc: 0.9591 - val_auc_6: 0.9901 - val_false_negatives_11: 6763.7158 - val_recall_6: 0.9711 - val_precision_6: 0.9295 - val_false_negatives_12: 6763.7158 - val_true_negatives_6: 217194.0781 - val_false_positives_6: 17260.1602 - val_true_positives_6: 227418.2656 - lr: 9.0484e-04\n",
            "Epoch 13/100\n",
            "1969/1969 [==============================] - 10s 5ms/step - loss: 0.0699 - acc: 0.9668 - auc_6: 0.9904 - false_negatives_11: 6838.7393 - recall_6: 0.9720 - precision_6: 0.9300 - false_negatives_12: 6838.7393 - true_negatives_6: 226444.2812 - false_positives_6: 17852.7871 - true_positives_6: 237184.0625 - val_loss: 0.0897 - val_acc: 0.9614 - val_auc_6: 0.9906 - val_false_negatives_11: 6933.7686 - val_recall_6: 0.9727 - val_precision_6: 0.9305 - val_false_negatives_12: 6933.7686 - val_true_negatives_6: 235713.6406 - val_false_positives_6: 18443.5234 - val_true_positives_6: 246924.9844 - lr: 8.1873e-04\n",
            "Epoch 14/100\n",
            "1969/1969 [==============================] - 10s 5ms/step - loss: 0.0673 - acc: 0.9686 - auc_6: 0.9908 - false_negatives_11: 7003.8955 - recall_6: 0.9734 - precision_6: 0.9310 - false_negatives_12: 7003.8955 - true_negatives_6: 244995.3750 - false_positives_6: 19020.3027 - true_positives_6: 256680.1094 - val_loss: 0.0935 - val_acc: 0.9636 - val_auc_6: 0.9910 - val_false_negatives_11: 7069.8887 - val_recall_6: 0.9742 - val_precision_6: 0.9315 - val_false_negatives_12: 7069.8887 - val_true_negatives_6: 254265.3281 - val_false_positives_6: 19594.8828 - val_true_positives_6: 266465.8750 - lr: 7.4082e-04\n",
            "Epoch 15/100\n",
            "1969/1969 [==============================] - 10s 5ms/step - loss: 0.0655 - acc: 0.9687 - auc_6: 0.9912 - false_negatives_11: 7137.2021 - recall_6: 0.9748 - precision_6: 0.9320 - false_negatives_12: 7137.2021 - true_negatives_6: 263591.5000 - false_positives_6: 20164.6074 - true_positives_6: 276186.5625 - val_loss: 0.0877 - val_acc: 0.9636 - val_auc_6: 0.9914 - val_false_negatives_11: 7210.8926 - val_recall_6: 0.9754 - val_precision_6: 0.9324 - val_false_negatives_12: 7210.8926 - val_true_negatives_6: 272835.6562 - val_false_positives_6: 20727.6094 - val_true_positives_6: 286002.0625 - lr: 6.7032e-04\n",
            "Epoch 16/100\n",
            "1969/1969 [==============================] - 10s 5ms/step - loss: 0.0613 - acc: 0.9703 - auc_6: 0.9916 - false_negatives_11: 7263.4185 - recall_6: 0.9760 - precision_6: 0.9329 - false_negatives_12: 7263.4185 - true_negatives_6: 282116.9688 - false_positives_6: 21273.6562 - true_positives_6: 295805.9062 - val_loss: 0.0960 - val_acc: 0.9620 - val_auc_6: 0.9918 - val_false_negatives_11: 7324.3105 - val_recall_6: 0.9766 - val_precision_6: 0.9333 - val_false_negatives_12: 7324.3105 - val_true_negatives_6: 291426.1250 - val_false_positives_6: 21840.1152 - val_true_positives_6: 305565.4688 - lr: 6.0653e-04\n",
            "Epoch 17/100\n",
            "1969/1969 [==============================] - 10s 5ms/step - loss: 0.0605 - acc: 0.9708 - auc_6: 0.9919 - false_negatives_11: 7373.6621 - recall_6: 0.9771 - precision_6: 0.9337 - false_negatives_12: 7373.6621 - true_negatives_6: 300684.6562 - false_positives_6: 22395.1074 - true_positives_6: 315386.6562 - val_loss: 0.0899 - val_acc: 0.9633 - val_auc_6: 0.9921 - val_false_negatives_11: 7415.5171 - val_recall_6: 0.9777 - val_precision_6: 0.9340 - val_false_negatives_12: 7415.5171 - val_true_negatives_6: 310007.2500 - val_false_positives_6: 22961.7969 - val_true_positives_6: 325151.0312 - lr: 5.4881e-04\n",
            "Epoch 18/100\n",
            "1969/1969 [==============================] - 10s 5ms/step - loss: 0.0595 - acc: 0.9708 - auc_6: 0.9922 - false_negatives_11: 7468.4199 - recall_6: 0.9782 - precision_6: 0.9344 - false_negatives_12: 7468.4199 - true_negatives_6: 319312.5000 - false_positives_6: 23513.0059 - true_positives_6: 334926.3125 - val_loss: 0.0991 - val_acc: 0.9623 - val_auc_6: 0.9924 - val_false_negatives_11: 7524.1035 - val_recall_6: 0.9786 - val_precision_6: 0.9347 - val_false_negatives_12: 7524.1035 - val_true_negatives_6: 328604.6875 - val_false_positives_6: 24067.6328 - val_true_positives_6: 344719.9062 - lr: 4.9659e-04\n",
            "Epoch 19/100\n",
            "1969/1969 [==============================] - 10s 5ms/step - loss: 0.0584 - acc: 0.9713 - auc_6: 0.9925 - false_negatives_11: 7564.6094 - recall_6: 0.9791 - precision_6: 0.9350 - false_negatives_12: 7564.6094 - true_negatives_6: 337915.8750 - false_positives_6: 24637.1836 - true_positives_6: 354482.2500 - val_loss: 0.0920 - val_acc: 0.9628 - val_auc_6: 0.9926 - val_false_negatives_11: 7606.2373 - val_recall_6: 0.9795 - val_precision_6: 0.9353 - val_false_negatives_12: 7606.2373 - val_true_negatives_6: 347191.0625 - val_false_positives_6: 25183.9570 - val_true_positives_6: 364314.6250 - lr: 4.4933e-04\n",
            "Epoch 20/100\n",
            "1969/1969 [==============================] - 10s 5ms/step - loss: 0.0569 - acc: 0.9718 - auc_6: 0.9927 - false_negatives_11: 7641.0386 - recall_6: 0.9800 - precision_6: 0.9357 - false_negatives_12: 7641.0386 - true_negatives_6: 356428.0938 - false_positives_6: 25719.9805 - true_positives_6: 374190.7500 - val_loss: 0.0934 - val_acc: 0.9636 - val_auc_6: 0.9928 - val_false_negatives_11: 7690.6694 - val_recall_6: 0.9804 - val_precision_6: 0.9359 - val_false_negatives_12: 7690.6694 - val_true_negatives_6: 365800.7500 - val_false_positives_6: 26277.3438 - val_true_positives_6: 383907.0625 - lr: 4.0657e-04\n",
            "finish training cnn model\n"
          ],
          "name": "stdout"
        }
      ]
    },
    {
      "cell_type": "code",
      "metadata": {
        "id": "_KQuQbmWhmXA",
        "colab_type": "code",
        "outputId": "00d79965-588c-41d5-967b-ab6026603bfa",
        "colab": {
          "base_uri": "https://localhost:8080/",
          "height": 425
        }
      },
      "source": [
        "cnn_model.summary()\n",
        "cnn_model.save(\"/content/drive/My Drive/636project/model_improved_cnn.h5\")"
      ],
      "execution_count": 57,
      "outputs": [
        {
          "output_type": "stream",
          "text": [
            "Model: \"sequential_5\"\n",
            "_________________________________________________________________\n",
            "Layer (type)                 Output Shape              Param #   \n",
            "=================================================================\n",
            "conv2d_4 (Conv2D)            (None, 3, 21, 64)         640       \n",
            "_________________________________________________________________\n",
            "batch_normalization_4 (Batch (None, 3, 21, 64)         12        \n",
            "_________________________________________________________________\n",
            "conv2d_5 (Conv2D)            (None, 3, 21, 64)         36928     \n",
            "_________________________________________________________________\n",
            "batch_normalization_5 (Batch (None, 3, 21, 64)         12        \n",
            "_________________________________________________________________\n",
            "max_pooling2d_2 (MaxPooling2 (None, 1, 10, 64)         0         \n",
            "_________________________________________________________________\n",
            "flatten_2 (Flatten)          (None, 640)               0         \n",
            "_________________________________________________________________\n",
            "dense_7 (Dense)              (None, 512)               328192    \n",
            "_________________________________________________________________\n",
            "dense_8 (Dense)              (None, 1)                 513       \n",
            "=================================================================\n",
            "Total params: 366,297\n",
            "Trainable params: 366,285\n",
            "Non-trainable params: 12\n",
            "_________________________________________________________________\n"
          ],
          "name": "stdout"
        }
      ]
    },
    {
      "cell_type": "code",
      "metadata": {
        "id": "fQCarP4QiIYb",
        "colab_type": "code",
        "outputId": "66832477-769a-466e-8675-cadc6ac756e0",
        "colab": {
          "base_uri": "https://localhost:8080/",
          "height": 573
        }
      },
      "source": [
        "plotting_training(cnn_history)"
      ],
      "execution_count": 60,
      "outputs": [
        {
          "output_type": "display_data",
          "data": {
            "image/png": "[encoded data removed]",
            "text/plain": [
              "<Figure size 432x288 with 1 Axes>"
            ]
          },
          "metadata": {
            "tags": [],
            "needs_background": "light"
          }
        },
        {
          "output_type": "display_data",
          "data": {
            "image/png": "[encoded data removed]",
            "text/plain": [
              "<Figure size 432x288 with 1 Axes>"
            ]
          },
          "metadata": {
            "tags": [],
            "needs_background": "light"
          }
        }
      ]
    },
    {
      "cell_type": "code",
      "metadata": {
        "id": "GX53NtjDKj-K",
        "colab_type": "code",
        "outputId": "a2cf5a08-623a-4798-ac05-b014cb9d1cf0",
        "colab": {
          "base_uri": "https://localhost:8080/",
          "height": 71
        }
      },
      "source": [
        "# test\n",
        "# for cnn 2d\n",
        "x_test = []\n",
        "y_test = []\n",
        "\n",
        "for record in train_data:\n",
        "  x_test.append(record[1:])\n",
        "  label = int(record[0])\n",
        "  y_test.append(label) \n",
        "\n",
        "x_test = array(x_test)\n",
        "x_test = x_test.reshape((len(x_test), 3, int(len(x_test[0])/3), 1))\n",
        "\n",
        "y_test = array(y_test)\n",
        "\n",
        "test_score = cnn_model.evaluate(x_test, y_test)\n",
        "print(test_score)"
      ],
      "execution_count": 61,
      "outputs": [
        {
          "output_type": "stream",
          "text": [
            "1231/1231 [==============================] - 5s 4ms/step - loss: 0.0658 - acc: 0.9696 - auc_6: 0.9931 - false_negatives_11: 7892.8320 - recall_6: 0.9813 - precision_6: 0.9368 - false_negatives_12: 7892.8320 - true_negatives_6: 395666.2812 - false_positives_6: 27990.5156 - true_positives_6: 415142.2812\n",
            "[0.06575195491313934, 0.9696038365364075, 0.9931049346923828, 7892.83203125, 0.9813387989997864, 0.9368277788162231, 7892.83203125, 395666.28125, 27990.515625, 415142.28125]\n"
          ],
          "name": "stdout"
        }
      ]
    },
    {
      "cell_type": "code",
      "metadata": {
        "id": "s2KreaMDibpd",
        "colab_type": "code",
        "outputId": "6df8db91-8583-40b0-d1a7-c5d670573cd2",
        "colab": {
          "base_uri": "https://localhost:8080/",
          "height": 1000
        }
      },
      "source": [
        "# train the final lstm model with all data (include test data) \n",
        "\n",
        "x_train_final = []\n",
        "y_train_final = []\n",
        "\n",
        "for record in all_data:\n",
        "  x_train_final.append(record[1:])\n",
        "  label = int(record[0])\n",
        "  y_train_final.append(label) \n",
        "\n",
        "final_lstm_model, final_lstm_history = train_lstm_model(x_train_final, y_train_final)\n",
        "\n",
        "final_lstm_model.save(\"/content/drive/My Drive/636project/final_lstm_model.h5\")\n"
      ],
      "execution_count": 62,
      "outputs": [
        {
          "output_type": "stream",
          "text": [
            "x_train.shape (44302, 1, 63)\n",
            "[[0.         0.         0.         0.31425833 0.39526458 0.848046\n",
            "  0.35411667 0.38440833 0.856616   0.38122917 0.44692708 0.835066\n",
            "  0.39037639 0.4904625  0.766041   0.27982778 0.40066875 0.897779\n",
            "  0.26899028 0.47143542 0.869685   0.27075278 0.53120208 0.909985\n",
            "  0.32699028 0.51761458 0.780531   0.35222361 0.51222083 0.751751\n",
            "  0.35588611 0.59926042 0.813303   0.35600694 0.66713125 0.676813\n",
            "  0.310575   0.5283875  0.775684   0.32502361 0.61814792 0.816448\n",
            "  0.3686375  0.69967083 0.798803   0.37040556 0.72955    0.665933\n",
            "  0.3685875  0.72687917 0.674952   0.37764167 0.7051375  0.71871\n",
            "  0.36852778 0.70239583 0.150541   0.36678472 0.6888625  0.144654\n",
            "  0.35773472 0.66709167 0.359352  ]]\n",
            "y_train.shape (44302,)\n",
            "Epoch 1/100\n",
            "2216/2216 [==============================] - 19s 8ms/step - loss: 0.3998 - acc: 0.8166 - auc_7: 0.8421 - false_negatives_13: 1490.9152 - recall_7: 0.7712 - precision_7: 0.7550 - false_negatives_14: 1490.9152 - true_negatives_7: 6609.3247 - false_positives_7: 2201.8110 - true_positives_7: 7433.9424 - val_loss: 0.3275 - val_acc: 0.8587 - val_auc_7: 0.9020 - val_false_negatives_13: 2597.2815 - val_recall_7: 0.8699 - val_precision_7: 0.7930 - val_false_negatives_14: 2597.2815 - val_true_negatives_7: 15392.9336 - val_false_positives_7: 4526.3647 - val_true_positives_7: 17364.4160 - lr: 0.0010\n",
            "Epoch 2/100\n",
            "2216/2216 [==============================] - 18s 8ms/step - loss: 0.2956 - acc: 0.8804 - auc_7: 0.9169 - false_negatives_13: 3585.9995 - recall_7: 0.8832 - precision_7: 0.8105 - false_negatives_14: 3585.9995 - true_negatives_7: 24659.9863 - false_positives_7: 6368.4336 - true_positives_7: 27423.5820 - val_loss: 0.3399 - val_acc: 0.8543 - val_auc_7: 0.9261 - val_false_negatives_13: 4323.2168 - val_recall_7: 0.8973 - val_precision_7: 0.8199 - val_false_negatives_14: 4323.2168 - val_true_negatives_7: 33766.1250 - val_false_positives_7: 8304.1719 - val_true_positives_7: 37789.4922 - lr: 0.0010\n",
            "Epoch 3/100\n",
            "2216/2216 [==============================] - 18s 8ms/step - loss: 0.2694 - acc: 0.8947 - auc_7: 0.9314 - false_negatives_13: 5052.4058 - recall_7: 0.9048 - precision_7: 0.8259 - false_negatives_14: 5052.4058 - true_negatives_7: 43029.2539 - false_positives_7: 10118.6846 - true_positives_7: 48139.5859 - val_loss: 0.4406 - val_acc: 0.8115 - val_auc_7: 0.9343 - val_false_negatives_13: 6319.7886 - val_recall_7: 0.9017 - val_precision_7: 0.8340 - val_false_negatives_14: 6319.7886 - val_true_negatives_7: 52691.8984 - val_false_positives_7: 11529.4336 - val_true_positives_7: 57943.9062 - lr: 0.0010\n",
            "Epoch 4/100\n",
            "2216/2216 [==============================] - 18s 8ms/step - loss: 0.2537 - acc: 0.8999 - auc_7: 0.9364 - false_negatives_13: 7601.4316 - recall_7: 0.8989 - precision_7: 0.8403 - false_negatives_14: 7601.4316 - true_negatives_7: 62485.4023 - false_positives_7: 12849.3262 - true_positives_7: 67705.8359 - val_loss: 0.2542 - val_acc: 0.9029 - val_auc_7: 0.9401 - val_false_negatives_13: 8423.7656 - val_recall_7: 0.9025 - val_precision_7: 0.8457 - val_false_negatives_14: 8423.7656 - val_true_negatives_7: 72143.7812 - val_false_positives_7: 14228.5166 - val_true_positives_7: 77990.9219 - lr: 0.0010\n",
            "Epoch 5/100\n",
            "2216/2216 [==============================] - 18s 8ms/step - loss: 0.2421 - acc: 0.9062 - auc_7: 0.9431 - false_negatives_13: 9235.9150 - recall_7: 0.9052 - precision_7: 0.8505 - false_negatives_14: 9235.9150 - true_negatives_7: 81997.1094 - false_positives_7: 15496.5195 - true_positives_7: 88214.3359 - val_loss: 0.2290 - val_acc: 0.9139 - val_auc_7: 0.9457 - val_false_negatives_13: 9980.4102 - val_recall_7: 0.9081 - val_precision_7: 0.8543 - val_false_negatives_14: 9980.4102 - val_true_negatives_7: 91709.7734 - val_false_positives_7: 16813.5273 - val_true_positives_7: 98585.2500 - lr: 0.0010\n",
            "Epoch 6/100\n",
            "2216/2216 [==============================] - 18s 8ms/step - loss: 0.2314 - acc: 0.9093 - auc_7: 0.9478 - false_negatives_13: 10708.4258 - recall_7: 0.9104 - precision_7: 0.8575 - false_negatives_14: 10708.4258 - true_negatives_7: 101526.0156 - false_positives_7: 18094.7266 - true_positives_7: 108916.5781 - val_loss: 0.2521 - val_acc: 0.9029 - val_auc_7: 0.9495 - val_false_negatives_13: 11516.9277 - val_recall_7: 0.9119 - val_precision_7: 0.8606 - val_false_negatives_14: 11516.9277 - val_true_negatives_7: 111369.4453 - val_false_positives_7: 19304.8340 - val_true_positives_7: 119199.7422 - lr: 0.0010\n",
            "Epoch 7/100\n",
            "2216/2216 [==============================] - 18s 8ms/step - loss: 0.2230 - acc: 0.9122 - auc_7: 0.9511 - false_negatives_13: 12320.8809 - recall_7: 0.9131 - precision_7: 0.8633 - false_negatives_14: 12320.8809 - true_negatives_7: 121314.5234 - false_positives_7: 20482.5742 - true_positives_7: 129429.9219 - val_loss: 0.2269 - val_acc: 0.9120 - val_auc_7: 0.9526 - val_false_negatives_13: 13022.1367 - val_recall_7: 0.9148 - val_precision_7: 0.8655 - val_false_negatives_14: 13022.1367 - val_true_negatives_7: 131101.6719 - val_false_positives_7: 21723.6250 - val_true_positives_7: 139845.5156 - lr: 0.0010\n",
            "Epoch 8/100\n",
            "2216/2216 [==============================] - 18s 8ms/step - loss: 0.2174 - acc: 0.9148 - auc_7: 0.9538 - false_negatives_13: 13709.8740 - recall_7: 0.9163 - precision_7: 0.8674 - false_negatives_14: 13709.8740 - true_negatives_7: 141011.0625 - false_positives_7: 22948.8477 - true_positives_7: 150179.9688 - val_loss: 0.2095 - val_acc: 0.9190 - val_auc_7: 0.9551 - val_false_negatives_13: 14374.6045 - val_recall_7: 0.9179 - val_precision_7: 0.8693 - val_false_negatives_14: 14374.6045 - val_true_negatives_7: 150827.5781 - val_false_positives_7: 24148.6582 - val_true_positives_7: 160644.0938 - lr: 0.0010\n",
            "Epoch 9/100\n",
            "2216/2216 [==============================] - 17s 8ms/step - loss: 0.2109 - acc: 0.9165 - auc_7: 0.9562 - false_negatives_13: 15032.2129 - recall_7: 0.9192 - precision_7: 0.8711 - false_negatives_14: 15032.2129 - true_negatives_7: 160753.0469 - false_positives_7: 25311.7539 - true_positives_7: 171054.9531 - val_loss: 0.2125 - val_acc: 0.9154 - val_auc_7: 0.9572 - val_false_negatives_13: 15696.3037 - val_recall_7: 0.9204 - val_precision_7: 0.8725 - val_false_negatives_14: 15696.3037 - val_true_negatives_7: 170605.2500 - val_false_positives_7: 26521.9043 - val_true_positives_7: 181473.2812 - lr: 0.0010\n",
            "Epoch 10/100\n",
            "2216/2216 [==============================] - 18s 8ms/step - loss: 0.2058 - acc: 0.9182 - auc_7: 0.9582 - false_negatives_13: 16326.8379 - recall_7: 0.9216 - precision_7: 0.8738 - false_negatives_14: 16326.8379 - true_negatives_7: 180479.7969 - false_positives_7: 27714.0605 - true_positives_7: 191933.2188 - val_loss: 0.2785 - val_acc: 0.8836 - val_auc_7: 0.9588 - val_false_negatives_13: 17218.1543 - val_recall_7: 0.9215 - val_precision_7: 0.8753 - val_false_negatives_14: 17218.1543 - val_true_negatives_7: 190486.4844 - val_false_positives_7: 28791.8105 - val_true_positives_7: 202102.6562 - lr: 0.0010\n",
            "Epoch 11/100\n",
            "2216/2216 [==============================] - 18s 8ms/step - loss: 0.2011 - acc: 0.9203 - auc_7: 0.9594 - false_negatives_13: 18113.5879 - recall_7: 0.9214 - precision_7: 0.8767 - false_negatives_14: 18113.5879 - true_negatives_7: 200525.3906 - false_positives_7: 29838.2539 - true_positives_7: 212278.3750 - val_loss: 0.2013 - val_acc: 0.9240 - val_auc_7: 0.9602 - val_false_negatives_13: 18746.5996 - val_recall_7: 0.9224 - val_precision_7: 0.8780 - val_false_negatives_14: 18746.5996 - val_true_negatives_7: 210494.4375 - val_false_positives_7: 30934.9453 - val_true_positives_7: 222725.1250 - lr: 0.0010\n",
            "Epoch 12/100\n",
            "2216/2216 [==============================] - 18s 8ms/step - loss: 0.1965 - acc: 0.9226 - auc_7: 0.9609 - false_negatives_13: 19404.5918 - recall_7: 0.9232 - precision_7: 0.8792 - false_negatives_14: 19404.5918 - true_negatives_7: 220520.8125 - false_positives_7: 32016.3398 - true_positives_7: 233116.0156 - val_loss: 0.1931 - val_acc: 0.9233 - val_auc_7: 0.9616 - val_false_negatives_13: 20008.4609 - val_recall_7: 0.9241 - val_precision_7: 0.8804 - val_false_negatives_14: 20008.4609 - val_true_negatives_7: 230485.9062 - val_false_positives_7: 33094.4062 - val_true_positives_7: 243614.1250 - lr: 9.0484e-04\n",
            "Epoch 13/100\n",
            "2216/2216 [==============================] - 18s 8ms/step - loss: 0.1915 - acc: 0.9235 - auc_7: 0.9623 - false_negatives_13: 20620.6289 - recall_7: 0.9249 - precision_7: 0.8815 - false_negatives_14: 20620.6289 - true_negatives_7: 240511.5781 - false_positives_7: 34147.0078 - true_positives_7: 254080.4688 - val_loss: 0.2126 - val_acc: 0.9222 - val_auc_7: 0.9629 - val_false_negatives_13: 21277.7656 - val_recall_7: 0.9255 - val_precision_7: 0.8825 - val_false_negatives_14: 21277.7656 - val_true_negatives_7: 250514.5938 - val_false_positives_7: 35216.5859 - val_true_positives_7: 264496.1562 - lr: 8.1873e-04\n",
            "Epoch 14/100\n",
            "2216/2216 [==============================] - 18s 8ms/step - loss: 0.1874 - acc: 0.9261 - auc_7: 0.9635 - false_negatives_13: 21945.1953 - recall_7: 0.9261 - precision_7: 0.8835 - false_negatives_14: 21945.1953 - true_negatives_7: 260576.0000 - false_positives_7: 36243.0039 - true_positives_7: 274897.6875 - val_loss: 0.2039 - val_acc: 0.9176 - val_auc_7: 0.9640 - val_false_negatives_13: 22493.0918 - val_recall_7: 0.9270 - val_precision_7: 0.8843 - val_false_negatives_14: 22493.0918 - val_true_negatives_7: 270548.3750 - val_false_positives_7: 37333.8789 - val_true_positives_7: 285431.6875 - lr: 7.4082e-04\n",
            "Epoch 15/100\n",
            "2216/2216 [==============================] - 18s 8ms/step - loss: 0.1831 - acc: 0.9265 - auc_7: 0.9645 - false_negatives_13: 23059.0117 - recall_7: 0.9277 - precision_7: 0.8851 - false_negatives_14: 23059.0117 - true_negatives_7: 280507.9688 - false_positives_7: 38436.0586 - true_positives_7: 295960.6875 - val_loss: 0.1887 - val_acc: 0.9243 - val_auc_7: 0.9651 - val_false_negatives_13: 23619.8555 - val_recall_7: 0.9284 - val_precision_7: 0.8858 - val_false_negatives_14: 23619.8555 - val_true_negatives_7: 290519.6562 - val_false_positives_7: 39513.5508 - val_true_positives_7: 306455.9062 - lr: 6.7032e-04\n",
            "Epoch 16/100\n",
            "2216/2216 [==============================] - 18s 8ms/step - loss: 0.1808 - acc: 0.9276 - auc_7: 0.9656 - false_negatives_13: 24186.0039 - recall_7: 0.9291 - precision_7: 0.8866 - false_negatives_14: 24186.0039 - true_negatives_7: 300574.1875 - false_positives_7: 40555.5781 - true_positives_7: 316949.9062 - val_loss: 0.1930 - val_acc: 0.9279 - val_auc_7: 0.9660 - val_false_negatives_13: 24783.8027 - val_recall_7: 0.9296 - val_precision_7: 0.8874 - val_false_negatives_14: 24783.8027 - val_true_negatives_7: 310615.6562 - val_false_positives_7: 41568.6133 - val_true_positives_7: 327442.9062 - lr: 6.0653e-04\n",
            "Epoch 17/100\n",
            "2216/2216 [==============================] - 18s 8ms/step - loss: 0.1773 - acc: 0.9299 - auc_7: 0.9665 - false_negatives_13: 25373.1406 - recall_7: 0.9301 - precision_7: 0.8882 - false_negatives_14: 25373.1406 - true_negatives_7: 320764.8750 - false_positives_7: 42540.9375 - true_positives_7: 337888.7500 - val_loss: 0.2068 - val_acc: 0.9178 - val_auc_7: 0.9669 - val_false_negatives_13: 25889.0000 - val_recall_7: 0.9308 - val_precision_7: 0.8887 - val_false_negatives_14: 25889.0000 - val_true_negatives_7: 330704.3750 - val_false_positives_7: 43630.9961 - val_true_positives_7: 348488.5312 - lr: 5.4881e-04\n",
            "Epoch 18/100\n",
            "2216/2216 [==============================] - 18s 8ms/step - loss: 0.1747 - acc: 0.9312 - auc_7: 0.9672 - false_negatives_13: 26405.2129 - recall_7: 0.9315 - precision_7: 0.8893 - false_negatives_14: 26405.2129 - true_negatives_7: 340666.0000 - false_positives_7: 44701.4570 - true_positives_7: 359097.2188 - val_loss: 0.1886 - val_acc: 0.9253 - val_auc_7: 0.9676 - val_false_negatives_13: 26931.8633 - val_recall_7: 0.9321 - val_precision_7: 0.8899 - val_false_negatives_14: 26931.8633 - val_true_negatives_7: 350761.1250 - val_false_positives_7: 45725.0977 - val_true_positives_7: 369596.7188 - lr: 4.9659e-04\n",
            "Epoch 19/100\n",
            "2216/2216 [==============================] - 18s 8ms/step - loss: 0.1727 - acc: 0.9308 - auc_7: 0.9680 - false_negatives_13: 27462.2930 - recall_7: 0.9326 - precision_7: 0.8905 - false_negatives_14: 27462.2930 - true_negatives_7: 360845.4062 - false_positives_7: 46752.1094 - true_positives_7: 380112.0000 - val_loss: 0.1877 - val_acc: 0.9297 - val_auc_7: 0.9684 - val_false_negatives_13: 28012.6270 - val_recall_7: 0.9331 - val_precision_7: 0.8911 - val_false_negatives_14: 28012.6270 - val_true_negatives_7: 370899.8438 - val_false_positives_7: 47737.5234 - val_true_positives_7: 390666.8750 - lr: 4.4933e-04\n",
            "Epoch 20/100\n",
            "2216/2216 [==============================] - 18s 8ms/step - loss: 0.1698 - acc: 0.9323 - auc_7: 0.9687 - false_negatives_13: 28567.6602 - recall_7: 0.9335 - precision_7: 0.8918 - false_negatives_14: 28567.6602 - true_negatives_7: 380982.4688 - false_positives_7: 48701.5195 - true_positives_7: 401221.9375 - val_loss: 0.1790 - val_acc: 0.9314 - val_auc_7: 0.9691 - val_false_negatives_13: 29095.8145 - val_recall_7: 0.9340 - val_precision_7: 0.8923 - val_false_negatives_14: 29095.8145 - val_true_negatives_7: 391115.9688 - val_false_positives_7: 49672.0430 - val_true_positives_7: 411734.9375 - lr: 4.0657e-04\n",
            "Epoch 21/100\n",
            "2216/2216 [==============================] - 18s 8ms/step - loss: 0.1679 - acc: 0.9330 - auc_7: 0.9694 - false_negatives_13: 29635.2207 - recall_7: 0.9344 - precision_7: 0.8929 - false_negatives_14: 29635.2207 - true_negatives_7: 401223.9062 - false_positives_7: 50652.6758 - true_positives_7: 422263.7812 - val_loss: 0.1799 - val_acc: 0.9308 - val_auc_7: 0.9697 - val_false_negatives_13: 30134.5293 - val_recall_7: 0.9349 - val_precision_7: 0.8934 - val_false_negatives_14: 30134.5293 - val_true_negatives_7: 411317.0625 - val_false_positives_7: 51622.2227 - val_true_positives_7: 432847.0938 - lr: 3.6788e-04\n",
            "Epoch 22/100\n",
            "2216/2216 [==============================] - 19s 8ms/step - loss: 0.1665 - acc: 0.9342 - auc_7: 0.9700 - false_negatives_13: 30631.5234 - recall_7: 0.9354 - precision_7: 0.8939 - false_negatives_14: 30631.5234 - true_negatives_7: 421397.2188 - false_positives_7: 52613.4648 - true_positives_7: 443435.5000 - val_loss: 0.2154 - val_acc: 0.9124 - val_auc_7: 0.9703 - val_false_negatives_13: 31091.3652 - val_recall_7: 0.9359 - val_precision_7: 0.8943 - val_false_negatives_14: 31091.3652 - val_true_negatives_7: 431405.4688 - val_false_positives_7: 53684.9180 - val_true_positives_7: 454041.3438 - lr: 3.3287e-04\n",
            "Epoch 23/100\n",
            "2216/2216 [==============================] - 18s 8ms/step - loss: 0.1649 - acc: 0.9335 - auc_7: 0.9705 - false_negatives_13: 31577.8848 - recall_7: 0.9364 - precision_7: 0.8945 - false_negatives_14: 31577.8848 - true_negatives_7: 441404.6250 - false_positives_7: 54783.4883 - true_positives_7: 464614.2812 - val_loss: 0.1765 - val_acc: 0.9306 - val_auc_7: 0.9708 - val_false_negatives_13: 32085.0762 - val_recall_7: 0.9368 - val_precision_7: 0.8950 - val_false_negatives_14: 32085.0762 - val_true_negatives_7: 451492.4688 - val_false_positives_7: 55748.9531 - val_true_positives_7: 475198.6562 - lr: 3.0119e-04\n",
            "Epoch 24/100\n",
            "2216/2216 [==============================] - 18s 8ms/step - loss: 0.1635 - acc: 0.9351 - auc_7: 0.9711 - false_negatives_13: 32587.6680 - recall_7: 0.9371 - precision_7: 0.8955 - false_negatives_14: 32587.6680 - true_negatives_7: 461661.1250 - false_positives_7: 56684.5547 - true_positives_7: 485748.2812 - val_loss: 0.1751 - val_acc: 0.9315 - val_auc_7: 0.9714 - val_false_negatives_13: 33092.3359 - val_recall_7: 0.9375 - val_precision_7: 0.8959 - val_false_negatives_14: 33092.3359 - val_true_negatives_7: 471743.6250 - val_false_positives_7: 57648.6211 - val_true_positives_7: 496342.4062 - lr: 2.7253e-04\n",
            "Epoch 25/100\n",
            "2216/2216 [==============================] - 18s 8ms/step - loss: 0.1622 - acc: 0.9356 - auc_7: 0.9716 - false_negatives_13: 33609.7461 - recall_7: 0.9378 - precision_7: 0.8964 - false_negatives_14: 33609.7461 - true_negatives_7: 481919.7188 - false_positives_7: 58586.9609 - true_positives_7: 506867.6875 - val_loss: 0.1745 - val_acc: 0.9310 - val_auc_7: 0.9719 - val_false_negatives_13: 34100.0234 - val_recall_7: 0.9382 - val_precision_7: 0.8968 - val_false_negatives_14: 34100.0234 - val_true_negatives_7: 492009.5312 - val_false_positives_7: 59533.6406 - val_true_positives_7: 517485.8750 - lr: 2.4660e-04\n",
            "Epoch 26/100\n",
            "2216/2216 [==============================] - 18s 8ms/step - loss: 0.1615 - acc: 0.9355 - auc_7: 0.9721 - false_negatives_13: 34596.0352 - recall_7: 0.9385 - precision_7: 0.8972 - false_negatives_14: 34596.0352 - true_negatives_7: 502115.8125 - false_positives_7: 60477.5430 - true_positives_7: 528096.3125 - val_loss: 0.1728 - val_acc: 0.9318 - val_auc_7: 0.9723 - val_false_negatives_13: 35100.2461 - val_recall_7: 0.9388 - val_precision_7: 0.8976 - val_false_negatives_14: 35100.2461 - val_true_negatives_7: 512267.4375 - val_false_positives_7: 61426.6289 - val_true_positives_7: 538636.1875 - lr: 2.2313e-04\n",
            "Epoch 27/100\n",
            "2216/2216 [==============================] - 18s 8ms/step - loss: 0.1601 - acc: 0.9362 - auc_7: 0.9725 - false_negatives_13: 35607.7617 - recall_7: 0.9391 - precision_7: 0.8980 - false_negatives_14: 35607.7617 - true_negatives_7: 522412.3125 - false_positives_7: 62351.6523 - true_positives_7: 549216.0625 - val_loss: 0.1729 - val_acc: 0.9327 - val_auc_7: 0.9728 - val_false_negatives_13: 36089.3906 - val_recall_7: 0.9394 - val_precision_7: 0.8984 - val_false_negatives_14: 36089.3906 - val_true_negatives_7: 532544.5625 - val_false_positives_7: 63300.6797 - val_true_positives_7: 559798.5000 - lr: 2.0190e-04\n",
            "Epoch 28/100\n",
            "2216/2216 [==============================] - 18s 8ms/step - loss: 0.1594 - acc: 0.9364 - auc_7: 0.9730 - false_negatives_13: 36575.4414 - recall_7: 0.9397 - precision_7: 0.8988 - false_negatives_14: 36575.4414 - true_negatives_7: 542738.0625 - false_positives_7: 64226.0586 - true_positives_7: 570350.1875 - val_loss: 0.1734 - val_acc: 0.9323 - val_auc_7: 0.9732 - val_false_negatives_13: 37061.3398 - val_recall_7: 0.9400 - val_precision_7: 0.8991 - val_false_negatives_14: 37061.3398 - val_true_negatives_7: 552816.8125 - val_false_positives_7: 65179.4375 - val_true_positives_7: 580977.2500 - lr: 1.8268e-04\n",
            "Epoch 29/100\n",
            "2216/2216 [==============================] - 18s 8ms/step - loss: 0.1585 - acc: 0.9363 - auc_7: 0.9733 - false_negatives_13: 37542.8672 - recall_7: 0.9403 - precision_7: 0.8995 - false_negatives_14: 37542.8672 - true_negatives_7: 562964.6875 - false_positives_7: 66121.2734 - true_positives_7: 591562.7500 - val_loss: 0.1724 - val_acc: 0.9325 - val_auc_7: 0.9735 - val_false_negatives_13: 38026.6562 - val_recall_7: 0.9406 - val_precision_7: 0.8998 - val_false_negatives_14: 38026.6562 - val_true_negatives_7: 573079.1875 - val_false_positives_7: 67068.2578 - val_true_positives_7: 602162.6875 - lr: 1.6530e-04\n",
            "Epoch 30/100\n",
            "2216/2216 [==============================] - 18s 8ms/step - loss: 0.1579 - acc: 0.9371 - auc_7: 0.9737 - false_negatives_13: 38509.8320 - recall_7: 0.9409 - precision_7: 0.9001 - false_negatives_14: 38509.8320 - true_negatives_7: 583231.4375 - false_positives_7: 67984.6562 - true_positives_7: 612768.0625 - val_loss: 0.1714 - val_acc: 0.9326 - val_auc_7: 0.9739 - val_false_negatives_13: 38987.8633 - val_recall_7: 0.9411 - val_precision_7: 0.9004 - val_false_negatives_14: 38987.8633 - val_true_negatives_7: 593364.1875 - val_false_positives_7: 68933.8594 - val_true_positives_7: 623352.6875 - lr: 1.4957e-04\n",
            "Epoch 31/100\n",
            "2216/2216 [==============================] - 18s 8ms/step - loss: 0.1571 - acc: 0.9372 - auc_7: 0.9741 - false_negatives_13: 39458.4766 - recall_7: 0.9414 - precision_7: 0.9007 - false_negatives_14: 39458.4766 - true_negatives_7: 603430.1875 - false_positives_7: 69876.2031 - true_positives_7: 634031.0000 - val_loss: 0.1714 - val_acc: 0.9321 - val_auc_7: 0.9742 - val_false_negatives_13: 39936.7383 - val_recall_7: 0.9417 - val_precision_7: 0.9010 - val_false_negatives_14: 39936.7383 - val_true_negatives_7: 613638.9375 - val_false_positives_7: 70810.1641 - val_true_positives_7: 644554.6875 - lr: 1.3534e-04\n",
            "Epoch 32/100\n",
            "2216/2216 [==============================] - 18s 8ms/step - loss: 0.1565 - acc: 0.9370 - auc_7: 0.9744 - false_negatives_13: 40433.5820 - recall_7: 0.9419 - precision_7: 0.9013 - false_negatives_14: 40433.5820 - true_negatives_7: 623748.4375 - false_positives_7: 71748.2656 - true_positives_7: 655167.3750 - val_loss: 0.1715 - val_acc: 0.9331 - val_auc_7: 0.9746 - val_false_negatives_13: 40918.5977 - val_recall_7: 0.9421 - val_precision_7: 0.9016 - val_false_negatives_14: 40918.5977 - val_true_negatives_7: 633940.9375 - val_false_positives_7: 72659.3359 - val_true_positives_7: 665724.1875 - lr: 1.2246e-04\n",
            "Epoch 33/100\n",
            "2216/2216 [==============================] - 17s 8ms/step - loss: 0.1561 - acc: 0.9375 - auc_7: 0.9747 - false_negatives_13: 41415.1758 - recall_7: 0.9423 - precision_7: 0.9019 - false_negatives_14: 41415.1758 - true_negatives_7: 644092.6250 - false_positives_7: 73582.9297 - true_positives_7: 676309.1875 - val_loss: 0.1745 - val_acc: 0.9300 - val_auc_7: 0.9749 - val_false_negatives_13: 41859.5898 - val_recall_7: 0.9426 - val_precision_7: 0.9021 - val_false_negatives_14: 41859.5898 - val_true_negatives_7: 654212.3125 - val_false_positives_7: 74538.4297 - val_true_positives_7: 686934.0625 - lr: 1.1080e-04\n",
            "Epoch 34/100\n",
            "2216/2216 [==============================] - 17s 8ms/step - loss: 0.1556 - acc: 0.9376 - auc_7: 0.9750 - false_negatives_13: 42323.0703 - recall_7: 0.9428 - precision_7: 0.9023 - false_negatives_14: 42323.0703 - true_negatives_7: 664301.1875 - false_positives_7: 75500.0781 - true_positives_7: 697577.7500 - val_loss: 0.1719 - val_acc: 0.9318 - val_auc_7: 0.9751 - val_false_negatives_13: 42785.6133 - val_recall_7: 0.9430 - val_precision_7: 0.9026 - val_false_negatives_14: 42785.6133 - val_true_negatives_7: 674462.6875 - val_false_positives_7: 76439.5703 - val_true_positives_7: 708159.0625 - lr: 1.0026e-04\n",
            "Epoch 35/100\n",
            "2216/2216 [==============================] - 17s 8ms/step - loss: 0.1553 - acc: 0.9381 - auc_7: 0.9753 - false_negatives_13: 43244.4688 - recall_7: 0.9432 - precision_7: 0.9028 - false_negatives_14: 43244.4688 - true_negatives_7: 684586.3750 - false_positives_7: 77388.3594 - true_positives_7: 718784.4375 - val_loss: 0.1697 - val_acc: 0.9342 - val_auc_7: 0.9754 - val_false_negatives_13: 43718.4844 - val_recall_7: 0.9435 - val_precision_7: 0.9031 - val_false_negatives_14: 43718.4844 - val_true_negatives_7: 694760.4375 - val_false_positives_7: 78292.5625 - val_true_positives_7: 729377.2500 - lr: 9.0718e-05\n",
            "Epoch 36/100\n",
            "2216/2216 [==============================] - 17s 8ms/step - loss: 0.1549 - acc: 0.9379 - auc_7: 0.9755 - false_negatives_13: 44190.1172 - recall_7: 0.9436 - precision_7: 0.9033 - false_negatives_14: 44190.1172 - true_negatives_7: 704916.0625 - false_positives_7: 79183.3359 - true_positives_7: 740016.2500 - val_loss: 0.1692 - val_acc: 0.9340 - val_auc_7: 0.9757 - val_false_negatives_13: 44676.8828 - val_recall_7: 0.9438 - val_precision_7: 0.9036 - val_false_negatives_14: 44676.8828 - val_true_negatives_7: 715084.3750 - val_false_positives_7: 80119.9844 - val_true_positives_7: 750569.6250 - lr: 8.2085e-05\n",
            "Epoch 37/100\n",
            "2216/2216 [==============================] - 18s 8ms/step - loss: 0.1544 - acc: 0.9384 - auc_7: 0.9758 - false_negatives_13: 45153.4141 - recall_7: 0.9440 - precision_7: 0.9038 - false_negatives_14: 45153.4141 - true_negatives_7: 725240.5000 - false_positives_7: 81027.1016 - true_positives_7: 761187.1875 - val_loss: 0.1690 - val_acc: 0.9335 - val_auc_7: 0.9759 - val_false_negatives_13: 45622.7656 - val_recall_7: 0.9442 - val_precision_7: 0.9040 - val_false_negatives_14: 45622.7656 - val_true_negatives_7: 735409.3125 - val_false_positives_7: 81945.5625 - val_true_positives_7: 771774.8125 - lr: 7.4274e-05\n",
            "Epoch 38/100\n",
            "2216/2216 [==============================] - 17s 8ms/step - loss: 0.1541 - acc: 0.9384 - auc_7: 0.9760 - false_negatives_13: 46096.2031 - recall_7: 0.9444 - precision_7: 0.9042 - false_negatives_14: 46096.2031 - true_negatives_7: 745600.5625 - false_positives_7: 82852.0469 - true_positives_7: 782360.8125 - val_loss: 0.1693 - val_acc: 0.9341 - val_auc_7: 0.9761 - val_false_negatives_13: 46564.6445 - val_recall_7: 0.9445 - val_precision_7: 0.9045 - val_false_negatives_14: 46564.6445 - val_true_negatives_7: 755733.4375 - val_false_positives_7: 83772.8828 - val_true_positives_7: 792984.3125 - lr: 6.7206e-05\n",
            "Epoch 39/100\n",
            "2216/2216 [==============================] - 18s 8ms/step - loss: 0.1539 - acc: 0.9382 - auc_7: 0.9763 - false_negatives_13: 47048.1211 - recall_7: 0.9447 - precision_7: 0.9047 - false_negatives_14: 47048.1211 - true_negatives_7: 765914.9375 - false_positives_7: 84676.8125 - true_positives_7: 803571.8125 - val_loss: 0.1687 - val_acc: 0.9340 - val_auc_7: 0.9764 - val_false_negatives_13: 47506.3906 - val_recall_7: 0.9449 - val_precision_7: 0.9049 - val_false_negatives_14: 47506.3906 - val_true_negatives_7: 776048.6250 - val_false_positives_7: 85608.4375 - val_true_positives_7: 814193.3125 - lr: 6.0810e-05\n",
            "Epoch 40/100\n",
            "2216/2216 [==============================] - 18s 8ms/step - loss: 0.1535 - acc: 0.9383 - auc_7: 0.9765 - false_negatives_13: 47975.4336 - recall_7: 0.9450 - precision_7: 0.9051 - false_negatives_14: 47975.4336 - true_negatives_7: 786231.8125 - false_positives_7: 86515.0938 - true_positives_7: 824791.0625 - val_loss: 0.1691 - val_acc: 0.9338 - val_auc_7: 0.9766 - val_false_negatives_13: 48449.1523 - val_recall_7: 0.9452 - val_precision_7: 0.9053 - val_false_negatives_14: 48449.1523 - val_true_negatives_7: 796372.6250 - val_false_positives_7: 87435.7422 - val_true_positives_7: 835401.4375 - lr: 5.5023e-05\n",
            "Epoch 41/100\n",
            "2216/2216 [==============================] - 18s 8ms/step - loss: 0.1533 - acc: 0.9376 - auc_7: 0.9767 - false_negatives_13: 48923.8672 - recall_7: 0.9453 - precision_7: 0.9054 - false_negatives_14: 48923.8672 - true_negatives_7: 806475.0625 - false_positives_7: 88359.1484 - true_positives_7: 846057.8125 - val_loss: 0.1688 - val_acc: 0.9336 - val_auc_7: 0.9768 - val_false_negatives_13: 49398.5117 - val_recall_7: 0.9455 - val_precision_7: 0.9056 - val_false_negatives_14: 49398.5117 - val_true_negatives_7: 816673.5000 - val_false_positives_7: 89285.8047 - val_true_positives_7: 856603.1875 - lr: 4.9787e-05\n",
            "Epoch 42/100\n",
            "2216/2216 [==============================] - 18s 8ms/step - loss: 0.1530 - acc: 0.9389 - auc_7: 0.9769 - false_negatives_13: 49864.7148 - recall_7: 0.9456 - precision_7: 0.9058 - false_negatives_14: 49864.7148 - true_negatives_7: 826874.3750 - false_positives_7: 90197.2109 - true_positives_7: 867181.0625 - val_loss: 0.1683 - val_acc: 0.9338 - val_auc_7: 0.9770 - val_false_negatives_13: 50327.4297 - val_recall_7: 0.9458 - val_precision_7: 0.9060 - val_false_negatives_14: 50327.4297 - val_true_negatives_7: 837000.1875 - val_false_positives_7: 91109.8672 - val_true_positives_7: 877824.8750 - lr: 4.5049e-05\n",
            "Epoch 43/100\n",
            "2216/2216 [==============================] - 18s 8ms/step - loss: 0.1530 - acc: 0.9385 - auc_7: 0.9771 - false_negatives_13: 50791.8281 - recall_7: 0.9459 - precision_7: 0.9062 - false_negatives_14: 50791.8281 - true_negatives_7: 847207.0000 - false_positives_7: 91998.5391 - true_positives_7: 888422.8750 - val_loss: 0.1685 - val_acc: 0.9349 - val_auc_7: 0.9771 - val_false_negatives_13: 51268.0352 - val_recall_7: 0.9461 - val_precision_7: 0.9063 - val_false_negatives_14: 51268.0352 - val_true_negatives_7: 857331.6250 - val_false_positives_7: 92929.4766 - val_true_positives_7: 899035.7500 - lr: 4.0762e-05\n",
            "Epoch 44/100\n",
            "2216/2216 [==============================] - 18s 8ms/step - loss: 0.1527 - acc: 0.9390 - auc_7: 0.9772 - false_negatives_13: 51737.9766 - recall_7: 0.9462 - precision_7: 0.9065 - false_negatives_14: 51737.9766 - true_negatives_7: 867564.6875 - false_positives_7: 93818.1406 - true_positives_7: 909600.5625 - val_loss: 0.1686 - val_acc: 0.9339 - val_auc_7: 0.9773 - val_false_negatives_13: 52187.1641 - val_recall_7: 0.9463 - val_precision_7: 0.9066 - val_false_negatives_14: 52187.1641 - val_true_negatives_7: 877659.8125 - val_false_positives_7: 94752.5234 - val_true_positives_7: 920267.3750 - lr: 3.6883e-05\n",
            "Epoch 45/100\n",
            "2216/2216 [==============================] - 18s 8ms/step - loss: 0.1526 - acc: 0.9383 - auc_7: 0.9774 - false_negatives_13: 52649.1914 - recall_7: 0.9465 - precision_7: 0.9068 - false_negatives_14: 52649.1914 - true_negatives_7: 887828.9375 - false_positives_7: 95677.8750 - true_positives_7: 930867.9375 - val_loss: 0.1682 - val_acc: 0.9347 - val_auc_7: 0.9775 - val_false_negatives_13: 53115.8555 - val_recall_7: 0.9466 - val_precision_7: 0.9069 - val_false_negatives_14: 53115.8555 - val_true_negatives_7: 897966.1875 - val_false_positives_7: 96597.0000 - val_true_positives_7: 941489.8125 - lr: 3.3373e-05\n",
            "Epoch 46/100\n",
            "2216/2216 [==============================] - 18s 8ms/step - loss: 0.1525 - acc: 0.9391 - auc_7: 0.9776 - false_negatives_13: 53571.8711 - recall_7: 0.9467 - precision_7: 0.9071 - false_negatives_14: 53571.8711 - true_negatives_7: 908181.8750 - false_positives_7: 97490.4297 - true_positives_7: 952081.4375 - val_loss: 0.1684 - val_acc: 0.9331 - val_auc_7: 0.9777 - val_false_negatives_13: 54035.7500 - val_recall_7: 0.9469 - val_precision_7: 0.9073 - val_false_negatives_14: 54035.7500 - val_true_negatives_7: 918293.0625 - val_false_positives_7: 98420.7031 - val_true_positives_7: 962720.3750 - lr: 3.0197e-05\n",
            "Epoch 47/100\n",
            "2216/2216 [==============================] - 18s 8ms/step - loss: 0.1524 - acc: 0.9385 - auc_7: 0.9777 - false_negatives_13: 54496.0781 - recall_7: 0.9470 - precision_7: 0.9074 - false_negatives_14: 54496.0781 - true_negatives_7: 928474.5625 - false_positives_7: 99332.7969 - true_positives_7: 973324.5625 - val_loss: 0.1680 - val_acc: 0.9343 - val_auc_7: 0.9778 - val_false_negatives_13: 54953.6758 - val_recall_7: 0.9471 - val_precision_7: 0.9075 - val_false_negatives_14: 54953.6758 - val_true_negatives_7: 938594.9375 - val_false_positives_7: 100270.3359 - val_true_positives_7: 983953.8125 - lr: 2.7324e-05\n",
            "Epoch 48/100\n",
            "2216/2216 [==============================] - 18s 8ms/step - loss: 0.1522 - acc: 0.9391 - auc_7: 0.9779 - false_negatives_13: 55407.4844 - recall_7: 0.9472 - precision_7: 0.9077 - false_negatives_14: 55407.4844 - true_negatives_7: 948799.9375 - false_positives_7: 101177.1328 - true_positives_7: 994545.6875 - val_loss: 0.1690 - val_acc: 0.9347 - val_auc_7: 0.9779 - val_false_negatives_13: 55874.5664 - val_recall_7: 0.9473 - val_precision_7: 0.9078 - val_false_negatives_14: 55874.5664 - val_true_negatives_7: 958928.8125 - val_false_positives_7: 102087.7266 - val_true_positives_7: 1005183.7500 - lr: 2.4724e-05\n",
            "Epoch 49/100\n",
            "2216/2216 [==============================] - 18s 8ms/step - loss: 0.1522 - acc: 0.9389 - auc_7: 0.9780 - false_negatives_13: 56350.6914 - recall_7: 0.9474 - precision_7: 0.9080 - false_negatives_14: 56350.6914 - true_negatives_7: 969113.4375 - false_positives_7: 102979.9297 - true_positives_7: 1015788.2500 - val_loss: 0.1682 - val_acc: 0.9333 - val_auc_7: 0.9781 - val_false_negatives_13: 56810.2539 - val_recall_7: 0.9476 - val_precision_7: 0.9081 - val_false_negatives_14: 56810.2539 - val_true_negatives_7: 979263.4375 - val_false_positives_7: 103903.8047 - val_true_positives_7: 1026399.1875 - lr: 2.2371e-05\n",
            "Epoch 50/100\n",
            "2216/2216 [==============================] - 18s 8ms/step - loss: 0.1521 - acc: 0.9391 - auc_7: 0.9781 - false_negatives_13: 57280.3594 - recall_7: 0.9477 - precision_7: 0.9082 - false_negatives_14: 57280.3594 - true_negatives_7: 989461.6875 - false_positives_7: 104818.7031 - true_positives_7: 1036973.5000 - val_loss: 0.1681 - val_acc: 0.9330 - val_auc_7: 0.9782 - val_false_negatives_13: 57726.1680 - val_recall_7: 0.9478 - val_precision_7: 0.9083 - val_false_negatives_14: 57726.1680 - val_true_negatives_7: 999578.8125 - val_false_positives_7: 105739.3828 - val_true_positives_7: 1047634.3750 - lr: 2.0242e-05\n",
            "Epoch 51/100\n",
            "2216/2216 [==============================] - 18s 8ms/step - loss: 0.1520 - acc: 0.9388 - auc_7: 0.9783 - false_negatives_13: 58193.7891 - recall_7: 0.9479 - precision_7: 0.9084 - false_negatives_14: 58193.7891 - true_negatives_7: 1009816.6250 - false_positives_7: 106648.6328 - true_positives_7: 1058177.0000 - val_loss: 0.1680 - val_acc: 0.9343 - val_auc_7: 0.9784 - val_false_negatives_13: 58646.9102 - val_recall_7: 0.9480 - val_precision_7: 0.9086 - val_false_negatives_14: 58646.9102 - val_true_negatives_7: 1019893.6250 - val_false_positives_7: 107575.6406 - val_true_positives_7: 1068864.3750 - lr: 1.8316e-05\n",
            "Epoch 52/100\n",
            "2216/2216 [==============================] - 18s 8ms/step - loss: 0.1519 - acc: 0.9390 - auc_7: 0.9784 - false_negatives_13: 59118.4180 - recall_7: 0.9481 - precision_7: 0.9087 - false_negatives_14: 59118.4180 - true_negatives_7: 1030073.3125 - false_positives_7: 108478.3750 - true_positives_7: 1079467.3750 - val_loss: 0.1678 - val_acc: 0.9338 - val_auc_7: 0.9785 - val_false_negatives_13: 59573.1641 - val_recall_7: 0.9482 - val_precision_7: 0.9088 - val_false_negatives_14: 59573.1641 - val_true_negatives_7: 1040224.9375 - val_false_positives_7: 109395.1875 - val_true_positives_7: 1090089.5000 - lr: 1.6573e-05\n",
            "Epoch 53/100\n",
            "2216/2216 [==============================] - 18s 8ms/step - loss: 0.1518 - acc: 0.9386 - auc_7: 0.9785 - false_negatives_13: 60040.6211 - recall_7: 0.9483 - precision_7: 0.9089 - false_negatives_14: 60040.6211 - true_negatives_7: 1050388.0000 - false_positives_7: 110310.0703 - true_positives_7: 1100700.8750 - val_loss: 0.1678 - val_acc: 0.9339 - val_auc_7: 0.9786 - val_false_negatives_13: 60503.9219 - val_recall_7: 0.9484 - val_precision_7: 0.9090 - val_false_negatives_14: 60503.9219 - val_true_negatives_7: 1060542.7500 - val_false_positives_7: 111228.6250 - val_true_positives_7: 1111309.6250 - lr: 1.4996e-05\n",
            "Epoch 54/100\n",
            "2216/2216 [==============================] - 18s 8ms/step - loss: 0.1518 - acc: 0.9391 - auc_7: 0.9786 - false_negatives_13: 60972.6367 - recall_7: 0.9484 - precision_7: 0.9091 - false_negatives_14: 60972.6367 - true_negatives_7: 1070698.7500 - false_positives_7: 112157.9531 - true_positives_7: 1121912.3750 - val_loss: 0.1678 - val_acc: 0.9339 - val_auc_7: 0.9787 - val_false_negatives_13: 61424.5938 - val_recall_7: 0.9485 - val_precision_7: 0.9092 - val_false_negatives_14: 61424.5938 - val_true_negatives_7: 1080870.1250 - val_false_positives_7: 113051.7422 - val_true_positives_7: 1132540.6250 - lr: 1.3569e-05\n",
            "Epoch 55/100\n",
            "2216/2216 [==============================] - 18s 8ms/step - loss: 0.1518 - acc: 0.9389 - auc_7: 0.9788 - false_negatives_13: 61892.3672 - recall_7: 0.9486 - precision_7: 0.9094 - false_negatives_14: 61892.3672 - true_negatives_7: 1091084.2500 - false_positives_7: 113951.2500 - true_positives_7: 1143116.0000 - val_loss: 0.1679 - val_acc: 0.9341 - val_auc_7: 0.9788 - val_false_negatives_13: 62357.2266 - val_recall_7: 0.9487 - val_precision_7: 0.9095 - val_false_negatives_14: 62357.2266 - val_true_negatives_7: 1101203.6250 - val_false_positives_7: 114869.6172 - val_true_positives_7: 1153758.5000 - lr: 1.2277e-05\n",
            "Epoch 56/100\n",
            "2216/2216 [==============================] - 17s 8ms/step - loss: 0.1517 - acc: 0.9391 - auc_7: 0.9789 - false_negatives_13: 62832.7383 - recall_7: 0.9488 - precision_7: 0.9096 - false_negatives_14: 62832.7383 - true_negatives_7: 1111398.7500 - false_positives_7: 115762.5234 - true_positives_7: 1164351.5000 - val_loss: 0.1677 - val_acc: 0.9342 - val_auc_7: 0.9789 - val_false_negatives_13: 63282.3398 - val_recall_7: 0.9489 - val_precision_7: 0.9097 - val_false_negatives_14: 63282.3398 - val_true_negatives_7: 1121537.2500 - val_false_positives_7: 116686.9609 - val_true_positives_7: 1174984.3750 - lr: 1.1109e-05\n",
            "Epoch 57/100\n",
            "2216/2216 [==============================] - 18s 8ms/step - loss: 0.1516 - acc: 0.9390 - auc_7: 0.9790 - false_negatives_13: 63736.6992 - recall_7: 0.9490 - precision_7: 0.9098 - false_negatives_14: 63736.6992 - true_negatives_7: 1131760.3750 - false_positives_7: 117589.2891 - true_positives_7: 1185561.3750 - val_loss: 0.1678 - val_acc: 0.9339 - val_auc_7: 0.9790 - val_false_negatives_13: 64202.5000 - val_recall_7: 0.9491 - val_precision_7: 0.9099 - val_false_negatives_14: 64202.5000 - val_true_negatives_7: 1141862.0000 - val_false_positives_7: 118513.1719 - val_true_positives_7: 1196215.0000 - lr: 1.0052e-05\n",
            "Epoch 58/100\n",
            "2216/2216 [==============================] - 18s 8ms/step - loss: 0.1516 - acc: 0.9388 - auc_7: 0.9791 - false_negatives_13: 64669.1680 - recall_7: 0.9491 - precision_7: 0.9099 - false_negatives_14: 64669.1680 - true_negatives_7: 1152073.5000 - false_positives_7: 119434.4062 - true_positives_7: 1206772.0000 - val_loss: 0.1677 - val_acc: 0.9336 - val_auc_7: 0.9791 - val_false_negatives_13: 65121.6328 - val_recall_7: 0.9492 - val_precision_7: 0.9100 - val_false_negatives_14: 65121.6328 - val_true_negatives_7: 1162177.1250 - val_false_positives_7: 120349.0859 - val_true_positives_7: 1217446.6250 - lr: 9.0953e-06\n",
            "Epoch 59/100\n",
            "2216/2216 [==============================] - 18s 8ms/step - loss: 0.1516 - acc: 0.9390 - auc_7: 0.9792 - false_negatives_13: 65595.3906 - recall_7: 0.9493 - precision_7: 0.9101 - false_negatives_14: 65595.3906 - true_negatives_7: 1172364.2500 - false_positives_7: 121237.8203 - true_positives_7: 1228055.0000 - val_loss: 0.1677 - val_acc: 0.9338 - val_auc_7: 0.9792 - val_false_negatives_13: 66052.5234 - val_recall_7: 0.9494 - val_precision_7: 0.9102 - val_false_negatives_14: 66052.5234 - val_true_negatives_7: 1182510.0000 - val_false_positives_7: 122167.2344 - val_true_positives_7: 1238667.1250 - lr: 8.2297e-06\n",
            "Epoch 60/100\n",
            "2216/2216 [==============================] - 18s 8ms/step - loss: 0.1515 - acc: 0.9390 - auc_7: 0.9792 - false_negatives_13: 66527.4062 - recall_7: 0.9494 - precision_7: 0.9103 - false_negatives_14: 66527.4062 - true_negatives_7: 1192695.3750 - false_positives_7: 123066.6875 - true_positives_7: 1249265.1250 - val_loss: 0.1678 - val_acc: 0.9335 - val_auc_7: 0.9793 - val_false_negatives_13: 66976.5234 - val_recall_7: 0.9495 - val_precision_7: 0.9104 - val_false_negatives_14: 66976.5234 - val_true_negatives_7: 1202834.1250 - val_false_positives_7: 123993.7891 - val_true_positives_7: 1259894.2500 - lr: 7.4466e-06\n",
            "Epoch 61/100\n",
            "2216/2216 [==============================] - 18s 8ms/step - loss: 0.1515 - acc: 0.9388 - auc_7: 0.9794 - false_negatives_13: 67439.8672 - recall_7: 0.9496 - precision_7: 0.9105 - false_negatives_14: 67439.8672 - true_negatives_7: 1213031.6250 - false_positives_7: 124910.6406 - true_positives_7: 1270474.2500 - val_loss: 0.1678 - val_acc: 0.9339 - val_auc_7: 0.9794 - val_false_negatives_13: 67898.0469 - val_recall_7: 0.9497 - val_precision_7: 0.9106 - val_false_negatives_14: 67898.0469 - val_true_negatives_7: 1223151.6250 - val_false_positives_7: 125827.6953 - val_true_positives_7: 1281123.6250 - lr: 6.7379e-06\n",
            "Epoch 62/100\n",
            "2216/2216 [==============================] - 18s 8ms/step - loss: 0.1515 - acc: 0.9392 - auc_7: 0.9795 - false_negatives_13: 68365.5000 - recall_7: 0.9497 - precision_7: 0.9106 - false_negatives_14: 68365.5000 - true_negatives_7: 1233370.0000 - false_positives_7: 126737.4609 - true_positives_7: 1291685.1250 - val_loss: 0.1677 - val_acc: 0.9340 - val_auc_7: 0.9795 - val_false_negatives_13: 68817.8516 - val_recall_7: 0.9498 - val_precision_7: 0.9107 - val_false_negatives_14: 68817.8516 - val_true_negatives_7: 1243480.0000 - val_false_positives_7: 127649.8750 - val_true_positives_7: 1302354.7500 - lr: 6.0967e-06\n",
            "Epoch 63/100\n",
            "2216/2216 [==============================] - 17s 8ms/step - loss: 0.1514 - acc: 0.9390 - auc_7: 0.9795 - false_negatives_13: 69299.8438 - recall_7: 0.9499 - precision_7: 0.9108 - false_negatives_14: 69299.8438 - true_negatives_7: 1253646.1250 - false_positives_7: 128569.1953 - true_positives_7: 1312945.1250 - val_loss: 0.1677 - val_acc: 0.9338 - val_auc_7: 0.9796 - val_false_negatives_13: 69737.3984 - val_recall_7: 0.9500 - val_precision_7: 0.9109 - val_false_negatives_14: 69737.3984 - val_true_negatives_7: 1263804.3750 - val_false_positives_7: 129476.8828 - val_true_positives_7: 1323585.8750 - lr: 5.5166e-06\n",
            "Epoch 64/100\n",
            "2216/2216 [==============================] - 17s 8ms/step - loss: 0.1514 - acc: 0.9390 - auc_7: 0.9796 - false_negatives_13: 70194.9766 - recall_7: 0.9500 - precision_7: 0.9110 - false_negatives_14: 70194.9766 - true_negatives_7: 1273982.8750 - false_positives_7: 130379.8438 - true_positives_7: 1334204.6250 - val_loss: 0.1677 - val_acc: 0.9336 - val_auc_7: 0.9796 - val_false_negatives_13: 70660.3594 - val_recall_7: 0.9501 - val_precision_7: 0.9110 - val_false_negatives_14: 70660.3594 - val_true_negatives_7: 1284126.7500 - val_false_positives_7: 131305.3594 - val_true_positives_7: 1344814.2500 - lr: 4.9916e-06\n",
            "finish training lstm model\n"
          ],
          "name": "stdout"
        }
      ]
    },
    {
      "cell_type": "code",
      "metadata": {
        "id": "J2-2jGGmdS-u",
        "colab_type": "code",
        "outputId": "5ac50852-1c8d-43b6-8de7-8975ca564128",
        "colab": {
          "base_uri": "https://localhost:8080/",
          "height": 768
        }
      },
      "source": [
        "# train the final cnn model with all data (include test data) \n",
        "x_train_final = []\n",
        "y_train_final = []\n",
        "\n",
        "for record in all_data:\n",
        "  x_train_final.append(record[1:])\n",
        "  label = int(record[0])\n",
        "  y_train_final.append(label) \n",
        "\n",
        "final_cnn_model, final_cnn_history = train_cnn_model(x_train_final, y_train_final)\n",
        "\n",
        "final_cnn_model.save(\"/content/drive/My Drive/636project/final_cnn_model.h5\")\n"
      ],
      "execution_count": 63,
      "outputs": [
        {
          "output_type": "stream",
          "text": [
            "Epoch 1/100\n",
            "2216/2216 [==============================] - 14s 6ms/step - loss: 0.2586 - acc: 0.8916 - auc_8: 0.9270 - false_negatives_15: 933.6710 - recall_8: 0.8775 - precision_8: 0.8411 - false_negatives_16: 933.6710 - true_negatives_8: 7555.7178 - false_positives_8: 1270.2513 - true_positives_8: 7976.3540 - val_loss: 0.1874 - val_acc: 0.9226 - val_auc_8: 0.9617 - val_false_negatives_15: 1771.9784 - val_recall_8: 0.9111 - val_precision_8: 0.8828 - val_false_negatives_16: 1771.9784 - val_true_negatives_8: 17506.1641 - val_false_positives_8: 2413.1335 - val_true_positives_8: 18189.7188 - lr: 0.0010\n",
            "Epoch 2/100\n",
            "2216/2216 [==============================] - 13s 6ms/step - loss: 0.1662 - acc: 0.9316 - auc_8: 0.9688 - false_negatives_15: 2407.9202 - recall_8: 0.9217 - precision_8: 0.8938 - false_negatives_16: 2407.9202 - true_negatives_8: 27637.1914 - false_positives_8: 3374.0483 - true_positives_8: 28618.8379 - val_loss: 0.1536 - val_acc: 0.9344 - val_auc_8: 0.9734 - val_false_negatives_15: 2936.0288 - val_recall_8: 0.9303 - val_precision_8: 0.9009 - val_false_negatives_16: 2936.0288 - val_true_negatives_8: 37759.8281 - val_false_positives_8: 4310.4512 - val_true_positives_8: 39176.6758 - lr: 0.0010\n",
            "Epoch 3/100\n",
            "2216/2216 [==============================] - 13s 6ms/step - loss: 0.1366 - acc: 0.9417 - auc_8: 0.9765 - false_negatives_15: 3390.9250 - recall_8: 0.9360 - precision_8: 0.9051 - false_negatives_16: 3390.9250 - true_negatives_8: 47989.2109 - false_positives_8: 5206.4614 - true_positives_8: 49753.4648 - val_loss: 0.1412 - val_acc: 0.9414 - val_auc_8: 0.9789 - val_false_negatives_15: 3796.7563 - val_recall_8: 0.9409 - val_precision_8: 0.9089 - val_false_negatives_16: 3796.7563 - val_true_negatives_8: 58161.2383 - val_false_positives_8: 6060.0449 - val_true_positives_8: 60466.9297 - lr: 0.0010\n",
            "Epoch 4/100\n",
            "2216/2216 [==============================] - 13s 6ms/step - loss: 0.1175 - acc: 0.9497 - auc_8: 0.9807 - false_negatives_15: 4159.2769 - recall_8: 0.9447 - precision_8: 0.9121 - false_negatives_16: 4159.2769 - true_negatives_8: 68430.5312 - false_positives_8: 6851.3604 - true_positives_8: 71200.7109 - val_loss: 0.1190 - val_acc: 0.9499 - val_auc_8: 0.9823 - val_false_negatives_15: 4485.4927 - val_recall_8: 0.9481 - val_precision_8: 0.9147 - val_false_negatives_16: 4485.4927 - val_true_negatives_8: 78730.0078 - val_false_positives_8: 7642.2778 - val_true_positives_8: 81929.2344 - lr: 0.0010\n",
            "Epoch 5/100\n",
            "2216/2216 [==============================] - 14s 6ms/step - loss: 0.1081 - acc: 0.9537 - auc_8: 0.9835 - false_negatives_15: 4788.5054 - recall_8: 0.9508 - precision_8: 0.9171 - false_negatives_16: 4788.5054 - true_negatives_8: 89071.1172 - false_positives_8: 8373.1367 - true_positives_8: 92711.1250 - val_loss: 0.1271 - val_acc: 0.9438 - val_auc_8: 0.9844 - val_false_negatives_15: 5053.3359 - val_recall_8: 0.9534 - val_precision_8: 0.9185 - val_false_negatives_16: 5053.3359 - val_true_negatives_8: 99337.3828 - val_false_positives_8: 9185.8848 - val_true_positives_8: 103512.3750 - lr: 0.0010\n",
            "Epoch 6/100\n",
            "2216/2216 [==============================] - 14s 6ms/step - loss: 0.0981 - acc: 0.9571 - auc_8: 0.9853 - false_negatives_15: 5276.2388 - recall_8: 0.9559 - precision_8: 0.9197 - false_negatives_16: 5276.2388 - true_negatives_8: 109605.0547 - false_positives_8: 9980.1465 - true_positives_8: 114384.5391 - val_loss: 0.1037 - val_acc: 0.9551 - val_auc_8: 0.9861 - val_false_negatives_15: 5492.2236 - val_recall_8: 0.9580 - val_precision_8: 0.9212 - val_false_negatives_16: 5492.2236 - val_true_negatives_8: 119958.7891 - val_false_positives_8: 10715.5449 - val_true_positives_8: 125224.5234 - lr: 0.0010\n",
            "Epoch 7/100\n",
            "2216/2216 [==============================] - 14s 6ms/step - loss: 0.0917 - acc: 0.9598 - auc_8: 0.9868 - false_negatives_15: 5685.8701 - recall_8: 0.9599 - precision_8: 0.9226 - false_negatives_16: 5685.8701 - true_negatives_8: 130367.1484 - false_positives_8: 11419.7598 - true_positives_8: 136075.0469 - val_loss: 0.1014 - val_acc: 0.9529 - val_auc_8: 0.9873 - val_false_negatives_15: 5877.9673 - val_recall_8: 0.9615 - val_precision_8: 0.9236 - val_false_negatives_16: 5877.9673 - val_true_negatives_8: 140666.9531 - val_false_positives_8: 12158.3506 - val_true_positives_8: 146989.6562 - lr: 0.0010\n",
            "Epoch 8/100\n",
            "2216/2216 [==============================] - 14s 6ms/step - loss: 0.0895 - acc: 0.9604 - auc_8: 0.9878 - false_negatives_15: 6086.8604 - recall_8: 0.9628 - precision_8: 0.9247 - false_negatives_16: 6086.8604 - true_negatives_8: 151071.3281 - false_positives_8: 12855.9893 - true_positives_8: 157835.6875 - val_loss: 0.1315 - val_acc: 0.9432 - val_auc_8: 0.9882 - val_false_negatives_15: 6306.1265 - val_recall_8: 0.9640 - val_precision_8: 0.9254 - val_false_negatives_16: 6306.1265 - val_true_negatives_8: 161383.1094 - val_false_positives_8: 13593.0830 - val_true_positives_8: 168712.5469 - lr: 0.0010\n",
            "Epoch 9/100\n",
            "2216/2216 [==============================] - 14s 6ms/step - loss: 0.0845 - acc: 0.9626 - auc_8: 0.9886 - false_negatives_15: 6516.5293 - recall_8: 0.9650 - precision_8: 0.9262 - false_negatives_16: 6516.5293 - true_negatives_8: 171749.5781 - false_positives_8: 14301.9131 - true_positives_8: 179583.8281 - val_loss: 0.0954 - val_acc: 0.9573 - val_auc_8: 0.9890 - val_false_negatives_15: 6679.0991 - val_recall_8: 0.9661 - val_precision_8: 0.9271 - val_false_negatives_16: 6679.0991 - val_true_negatives_8: 182138.6562 - val_false_positives_8: 14988.4551 - val_true_positives_8: 190490.7188 - lr: 0.0010\n",
            "Epoch 10/100\n",
            "2216/2216 [==============================] - 14s 6ms/step - loss: 0.0798 - acc: 0.9646 - auc_8: 0.9894 - false_negatives_15: 6822.3306 - recall_8: 0.9672 - precision_8: 0.9279 - false_negatives_16: 6822.3306 - true_negatives_8: 192534.3281 - false_positives_8: 15646.6016 - true_positives_8: 201450.6406 - val_loss: 0.0992 - val_acc: 0.9593 - val_auc_8: 0.9897 - val_false_negatives_15: 6946.2637 - val_recall_8: 0.9683 - val_precision_8: 0.9285 - val_false_negatives_16: 6946.2637 - val_true_negatives_8: 202927.5938 - val_false_positives_8: 16350.7148 - val_true_positives_8: 212374.3438 - lr: 0.0010\n",
            "Epoch 11/100\n",
            "2216/2216 [==============================] - 14s 6ms/step - loss: 0.0766 - acc: 0.9652 - auc_8: 0.9900 - false_negatives_15: 7066.6235 - recall_8: 0.9693 - precision_8: 0.9292 - false_negatives_16: 7066.6235 - true_negatives_8: 213368.5625 - false_positives_8: 17011.5781 - true_positives_8: 223309.1562 - val_loss: 0.1318 - val_acc: 0.9458 - val_auc_8: 0.9902 - val_false_negatives_15: 7182.5200 - val_recall_8: 0.9703 - val_precision_8: 0.9295 - val_false_negatives_16: 7182.5200 - val_true_negatives_8: 223661.1562 - val_false_positives_8: 17768.1699 - val_true_positives_8: 234289.1719 - lr: 0.0010\n",
            "Epoch 12/100\n",
            "2216/2216 [==============================] - 14s 6ms/step - loss: 0.0713 - acc: 0.9665 - auc_8: 0.9904 - false_negatives_15: 7291.5381 - recall_8: 0.9711 - precision_8: 0.9299 - false_negatives_16: 7291.5381 - true_negatives_8: 234036.5469 - false_positives_8: 18489.8340 - true_positives_8: 245240.0938 - val_loss: 0.0992 - val_acc: 0.9585 - val_auc_8: 0.9906 - val_false_negatives_15: 7407.7905 - val_recall_8: 0.9719 - val_precision_8: 0.9304 - val_false_negatives_16: 7407.7905 - val_true_negatives_8: 244424.6406 - val_false_positives_8: 19155.6309 - val_true_positives_8: 256215.0156 - lr: 9.0484e-04\n",
            "Epoch 13/100\n",
            "2216/2216 [==============================] - 14s 6ms/step - loss: 0.0691 - acc: 0.9677 - auc_8: 0.9909 - false_negatives_15: 7512.6118 - recall_8: 0.9726 - precision_8: 0.9310 - false_negatives_16: 7512.6118 - true_negatives_8: 254830.6406 - false_positives_8: 19805.6855 - true_positives_8: 267210.9688 - val_loss: 0.0897 - val_acc: 0.9629 - val_auc_8: 0.9911 - val_false_negatives_15: 7606.5903 - val_recall_8: 0.9734 - val_precision_8: 0.9315 - val_false_negatives_16: 7606.5903 - val_true_negatives_8: 265285.4375 - val_false_positives_8: 20445.9707 - val_true_positives_8: 278167.2500 - lr: 8.1873e-04\n",
            "Epoch 14/100\n",
            "2216/2216 [==============================] - 14s 6ms/step - loss: 0.0643 - acc: 0.9697 - auc_8: 0.9913 - false_negatives_15: 7678.7041 - recall_8: 0.9741 - precision_8: 0.9321 - false_negatives_16: 7678.7041 - true_negatives_8: 275747.4062 - false_positives_8: 21061.1973 - true_positives_8: 289174.5000 - val_loss: 0.0938 - val_acc: 0.9615 - val_auc_8: 0.9915 - val_false_negatives_15: 7760.1318 - val_recall_8: 0.9748 - val_precision_8: 0.9326 - val_false_negatives_16: 7760.1318 - val_true_negatives_8: 286180.5625 - val_false_positives_8: 21701.6367 - val_true_positives_8: 300164.4688 - lr: 7.4082e-04\n",
            "Epoch 15/100\n",
            "2216/2216 [==============================] - 14s 6ms/step - loss: 0.0649 - acc: 0.9698 - auc_8: 0.9917 - false_negatives_15: 7841.0850 - recall_8: 0.9754 - precision_8: 0.9331 - false_negatives_16: 7841.0850 - true_negatives_8: 296680.1875 - false_positives_8: 22319.8008 - true_positives_8: 311122.9688 - val_loss: 0.0831 - val_acc: 0.9642 - val_auc_8: 0.9919 - val_false_negatives_15: 7906.2329 - val_recall_8: 0.9760 - val_precision_8: 0.9335 - val_false_negatives_16: 7906.2329 - val_true_negatives_8: 307079.0312 - val_false_positives_8: 22954.2676 - val_true_positives_8: 322169.3750 - lr: 6.7032e-04\n",
            "Epoch 16/100\n",
            "2216/2216 [==============================] - 14s 6ms/step - loss: 0.0602 - acc: 0.9709 - auc_8: 0.9920 - false_negatives_15: 7960.2529 - recall_8: 0.9767 - precision_8: 0.9339 - false_negatives_16: 7960.2529 - true_negatives_8: 317566.1562 - false_positives_8: 23583.0645 - true_positives_8: 333156.1875 - val_loss: 0.0803 - val_acc: 0.9641 - val_auc_8: 0.9922 - val_false_negatives_15: 8019.2959 - val_recall_8: 0.9772 - val_precision_8: 0.9343 - val_false_negatives_16: 8019.2959 - val_true_negatives_8: 327996.4688 - val_false_positives_8: 24187.7520 - val_true_positives_8: 344207.5625 - lr: 6.0653e-04\n",
            "Epoch 17/100\n",
            "2216/2216 [==============================] - 14s 6ms/step - loss: 0.0609 - acc: 0.9708 - auc_8: 0.9923 - false_negatives_15: 8084.3159 - recall_8: 0.9777 - precision_8: 0.9347 - false_negatives_16: 8084.3159 - true_negatives_8: 338512.9062 - false_positives_8: 24796.3496 - true_positives_8: 355174.3125 - val_loss: 0.0835 - val_acc: 0.9648 - val_auc_8: 0.9925 - val_false_negatives_15: 8135.8916 - val_recall_8: 0.9783 - val_precision_8: 0.9351 - val_false_negatives_16: 8135.8916 - val_true_negatives_8: 348911.1875 - val_false_positives_8: 25424.0723 - val_true_positives_8: 366241.7188 - lr: 5.4881e-04\n",
            "Epoch 18/100\n",
            "2216/2216 [==============================] - 14s 6ms/step - loss: 0.0582 - acc: 0.9714 - auc_8: 0.9926 - false_negatives_15: 8183.3574 - recall_8: 0.9788 - precision_8: 0.9355 - false_negatives_16: 8183.3574 - true_negatives_8: 359452.7812 - false_positives_8: 26015.1895 - true_positives_8: 377218.5625 - val_loss: 0.0857 - val_acc: 0.9652 - val_auc_8: 0.9927 - val_false_negatives_15: 8234.4551 - val_recall_8: 0.9792 - val_precision_8: 0.9358 - val_false_negatives_16: 8234.4551 - val_true_negatives_8: 369837.4688 - val_false_positives_8: 26648.6699 - val_true_positives_8: 388294.1875 - lr: 4.9659e-04\n",
            "Epoch 19/100\n",
            "2216/2216 [==============================] - 14s 6ms/step - loss: 0.0572 - acc: 0.9724 - auc_8: 0.9929 - false_negatives_15: 8271.2168 - recall_8: 0.9797 - precision_8: 0.9361 - false_negatives_16: 8271.2168 - true_negatives_8: 380325.5312 - false_positives_8: 27245.6504 - true_positives_8: 399329.7812 - val_loss: 0.0892 - val_acc: 0.9658 - val_auc_8: 0.9930 - val_false_negatives_15: 8311.0381 - val_recall_8: 0.9801 - val_precision_8: 0.9364 - val_false_negatives_16: 8311.0381 - val_true_negatives_8: 390783.0938 - val_false_positives_8: 27854.1016 - val_true_positives_8: 410368.7500 - lr: 4.4933e-04\n",
            "Epoch 20/100\n",
            "2216/2216 [==============================] - 14s 6ms/step - loss: 0.0556 - acc: 0.9728 - auc_8: 0.9931 - false_negatives_15: 8345.5664 - recall_8: 0.9806 - precision_8: 0.9368 - false_negatives_16: 8345.5664 - true_negatives_8: 401241.2188 - false_positives_8: 28441.8008 - true_positives_8: 421445.5938 - val_loss: 0.0912 - val_acc: 0.9643 - val_auc_8: 0.9932 - val_false_negatives_15: 8386.5898 - val_recall_8: 0.9810 - val_precision_8: 0.9370 - val_false_negatives_16: 8386.5898 - val_true_negatives_8: 411736.1562 - val_false_positives_8: 29052.1406 - val_true_positives_8: 432444.1875 - lr: 4.0657e-04\n",
            "Epoch 21/100\n",
            "2216/2216 [==============================] - 14s 6ms/step - loss: 0.0558 - acc: 0.9725 - auc_8: 0.9933 - false_negatives_15: 8428.3984 - recall_8: 0.9813 - precision_8: 0.9373 - false_negatives_16: 8428.3984 - true_negatives_8: 422236.9375 - false_positives_8: 29652.0820 - true_positives_8: 443458.5938 - val_loss: 0.0852 - val_acc: 0.9649 - val_auc_8: 0.9934 - val_false_negatives_15: 8465.7676 - val_recall_8: 0.9817 - val_precision_8: 0.9376 - val_false_negatives_16: 8465.7676 - val_true_negatives_8: 432677.2812 - val_false_positives_8: 30262.2266 - val_true_positives_8: 454515.9375 - lr: 3.6788e-04\n",
            "finish training cnn model\n"
          ],
          "name": "stdout"
        }
      ]
    },
    {
      "cell_type": "code",
      "metadata": {
        "id": "qFXgKV94H_RK",
        "colab_type": "code",
        "colab": {}
      },
      "source": [
        ""
      ],
      "execution_count": 0,
      "outputs": []
    }
  ]
}