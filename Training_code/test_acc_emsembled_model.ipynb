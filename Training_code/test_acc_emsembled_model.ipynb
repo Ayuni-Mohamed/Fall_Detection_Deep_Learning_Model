{
  "nbformat": 4,
  "nbformat_minor": 0,
  "metadata": {
    "colab": {
      "name": "test_acc_emsembled_model.ipynb",
      "provenance": [],
      "collapsed_sections": [],
      "machine_shape": "hm"
    },
    "kernelspec": {
      "name": "python3",
      "display_name": "Python 3"
    },
    "accelerator": "GPU"
  },
  "cells": [
    {
      "cell_type": "code",
      "metadata": {
        "id": "PkkYlvuLzV9m",
        "colab_type": "code",
        "colab": {}
      },
      "source": [
        "'''\n",
        "Use all data from UR dataset and Multiple Camera dataset to tune the ensembled model.\n",
        "'''\n",
        "\n",
        "import json\n",
        "import os\n",
        "import pandas as pd\n",
        "import csv\n",
        "from tensorflow import keras\n",
        "from numpy import array\n",
        "import matplotlib.pyplot as plt\n",
        "import sys"
      ],
      "execution_count": 0,
      "outputs": []
    },
    {
      "cell_type": "code",
      "metadata": {
        "id": "N8NdobkFzZaU",
        "colab_type": "code",
        "outputId": "861a420c-6723-487a-8873-3be81a950505",
        "colab": {
          "base_uri": "https://localhost:8080/",
          "height": 34
        }
      },
      "source": [
        "# read the video data csv,\n",
        "\n",
        "ur_path = '/content/drive/My Drive/636project/ur_data.csv'\n",
        "mc_fall_path = '/content/drive/My Drive/636project/mc_fall_data.csv'\n",
        "mc_notfall_path = '/content/drive/My Drive/636project/mc_notfall_data.csv'\n",
        "youtube_fall_path = '/content/drive/My Drive/636project/youtube_fall_data.csv'\n",
        "youtube_notfall_path = '/content/drive/My Drive/636project/youtube_notfall_data.csv'\n",
        "\n",
        "def read_data(path):\n",
        "  video_data = []\n",
        "  with open(path, mode='r') as csv_file:\n",
        "    reader = csv.reader(csv_file)\n",
        "    for row in reader:\n",
        "      video_data.append(row)\n",
        "  return video_data\n",
        "\n",
        "ur_data = read_data(ur_path)\n",
        "mc_fall_data = read_data(mc_fall_path)\n",
        "mc_notfall_data = read_data(mc_notfall_path)\n",
        "youtube_fall_data = read_data(youtube_fall_path)\n",
        "youtube_notfall_data = read_data(youtube_notfall_path)\n",
        "\n",
        "# read target label of UR dataset. \n",
        "\n",
        "target = []\n",
        "path1 = '/content/drive/My Drive/636project/target/urfall-cam0-falls.csv'\n",
        "path2 = '/content/drive/My Drive/636project/target/urfall-cam0-adls.csv'\n",
        "# in these csv of UR dataset, \n",
        "# '-1' means person is not lying, '1' means person is lying on the ground; '0' is temporary pose, when person \"is falling\"\n",
        "\n",
        "def input_fall(path):\n",
        "  with open(path, mode='r') as csv_file:\n",
        "    reader = csv.reader(csv_file)\n",
        "    for row in reader:\n",
        "      record = []\n",
        "      record.append(row[0])\n",
        "      record.append(row[1])\n",
        "      label = row[2]\n",
        "      if label == '1' or label == '0':\n",
        "        record.append(1)        \n",
        "      else:\n",
        "        record.append(0)\n",
        "      # each record: [<video_id>, <frame_id>, label], eg: ['fall-17', '22', 0] \n",
        "      target.append(record)\n",
        "\n",
        "# laying in the adl(activities of daily living) video, but it is not fall, so I mark 0 as label\n",
        "def input_adl(path):\n",
        "  with open(path, mode='r') as csv_file:\n",
        "    reader = csv.reader(csv_file)\n",
        "    for row in reader:\n",
        "      record = []\n",
        "      record.append(row[0])\n",
        "      record.append(row[1])\n",
        "      record.append(0)\n",
        "      target.append(record)\n",
        "\n",
        "input_fall(path1)\n",
        "print(\"falls of UR dataset\", len(target))\n",
        "\n",
        "input_adl(path2)\n",
        "\n",
        "df = pd.DataFrame.from_records(target)\n",
        "df.to_csv (r'/content/drive/My Drive/636project/target_data.csv', index = False, header=False)\n",
        "\n",
        "# make dictionary of target of ur dataset\n",
        "target_csv_path = '/content/drive/My Drive/636project/target_data.csv'\n",
        "idx = 0\n",
        "idx_dict = {}\n",
        "\n",
        "with open(target_csv_path, mode='r') as csv_file:\n",
        "  reader = csv.reader(csv_file)\n",
        "  for row in reader:\n",
        "    # each row: [<video_id>, <frame_id>, label], eg: ['fall-17', '22', 0] \n",
        "    idx_dict['.'.join(row[:2])] = idx  # {'fall-17.22' : 112}\n",
        "    idx += 1\n"
      ],
      "execution_count": 0,
      "outputs": [
        {
          "output_type": "stream",
          "text": [
            "falls of UR dataset 2995\n"
          ],
          "name": "stdout"
        }
      ]
    },
    {
      "cell_type": "code",
      "metadata": {
        "id": "Eo0llC0MzrWT",
        "colab_type": "code",
        "outputId": "0e67f409-61bf-43ce-be44-3a81dd31c2a6",
        "colab": {
          "base_uri": "https://localhost:8080/",
          "height": 224
        }
      },
      "source": [
        "# match body landmark data with label data of ur dataset\n",
        "bodylandmark = []\n",
        "label = []\n",
        "frame_name = []\n",
        "\n",
        "for landmark in ur_data:\n",
        "  video_name = landmark[-1].split('_')  # 'fall-01-cam0_000000000004'\n",
        "  a = video_name[0].split('-')\n",
        "  video_type = a[0] # 'fall'\n",
        "  video_id = a[1]   # '01'\n",
        "  frame_id = str(int(video_name[1])) # '000000000004' become '4'\n",
        "  try:\n",
        "    a = '.'.join([video_id, frame_id])\n",
        "    b = '-'.join([video_type, a])\n",
        "    label.append(target[idx_dict[b]][-1])\n",
        "    bl = landmark[:-1]\n",
        "    # convert string into float\n",
        "    bl = list(map(float,bl))\n",
        "    bodylandmark.append(bl)\n",
        "    frameName = landmark[-1]\n",
        "    frame_name.append(frameName)\n",
        "  except:\n",
        "    continue\n",
        "\n",
        "print(\"bodylandmark record sample of ur dataset:\" )\n",
        "print(bodylandmark[0])\n",
        "print(\"label of ur dataset: \", len(label))\n",
        "print(\"bodylandmark of ur dataset: \", len(bodylandmark))\n",
        "print(frame_name[0])\n",
        "\n",
        "# add data of MC dataset to the whole dataset\n",
        "# For MC dataset, all frames in fall data should be label 1, \n",
        "# and all frames in notfall data should be label 0.\n",
        "for record in mc_fall_data:\n",
        "  bl = record[:-1]\n",
        "  bl = list(map(float,bl))\n",
        "  bodylandmark.append(bl)\n",
        "  label.append(1)\n",
        "  frameName = record[-1]\n",
        "  frame_name.append(frameName)\n",
        "\n",
        "for record in mc_notfall_data:\n",
        "  bl = record[:-1]\n",
        "  bl = list(map(float,bl))\n",
        "  bodylandmark.append(bl)\n",
        "  label.append(0)\n",
        "  frameName = record[-1]\n",
        "  frame_name.append(frameName)\n",
        "\n",
        "# add data of youtube dataset to the whole dataset\n",
        "# For youtube dataset, all frames in fall data should be label 1, \n",
        "# and all frames in notfall data should be label 0.\n",
        "for record in youtube_fall_data:\n",
        "  bl = record[:-1]\n",
        "  bl = list(map(float,bl))\n",
        "  bodylandmark.append(bl)\n",
        "  label.append(1)\n",
        "  frameName = record[-1]\n",
        "  frame_name.append(frameName)\n",
        "\n",
        "for record in youtube_notfall_data:\n",
        "  bl = record[:-1]\n",
        "  bl = list(map(float,bl))\n",
        "  bodylandmark.append(bl)\n",
        "  label.append(0)\n",
        "  frameName = record[-1]\n",
        "  frame_name.append(frameName)\n",
        "\n",
        "# normalize data \n",
        "for record in bodylandmark:\n",
        "  for i in range(0, 63, 3):\n",
        "    record[i] = float(record[i])/ 640\n",
        "    record[i + 1] = float(record[i + 1]) / 480\n",
        "\n",
        "print(bodylandmark[0])\n",
        "print(len(label))\n",
        "print(len(bodylandmark))\n",
        "\n",
        "# make bodylandmark and label to be a same data frame\n",
        "all_data = []\n",
        "\n",
        "for i in range(len(bodylandmark)):\n",
        "  all_data.append([label[i]])\n",
        "  all_data[i] = all_data[i] + bodylandmark[i]\n",
        "\n",
        "print(all_data[0])\n",
        "print(len(all_data))\n",
        "print(len(all_data[0]))\n"
      ],
      "execution_count": 0,
      "outputs": [
        {
          "output_type": "stream",
          "text": [
            "bodylandmark record sample of ur dataset:\n",
            "[520.972, 128.178, 0.833728, 544.571, 130.782, 0.739747, 540.636, 132.754, 0.726633, 553.086, 154.999, 0.800764, 541.285, 166.155, 0.742877, 549.144, 129.467, 0.745059, 572.703, 155.035, 0.841464, 543.266, 171.369, 0.817947, 572.067, 169.415, 0.607432, 564.874, 166.16, 0.534525, 526.875, 181.191, 0.862423, 554.389, 217.851, 0.612664, 577.962, 170.732, 0.619415, 535.402, 188.398, 0.760066, 560.284, 220.479, 0.65847, 545.882, 232.266, 0.604373, 553.078, 232.915, 0.532739, 566.184, 222.453, 0.655722, 541.939, 229.002, 0.399536, 541.943, 227.687, 0.344383, 560.285, 217.223, 0.153482]\n",
            "label of ur dataset:  11475\n",
            "bodylandmark of ur dataset:  11475\n",
            "fall-16-cam0_000000000016_keypoints\n",
            "[0.81401875, 0.2670375, 0.833728, 0.8508921875000001, 0.2724625, 0.739747, 0.8447437499999999, 0.2765708333333333, 0.726633, 0.864196875, 0.32291458333333334, 0.800764, 0.8457578124999999, 0.34615625, 0.742877, 0.8580375, 0.2697229166666667, 0.745059, 0.8948484375, 0.32298958333333333, 0.841464, 0.848853125, 0.35701875, 0.817947, 0.8938546875, 0.35294791666666664, 0.607432, 0.882615625, 0.3461666666666667, 0.534525, 0.8232421875, 0.37748125, 0.862423, 0.8662328125000001, 0.45385625, 0.612664, 0.903065625, 0.3556916666666667, 0.619415, 0.8365656250000001, 0.3924958333333333, 0.760066, 0.87544375, 0.45933125, 0.65847, 0.8529406249999999, 0.48388749999999997, 0.604373, 0.864184375, 0.48523958333333334, 0.532739, 0.8846624999999999, 0.46344375, 0.655722, 0.8467796875, 0.4770875, 0.399536, 0.8467859375, 0.4743479166666667, 0.344383, 0.8754453124999999, 0.4525479166666667, 0.153482]\n",
            "33678\n",
            "33678\n",
            "[0, 0.81401875, 0.2670375, 0.833728, 0.8508921875000001, 0.2724625, 0.739747, 0.8447437499999999, 0.2765708333333333, 0.726633, 0.864196875, 0.32291458333333334, 0.800764, 0.8457578124999999, 0.34615625, 0.742877, 0.8580375, 0.2697229166666667, 0.745059, 0.8948484375, 0.32298958333333333, 0.841464, 0.848853125, 0.35701875, 0.817947, 0.8938546875, 0.35294791666666664, 0.607432, 0.882615625, 0.3461666666666667, 0.534525, 0.8232421875, 0.37748125, 0.862423, 0.8662328125000001, 0.45385625, 0.612664, 0.903065625, 0.3556916666666667, 0.619415, 0.8365656250000001, 0.3924958333333333, 0.760066, 0.87544375, 0.45933125, 0.65847, 0.8529406249999999, 0.48388749999999997, 0.604373, 0.864184375, 0.48523958333333334, 0.532739, 0.8846624999999999, 0.46344375, 0.655722, 0.8467796875, 0.4770875, 0.399536, 0.8467859375, 0.4743479166666667, 0.344383, 0.8754453124999999, 0.4525479166666667, 0.153482]\n",
            "33678\n",
            "64\n"
          ],
          "name": "stdout"
        }
      ]
    },
    {
      "cell_type": "code",
      "metadata": {
        "id": "P52J99fdDLKd",
        "colab_type": "code",
        "outputId": "361770b5-b0f3-46b6-b3cf-0859b7d04d1a",
        "colab": {
          "base_uri": "https://localhost:8080/",
          "height": 119
        }
      },
      "source": [
        "# df = pd.DataFrame.from_records(all_data)\n",
        "test_cnn = []\n",
        "test_lstm = []\n",
        "y_test = []\n",
        "correct = 0\n",
        "incorrect = 0\n",
        "cnn_correct = 0\n",
        "cnn_incorrect = 0\n",
        "lstm_correct = 0\n",
        "lstm_incorrect = 0\n",
        "\n",
        "for record in all_data:\n",
        "  test_cnn.append(record[1:])\n",
        "  test_lstm.append(record[1:])\n",
        "  label = int(record[0])\n",
        "  y_test.append(label) \n",
        "\n",
        "\n",
        "# use model and write the json file for a video\n",
        "print(\"loading model and computing probability for each frame...\")\n",
        "cnn_model = keras.models.load_model('/content/drive/My Drive/636project/model_improved_cnn.h5')\n",
        "lstm_model = keras.models.load_model('/content/drive/My Drive/636project/model_improved_lstm.h5')\n",
        "\n",
        "# for cnn model, reshape and predict\n",
        "test_cnn = array(test_cnn)\n",
        "test_cnn = test_cnn.reshape((len(test_cnn), 3, int(len(test_cnn[0])/3), 1))\n",
        "probability_cnn = cnn_model.predict_proba(test_cnn)\n",
        "\n",
        "# for lstm model, reshape and predict\n",
        "test_lstm = array(test_lstm)\n",
        "test_lstm = test_lstm.reshape((len(test_lstm), 1, len(test_lstm[0])))\n",
        "probability_lstm = lstm_model.predict_proba(test_lstm)\n",
        "\n",
        "# emsemble the prediction of cnn and lstm model\n",
        "frame_num = 0\n",
        "\n",
        "# fp: false positive\n",
        "# fn: false negative\n",
        "fp = []\n",
        "fn = []\n",
        "\n",
        "for i in range(len(probability_cnn)):\n",
        "    timestamp = frame_num / 30\n",
        "    probability_fall = float(probability_cnn[i][0]) * 0.9 + float(probability_lstm[i][0]) * 0.1\n",
        "  # emsembled model\n",
        "    if probability_fall < 0.5:\n",
        "      prediction = 0.0\n",
        "    else:\n",
        "      prediction = 1.0\n",
        "\n",
        "    if prediction == float(y_test[i]):\n",
        "      correct += 1\n",
        "    else:\n",
        "      incorrect += 1\n",
        "      if prediction == 1.0:\n",
        "        fp.append(i)\n",
        "      else:\n",
        "        fn.append(i)\n",
        "\n",
        "  # cnn model\n",
        "    if probability_cnn[i][0] < 0.5:\n",
        "      prediction_cnn = 0.0\n",
        "    else:\n",
        "      prediction_cnn = 1.0\n",
        "\n",
        "    if prediction_cnn == float(y_test[i]):\n",
        "      cnn_correct += 1\n",
        "    else:\n",
        "      cnn_incorrect += 1\n",
        "\n",
        "  # lstm model\n",
        "    if probability_lstm[i][0] < 0.5:\n",
        "      prediction_lstm = 0.0\n",
        "    else:\n",
        "      prediction_lstm = 1.0\n",
        "\n",
        "    if prediction_lstm == float(y_test[i]):\n",
        "      lstm_correct += 1\n",
        "    else:\n",
        "      lstm_incorrect += 1\n",
        "\n",
        "print('finish prediction')\n",
        "\n",
        "print('emsembled model')\n",
        "print(correct)\n",
        "print(incorrect)\n",
        "print(correct / (correct + incorrect))"
      ],
      "execution_count": 0,
      "outputs": [
        {
          "output_type": "stream",
          "text": [
            "loading model and computing probability for each frame...\n",
            "finish prediction\n",
            "emsembled model\n",
            "32369\n",
            "1309\n",
            "0.9611318961933607\n"
          ],
          "name": "stdout"
        }
      ]
    },
    {
      "cell_type": "code",
      "metadata": {
        "id": "j0LfRnmw0giL",
        "colab_type": "code",
        "outputId": "36554985-6cb5-4e20-a868-82ec3a5c0c0f",
        "colab": {
          "base_uri": "https://localhost:8080/",
          "height": 85
        }
      },
      "source": [
        "print('emsembled model')\n",
        "print(correct)\n",
        "print(incorrect)\n",
        "print(correct / (correct + incorrect))"
      ],
      "execution_count": 0,
      "outputs": [
        {
          "output_type": "stream",
          "text": [
            "emsembled model\n",
            "31531\n",
            "2147\n",
            "0.9362491834431973\n"
          ],
          "name": "stdout"
        }
      ]
    },
    {
      "cell_type": "code",
      "metadata": {
        "id": "U50zDMTU3R8V",
        "colab_type": "code",
        "outputId": "50b1be3c-218d-4d8e-bd7c-3d8fe96d2df2",
        "colab": {
          "base_uri": "https://localhost:8080/",
          "height": 85
        }
      },
      "source": [
        "print('cnn model')\n",
        "print(cnn_correct)\n",
        "print(cnn_incorrect)\n",
        "print(cnn_correct / (cnn_correct + cnn_incorrect))"
      ],
      "execution_count": 0,
      "outputs": [
        {
          "output_type": "stream",
          "text": [
            "cnn model\n",
            "32370\n",
            "1308\n",
            "0.9611615891680029\n"
          ],
          "name": "stdout"
        }
      ]
    },
    {
      "cell_type": "code",
      "metadata": {
        "id": "g3LymLMu4NMq",
        "colab_type": "code",
        "outputId": "e35ed7f0-96ac-4b02-d1f8-6ff24bae3351",
        "colab": {
          "base_uri": "https://localhost:8080/",
          "height": 85
        }
      },
      "source": [
        "print('lstm model')\n",
        "print(lstm_correct)\n",
        "print(lstm_incorrect)\n",
        "print(lstm_correct / (lstm_correct + lstm_incorrect))"
      ],
      "execution_count": 0,
      "outputs": [
        {
          "output_type": "stream",
          "text": [
            "lstm model\n",
            "31430\n",
            "2248\n",
            "0.9332501930043352\n"
          ],
          "name": "stdout"
        }
      ]
    },
    {
      "cell_type": "code",
      "metadata": {
        "id": "7PINZU9zeXGD",
        "colab_type": "code",
        "outputId": "671184fa-6cdc-4010-e701-8175f7c653f3",
        "colab": {
          "base_uri": "https://localhost:8080/",
          "height": 34
        }
      },
      "source": [
        "frame_name[0]"
      ],
      "execution_count": 0,
      "outputs": [
        {
          "output_type": "execute_result",
          "data": {
            "text/plain": [
              "'fall-16-cam0_000000000016_keypoints'"
            ]
          },
          "metadata": {
            "tags": []
          },
          "execution_count": 8
        }
      ]
    },
    {
      "cell_type": "code",
      "metadata": {
        "id": "GcSk1zdS4Ym_",
        "colab_type": "code",
        "outputId": "2c948af8-45c4-4340-dd8e-101d83fb75e5",
        "colab": {
          "base_uri": "https://localhost:8080/",
          "height": 51
        }
      },
      "source": [
        "# get name of fail frames\n",
        "false_positive_frames = []\n",
        "false_negative_frames = []\n",
        "\n",
        "for fail in fp:\n",
        "  false_positive_frames.append(frame_name[fail])\n",
        "\n",
        "\n",
        "for fail in fn:\n",
        "  false_negative_frames.append(frame_name[fail])\n",
        "\n",
        "print(len(false_positive_frames))\n",
        "print(len(false_negative_frames))"
      ],
      "execution_count": 0,
      "outputs": [
        {
          "output_type": "stream",
          "text": [
            "1185\n",
            "124\n"
          ],
          "name": "stdout"
        }
      ]
    },
    {
      "cell_type": "code",
      "metadata": {
        "id": "H7Ci9Iixe1te",
        "colab_type": "code",
        "colab": {}
      },
      "source": [
        "# save names of fail frames\n",
        "df_false_negative = pd.DataFrame.from_records(false_negative_frames)\n",
        "df_false_negative.to_csv (r'/content/drive/My Drive/636project/false_negative_frames.csv', index = False, header=False)\n",
        "df_false_positive = pd.DataFrame.from_records(false_positive_frames)\n",
        "df_false_positive.to_csv (r'/content/drive/My Drive/636project/false_positive_frames.csv', index = False, header=False)"
      ],
      "execution_count": 0,
      "outputs": []
    },
    {
      "cell_type": "code",
      "metadata": {
        "id": "muV8b25we5-E",
        "colab_type": "code",
        "colab": {}
      },
      "source": [
        ""
      ],
      "execution_count": 0,
      "outputs": []
    }
  ]
}