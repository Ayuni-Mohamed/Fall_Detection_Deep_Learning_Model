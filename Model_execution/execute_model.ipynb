{
  "nbformat": 4,
  "nbformat_minor": 0,
  "metadata": {
    "colab": {
      "name": "execute_model.ipynb",
      "provenance": [],
      "collapsed_sections": []
    },
    "kernelspec": {
      "name": "python3",
      "display_name": "Python 3"
    }
  },
  "cells": [
    {
      "cell_type": "code",
      "metadata": {
        "id": "ZnT7mHnrFzM7",
        "colab_type": "code",
        "colab": {}
      },
      "source": [
        "import json\n",
        "import os\n",
        "import pandas as pd\n",
        "import csv\n",
        "import keras\n",
        "from numpy import array\n",
        "import matplotlib.pyplot as plt"
      ],
      "execution_count": 0,
      "outputs": []
    },
    {
      "cell_type": "code",
      "metadata": {
        "id": "P52J99fdDLKd",
        "colab_type": "code",
        "colab": {}
      },
      "source": [
        "# the bodylandmark directory for a vedio\n",
        "video_landmark_path = '/content/drive/My Drive/636project/data/adl_UR/adl-20-cam0'\n",
        "\n",
        "data = []\n",
        "\n",
        "# read json 2-d pose as data, without using: \n",
        "#     {15, \"REye\"},\n",
        "#     {16, \"LEye\"},\n",
        "#     {17, \"REar\"},\n",
        "#     {18, \"LEar\"}\n",
        "frames = os.listdir(video_landmark_path)\n",
        "\n",
        "for frame in frames:\n",
        "  frame_path = os.path.join(video_landmark_path, frame)\n",
        "  with open(frame_path, mode='r') as json_file:\n",
        "    people_dict = json.load(json_file)\n",
        "    people = people_dict[\"people\"]\n",
        "    pose_keypoints_2d = []\n",
        "    # fill missing data as 0\n",
        "    if len(people) == 0:\n",
        "      pose_keypoints_2d = [0] * 63\n",
        "    else:\n",
        "      full_pose = people[0].get(\"pose_keypoints_2d\")\n",
        "      pose_keypoints_2d = full_pose[:45] + full_pose[57:]\n",
        "    # each pose_keypoints_2d: \n",
        "    # [431.949, 196.241, 0.0564434, 437.194, 187.749, 0.552267,...]\n",
        "    frame_number = int(frame.split('.')[0].split('_')[1])\n",
        "    pose_keypoints_2d.append(frame_number)\n",
        "    data.append(pose_keypoints_2d) \n",
        "\n",
        "data = sorted(data, key=lambda l:l[-1])\n",
        "\n",
        "for d in data:\n",
        "  d.remove(d[-1])\n",
        "\n",
        "df = pd.DataFrame.from_records(data)\n",
        "df.to_csv (r'/content/drive/My Drive/636project/data.csv', index = False, header=False)"
      ],
      "execution_count": 0,
      "outputs": []
    },
    {
      "cell_type": "code",
      "metadata": {
        "id": "NDgYo2cICAq8",
        "colab_type": "code",
        "colab": {}
      },
      "source": [
        "# use model and write the json file for a video\n",
        "print(\"loading model and computing probability for each frame...\")\n",
        "model = keras.models.load_model('/content/drive/My Drive/636project/model.h5')\n",
        "dictionary = {}\n",
        "dictionary['falling'] = []\n",
        "test = []\n",
        "\n",
        "# normalize data \n",
        "with open('/content/drive/My Drive/636project/data.csv', mode='r') as csv_file:\n",
        "  reader = csv.reader(csv_file)\n",
        "  for record in reader:\n",
        "    for i in range(0, 63, 3):\n",
        "      record[i] = float(record[i])/ 640\n",
        "      record[i + 1] = float(record[i + 1]) / 480\n",
        "    test.append(record)\n",
        "\n",
        "test = array(test)\n",
        "test = test.reshape((len(test), 1, len(test[0])))\n",
        "probality = model.predict_proba(test)\n",
        "\n",
        "frame_num = 0\n",
        "for i in range(len(probality)):\n",
        "    timestamp = frame_num / 30\n",
        "    probability_fall = float(probality[i][0])\n",
        "    to_add = [timestamp, probability_fall]\n",
        "    dictionary['falling'].append(to_add)\n",
        "    frame_num +=1\n",
        "\n",
        "# Serializing json  \n",
        "json_object = json.dumps(dictionary) \n",
        "  \n",
        "print(\"complete computing, and the result has been written to json file\")\n",
        "# Writing to sample.json \n",
        "with open(\"/content/drive/My Drive/636project/result.json\", \"w\") as outfile: \n",
        "    outfile.write(json_object) "
      ],
      "execution_count": 0,
      "outputs": []
    },
    {
      "cell_type": "code",
      "metadata": {
        "id": "lBUqP1b4F9uL",
        "colab_type": "code",
        "colab": {}
      },
      "source": [
        "df = pd.DataFrame(dictionary['heads up'])\n",
        "df.plot(x=0, y=1)\n",
        "plt.savefig('/content/drive/My Drive/636project/output_plot.png')"
      ],
      "execution_count": 0,
      "outputs": []
    },
    {
      "cell_type": "code",
      "metadata": {
        "id": "AcKMICbWjjk4",
        "colab_type": "code",
        "colab": {}
      },
      "source": [
        ""
      ],
      "execution_count": 0,
      "outputs": []
    }
  ]
}