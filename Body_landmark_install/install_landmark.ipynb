{
  "nbformat": 4,
  "nbformat_minor": 0,
  "metadata": {
    "colab": {
      "name": "install_landmark.ipynb",
      "provenance": [],
      "collapsed_sections": [],
      "toc_visible": true
    },
    "kernelspec": {
      "name": "python3",
      "display_name": "Python 3"
    },
    "accelerator": "GPU"
  },
  "cells": [
    {
      "cell_type": "code",
      "metadata": {
        "id": "72VHer44JRB0",
        "colab_type": "code",
        "colab": {}
      },
      "source": [
        "import os\n",
        "from os.path import exists, join, basename, splitext\n",
        "\n",
        "git_repo_url = 'https://github.com/CMU-Perceptual-Computing-Lab/openpose.git'\n",
        "project_name = splitext(basename(git_repo_url))[0]\n",
        "if not exists(project_name):\n",
        "  # see: https://github.com/CMU-Perceptual-Computing-Lab/openpose/issues/949\n",
        "  # install new CMake becaue of CUDA10\n",
        "  !wget -q https://cmake.org/files/v3.13/cmake-3.13.0-Linux-x86_64.tar.gz\n",
        "  !tar xfz cmake-3.13.0-Linux-x86_64.tar.gz --strip-components=1 -C /usr/local\n",
        "  # clone openpose\n",
        "  !git clone -q --depth 1 $git_repo_url\n",
        "  !sed -i 's/execute_process(COMMAND git checkout master WORKING_DIRECTORY ${CMAKE_SOURCE_DIR}\\/3rdparty\\/caffe)/execute_process(COMMAND git checkout f019d0dfe86f49d1140961f8c7dec22130c83154 WORKING_DIRECTORY ${CMAKE_SOURCE_DIR}\\/3rdparty\\/caffe)/g' openpose/CMakeLists.txt\n",
        "  # install system dependencies\n",
        "  !apt-get -qq install -y libatlas-base-dev libprotobuf-dev libleveldb-dev libsnappy-dev libhdf5-serial-dev protobuf-compiler libgflags-dev libgoogle-glog-dev liblmdb-dev opencl-headers ocl-icd-opencl-dev libviennacl-dev\n",
        "  # install python dependencies\n",
        "  !pip install -q youtube-dl\n",
        "  # build openpose\n",
        "  !cd openpose && rm -rf build || true && mkdir build && cd build && cmake .. && make -j`nproc`\n",
        "\n",
        "!cd openpose"
      ],
      "execution_count": 0,
      "outputs": []
    },
    {
      "cell_type": "code",
      "metadata": {
        "id": "bjwf5w8MJYKd",
        "colab_type": "code",
        "colab": {}
      },
      "source": [
        "!ls"
      ],
      "execution_count": 0,
      "outputs": []
    },
    {
      "cell_type": "code",
      "metadata": {
        "id": "amqIR2E0RduE",
        "colab_type": "code",
        "outputId": "93dcd005-4add-438f-890c-cf1fee225afd",
        "colab": {
          "base_uri": "https://localhost:8080/",
          "height": 34
        }
      },
      "source": [
        "cd openpose"
      ],
      "execution_count": 0,
      "outputs": [
        {
          "output_type": "stream",
          "text": [
            "/content/openpose\n"
          ],
          "name": "stdout"
        }
      ]
    },
    {
      "cell_type": "code",
      "metadata": {
        "id": "0j5-VvMTRgqe",
        "colab_type": "code",
        "outputId": "819644fe-13e2-4733-dccd-7edc6b77edfb",
        "colab": {
          "base_uri": "https://localhost:8080/",
          "height": 51
        }
      },
      "source": [
        "!ls"
      ],
      "execution_count": 0,
      "outputs": [
        {
          "output_type": "stream",
          "text": [
            "3rdparty      build  CMakeLists.txt  examples  LICENSE\tpython\t   scripts\n",
            "appveyor.yml  cmake  doc\t     include   models\tREADME.md  src\n"
          ],
          "name": "stdout"
        }
      ]
    },
    {
      "cell_type": "code",
      "metadata": {
        "id": "2gm3fv5IRh6G",
        "colab_type": "code",
        "outputId": "f7dc6736-a148-4d6c-91ef-8bd568c4df0e",
        "colab": {
          "base_uri": "https://localhost:8080/",
          "height": 1000
        }
      },
      "source": [
        "!python extract_landmark.py"
      ],
      "execution_count": 0,
      "outputs": [
        {
          "output_type": "stream",
          "text": [
            "Starting OpenPose demo...\n",
            "Configuring OpenPose...\n",
            "Starting thread(s)...\n",
            "Auto-detecting all available GPUs... Detected 1 GPU(s), using 1 of them starting at GPU 0.\n",
            "Empty frame detected, frame number 37 of 152. In /content/openpose/src/openpose/producer/producer.cpp:checkFrameIntegrity():290\n",
            "Empty frame detected, frame number 37 of 152. In /content/openpose/src/openpose/producer/producer.cpp:checkFrameIntegrity():290\n",
            "Empty frame detected, frame number 37 of 152. In /content/openpose/src/openpose/producer/producer.cpp:checkFrameIntegrity():290\n",
            "OpenPose demo successfully finished. Total time: 15.888423 seconds.\n",
            "Starting OpenPose demo...\n",
            "Configuring OpenPose...\n",
            "Starting thread(s)...\n",
            "Auto-detecting all available GPUs... Detected 1 GPU(s), using 1 of them starting at GPU 0.\n",
            "OpenPose demo successfully finished. Total time: 13.380429 seconds.\n",
            "Starting OpenPose demo...\n",
            "Configuring OpenPose...\n",
            "Starting thread(s)...\n",
            "Auto-detecting all available GPUs... Detected 1 GPU(s), using 1 of them starting at GPU 0.\n",
            "Empty frame detected, frame number 24 of 74. In /content/openpose/src/openpose/producer/producer.cpp:checkFrameIntegrity():290\n",
            "Empty frame detected, frame number 24 of 74. In /content/openpose/src/openpose/producer/producer.cpp:checkFrameIntegrity():290\n",
            "Empty frame detected, frame number 24 of 74. In /content/openpose/src/openpose/producer/producer.cpp:checkFrameIntegrity():290\n",
            "OpenPose demo successfully finished. Total time: 12.194721 seconds.\n",
            "Starting OpenPose demo...\n",
            "Configuring OpenPose...\n",
            "Starting thread(s)...\n",
            "Auto-detecting all available GPUs... Detected 1 GPU(s), using 1 of them starting at GPU 0.\n",
            "Empty frame detected, frame number 114 of 147. In /content/openpose/src/openpose/producer/producer.cpp:checkFrameIntegrity():290\n",
            "Empty frame detected, frame number 114 of 147. In /content/openpose/src/openpose/producer/producer.cpp:checkFrameIntegrity():290\n",
            "Empty frame detected, frame number 114 of 147. In /content/openpose/src/openpose/producer/producer.cpp:checkFrameIntegrity():290\n",
            "OpenPose demo successfully finished. Total time: 33.176671 seconds.\n",
            "Starting OpenPose demo...\n",
            "Configuring OpenPose...\n",
            "Starting thread(s)...\n",
            "Auto-detecting all available GPUs... Detected 1 GPU(s), using 1 of them starting at GPU 0.\n",
            "Empty frame detected, frame number 43 of 94. In /content/openpose/src/openpose/producer/producer.cpp:checkFrameIntegrity():290\n",
            "Empty frame detected, frame number 43 of 94. In /content/openpose/src/openpose/producer/producer.cpp:checkFrameIntegrity():290\n",
            "Empty frame detected, frame number 43 of 94. In /content/openpose/src/openpose/producer/producer.cpp:checkFrameIntegrity():290\n",
            "OpenPose demo successfully finished. Total time: 15.540723 seconds.\n",
            "Starting OpenPose demo...\n",
            "Configuring OpenPose...\n",
            "Starting thread(s)...\n",
            "Auto-detecting all available GPUs... Detected 1 GPU(s), using 1 of them starting at GPU 0.\n",
            "Empty frame detected, frame number 371 of 396. In /content/openpose/src/openpose/producer/producer.cpp:checkFrameIntegrity():290\n",
            "Empty frame detected, frame number 371 of 396. In /content/openpose/src/openpose/producer/producer.cpp:checkFrameIntegrity():290\n",
            "Empty frame detected, frame number 371 of 396. In /content/openpose/src/openpose/producer/producer.cpp:checkFrameIntegrity():290\n",
            "OpenPose demo successfully finished. Total time: 59.970187 seconds.\n",
            "Starting OpenPose demo...\n",
            "Configuring OpenPose...\n",
            "Starting thread(s)...\n",
            "Auto-detecting all available GPUs... Detected 1 GPU(s), using 1 of them starting at GPU 0.\n",
            "Empty frame detected, frame number 15 of 68. In /content/openpose/src/openpose/producer/producer.cpp:checkFrameIntegrity():290\n",
            "Empty frame detected, frame number 15 of 68. In /content/openpose/src/openpose/producer/producer.cpp:checkFrameIntegrity():290\n",
            "Empty frame detected, frame number 15 of 68. In /content/openpose/src/openpose/producer/producer.cpp:checkFrameIntegrity():290\n",
            "OpenPose demo successfully finished. Total time: 11.010159 seconds.\n",
            "Starting OpenPose demo...\n",
            "Configuring OpenPose...\n",
            "Starting thread(s)...\n",
            "Auto-detecting all available GPUs... Detected 1 GPU(s), using 1 of them starting at GPU 0.\n",
            "Empty frame detected, frame number 178 of 206. In /content/openpose/src/openpose/producer/producer.cpp:checkFrameIntegrity():290\n",
            "Empty frame detected, frame number 178 of 206. In /content/openpose/src/openpose/producer/producer.cpp:checkFrameIntegrity():290\n",
            "Empty frame detected, frame number 178 of 206. In /content/openpose/src/openpose/producer/producer.cpp:checkFrameIntegrity():290\n",
            "OpenPose demo successfully finished. Total time: 17.378127 seconds.\n",
            "Starting OpenPose demo...\n",
            "Configuring OpenPose...\n",
            "Starting thread(s)...\n",
            "Auto-detecting all available GPUs... Detected 1 GPU(s), using 1 of them starting at GPU 0.\n",
            "Empty frame detected, frame number 95 of 125. In /content/openpose/src/openpose/producer/producer.cpp:checkFrameIntegrity():290\n",
            "Empty frame detected, frame number 95 of 125. In /content/openpose/src/openpose/producer/producer.cpp:checkFrameIntegrity():290\n",
            "Empty frame detected, frame number 95 of 125. In /content/openpose/src/openpose/producer/producer.cpp:checkFrameIntegrity():290\n",
            "OpenPose demo successfully finished. Total time: 20.358093 seconds.\n",
            "Starting OpenPose demo...\n",
            "Configuring OpenPose...\n",
            "Starting thread(s)...\n",
            "Auto-detecting all available GPUs... Detected 1 GPU(s), using 1 of them starting at GPU 0.\n",
            "OpenPose demo successfully finished. Total time: 47.385324 seconds.\n",
            "Starting OpenPose demo...\n",
            "Configuring OpenPose...\n",
            "Starting thread(s)...\n",
            "Auto-detecting all available GPUs... Detected 1 GPU(s), using 1 of them starting at GPU 0.\n",
            "Empty frame detected, frame number 178 of 202. In /content/openpose/src/openpose/producer/producer.cpp:checkFrameIntegrity():290\n",
            "Empty frame detected, frame number 178 of 202. In /content/openpose/src/openpose/producer/producer.cpp:checkFrameIntegrity():290\n",
            "Empty frame detected, frame number 178 of 202. In /content/openpose/src/openpose/producer/producer.cpp:checkFrameIntegrity():290\n",
            "OpenPose demo successfully finished. Total time: 39.087919 seconds.\n",
            "Starting OpenPose demo...\n",
            "Configuring OpenPose...\n",
            "Starting thread(s)...\n",
            "Auto-detecting all available GPUs... Detected 1 GPU(s), using 1 of them starting at GPU 0.\n",
            "Empty frame detected, frame number 65 of 102. In /content/openpose/src/openpose/producer/producer.cpp:checkFrameIntegrity():290\n",
            "Empty frame detected, frame number 65 of 102. In /content/openpose/src/openpose/producer/producer.cpp:checkFrameIntegrity():290\n",
            "Empty frame detected, frame number 65 of 102. In /content/openpose/src/openpose/producer/producer.cpp:checkFrameIntegrity():290\n",
            "OpenPose demo successfully finished. Total time: 20.882483 seconds.\n",
            "Starting OpenPose demo...\n",
            "Configuring OpenPose...\n",
            "Starting thread(s)...\n",
            "Auto-detecting all available GPUs... Detected 1 GPU(s), using 1 of them starting at GPU 0.\n",
            "Empty frame detected, frame number 101 of 238. In /content/openpose/src/openpose/producer/producer.cpp:checkFrameIntegrity():290\n",
            "Empty frame detected, frame number 101 of 238. In /content/openpose/src/openpose/producer/producer.cpp:checkFrameIntegrity():290\n",
            "Empty frame detected, frame number 101 of 238. In /content/openpose/src/openpose/producer/producer.cpp:checkFrameIntegrity():290\n",
            "OpenPose demo successfully finished. Total time: 25.652914 seconds.\n",
            "Starting OpenPose demo...\n",
            "Configuring OpenPose...\n",
            "Starting thread(s)...\n",
            "Auto-detecting all available GPUs... Detected 1 GPU(s), using 1 of them starting at GPU 0.\n",
            "Empty frame detected, frame number 27 of 153. In /content/openpose/src/openpose/producer/producer.cpp:checkFrameIntegrity():290\n",
            "Empty frame detected, frame number 27 of 153. In /content/openpose/src/openpose/producer/producer.cpp:checkFrameIntegrity():290\n",
            "Empty frame detected, frame number 27 of 153. In /content/openpose/src/openpose/producer/producer.cpp:checkFrameIntegrity():290\n",
            "OpenPose demo successfully finished. Total time: 13.842895 seconds.\n",
            "Starting OpenPose demo...\n",
            "Configuring OpenPose...\n",
            "Starting thread(s)...\n",
            "Auto-detecting all available GPUs... Detected 1 GPU(s), using 1 of them starting at GPU 0.\n",
            "Empty frame detected, frame number 196 of 295. In /content/openpose/src/openpose/producer/producer.cpp:checkFrameIntegrity():290\n",
            "Empty frame detected, frame number 196 of 295. In /content/openpose/src/openpose/producer/producer.cpp:checkFrameIntegrity():290\n",
            "Empty frame detected, frame number 196 of 295. In /content/openpose/src/openpose/producer/producer.cpp:checkFrameIntegrity():290\n",
            "OpenPose demo successfully finished. Total time: 53.085629 seconds.\n",
            "Starting OpenPose demo...\n",
            "Configuring OpenPose...\n",
            "Starting thread(s)...\n",
            "Auto-detecting all available GPUs... Detected 1 GPU(s), using 1 of them starting at GPU 0.\n",
            "Empty frame detected, frame number 51 of 127. In /content/openpose/src/openpose/producer/producer.cpp:checkFrameIntegrity():290\n",
            "Empty frame detected, frame number 51 of 127. In /content/openpose/src/openpose/producer/producer.cpp:checkFrameIntegrity():290\n",
            "Empty frame detected, frame number 51 of 127. In /content/openpose/src/openpose/producer/producer.cpp:checkFrameIntegrity():290\n",
            "OpenPose demo successfully finished. Total time: 19.141685 seconds.\n",
            "Starting OpenPose demo...\n",
            "Configuring OpenPose...\n",
            "Starting thread(s)...\n",
            "Auto-detecting all available GPUs... Detected 1 GPU(s), using 1 of them starting at GPU 0.\n",
            "Empty frame detected, frame number 173 of 268. In /content/openpose/src/openpose/producer/producer.cpp:checkFrameIntegrity():290\n",
            "Empty frame detected, frame number 173 of 268. In /content/openpose/src/openpose/producer/producer.cpp:checkFrameIntegrity():290\n",
            "Empty frame detected, frame number 173 of 268. In /content/openpose/src/openpose/producer/producer.cpp:checkFrameIntegrity():290\n",
            "OpenPose demo successfully finished. Total time: 39.917053 seconds.\n",
            "Starting OpenPose demo...\n",
            "Configuring OpenPose...\n",
            "Starting thread(s)...\n",
            "Auto-detecting all available GPUs... Detected 1 GPU(s), using 1 of them starting at GPU 0.\n",
            "Empty frame detected, frame number 139 of 266. In /content/openpose/src/openpose/producer/producer.cpp:checkFrameIntegrity():290\n",
            "Empty frame detected, frame number 139 of 266. In /content/openpose/src/openpose/producer/producer.cpp:checkFrameIntegrity():290\n",
            "Empty frame detected, frame number 139 of 266. In /content/openpose/src/openpose/producer/producer.cpp:checkFrameIntegrity():290\n",
            "OpenPose demo successfully finished. Total time: 33.237290 seconds.\n",
            "Starting OpenPose demo...\n",
            "Configuring OpenPose...\n",
            "Starting thread(s)...\n",
            "Auto-detecting all available GPUs... Detected 1 GPU(s), using 1 of them starting at GPU 0.\n",
            "Empty frame detected, frame number 112 of 175. In /content/openpose/src/openpose/producer/producer.cpp:checkFrameIntegrity():290\n",
            "Empty frame detected, frame number 112 of 175. In /content/openpose/src/openpose/producer/producer.cpp:checkFrameIntegrity():290\n",
            "Empty frame detected, frame number 112 of 175. In /content/openpose/src/openpose/producer/producer.cpp:checkFrameIntegrity():290\n",
            "OpenPose demo successfully finished. Total time: 32.804933 seconds.\n",
            "Starting OpenPose demo...\n",
            "Configuring OpenPose...\n",
            "Starting thread(s)...\n",
            "Auto-detecting all available GPUs... Detected 1 GPU(s), using 1 of them starting at GPU 0.\n",
            "Empty frame detected, frame number 90 of 101. In /content/openpose/src/openpose/producer/producer.cpp:checkFrameIntegrity():290\n",
            "Empty frame detected, frame number 90 of 101. In /content/openpose/src/openpose/producer/producer.cpp:checkFrameIntegrity():290\n",
            "Empty frame detected, frame number 90 of 101. In /content/openpose/src/openpose/producer/producer.cpp:checkFrameIntegrity():290\n",
            "OpenPose demo successfully finished. Total time: 26.864398 seconds.\n",
            "Starting OpenPose demo...\n",
            "Configuring OpenPose...\n",
            "Starting thread(s)...\n",
            "Auto-detecting all available GPUs... Detected 1 GPU(s), using 1 of them starting at GPU 0.\n",
            "Empty frame detected, frame number 145 of 289. In /content/openpose/src/openpose/producer/producer.cpp:checkFrameIntegrity():290\n",
            "Empty frame detected, frame number 145 of 289. In /content/openpose/src/openpose/producer/producer.cpp:checkFrameIntegrity():290\n",
            "Empty frame detected, frame number 145 of 289. In /content/openpose/src/openpose/producer/producer.cpp:checkFrameIntegrity():290\n",
            "OpenPose demo successfully finished. Total time: 42.749002 seconds.\n",
            "Starting OpenPose demo...\n",
            "Configuring OpenPose...\n",
            "Starting thread(s)...\n",
            "Auto-detecting all available GPUs... Detected 1 GPU(s), using 1 of them starting at GPU 0.\n",
            "Empty frame detected, frame number 322 of 323. In /content/openpose/src/openpose/producer/producer.cpp:checkFrameIntegrity():290\n",
            "Empty frame detected, frame number 322 of 323. In /content/openpose/src/openpose/producer/producer.cpp:checkFrameIntegrity():290\n",
            "Empty frame detected, frame number 322 of 323. In /content/openpose/src/openpose/producer/producer.cpp:checkFrameIntegrity():290\n",
            "OpenPose demo successfully finished. Total time: 63.873992 seconds.\n"
          ],
          "name": "stdout"
        }
      ]
    },
    {
      "cell_type": "code",
      "metadata": {
        "id": "xN0tXvocRzQV",
        "colab_type": "code",
        "colab": {}
      },
      "source": [
        ""
      ],
      "execution_count": 0,
      "outputs": []
    }
  ]
}