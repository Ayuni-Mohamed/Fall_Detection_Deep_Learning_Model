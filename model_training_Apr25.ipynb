{
  "nbformat": 4,
  "nbformat_minor": 0,
  "metadata": {
    "colab": {
      "name": "636model_Apr25.ipynb",
      "provenance": [],
      "collapsed_sections": [],
      "machine_shape": "hm"
    },
    "kernelspec": {
      "name": "python3",
      "display_name": "Python 3"
    },
    "accelerator": "GPU"
  },
  "cells": [
    {
      "cell_type": "code",
      "metadata": {
        "id": "_ZYHC0XOvjYK",
        "colab_type": "code",
        "outputId": "bf7df5ae-af01-45ae-e0c0-be5e6d4ebed6",
        "colab": {
          "base_uri": "https://localhost:8080/",
          "height": 51
        }
      },
      "source": [
        "# Apr 25, 2020\n",
        "# increse data by adding videos from youtube\n",
        "import keras\n",
        "keras.__version__"
      ],
      "execution_count": 0,
      "outputs": [
        {
          "output_type": "stream",
          "text": [
            "Using TensorFlow backend.\n"
          ],
          "name": "stderr"
        },
        {
          "output_type": "execute_result",
          "data": {
            "text/plain": [
              "'2.3.1'"
            ]
          },
          "metadata": {
            "tags": []
          },
          "execution_count": 1
        }
      ]
    },
    {
      "cell_type": "code",
      "metadata": {
        "id": "SG9jbsQVueU9",
        "colab_type": "code",
        "colab": {}
      },
      "source": [
        "from keras import models\n",
        "from keras import layers\n",
        "from keras import metrics\n",
        "from keras import optimizers\n",
        "\n",
        "import numpy as np\n",
        "import json\n",
        "import os\n",
        "import csv\n",
        "import pandas as pd\n",
        "import tensorflow_addons as tfa\n"
      ],
      "execution_count": 0,
      "outputs": []
    },
    {
      "cell_type": "code",
      "metadata": {
        "id": "QbBQ69_hPudh",
        "colab_type": "code",
        "outputId": "149fef1b-0d4e-4da8-a7b8-a24476baa3b1",
        "colab": {
          "base_uri": "https://localhost:8080/",
          "height": 122
        }
      },
      "source": [
        "from google.colab import drive\n",
        "drive.mount('/content/drive')\n"
      ],
      "execution_count": 0,
      "outputs": [
        {
          "output_type": "stream",
          "text": [
            "Go to this URL in a browser: https://accounts.google.com/o/oauth2/auth?client_id=947318989803-6bn6qk8qdgf4n4g3pfee6491hc0brc4i.apps.googleusercontent.com&redirect_uri=urn%3aietf%3awg%3aoauth%3a2.0%3aoob&response_type=code&scope=email%20https%3a%2f%2fwww.googleapis.com%2fauth%2fdocs.test%20https%3a%2f%2fwww.googleapis.com%2fauth%2fdrive%20https%3a%2f%2fwww.googleapis.com%2fauth%2fdrive.photos.readonly%20https%3a%2f%2fwww.googleapis.com%2fauth%2fpeopleapi.readonly\n",
            "\n",
            "Enter your authorization code:\n",
            "··········\n",
            "Mounted at /content/drive\n"
          ],
          "name": "stdout"
        }
      ]
    },
    {
      "cell_type": "code",
      "metadata": {
        "id": "PTKr-8Fzk69g",
        "colab_type": "code",
        "colab": {}
      },
      "source": [
        "# read json 2-d pose as data, without using: \n",
        "#     {15, \"REye\"},\n",
        "#     {16, \"LEye\"},\n",
        "#     {17, \"REar\"},\n",
        "#     {18, \"LEar\"}\n",
        "\n",
        "ur_basepath1 = '/content/drive/My Drive/636project/data/fall_UR/fall-cam0'\n",
        "ur_basepath2 = '/content/drive/My Drive/636project/data/adl_UR'\n",
        "mc_fall_path = '/content/drive/My Drive/636project/data/MCdataset/mc_fall'\n",
        "mc_notfall_path = '/content/drive/My Drive/636project/data/MCdataset/mc-notfall'\n",
        "youtube_fall_path = '/content/drive/My Drive/636project/data/Youtube/y_fall'\n",
        "youtube_notfall_path = '/content/drive/My Drive/636project/data/Youtube/y_notfall'\n",
        "\n",
        "def input_data(basepath):\n",
        "  data = []\n",
        "  entries = os.listdir(basepath)\n",
        "  for entry in entries:\n",
        "    path = os.path.join(basepath, entry)\n",
        "    frames = os.listdir(path)\n",
        "    for frame in frames:\n",
        "      frame_path = os.path.join(path, frame)\n",
        "      with open(frame_path, mode='r') as json_file:\n",
        "        people_dict = json.load(json_file)\n",
        "        people = people_dict[\"people\"]\n",
        "        pose_keypoints_2d = []\n",
        "        # fill missing data as 0\n",
        "        if len(people) == 0:\n",
        "          pose_keypoints_2d = [0] * 63\n",
        "        else:\n",
        "          full_pose = people[0].get(\"pose_keypoints_2d\")\n",
        "          pose_keypoints_2d = full_pose[:45] + full_pose[57:]\n",
        "         \n",
        "        pose_keypoints_2d.append(frame.split('.')[0])\n",
        "        # each pose_keypoints_2d: \n",
        "        #    [431.949, 196.241, 0.0564434, 437.194, 187.749, 0.552267,...'fall-06-cam0_000000000065_keypoints']\n",
        "        # OR [123.949, 283.241, 0.0564434, 437.194, 187.749, 0.552267,...'43_000000000000_keypoints']\n",
        "        data.append(pose_keypoints_2d)        \n",
        "  return data"
      ],
      "execution_count": 0,
      "outputs": []
    },
    {
      "cell_type": "code",
      "metadata": {
        "id": "e3ic_oC0Yq9N",
        "colab_type": "code",
        "colab": {}
      },
      "source": [
        "# read the data of UR dataset  \n",
        "# http://fenix.univ.rzeszow.pl/~mkepski/ds/uf.html\n",
        "ur_data1 = input_data(ur_basepath1)\n",
        "print(len(ur_data1))\n",
        "\n",
        "ur_data2 = input_data(ur_basepath2)\n",
        "print(len(ur_data2))\n",
        " \n",
        "ur_data = ur_data1 + ur_data2\n",
        "print(\"finish UR dataset, and the length of UR dataset: \", len(ur_data))\n",
        "\n",
        "df1 = pd.DataFrame.from_records(ur_data)\n",
        "df1.to_csv (r'/content/drive/My Drive/636project/ur_data.csv', index = False, header=False)\n",
        "\n",
        "# read the data of MC dataset\n",
        "# http://www.iro.umontreal.ca/~labimage/Dataset/\n",
        "mc_fall_data = input_data(mc_fall_path)\n",
        "print(\"finish mc fall data. the length of mc-fall dataset: \", len(mc_fall_data))\n",
        "\n",
        "\n",
        "df2 = pd.DataFrame.from_records(mc_fall_data)\n",
        "df2.to_csv(r'/content/drive/My Drive/636project/mc_fall_data.csv', index = False, header=False)\n",
        "\n",
        "mc_notfall_data = input_data(mc_notfall_path)\n",
        "print(\"length of mc_not_fall dataset: \", len(mc_notfall_data))\n",
        "\n",
        "df3 = pd.DataFrame.from_records(mc_notfall_data)\n",
        "df3.to_csv(r'/content/drive/My Drive/636project/mc_notfall_data.csv', index = False, header=False)\n"
      ],
      "execution_count": 0,
      "outputs": []
    },
    {
      "cell_type": "code",
      "metadata": {
        "id": "ksJ00J5us26_",
        "colab_type": "code",
        "outputId": "a0f1b7b0-e088-45eb-b068-543b3e2b5085",
        "colab": {
          "base_uri": "https://localhost:8080/",
          "height": 68
        }
      },
      "source": [
        "# read the data of youtube dataset\n",
        "youtube_fall_data = input_data(youtube_fall_path)\n",
        "print(\"length of youtube_fall dataset: \", len(youtube_fall_data))\n",
        "\n",
        "df4 = pd.DataFrame.from_records(youtube_fall_data)\n",
        "df4.to_csv(r'/content/drive/My Drive/636project/youtube_fall_data.csv', index = False, header=False)\n",
        "\n",
        "youtube_notfall_data = input_data(youtube_notfall_path)\n",
        "print(\"length of youtube_notfall dataset: \", len(youtube_notfall_data))\n",
        "\n",
        "df5 = pd.DataFrame.from_records(youtube_notfall_data)\n",
        "df5.to_csv(r'/content/drive/My Drive/636project/youtube_notfall_data.csv', index = False, header=False)\n",
        "\n",
        "print('finish loading youtube dataset')"
      ],
      "execution_count": 0,
      "outputs": [
        {
          "output_type": "stream",
          "text": [
            "length of youtube_fall dataset:  1756\n",
            "length of youtube_notfall dataset:  2723\n",
            "finish loading youtube dataset\n"
          ],
          "name": "stdout"
        }
      ]
    },
    {
      "cell_type": "code",
      "metadata": {
        "id": "v61HcYuUSK6K",
        "colab_type": "code",
        "outputId": "287b18b9-639c-40b7-e320-7acfaa5adabe",
        "colab": {
          "base_uri": "https://localhost:8080/",
          "height": 122
        }
      },
      "source": [
        "# read the video data csv,\n",
        "# it is faster than running the above code each time\n",
        "\n",
        "ur_path = '/content/drive/My Drive/636project/ur_data.csv'\n",
        "mc_fall_path = '/content/drive/My Drive/636project/mc_fall_data.csv'\n",
        "mc_notfall_path = '/content/drive/My Drive/636project/mc_notfall_data.csv'\n",
        "youtube_fall_path = '/content/drive/My Drive/636project/youtube_fall_data.csv'\n",
        "youtube_notfall_path = '/content/drive/My Drive/636project/youtube_notfall_data.csv'\n",
        "\n",
        "def read_data(path):\n",
        "  video_data = []\n",
        "  with open(path, mode='r') as csv_file:\n",
        "    reader = csv.reader(csv_file)\n",
        "    for row in reader:\n",
        "      video_data.append(row)\n",
        "  return video_data\n",
        "\n",
        "ur_data = read_data(ur_path)\n",
        "mc_fall_data = read_data(mc_fall_path)\n",
        "mc_notfall_data = read_data(mc_notfall_path)\n",
        "youtube_fall_data = read_data(youtube_fall_path)\n",
        "youtube_notfall_data = read_data(youtube_notfall_path)\n",
        "\n",
        "\n",
        "print(ur_data[0])\n",
        "print(mc_fall_data[0])\n",
        "print(mc_notfall_data[0])\n",
        "print(youtube_fall_data[0])\n",
        "print(youtube_notfall_data[0])"
      ],
      "execution_count": 0,
      "outputs": [
        {
          "output_type": "stream",
          "text": [
            "['520.972', '128.178', '0.833728', '544.571', '130.782', '0.739747', '540.636', '132.754', '0.726633', '553.086', '154.999', '0.800764', '541.285', '166.155', '0.742877', '549.144', '129.467', '0.745059', '572.703', '155.035', '0.841464', '543.266', '171.369', '0.817947', '572.067', '169.415', '0.607432', '564.874', '166.16', '0.534525', '526.875', '181.191', '0.862423', '554.389', '217.851', '0.612664', '577.962', '170.732', '0.619415', '535.402', '188.398', '0.760066', '560.284', '220.479', '0.65847', '545.882', '232.266', '0.604373', '553.078', '232.915', '0.532739', '566.184', '222.453', '0.655722', '541.939', '229.002', '0.399536', '541.943', '227.687', '0.344383', '560.285', '217.223', '0.153482', 'fall-16-cam0_000000000016_keypoints']\n",
            "['504.171', '238.019', '0.119379', '481.995', '237.979', '0.647555', '471.564', '247.106', '0.6547', '485.918', '299.334', '0.780827', '525.04', '307.158', '0.770417', '495.036', '228.845', '0.474206', '519.863', '220.995', '0.283234', '539.41', '214.505', '0.246275', '478.096', '275.843', '0.378863', '474.176', '284.967', '0.370422', '528.986', '277.118', '0.213783', '0.0', '0.0', '0.0', '485.934', '266.741', '0.363281', '517.291', '258.887', '0.198486', '530.273', '274.524', '0.0747612', '542.03', '277.126', '0.114463', '539.417', '277.116', '0.0888912', '532.899', '274.487', '0.0731438', '0.0', '0.0', '0.0', '0.0', '0.0', '0.0', '0.0', '0.0', '0.0', '55_000000000000_keypoints']\n",
            "['643.854', '174.088', '0.796968', '652.912', '202.706', '0.916605', '633.362', '192.272', '0.886062', '609.831', '214.468', '0.928492', '579.903', '235.396', '0.884458', '672.491', '213.16', '0.871428', '664.737', '253.631', '0.843892', '653.025', '284.941', '0.864034', '625.542', '257.608', '0.738263', '612.549', '253.669', '0.758785', '602.079', '296.765', '0.733292', '590.279', '330.665', '0.457905', '637.277', '265.416', '0.734225', '605.954', '303.234', '0.712669', '566.825', '341.124', '0.72449', '548.572', '350.196', '0.637416', '557.634', '352.806', '0.630046', '561.622', '348.878', '0.52683', '0.0', '0.0', '0.0', '0.0', '0.0', '0.0', '590.367', '337.146', '0.274113', '60_000000000000_keypoints']\n",
            "['0.0', '0.0', '0.0', '332.074', '141.362', '0.494607', '360.469', '145.269', '0.450705', '363.442', '208.854', '0.229775', '363.409', '217.656', '0.0557726', '301.782', '136.482', '0.298291', '283.205', '178.531', '0.0798567', '0.0', '0.0', '0.0', '319.399', '234.287', '0.246709', '338.94', '238.204', '0.258114', '0.0', '0.0', '0.0', '0.0', '0.0', '0.0', '299.825', '225.487', '0.17557', '265.602', '246.047', '0.13114', '222.551', '269.486', '0.172708', '202.023', '276.343', '0.163882', '206.89', '278.293', '0.162577', '216.701', '271.453', '0.137885', '0.0', '0.0', '0.0', '0.0', '0.0', '0.0', '0.0', '0.0', '0.0', 'y19_000000000000_keypoints']\n",
            "['617.531', '178.687', '0.940475', '617.549', '210.105', '0.955947', '582.334', '210.185', '0.872824', '570.638', '264.971', '0.880157', '570.508', '313.935', '0.869627', '649.052', '210.041', '0.92171', '662.674', '259.174', '0.86919', '664.524', '310.073', '0.876491', '619.556', '308.108', '0.848844', '599.995', '308.134', '0.798309', '601.92', '384.472', '0.918066', '603.999', '447.21', '0.901118', '641.113', '308.096', '0.793622', '639.156', '384.507', '0.861216', '639.166', '445.293', '0.871297', '646.962', '460.825', '0.749443', '651.029', '456.985', '0.719238', '635.23', '449.191', '0.746531', '605.883', '462.92', '0.815909', '598.012', '462.84', '0.817986', '609.822', '453.04', '0.716155', 'y16_000000000000_keypoints']\n"
          ],
          "name": "stdout"
        }
      ]
    },
    {
      "cell_type": "code",
      "metadata": {
        "id": "2DchOlwQNKUA",
        "colab_type": "code",
        "outputId": "2163ec3b-a237-4533-d53d-aff7965f77cd",
        "colab": {
          "base_uri": "https://localhost:8080/",
          "height": 34
        }
      },
      "source": [
        "# read target label of UR dataset. \n",
        "\n",
        "target = []\n",
        "path1 = '/content/drive/My Drive/636project/target/urfall-cam0-falls.csv'\n",
        "path2 = '/content/drive/My Drive/636project/target/urfall-cam0-adls.csv'\n",
        "# in these csv of UR dataset, \n",
        "# '-1' means person is not lying, '1' means person is lying on the ground; '0' is temporary pose, when person \"is falling\"\n",
        "\n",
        "def input_fall(path):\n",
        "  with open(path, mode='r') as csv_file:\n",
        "    reader = csv.reader(csv_file)\n",
        "    for row in reader:\n",
        "      record = []\n",
        "      record.append(row[0])\n",
        "      record.append(row[1])\n",
        "      label = row[2]\n",
        "      if label == '1' or label == '0':\n",
        "        record.append(1)        \n",
        "      else:\n",
        "        record.append(0)\n",
        "      # each record: [<video_id>, <frame_id>, label], eg: ['fall-17', '22', 0] \n",
        "      target.append(record)\n",
        "\n",
        "# though laying in the video, but it is not fall, so I mark 0 as label\n",
        "def input_adl(path):\n",
        "  with open(path, mode='r') as csv_file:\n",
        "    reader = csv.reader(csv_file)\n",
        "    for row in reader:\n",
        "      record = []\n",
        "      record.append(row[0])\n",
        "      record.append(row[1])\n",
        "      record.append(0)\n",
        "      target.append(record)\n",
        "\n",
        "input_fall(path1)\n",
        "print(\"falls of UR dataset\", len(target))\n",
        "\n",
        "input_adl(path2)\n",
        "\n",
        "df = pd.DataFrame.from_records(target)\n",
        "df.to_csv (r'/content/drive/My Drive/636project/target_data.csv', index = False, header=False)\n"
      ],
      "execution_count": 0,
      "outputs": [
        {
          "output_type": "stream",
          "text": [
            "falls of UR dataset 2995\n"
          ],
          "name": "stdout"
        }
      ]
    },
    {
      "cell_type": "code",
      "metadata": {
        "id": "WtMEv5GabKlC",
        "colab_type": "code",
        "colab": {}
      },
      "source": [
        "# make dictionary of target of ur dataset\n",
        "target_csv_path = '/content/drive/My Drive/636project/target_data.csv'\n",
        "idx = 0\n",
        "idx_dict = {}\n",
        "\n",
        "with open(target_csv_path, mode='r') as csv_file:\n",
        "  reader = csv.reader(csv_file)\n",
        "  for row in reader:\n",
        "    # each row: [<video_id>, <frame_id>, label], eg: ['fall-17', '22', 0] \n",
        "    idx_dict['.'.join(row[:2])] = idx  # {'fall-17.22' : 112}\n",
        "    idx += 1"
      ],
      "execution_count": 0,
      "outputs": []
    },
    {
      "cell_type": "code",
      "metadata": {
        "id": "ns3vNaNj5L3G",
        "colab_type": "code",
        "outputId": "93164458-3fce-4c4d-feb3-05d3a45d0810",
        "colab": {
          "base_uri": "https://localhost:8080/",
          "height": 122
        }
      },
      "source": [
        "# match body landmark data with label data of ur dataset\n",
        "bodylandmark = []\n",
        "label = []\n",
        "frame_name = []\n",
        "\n",
        "for landmark in ur_data:\n",
        "  video_name = landmark[-1].split('_')  # 'fall-01-cam0_000000000004'\n",
        "  a = video_name[0].split('-')\n",
        "  video_type = a[0] # 'fall'\n",
        "  video_id = a[1]   # '01'\n",
        "  frame_id = str(int(video_name[1])) # '000000000004' become '4'\n",
        "  try:\n",
        "    a = '.'.join([video_id, frame_id])\n",
        "    b = '-'.join([video_type, a])\n",
        "    label.append(target[idx_dict[b]][-1])\n",
        "    bl = landmark[:-1]\n",
        "    # convert string into float\n",
        "    bl = list(map(float,bl))\n",
        "    bodylandmark.append(bl)\n",
        "    frameName = landmark[-1]\n",
        "    frame_name.append(frameName)\n",
        "  except:\n",
        "    continue\n",
        "\n",
        "print(\"bodylandmark record sample of ur dataset:\" )\n",
        "print(bodylandmark[0])\n",
        "print(\"label of ur dataset: \", len(label))\n",
        "print(\"bodylandmark of ur dataset: \", len(bodylandmark))\n",
        "print(frame_name[0])"
      ],
      "execution_count": 0,
      "outputs": [
        {
          "output_type": "stream",
          "text": [
            "bodylandmark record sample of ur dataset:\n",
            "[520.972, 128.178, 0.833728, 544.571, 130.782, 0.739747, 540.636, 132.754, 0.726633, 553.086, 154.999, 0.800764, 541.285, 166.155, 0.742877, 549.144, 129.467, 0.745059, 572.703, 155.035, 0.841464, 543.266, 171.369, 0.817947, 572.067, 169.415, 0.607432, 564.874, 166.16, 0.534525, 526.875, 181.191, 0.862423, 554.389, 217.851, 0.612664, 577.962, 170.732, 0.619415, 535.402, 188.398, 0.760066, 560.284, 220.479, 0.65847, 545.882, 232.266, 0.604373, 553.078, 232.915, 0.532739, 566.184, 222.453, 0.655722, 541.939, 229.002, 0.399536, 541.943, 227.687, 0.344383, 560.285, 217.223, 0.153482]\n",
            "label of ur dataset:  11475\n",
            "bodylandmark of ur dataset:  11475\n",
            "fall-16-cam0_000000000016_keypoints\n"
          ],
          "name": "stdout"
        }
      ]
    },
    {
      "cell_type": "code",
      "metadata": {
        "id": "QPBAHX2HKxuL",
        "colab_type": "code",
        "colab": {}
      },
      "source": [
        "# add data of MC dataset to the whole dataset\n",
        "# For MC dataset, all frames in fall data should be label 1, \n",
        "# and all frames in notfall data should be label 0.\n",
        "for record in mc_fall_data:\n",
        "  bl = record[:-1]\n",
        "  bl = list(map(float,bl))\n",
        "  bodylandmark.append(bl)\n",
        "  label.append(1)\n",
        "  frameName = record[-1]\n",
        "  frame_name.append(frameName)\n",
        "\n",
        "for record in mc_notfall_data:\n",
        "  bl = record[:-1]\n",
        "  bl = list(map(float,bl))\n",
        "  bodylandmark.append(bl)\n",
        "  label.append(0)\n",
        "  frameName = record[-1]\n",
        "  frame_name.append(frameName)\n"
      ],
      "execution_count": 0,
      "outputs": []
    },
    {
      "cell_type": "code",
      "metadata": {
        "id": "xF6ZPhxIPLBd",
        "colab_type": "code",
        "colab": {}
      },
      "source": [
        "# add data of youtube dataset to the whole dataset\n",
        "# For youtube dataset, all frames in fall data should be label 1, \n",
        "# and all frames in notfall data should be label 0.\n",
        "for record in youtube_fall_data:\n",
        "  bl = record[:-1]\n",
        "  bl = list(map(float,bl))\n",
        "  bodylandmark.append(bl)\n",
        "  label.append(1)\n",
        "  frameName = record[-1]\n",
        "  frame_name.append(frameName)\n",
        "\n",
        "for record in youtube_notfall_data:\n",
        "  bl = record[:-1]\n",
        "  bl = list(map(float,bl))\n",
        "  bodylandmark.append(bl)\n",
        "  label.append(0)\n",
        "  frameName = record[-1]\n",
        "  frame_name.append(frameName)\n"
      ],
      "execution_count": 0,
      "outputs": []
    },
    {
      "cell_type": "code",
      "metadata": {
        "id": "yjQH8nEGum9U",
        "colab_type": "code",
        "outputId": "82e01d92-f01e-4419-d91b-cf864c785cbe",
        "colab": {
          "base_uri": "https://localhost:8080/",
          "height": 88
        }
      },
      "source": [
        "# normalize data \n",
        "for record in bodylandmark:\n",
        "  for i in range(0, 63, 3):\n",
        "    record[i] = float(record[i])/ 640\n",
        "    record[i + 1] = float(record[i + 1]) / 480\n",
        "\n",
        "print(bodylandmark[0])\n",
        "print(len(label))\n",
        "print(len(bodylandmark))"
      ],
      "execution_count": 0,
      "outputs": [
        {
          "output_type": "stream",
          "text": [
            "[0.81401875, 0.2670375, 0.833728, 0.8508921875000001, 0.2724625, 0.739747, 0.8447437499999999, 0.2765708333333333, 0.726633, 0.864196875, 0.32291458333333334, 0.800764, 0.8457578124999999, 0.34615625, 0.742877, 0.8580375, 0.2697229166666667, 0.745059, 0.8948484375, 0.32298958333333333, 0.841464, 0.848853125, 0.35701875, 0.817947, 0.8938546875, 0.35294791666666664, 0.607432, 0.882615625, 0.3461666666666667, 0.534525, 0.8232421875, 0.37748125, 0.862423, 0.8662328125000001, 0.45385625, 0.612664, 0.903065625, 0.3556916666666667, 0.619415, 0.8365656250000001, 0.3924958333333333, 0.760066, 0.87544375, 0.45933125, 0.65847, 0.8529406249999999, 0.48388749999999997, 0.604373, 0.864184375, 0.48523958333333334, 0.532739, 0.8846624999999999, 0.46344375, 0.655722, 0.8467796875, 0.4770875, 0.399536, 0.8467859375, 0.4743479166666667, 0.344383, 0.8754453124999999, 0.4525479166666667, 0.153482]\n",
            "33678\n",
            "33678\n"
          ],
          "name": "stdout"
        }
      ]
    },
    {
      "cell_type": "code",
      "metadata": {
        "id": "5TseRjvqzZ9a",
        "colab_type": "code",
        "outputId": "ea2b47a1-f198-4208-96dc-e9e60587f030",
        "colab": {
          "base_uri": "https://localhost:8080/",
          "height": 88
        }
      },
      "source": [
        "# make bodylandmark and label to be a same data frame\n",
        "all_data = []\n",
        "\n",
        "for i in range(len(bodylandmark)):\n",
        "  all_data.append([label[i]])\n",
        "  all_data[i] = all_data[i] + bodylandmark[i]\n",
        "\n",
        "print(all_data[0])\n",
        "print(len(all_data))\n",
        "print(len(all_data[0]))"
      ],
      "execution_count": 0,
      "outputs": [
        {
          "output_type": "stream",
          "text": [
            "[0, 0.81401875, 0.2670375, 0.833728, 0.8508921875000001, 0.2724625, 0.739747, 0.8447437499999999, 0.2765708333333333, 0.726633, 0.864196875, 0.32291458333333334, 0.800764, 0.8457578124999999, 0.34615625, 0.742877, 0.8580375, 0.2697229166666667, 0.745059, 0.8948484375, 0.32298958333333333, 0.841464, 0.848853125, 0.35701875, 0.817947, 0.8938546875, 0.35294791666666664, 0.607432, 0.882615625, 0.3461666666666667, 0.534525, 0.8232421875, 0.37748125, 0.862423, 0.8662328125000001, 0.45385625, 0.612664, 0.903065625, 0.3556916666666667, 0.619415, 0.8365656250000001, 0.3924958333333333, 0.760066, 0.87544375, 0.45933125, 0.65847, 0.8529406249999999, 0.48388749999999997, 0.604373, 0.864184375, 0.48523958333333334, 0.532739, 0.8846624999999999, 0.46344375, 0.655722, 0.8467796875, 0.4770875, 0.399536, 0.8467859375, 0.4743479166666667, 0.344383, 0.8754453124999999, 0.4525479166666667, 0.153482]\n",
            "33678\n",
            "64\n"
          ],
          "name": "stdout"
        }
      ]
    },
    {
      "cell_type": "code",
      "metadata": {
        "id": "1KpO5VflM_zn",
        "colab_type": "code",
        "outputId": "e028f1ca-3b8e-46db-f446-230631cfbd0c",
        "colab": {
          "base_uri": "https://localhost:8080/",
          "height": 51
        }
      },
      "source": [
        "# know the majority and minority\n",
        "fall = label.count(1)\n",
        "not_fall = label.count(0)\n",
        "print(fall)\n",
        "print(not_fall)"
      ],
      "execution_count": 0,
      "outputs": [
        {
          "output_type": "stream",
          "text": [
            "13017\n",
            "20661\n"
          ],
          "name": "stdout"
        }
      ]
    },
    {
      "cell_type": "code",
      "metadata": {
        "id": "puE0mHIKnR3O",
        "colab_type": "code",
        "outputId": "046abed3-35e9-4393-9d5a-9853ef454ff3",
        "colab": {
          "base_uri": "https://localhost:8080/",
          "height": 170
        }
      },
      "source": [
        "# up-sampling to make the data balance\n",
        "# Separate majority and minority classes\n",
        "df = pd.DataFrame.from_records(all_data)\n",
        "header = ['label']\n",
        "for i in range(63):\n",
        "  header.append(i)\n",
        "\n",
        "df.columns = header\n",
        "df_majority = df[df.label==0]\n",
        "df_minority = df[df.label==1]\n",
        "print(\"before re-sampling, not fall vs fall: \")\n",
        "print(df['label'].value_counts())\n",
        "\n",
        "from sklearn.utils import resample\n",
        "print(\"begin to re sample...\")\n",
        "# Upsample minority class\n",
        "df_minority_upsampled = resample(df_minority, \n",
        "                                 replace=True,      # sample with replacement\n",
        "                                 n_samples=20661)    # to match majority class\n",
        "                                  \n",
        "# Combine majority class with upsampled minority class\n",
        "df_upsampled = pd.concat([df_majority, df_minority_upsampled])\n",
        " \n",
        "print(\"after re-sampling...\")\n",
        "# Display new class counts\n",
        "df_upsampled.label.value_counts()"
      ],
      "execution_count": 0,
      "outputs": [
        {
          "output_type": "stream",
          "text": [
            "before re-sampling, not fall vs fall: \n",
            "0    20661\n",
            "1    13017\n",
            "Name: label, dtype: int64\n",
            "begin to re sample...\n",
            "after re-sampling...\n"
          ],
          "name": "stdout"
        },
        {
          "output_type": "execute_result",
          "data": {
            "text/plain": [
              "1    20661\n",
              "0    20661\n",
              "Name: label, dtype: int64"
            ]
          },
          "metadata": {
            "tags": []
          },
          "execution_count": 44
        }
      ]
    },
    {
      "cell_type": "code",
      "metadata": {
        "id": "ok4SPC0u4LZX",
        "colab_type": "code",
        "outputId": "6c78c7db-5953-4e16-8c40-7b46b4f78308",
        "colab": {
          "base_uri": "https://localhost:8080/",
          "height": 238
        }
      },
      "source": [
        "all_data = df_upsampled.values\n",
        "\n",
        "print(all_data[0])\n",
        "print(len(all_data[0]))\n",
        "print(\"number of all data:\", len(all_data))"
      ],
      "execution_count": 0,
      "outputs": [
        {
          "output_type": "stream",
          "text": [
            "[0.         0.81401875 0.2670375  0.833728   0.85089219 0.2724625\n",
            " 0.739747   0.84474375 0.27657083 0.726633   0.86419687 0.32291458\n",
            " 0.800764   0.84575781 0.34615625 0.742877   0.8580375  0.26972292\n",
            " 0.745059   0.89484844 0.32298958 0.841464   0.84885312 0.35701875\n",
            " 0.817947   0.89385469 0.35294792 0.607432   0.88261563 0.34616667\n",
            " 0.534525   0.82324219 0.37748125 0.862423   0.86623281 0.45385625\n",
            " 0.612664   0.90306562 0.35569167 0.619415   0.83656563 0.39249583\n",
            " 0.760066   0.87544375 0.45933125 0.65847    0.85294062 0.4838875\n",
            " 0.604373   0.86418438 0.48523958 0.532739   0.8846625  0.46344375\n",
            " 0.655722   0.84677969 0.4770875  0.399536   0.84678594 0.47434792\n",
            " 0.344383   0.87544531 0.45254792 0.153482  ]\n",
            "64\n",
            "number of all data: 41322\n"
          ],
          "name": "stdout"
        }
      ]
    },
    {
      "cell_type": "code",
      "metadata": {
        "id": "MEn4pkbz0SPf",
        "colab_type": "code",
        "outputId": "535f829c-3832-48db-ec7c-14c22823b6a0",
        "colab": {
          "base_uri": "https://localhost:8080/",
          "height": 255
        }
      },
      "source": [
        "# split data into train and test set\n",
        "np.random.shuffle(all_data)\n",
        "split_point = len(all_data) // 9\n",
        "print(\"split point:\", split_point)\n",
        "test_data = all_data[:split_point]\n",
        "train_data = all_data[split_point: ]\n",
        "\n",
        "print(\"number of test data:\", len(test_data))\n",
        "print(\"number of train data:\",len(train_data))\n",
        "\n",
        "print(train_data[0])"
      ],
      "execution_count": 0,
      "outputs": [
        {
          "output_type": "stream",
          "text": [
            "split point: 4591\n",
            "number of test data: 4591\n",
            "number of train data: 36731\n",
            "[0.         0.60837656 0.44409167 0.784978   0.61039375 0.46044167\n",
            " 0.86631    0.57573594 0.44959167 0.851352   0.54523437 0.51223333\n",
            " 0.93276    0.57989531 0.48494375 0.880379   0.64503438 0.46577292\n",
            " 0.882      0.6695125  0.53657917 0.827932   0.68174531 0.61543333\n",
            " 0.850795   0.60226094 0.59639583 0.79738    0.579875   0.59627917\n",
            " 0.804101   0.59207656 0.69424375 0.726894   0.59410469 0.78125417\n",
            " 0.204631   0.62660937 0.59902292 0.811327   0.6145125  0.69158125\n",
            " 0.718544   0.61245    0.77586458 0.188269   0.         0.\n",
            " 0.         0.         0.         0.         0.61242031 0.77310625\n",
            " 0.103181   0.60224687 0.81660208 0.0578593  0.59410469 0.82202083\n",
            " 0.0882166  0.59207813 0.79485417 0.144332  ]\n"
          ],
          "name": "stdout"
        }
      ]
    },
    {
      "cell_type": "code",
      "metadata": {
        "id": "qxdTfMk3TuYA",
        "colab_type": "code",
        "outputId": "07d0f7bb-a4ba-4d05-acee-9303c0d6f208",
        "colab": {
          "base_uri": "https://localhost:8080/",
          "height": 1000
        }
      },
      "source": [
        "# solution 1: train model using lstm\n",
        "from tensorflow.keras.layers import LSTM\n",
        "from tensorflow.keras import callbacks\n",
        "from tensorflow.keras import layers\n",
        "from numpy import array\n",
        "from tensorflow.keras.models import Sequential\n",
        "\n",
        "def scheduler(epoch):\n",
        "  if epoch < 10:\n",
        "    return 0.001\n",
        "  else:\n",
        "    return 0.001 * np.exp(0.1 * (10 - epoch))\n",
        "\n",
        "x_train = []\n",
        "y_train = []\n",
        "\n",
        "for record in train_data:\n",
        "  x_train.append(record[1:])\n",
        "  label = int(record[0])\n",
        "  y_train.append(label) \n",
        "\n",
        "def train_lstm_model(x_train, y_train):\n",
        "  x_train = array(x_train)\n",
        "  x_train = x_train.reshape((len(x_train), 1, len(x_train[0])))\n",
        "  print(\"x_train.shape\", x_train.shape)\n",
        "  print(x_train[0])\n",
        "\n",
        "  y_train = array(y_train)\n",
        "  print(\"y_train.shape\", y_train.shape)\n",
        "\n",
        "  # imrpove log: use batch size 16 and add one more lstm layer\n",
        "\n",
        "  lstm_model = Sequential()\n",
        "  lstm_model.add(LSTM(16, \n",
        "                input_shape=(1, 63),\n",
        "                return_sequences=True))\n",
        "  lstm_model.add(LSTM(16, ))\n",
        "  lstm_model.add(layers.Dense(1, activation='sigmoid'))\n",
        "  lstm_model.compile(optimizer='rmsprop',\n",
        "                loss='binary_crossentropy',\n",
        "                metrics=['acc',\n",
        "                        metrics.AUC(), \n",
        "                        metrics.FalseNegatives(),\n",
        "                        metrics.Recall(),\n",
        "                        metrics.Precision(),\n",
        "                        metrics.FalseNegatives(),\n",
        "                        metrics.TrueNegatives(),\n",
        "                        metrics.FalsePositives(),\n",
        "                        metrics.TruePositives()])\n",
        "  lstm_history = lstm_model.fit(x_train, y_train,\n",
        "                      epochs=100,\n",
        "                      batch_size=16,\n",
        "                      validation_split=0.2,\n",
        "                      callbacks=[callbacks.EarlyStopping(monitor='val_loss', patience=5),\n",
        "                      callbacks.LearningRateScheduler(scheduler)])\n",
        "  print(\"finish training lstm model\")\n",
        "  return lstm_model, lstm_history\n",
        "\n",
        "lstm_model, lstm_history = train_lstm_model(x_train, y_train)"
      ],
      "execution_count": 0,
      "outputs": [
        {
          "output_type": "stream",
          "text": [
            "x_train.shape (36731, 1, 63)\n",
            "[[0.60837656 0.44409167 0.784978   0.61039375 0.46044167 0.86631\n",
            "  0.57573594 0.44959167 0.851352   0.54523437 0.51223333 0.93276\n",
            "  0.57989531 0.48494375 0.880379   0.64503438 0.46577292 0.882\n",
            "  0.6695125  0.53657917 0.827932   0.68174531 0.61543333 0.850795\n",
            "  0.60226094 0.59639583 0.79738    0.579875   0.59627917 0.804101\n",
            "  0.59207656 0.69424375 0.726894   0.59410469 0.78125417 0.204631\n",
            "  0.62660937 0.59902292 0.811327   0.6145125  0.69158125 0.718544\n",
            "  0.61245    0.77586458 0.188269   0.         0.         0.\n",
            "  0.         0.         0.         0.61242031 0.77310625 0.103181\n",
            "  0.60224687 0.81660208 0.0578593  0.59410469 0.82202083 0.0882166\n",
            "  0.59207813 0.79485417 0.144332  ]]\n",
            "y_train.shape (36731,)\n",
            "Epoch 1/100\n",
            "1837/1837 [==============================] - 23s 13ms/step - loss: 0.3716 - acc: 0.8316 - auc_4: 0.8498 - false_negatives_7: 1439.7061 - recall_4: 0.7324 - precision_4: 0.7748 - false_negatives_8: 1439.7061 - true_negatives_4: 5820.5015 - false_positives_4: 1492.9418 - true_positives_4: 5950.8467 - val_loss: 0.2905 - val_acc: 0.8791 - val_auc_4: 0.9181 - val_false_negatives_7: 2432.7717 - val_recall_4: 0.8523 - val_precision_4: 0.8266 - val_false_negatives_8: 2432.7717 - val_true_negatives_4: 13637.7656 - val_false_positives_4: 2944.7805 - val_true_positives_4: 14056.6543 - lr: 0.0010\n",
            "Epoch 2/100\n",
            "1837/1837 [==============================] - 23s 13ms/step - loss: 0.2633 - acc: 0.8903 - auc_4: 0.9312 - false_negatives_7: 3277.4404 - recall_4: 0.8710 - precision_4: 0.8418 - false_negatives_8: 3277.4404 - true_negatives_4: 21595.3418 - false_positives_4: 4181.8237 - true_positives_4: 22380.4238 - val_loss: 0.2528 - val_acc: 0.8994 - val_auc_4: 0.9396 - val_false_negatives_7: 4008.6587 - val_recall_4: 0.8848 - val_precision_4: 0.8506 - val_false_negatives_8: 4008.6587 - val_true_negatives_4: 29575.2363 - val_false_positives_4: 5411.3086 - val_true_positives_4: 30807.7676 - lr: 0.0010\n",
            "Epoch 3/100\n",
            "1837/1837 [==============================] - 22s 12ms/step - loss: 0.2438 - acc: 0.8981 - auc_4: 0.9444 - false_negatives_7: 4715.0693 - recall_4: 0.8926 - precision_4: 0.8559 - false_negatives_8: 4715.0693 - true_negatives_4: 37536.3750 - false_positives_4: 6604.7944 - true_positives_4: 39309.7383 - val_loss: 0.2811 - val_acc: 0.8878 - val_auc_4: 0.9478 - val_false_negatives_7: 5509.4263 - val_recall_4: 0.8963 - val_precision_4: 0.8611 - val_false_negatives_8: 5509.4263 - val_true_negatives_4: 45707.3438 - val_false_positives_4: 7683.2002 - val_true_positives_4: 47634.0156 - lr: 0.0010\n",
            "Epoch 4/100\n",
            "1837/1837 [==============================] - 22s 12ms/step - loss: 0.2304 - acc: 0.9052 - auc_4: 0.9502 - false_negatives_7: 6298.2920 - recall_4: 0.8988 - precision_4: 0.8651 - false_negatives_8: 6298.2920 - true_negatives_4: 53869.9922 - false_positives_4: 8728.3301 - true_positives_4: 56000.4648 - val_loss: 0.2365 - val_acc: 0.9036 - val_auc_4: 0.9526 - val_false_negatives_7: 6914.9150 - val_recall_4: 0.9032 - val_precision_4: 0.8678 - val_false_negatives_8: 6914.9150 - val_true_negatives_4: 61960.8008 - val_false_positives_4: 9833.7568 - val_true_positives_4: 64555.5117 - lr: 0.0010\n",
            "Epoch 5/100\n",
            "1837/1837 [==============================] - 22s 12ms/step - loss: 0.2219 - acc: 0.9104 - auc_4: 0.9544 - false_negatives_7: 7527.4561 - recall_4: 0.9066 - precision_4: 0.8700 - false_negatives_8: 7527.4561 - true_negatives_4: 70021.3125 - false_positives_4: 10924.4424 - true_positives_4: 73154.8516 - val_loss: 0.2249 - val_acc: 0.9118 - val_auc_4: 0.9562 - val_false_negatives_7: 8135.0132 - val_recall_4: 0.9094 - val_precision_4: 0.8726 - val_false_negatives_8: 8135.0132 - val_true_negatives_4: 78274.3047 - val_false_positives_4: 11924.2607 - val_true_positives_4: 81662.4688 - lr: 0.0010\n",
            "Epoch 6/100\n",
            "1837/1837 [==============================] - 22s 12ms/step - loss: 0.2139 - acc: 0.9124 - auc_4: 0.9576 - false_negatives_7: 8734.0156 - recall_4: 0.9117 - precision_4: 0.8745 - false_negatives_8: 8734.0156 - true_negatives_4: 86434.2266 - false_positives_4: 12943.5820 - true_positives_4: 90247.1875 - val_loss: 0.2327 - val_acc: 0.9091 - val_auc_4: 0.9588 - val_false_negatives_7: 9400.7090 - val_recall_4: 0.9131 - val_precision_4: 0.8766 - val_false_negatives_8: 9400.7090 - val_true_negatives_4: 94709.2031 - val_false_positives_4: 13893.3154 - val_true_positives_4: 98723.7422 - lr: 0.0010\n",
            "Epoch 7/100\n",
            "1837/1837 [==============================] - 21s 12ms/step - loss: 0.2084 - acc: 0.9158 - auc_4: 0.9599 - false_negatives_7: 10053.9648 - recall_4: 0.9143 - precision_4: 0.8786 - false_negatives_8: 10053.9648 - true_negatives_4: 102906.5156 - false_positives_4: 14824.2305 - true_positives_4: 107305.0781 - val_loss: 0.2822 - val_acc: 0.8752 - val_auc_4: 0.9606 - val_false_negatives_7: 10591.0693 - val_recall_4: 0.9162 - val_precision_4: 0.8788 - val_false_negatives_8: 10591.0693 - val_true_negatives_4: 111029.6484 - val_false_positives_4: 15976.8936 - val_true_positives_4: 115860.3359 - lr: 0.0010\n",
            "Epoch 8/100\n",
            "1837/1837 [==============================] - 22s 12ms/step - loss: 0.2023 - acc: 0.9180 - auc_4: 0.9613 - false_negatives_7: 11100.9453 - recall_4: 0.9181 - precision_4: 0.8791 - false_negatives_8: 11100.9453 - true_negatives_4: 119041.2266 - false_positives_4: 17124.3398 - true_positives_4: 124554.4766 - val_loss: 0.2133 - val_acc: 0.9128 - val_auc_4: 0.9621 - val_false_negatives_7: 11646.2148 - val_recall_4: 0.9196 - val_precision_4: 0.8803 - val_false_negatives_8: 11646.2148 - val_true_negatives_4: 127308.2266 - val_false_positives_4: 18102.3438 - val_true_positives_4: 133132.2344 - lr: 0.0010\n",
            "Epoch 9/100\n",
            "1837/1837 [==============================] - 21s 12ms/step - loss: 0.1979 - acc: 0.9190 - auc_4: 0.9629 - false_negatives_7: 12188.3135 - recall_4: 0.9208 - precision_4: 0.8813 - false_negatives_8: 12188.3135 - true_negatives_4: 135536.0625 - false_positives_4: 19083.6230 - true_positives_4: 141743.8125 - val_loss: 0.2033 - val_acc: 0.9187 - val_auc_4: 0.9637 - val_false_negatives_7: 12753.9150 - val_recall_4: 0.9218 - val_precision_4: 0.8826 - val_false_negatives_8: 12753.9150 - val_true_negatives_4: 143820.5625 - val_false_positives_4: 19993.9922 - val_true_positives_4: 150351.5000 - lr: 0.0010\n",
            "Epoch 10/100\n",
            "1837/1837 [==============================] - 22s 12ms/step - loss: 0.1931 - acc: 0.9221 - auc_4: 0.9643 - false_negatives_7: 13315.0137 - recall_4: 0.9227 - precision_4: 0.8838 - false_negatives_8: 13315.0137 - true_negatives_4: 152098.8906 - false_positives_4: 20902.1855 - true_positives_4: 158966.5938 - val_loss: 0.2117 - val_acc: 0.9198 - val_auc_4: 0.9650 - val_false_negatives_7: 13881.6436 - val_recall_4: 0.9235 - val_precision_4: 0.8851 - val_false_negatives_8: 13881.6436 - val_true_negatives_4: 160468.9688 - val_false_positives_4: 21749.5820 - val_true_positives_4: 167550.8594 - lr: 0.0010\n",
            "Epoch 11/100\n",
            "1837/1837 [==============================] - 21s 12ms/step - loss: 0.1879 - acc: 0.9228 - auc_4: 0.9656 - false_negatives_7: 14454.1270 - recall_4: 0.9242 - precision_4: 0.8863 - false_negatives_8: 14454.1270 - true_negatives_4: 168737.8281 - false_positives_4: 22610.4668 - true_positives_4: 176211.4688 - val_loss: 0.2053 - val_acc: 0.9183 - val_auc_4: 0.9662 - val_false_negatives_7: 14998.7266 - val_recall_4: 0.9249 - val_precision_4: 0.8872 - val_false_negatives_8: 14998.7266 - val_true_negatives_4: 177131.5469 - val_false_positives_4: 23490.9277 - val_true_positives_4: 184760.5938 - lr: 0.0010\n",
            "Epoch 12/100\n",
            "1837/1837 [==============================] - 21s 12ms/step - loss: 0.1850 - acc: 0.9248 - auc_4: 0.9667 - false_negatives_7: 15547.7256 - recall_4: 0.9256 - precision_4: 0.8881 - false_negatives_8: 15547.7256 - true_negatives_4: 185430.1719 - false_positives_4: 24359.4102 - true_positives_4: 193407.4844 - val_loss: 0.2010 - val_acc: 0.9204 - val_auc_4: 0.9672 - val_false_negatives_7: 16096.0371 - val_recall_4: 0.9262 - val_precision_4: 0.8891 - val_false_negatives_8: 16096.0371 - val_true_negatives_4: 193828.9688 - val_false_positives_4: 25197.4766 - val_true_positives_4: 201990.4219 - lr: 9.0484e-04\n",
            "Epoch 13/100\n",
            "1837/1837 [==============================] - 21s 12ms/step - loss: 0.1805 - acc: 0.9264 - auc_4: 0.9677 - false_negatives_7: 16638.6484 - recall_4: 0.9268 - precision_4: 0.8901 - false_negatives_8: 16638.6484 - true_negatives_4: 202184.9219 - false_positives_4: 26017.1211 - true_positives_4: 210635.0469 - val_loss: 0.2023 - val_acc: 0.9162 - val_auc_4: 0.9681 - val_false_negatives_7: 17141.2148 - val_recall_4: 0.9275 - val_precision_4: 0.8907 - val_false_negatives_8: 17141.2148 - val_true_negatives_4: 210514.3594 - val_false_positives_4: 26916.0547 - val_true_positives_4: 219272.1406 - lr: 8.1873e-04\n",
            "Epoch 14/100\n",
            "1837/1837 [==============================] - 22s 12ms/step - loss: 0.1773 - acc: 0.9278 - auc_4: 0.9686 - false_negatives_7: 17632.7754 - recall_4: 0.9282 - precision_4: 0.8913 - false_negatives_8: 17632.7754 - true_negatives_4: 218765.2344 - false_positives_4: 27804.6816 - true_positives_4: 228004.1250 - val_loss: 0.1975 - val_acc: 0.9213 - val_auc_4: 0.9690 - val_false_negatives_7: 18156.6484 - val_recall_4: 0.9287 - val_precision_4: 0.8921 - val_false_negatives_8: 18156.6484 - val_true_negatives_4: 227216.3281 - val_false_positives_4: 28618.2422 - val_true_positives_4: 236583.8281 - lr: 7.4082e-04\n",
            "Epoch 15/100\n",
            "1837/1837 [==============================] - 22s 12ms/step - loss: 0.1728 - acc: 0.9291 - auc_4: 0.9694 - false_negatives_7: 18682.1426 - recall_4: 0.9292 - precision_4: 0.8928 - false_negatives_8: 18682.1426 - true_negatives_4: 235565.4375 - false_positives_4: 29432.2695 - true_positives_4: 245258.0469 - val_loss: 0.1871 - val_acc: 0.9245 - val_auc_4: 0.9698 - val_false_negatives_7: 19160.3398 - val_recall_4: 0.9298 - val_precision_4: 0.8935 - val_false_negatives_8: 19160.3398 - val_true_negatives_4: 243971.4219 - val_false_positives_4: 30267.1406 - val_true_positives_4: 253907.0625 - lr: 6.7032e-04\n",
            "Epoch 16/100\n",
            "1837/1837 [==============================] - 22s 12ms/step - loss: 0.1707 - acc: 0.9302 - auc_4: 0.9701 - false_negatives_7: 19628.8906 - recall_4: 0.9304 - precision_4: 0.8941 - false_negatives_8: 19628.8906 - true_negatives_4: 252309.1406 - false_positives_4: 31116.6250 - true_positives_4: 262614.0625 - val_loss: 0.1864 - val_acc: 0.9236 - val_auc_4: 0.9705 - val_false_negatives_7: 20100.3965 - val_recall_4: 0.9310 - val_precision_4: 0.8947 - val_false_negatives_8: 20100.3965 - val_true_negatives_4: 260709.9844 - val_false_positives_4: 31932.5176 - val_true_positives_4: 271294.0625 - lr: 6.0653e-04\n",
            "Epoch 17/100\n",
            "1837/1837 [==============================] - 22s 12ms/step - loss: 0.1678 - acc: 0.9315 - auc_4: 0.9709 - false_negatives_7: 20590.3184 - recall_4: 0.9315 - precision_4: 0.8953 - false_negatives_8: 20590.3184 - true_negatives_4: 269102.2188 - false_positives_4: 32742.0586 - true_positives_4: 279965.0312 - val_loss: 0.1828 - val_acc: 0.9273 - val_auc_4: 0.9712 - val_false_negatives_7: 21060.6406 - val_recall_4: 0.9320 - val_precision_4: 0.8959 - val_false_negatives_8: 21060.6406 - val_true_negatives_4: 277515.4375 - val_false_positives_4: 33531.0430 - val_true_positives_4: 288660.8125 - lr: 5.4881e-04\n",
            "Epoch 18/100\n",
            "1837/1837 [==============================] - 21s 12ms/step - loss: 0.1654 - acc: 0.9326 - auc_4: 0.9715 - false_negatives_7: 21529.7480 - recall_4: 0.9325 - precision_4: 0.8965 - false_negatives_8: 21529.7480 - true_negatives_4: 285873.3438 - false_positives_4: 34326.0586 - true_positives_4: 297401.3125 - val_loss: 0.1828 - val_acc: 0.9275 - val_auc_4: 0.9718 - val_false_negatives_7: 21999.9531 - val_recall_4: 0.9329 - val_precision_4: 0.8971 - val_false_negatives_8: 21999.9531 - val_true_negatives_4: 294343.4688 - val_false_positives_4: 35106.9648 - val_true_positives_4: 306048.5000 - lr: 4.9659e-04\n",
            "Epoch 19/100\n",
            "1837/1837 [==============================] - 21s 12ms/step - loss: 0.1636 - acc: 0.9337 - auc_4: 0.9721 - false_negatives_7: 22461.2930 - recall_4: 0.9334 - precision_4: 0.8976 - false_negatives_8: 22461.2930 - true_negatives_4: 302759.6250 - false_positives_4: 35896.2227 - true_positives_4: 314744.6875 - val_loss: 0.1799 - val_acc: 0.9283 - val_auc_4: 0.9724 - val_false_negatives_7: 22909.6582 - val_recall_4: 0.9339 - val_precision_4: 0.8982 - val_false_negatives_8: 22909.6582 - val_true_negatives_4: 311177.1562 - val_false_positives_4: 36677.3398 - val_true_positives_4: 323465.8125 - lr: 4.4933e-04\n",
            "Epoch 20/100\n",
            "1837/1837 [==============================] - 21s 12ms/step - loss: 0.1611 - acc: 0.9334 - auc_4: 0.9727 - false_negatives_7: 23363.1660 - recall_4: 0.9343 - precision_4: 0.8986 - false_negatives_8: 23363.1660 - true_negatives_4: 319550.3750 - false_positives_4: 37492.9922 - true_positives_4: 332186.3438 - val_loss: 0.1805 - val_acc: 0.9283 - val_auc_4: 0.9730 - val_false_negatives_7: 23793.4023 - val_recall_4: 0.9348 - val_precision_4: 0.8991 - val_false_negatives_8: 23793.4023 - val_true_negatives_4: 327982.2500 - val_false_positives_4: 38276.3750 - val_true_positives_4: 340908.8750 - lr: 4.0657e-04\n",
            "Epoch 21/100\n",
            "1837/1837 [==============================] - 21s 12ms/step - loss: 0.1598 - acc: 0.9348 - auc_4: 0.9732 - false_negatives_7: 24224.8926 - recall_4: 0.9352 - precision_4: 0.8995 - false_negatives_8: 24224.8926 - true_negatives_4: 336368.5625 - false_positives_4: 39075.1719 - true_positives_4: 349655.1875 - val_loss: 0.1818 - val_acc: 0.9264 - val_auc_4: 0.9735 - val_false_negatives_7: 24653.7285 - val_recall_4: 0.9356 - val_precision_4: 0.8999 - val_false_negatives_8: 24653.7285 - val_true_negatives_4: 344795.6250 - val_false_positives_4: 39866.8789 - val_true_positives_4: 358375.6562 - lr: 3.6788e-04\n",
            "Epoch 22/100\n",
            "1837/1837 [==============================] - 21s 12ms/step - loss: 0.1583 - acc: 0.9344 - auc_4: 0.9737 - false_negatives_7: 25105.1074 - recall_4: 0.9360 - precision_4: 0.9003 - false_negatives_8: 25105.1074 - true_negatives_4: 353149.7500 - false_positives_4: 40665.0859 - true_positives_4: 367134.9375 - val_loss: 0.1791 - val_acc: 0.9276 - val_auc_4: 0.9740 - val_false_negatives_7: 25542.8672 - val_recall_4: 0.9364 - val_precision_4: 0.9007 - val_false_negatives_8: 25542.8672 - val_true_negatives_4: 361624.5938 - val_false_positives_4: 41441.9961 - val_true_positives_4: 375813.5312 - lr: 3.3287e-04\n",
            "Epoch 23/100\n",
            "1837/1837 [==============================] - 21s 12ms/step - loss: 0.1570 - acc: 0.9355 - auc_4: 0.9742 - false_negatives_7: 25982.0547 - recall_4: 0.9367 - precision_4: 0.9011 - false_negatives_8: 25982.0547 - true_negatives_4: 370039.1875 - false_positives_4: 42209.4180 - true_positives_4: 384555.2500 - val_loss: 0.1759 - val_acc: 0.9277 - val_auc_4: 0.9744 - val_false_negatives_7: 26399.5781 - val_recall_4: 0.9371 - val_precision_4: 0.9014 - val_false_negatives_8: 26399.5781 - val_true_negatives_4: 378459.7188 - val_false_positives_4: 43010.6680 - val_true_positives_4: 393283.7812 - lr: 3.0119e-04\n",
            "Epoch 24/100\n",
            "1837/1837 [==============================] - 21s 12ms/step - loss: 0.1554 - acc: 0.9363 - auc_4: 0.9746 - false_negatives_7: 26830.2715 - recall_4: 0.9374 - precision_4: 0.9018 - false_negatives_8: 26830.2715 - true_negatives_4: 386837.2500 - false_positives_4: 43800.9180 - true_positives_4: 402048.4062 - val_loss: 0.1819 - val_acc: 0.9255 - val_auc_4: 0.9748 - val_false_negatives_7: 27219.6543 - val_recall_4: 0.9379 - val_precision_4: 0.9021 - val_false_negatives_8: 27219.6543 - val_true_negatives_4: 395273.0000 - val_false_positives_4: 44601.4688 - val_true_positives_4: 410790.8125 - lr: 2.7253e-04\n",
            "Epoch 25/100\n",
            "1837/1837 [==============================] - 21s 11ms/step - loss: 0.1540 - acc: 0.9371 - auc_4: 0.9750 - false_negatives_7: 27614.5156 - recall_4: 0.9382 - precision_4: 0.9023 - false_negatives_8: 27614.5156 - true_negatives_4: 403621.1250 - false_positives_4: 45424.2539 - true_positives_4: 419587.8438 - val_loss: 0.1755 - val_acc: 0.9306 - val_auc_4: 0.9752 - val_false_negatives_7: 28027.8105 - val_recall_4: 0.9386 - val_precision_4: 0.9027 - val_false_negatives_8: 28027.8105 - val_true_negatives_4: 412109.8438 - val_false_positives_4: 46168.6602 - val_true_positives_4: 428309.6250 - lr: 2.4660e-04\n",
            "Epoch 26/100\n",
            "1837/1837 [==============================] - 21s 11ms/step - loss: 0.1536 - acc: 0.9373 - auc_4: 0.9754 - false_negatives_7: 28448.5234 - recall_4: 0.9389 - precision_4: 0.9030 - false_negatives_8: 28448.5234 - true_negatives_4: 420533.3438 - false_positives_4: 46941.0273 - true_positives_4: 437056.0938 - val_loss: 0.1810 - val_acc: 0.9277 - val_auc_4: 0.9756 - val_false_negatives_7: 28873.5977 - val_recall_4: 0.9392 - val_precision_4: 0.9034 - val_false_negatives_8: 28873.5977 - val_true_negatives_4: 428995.9375 - val_false_positives_4: 47686.5547 - val_true_positives_4: 445790.7812 - lr: 2.2313e-04\n",
            "Epoch 27/100\n",
            "1837/1837 [==============================] - 21s 11ms/step - loss: 0.1528 - acc: 0.9378 - auc_4: 0.9757 - false_negatives_7: 29301.7988 - recall_4: 0.9394 - precision_4: 0.9037 - false_negatives_8: 29301.7988 - true_negatives_4: 437410.7500 - false_positives_4: 48443.9453 - true_positives_4: 454553.4688 - val_loss: 0.1752 - val_acc: 0.9290 - val_auc_4: 0.9759 - val_false_negatives_7: 29698.9785 - val_recall_4: 0.9398 - val_precision_4: 0.9040 - val_false_negatives_8: 29698.9785 - val_true_negatives_4: 445870.1250 - val_false_positives_4: 49216.4336 - val_true_positives_4: 463292.1250 - lr: 2.0190e-04\n",
            "Epoch 28/100\n",
            "1837/1837 [==============================] - 21s 11ms/step - loss: 0.1512 - acc: 0.9384 - auc_4: 0.9761 - false_negatives_7: 30093.8203 - recall_4: 0.9401 - precision_4: 0.9043 - false_negatives_8: 30093.8203 - true_negatives_4: 454266.3125 - false_positives_4: 49982.5547 - true_positives_4: 472098.0000 - val_loss: 0.1816 - val_acc: 0.9262 - val_auc_4: 0.9762 - val_false_negatives_7: 30488.6484 - val_recall_4: 0.9404 - val_precision_4: 0.9045 - val_false_negatives_8: 30488.6484 - val_true_negatives_4: 462721.8125 - val_false_positives_4: 50768.5898 - val_true_positives_4: 480829.7812 - lr: 1.8268e-04\n",
            "Epoch 29/100\n",
            "1837/1837 [==============================] - 21s 11ms/step - loss: 0.1511 - acc: 0.9378 - auc_4: 0.9764 - false_negatives_7: 30889.6992 - recall_4: 0.9406 - precision_4: 0.9047 - false_negatives_8: 30889.6992 - true_negatives_4: 471091.8125 - false_positives_4: 51571.4844 - true_positives_4: 489618.9375 - val_loss: 0.1750 - val_acc: 0.9315 - val_auc_4: 0.9765 - val_false_negatives_7: 31286.0000 - val_recall_4: 0.9409 - val_precision_4: 0.9050 - val_false_negatives_8: 31286.0000 - val_true_negatives_4: 479572.7500 - val_false_positives_4: 52321.9336 - val_true_positives_4: 498359.6562 - lr: 1.6530e-04\n",
            "Epoch 30/100\n",
            "1837/1837 [==============================] - 21s 11ms/step - loss: 0.1502 - acc: 0.9386 - auc_4: 0.9767 - false_negatives_7: 31686.3008 - recall_4: 0.9412 - precision_4: 0.9052 - false_negatives_8: 31686.3008 - true_negatives_4: 487978.4375 - false_positives_4: 53079.7773 - true_positives_4: 507158.6562 - val_loss: 0.1735 - val_acc: 0.9306 - val_auc_4: 0.9768 - val_false_negatives_7: 32080.1289 - val_recall_4: 0.9415 - val_precision_4: 0.9055 - val_false_negatives_8: 32080.1289 - val_true_negatives_4: 496462.7812 - val_false_positives_4: 53835.6367 - val_true_positives_4: 515892.4375 - lr: 1.4957e-04\n",
            "Epoch 31/100\n",
            "1837/1837 [==============================] - 22s 12ms/step - loss: 0.1498 - acc: 0.9385 - auc_4: 0.9769 - false_negatives_7: 32487.5176 - recall_4: 0.9417 - precision_4: 0.9057 - false_negatives_8: 32487.5176 - true_negatives_4: 504835.8438 - false_positives_4: 54604.6953 - true_positives_4: 524705.9375 - val_loss: 0.1723 - val_acc: 0.9319 - val_auc_4: 0.9771 - val_false_negatives_7: 32882.6602 - val_recall_4: 0.9419 - val_precision_4: 0.9060 - val_false_negatives_8: 32882.6602 - val_true_negatives_4: 513355.8750 - val_false_positives_4: 55346.5898 - val_true_positives_4: 533416.8750 - lr: 1.3534e-04\n",
            "Epoch 32/100\n",
            "1837/1837 [==============================] - 21s 12ms/step - loss: 0.1490 - acc: 0.9394 - auc_4: 0.9772 - false_negatives_7: 33278.0742 - recall_4: 0.9422 - precision_4: 0.9062 - false_negatives_8: 33278.0742 - true_negatives_4: 521775.9375 - false_positives_4: 56105.7422 - true_positives_4: 542205.0000 - val_loss: 0.1727 - val_acc: 0.9315 - val_auc_4: 0.9773 - val_false_negatives_7: 33652.8945 - val_recall_4: 0.9424 - val_precision_4: 0.9065 - val_false_negatives_8: 33652.8945 - val_true_negatives_4: 530246.7500 - val_false_positives_4: 56859.7227 - val_true_positives_4: 550973.3750 - lr: 1.2246e-04\n",
            "Epoch 33/100\n",
            "1837/1837 [==============================] - 21s 11ms/step - loss: 0.1488 - acc: 0.9393 - auc_4: 0.9775 - false_negatives_7: 34037.9766 - recall_4: 0.9427 - precision_4: 0.9067 - false_negatives_8: 34037.9766 - true_negatives_4: 538689.3125 - false_positives_4: 57620.7109 - true_positives_4: 559747.3750 - val_loss: 0.1725 - val_acc: 0.9318 - val_auc_4: 0.9776 - val_false_negatives_7: 34424.0430 - val_recall_4: 0.9429 - val_precision_4: 0.9069 - val_false_negatives_8: 34424.0430 - val_true_negatives_4: 547137.3125 - val_false_positives_4: 58373.3320 - val_true_positives_4: 568529.1875 - lr: 1.1080e-04\n",
            "Epoch 34/100\n",
            "1837/1837 [==============================] - 22s 12ms/step - loss: 0.1483 - acc: 0.9393 - auc_4: 0.9777 - false_negatives_7: 34816.9766 - recall_4: 0.9431 - precision_4: 0.9071 - false_negatives_8: 34816.9766 - true_negatives_4: 555595.3750 - false_positives_4: 59144.7656 - true_positives_4: 577269.8125 - val_loss: 0.1743 - val_acc: 0.9326 - val_auc_4: 0.9778 - val_false_negatives_7: 35209.4102 - val_recall_4: 0.9433 - val_precision_4: 0.9073 - val_false_negatives_8: 35209.4102 - val_true_negatives_4: 564046.3750 - val_false_positives_4: 59868.2930 - val_true_positives_4: 586070.8750 - lr: 1.0026e-04\n",
            "Epoch 35/100\n",
            "1837/1837 [==============================] - 21s 11ms/step - loss: 0.1476 - acc: 0.9394 - auc_4: 0.9779 - false_negatives_7: 35613.4336 - recall_4: 0.9435 - precision_4: 0.9075 - false_negatives_8: 35613.4336 - true_negatives_4: 572487.0625 - false_positives_4: 60625.6250 - true_positives_4: 594831.6875 - val_loss: 0.1720 - val_acc: 0.9324 - val_auc_4: 0.9780 - val_false_negatives_7: 35991.8125 - val_recall_4: 0.9437 - val_precision_4: 0.9077 - val_false_negatives_8: 35991.8125 - val_true_negatives_4: 580954.6875 - val_false_positives_4: 61363.9141 - val_true_positives_4: 603615.5625 - lr: 9.0718e-05\n",
            "Epoch 36/100\n",
            "1837/1837 [==============================] - 21s 11ms/step - loss: 0.1473 - acc: 0.9398 - auc_4: 0.9781 - false_negatives_7: 36386.3359 - recall_4: 0.9439 - precision_4: 0.9079 - false_negatives_8: 36386.3359 - true_negatives_4: 589341.3750 - false_positives_4: 62131.5547 - true_positives_4: 612429.8125 - val_loss: 0.1741 - val_acc: 0.9309 - val_auc_4: 0.9782 - val_false_negatives_7: 36760.2852 - val_recall_4: 0.9441 - val_precision_4: 0.9081 - val_false_negatives_8: 36760.2852 - val_true_negatives_4: 597852.3750 - val_false_positives_4: 62870.2266 - val_true_positives_4: 621173.9375 - lr: 8.2085e-05\n",
            "Epoch 37/100\n",
            "1837/1837 [==============================] - 21s 11ms/step - loss: 0.1471 - acc: 0.9402 - auc_4: 0.9783 - false_negatives_7: 37160.1680 - recall_4: 0.9443 - precision_4: 0.9083 - false_negatives_8: 37160.1680 - true_negatives_4: 606239.5000 - false_positives_4: 63620.4492 - true_positives_4: 629999.6250 - val_loss: 0.1721 - val_acc: 0.9326 - val_auc_4: 0.9784 - val_false_negatives_7: 37529.7305 - val_recall_4: 0.9445 - val_precision_4: 0.9085 - val_false_negatives_8: 37529.7305 - val_true_negatives_4: 614769.4375 - val_false_positives_4: 64356.9844 - val_true_positives_4: 638731.5000 - lr: 7.4274e-05\n",
            "Epoch 38/100\n",
            "1837/1837 [==============================] - 21s 11ms/step - loss: 0.1469 - acc: 0.9399 - auc_4: 0.9785 - false_negatives_7: 37907.3359 - recall_4: 0.9447 - precision_4: 0.9086 - false_negatives_8: 37907.3359 - true_negatives_4: 623201.5625 - false_positives_4: 65107.3633 - true_positives_4: 647534.4375 - val_loss: 0.1717 - val_acc: 0.9318 - val_auc_4: 0.9786 - val_false_negatives_7: 38301.9062 - val_recall_4: 0.9449 - val_precision_4: 0.9088 - val_false_negatives_8: 38301.9062 - val_true_negatives_4: 631679.2500 - val_false_positives_4: 65851.2812 - val_true_positives_4: 656286.3750 - lr: 6.7206e-05\n",
            "Epoch 39/100\n",
            "1837/1837 [==============================] - 21s 11ms/step - loss: 0.1464 - acc: 0.9401 - auc_4: 0.9787 - false_negatives_7: 38690.7188 - recall_4: 0.9450 - precision_4: 0.9090 - false_negatives_8: 38690.7188 - true_negatives_4: 640127.5000 - false_positives_4: 66590.3906 - true_positives_4: 665073.3750 - val_loss: 0.1722 - val_acc: 0.9330 - val_auc_4: 0.9788 - val_false_negatives_7: 39073.1055 - val_recall_4: 0.9452 - val_precision_4: 0.9091 - val_false_negatives_8: 39073.1055 - val_true_negatives_4: 648599.1875 - val_false_positives_4: 67335.2344 - val_true_positives_4: 673842.1875 - lr: 6.0810e-05\n",
            "Epoch 40/100\n",
            "1837/1837 [==============================] - 21s 11ms/step - loss: 0.1465 - acc: 0.9397 - auc_4: 0.9789 - false_negatives_7: 39453.9375 - recall_4: 0.9454 - precision_4: 0.9093 - false_negatives_8: 39453.9375 - true_negatives_4: 657003.6250 - false_positives_4: 68097.8672 - true_positives_4: 682657.5000 - val_loss: 0.1713 - val_acc: 0.9319 - val_auc_4: 0.9789 - val_false_negatives_7: 39844.6016 - val_recall_4: 0.9455 - val_precision_4: 0.9095 - val_false_negatives_8: 39844.6016 - val_true_negatives_4: 665505.9375 - val_false_positives_4: 68832.5547 - val_true_positives_4: 691397.9375 - lr: 5.5023e-05\n",
            "Epoch 41/100\n",
            "1837/1837 [==============================] - 21s 11ms/step - loss: 0.1462 - acc: 0.9401 - auc_4: 0.9790 - false_negatives_7: 40235.0742 - recall_4: 0.9457 - precision_4: 0.9096 - false_negatives_8: 40235.0742 - true_negatives_4: 673932.5625 - false_positives_4: 69581.0000 - true_positives_4: 700195.3750 - val_loss: 0.1717 - val_acc: 0.9324 - val_auc_4: 0.9791 - val_false_negatives_7: 40618.1758 - val_recall_4: 0.9458 - val_precision_4: 0.9098 - val_false_negatives_8: 40618.1758 - val_true_negatives_4: 682425.0000 - val_false_positives_4: 70317.3828 - val_true_positives_4: 708951.1875 - lr: 4.9787e-05\n",
            "Epoch 42/100\n",
            "1837/1837 [==============================] - 21s 11ms/step - loss: 0.1459 - acc: 0.9404 - auc_4: 0.9792 - false_negatives_7: 41004.9766 - recall_4: 0.9460 - precision_4: 0.9099 - false_negatives_8: 41004.9766 - true_negatives_4: 690888.2500 - false_positives_4: 71067.8047 - true_positives_4: 717713.6875 - val_loss: 0.1719 - val_acc: 0.9321 - val_auc_4: 0.9793 - val_false_negatives_7: 41390.0508 - val_recall_4: 0.9461 - val_precision_4: 0.9101 - val_false_negatives_8: 41390.0508 - val_true_negatives_4: 699350.5625 - val_false_positives_4: 71795.9141 - val_true_positives_4: 726506.3125 - lr: 4.5049e-05\n",
            "Epoch 43/100\n",
            "1837/1837 [==============================] - 21s 11ms/step - loss: 0.1458 - acc: 0.9406 - auc_4: 0.9793 - false_negatives_7: 41779.0312 - recall_4: 0.9462 - precision_4: 0.9102 - false_negatives_8: 41779.0312 - true_negatives_4: 707831.4375 - false_positives_4: 72542.0156 - true_positives_4: 735253.4375 - val_loss: 0.1710 - val_acc: 0.9319 - val_auc_4: 0.9794 - val_false_negatives_7: 42155.4180 - val_recall_4: 0.9464 - val_precision_4: 0.9104 - val_false_negatives_8: 42155.4180 - val_true_negatives_4: 716276.6875 - val_false_positives_4: 73273.6797 - val_true_positives_4: 744067.8125 - lr: 4.0762e-05\n",
            "Epoch 44/100\n",
            "1837/1837 [==============================] - 21s 11ms/step - loss: 0.1456 - acc: 0.9401 - auc_4: 0.9795 - false_negatives_7: 42531.0820 - recall_4: 0.9465 - precision_4: 0.9105 - false_negatives_8: 42531.0820 - true_negatives_4: 724680.1875 - false_positives_4: 74027.3906 - true_positives_4: 752897.8750 - val_loss: 0.1707 - val_acc: 0.9322 - val_auc_4: 0.9796 - val_false_negatives_7: 42927.0000 - val_recall_4: 0.9466 - val_precision_4: 0.9106 - val_false_negatives_8: 42927.0000 - val_true_negatives_4: 733190.0000 - val_false_positives_4: 74764.3984 - val_true_positives_4: 761623.1875 - lr: 3.6883e-05\n",
            "Epoch 45/100\n",
            "1837/1837 [==============================] - 21s 12ms/step - loss: 0.1458 - acc: 0.9404 - auc_4: 0.9796 - false_negatives_7: 43298.9961 - recall_4: 0.9468 - precision_4: 0.9107 - false_negatives_8: 43298.9961 - true_negatives_4: 741634.5625 - false_positives_4: 75512.8594 - true_positives_4: 770421.5000 - val_loss: 0.1706 - val_acc: 0.9325 - val_auc_4: 0.9797 - val_false_negatives_7: 43689.0703 - val_recall_4: 0.9469 - val_precision_4: 0.9109 - val_false_negatives_8: 43689.0703 - val_true_negatives_4: 750107.5000 - val_false_positives_4: 76251.1719 - val_true_positives_4: 779188.3750 - lr: 3.3373e-05\n",
            "Epoch 46/100\n",
            "1837/1837 [==============================] - 21s 12ms/step - loss: 0.1454 - acc: 0.9402 - auc_4: 0.9797 - false_negatives_7: 44086.4180 - recall_4: 0.9470 - precision_4: 0.9110 - false_negatives_8: 44086.4180 - true_negatives_4: 758564.9375 - false_positives_4: 77008.3828 - true_positives_4: 787939.5625 - val_loss: 0.1708 - val_acc: 0.9334 - val_auc_4: 0.9798 - val_false_negatives_7: 44465.7656 - val_recall_4: 0.9471 - val_precision_4: 0.9111 - val_false_negatives_8: 44465.7656 - val_true_negatives_4: 767041.0625 - val_false_positives_4: 77721.3672 - val_true_positives_4: 796738.6250 - lr: 3.0197e-05\n",
            "Epoch 47/100\n",
            "1837/1837 [==============================] - 21s 11ms/step - loss: 0.1452 - acc: 0.9404 - auc_4: 0.9799 - false_negatives_7: 44852.4297 - recall_4: 0.9473 - precision_4: 0.9112 - false_negatives_8: 44852.4297 - true_negatives_4: 775442.1875 - false_positives_4: 78485.0781 - true_positives_4: 805549.3750 - val_loss: 0.1704 - val_acc: 0.9326 - val_auc_4: 0.9799 - val_false_negatives_7: 45229.1758 - val_recall_4: 0.9474 - val_precision_4: 0.9114 - val_false_negatives_8: 45229.1758 - val_true_negatives_4: 783964.9375 - val_false_positives_4: 79201.4609 - val_true_positives_4: 814302.1875 - lr: 2.7324e-05\n",
            "Epoch 48/100\n",
            "1837/1837 [==============================] - 21s 11ms/step - loss: 0.1450 - acc: 0.9410 - auc_4: 0.9800 - false_negatives_7: 45604.3633 - recall_4: 0.9475 - precision_4: 0.9115 - false_negatives_8: 45604.3633 - true_negatives_4: 792426.7500 - false_positives_4: 79940.5234 - true_positives_4: 823089.1875 - val_loss: 0.1721 - val_acc: 0.9315 - val_auc_4: 0.9800 - val_false_negatives_7: 45985.6016 - val_recall_4: 0.9476 - val_precision_4: 0.9116 - val_false_negatives_8: 45985.6016 - val_true_negatives_4: 800893.4375 - val_false_positives_4: 80677.1328 - val_true_positives_4: 831872.5625 - lr: 2.4724e-05\n",
            "Epoch 49/100\n",
            "1837/1837 [==============================] - 22s 12ms/step - loss: 0.1450 - acc: 0.9405 - auc_4: 0.9801 - false_negatives_7: 46379.6289 - recall_4: 0.9477 - precision_4: 0.9117 - false_negatives_8: 46379.6289 - true_negatives_4: 809328.8125 - false_positives_4: 81405.8750 - true_positives_4: 840676.9375 - val_loss: 0.1706 - val_acc: 0.9334 - val_auc_4: 0.9802 - val_false_negatives_7: 46761.5898 - val_recall_4: 0.9478 - val_precision_4: 0.9118 - val_false_negatives_8: 46761.5898 - val_true_negatives_4: 817829.0000 - val_false_positives_4: 82145.2500 - val_true_positives_4: 849423.8125 - lr: 2.2371e-05\n",
            "Epoch 50/100\n",
            "1837/1837 [==============================] - 21s 11ms/step - loss: 0.1449 - acc: 0.9407 - auc_4: 0.9802 - false_negatives_7: 47143.5664 - recall_4: 0.9479 - precision_4: 0.9119 - false_negatives_8: 47143.5664 - true_negatives_4: 826275.8125 - false_positives_4: 82893.9844 - true_positives_4: 858208.6250 - val_loss: 0.1708 - val_acc: 0.9332 - val_auc_4: 0.9803 - val_false_negatives_7: 47517.1562 - val_recall_4: 0.9480 - val_precision_4: 0.9120 - val_false_negatives_8: 47517.1562 - val_true_negatives_4: 834755.1875 - val_false_positives_4: 83623.2109 - val_true_positives_4: 866995.0625 - lr: 2.0242e-05\n",
            "Epoch 51/100\n",
            "1837/1837 [==============================] - 21s 11ms/step - loss: 0.1448 - acc: 0.9408 - auc_4: 0.9803 - false_negatives_7: 47895.1992 - recall_4: 0.9482 - precision_4: 0.9121 - false_negatives_8: 47895.1992 - true_negatives_4: 843216.6250 - false_positives_4: 84377.5547 - true_positives_4: 875764.3750 - val_loss: 0.1709 - val_acc: 0.9325 - val_auc_4: 0.9804 - val_false_negatives_7: 48272.5898 - val_recall_4: 0.9483 - val_precision_4: 0.9122 - val_false_negatives_8: 48272.5898 - val_true_negatives_4: 851683.2500 - val_false_positives_4: 85099.3984 - val_true_positives_4: 884567.1250 - lr: 1.8316e-05\n",
            "Epoch 52/100\n",
            "1837/1837 [==============================] - 21s 11ms/step - loss: 0.1447 - acc: 0.9407 - auc_4: 0.9804 - false_negatives_7: 48645.3320 - recall_4: 0.9484 - precision_4: 0.9123 - false_negatives_8: 48645.3320 - true_negatives_4: 860110.1250 - false_positives_4: 85852.6719 - true_positives_4: 893376.5000 - val_loss: 0.1706 - val_acc: 0.9332 - val_auc_4: 0.9805 - val_false_negatives_7: 49024.5234 - val_recall_4: 0.9485 - val_precision_4: 0.9124 - val_false_negatives_8: 49024.5234 - val_true_negatives_4: 868599.7500 - val_false_positives_4: 86586.8672 - val_true_positives_4: 902141.8125 - lr: 1.6573e-05\n",
            "finish training lstm model\n"
          ],
          "name": "stdout"
        }
      ]
    },
    {
      "cell_type": "code",
      "metadata": {
        "id": "E-KQYZ5ng7V1",
        "colab_type": "code",
        "outputId": "b0455369-d806-42fe-c923-7d4f0f026588",
        "colab": {
          "base_uri": "https://localhost:8080/",
          "height": 255
        }
      },
      "source": [
        "lstm_model.summary()\n",
        "lstm_model.save(\"/content/drive/My Drive/636project/model_improved_lstm.h5\")"
      ],
      "execution_count": 0,
      "outputs": [
        {
          "output_type": "stream",
          "text": [
            "Model: \"sequential_3\"\n",
            "_________________________________________________________________\n",
            "Layer (type)                 Output Shape              Param #   \n",
            "=================================================================\n",
            "lstm_4 (LSTM)                (None, 1, 16)             5120      \n",
            "_________________________________________________________________\n",
            "lstm_5 (LSTM)                (None, 16)                2112      \n",
            "_________________________________________________________________\n",
            "dense_4 (Dense)              (None, 1)                 17        \n",
            "=================================================================\n",
            "Total params: 7,249\n",
            "Trainable params: 7,249\n",
            "Non-trainable params: 0\n",
            "_________________________________________________________________\n"
          ],
          "name": "stdout"
        }
      ]
    },
    {
      "cell_type": "code",
      "metadata": {
        "id": "TB-7RM66Yp7w",
        "colab_type": "code",
        "colab": {}
      },
      "source": [
        "# plotting the results\n",
        "\n",
        "import matplotlib.pyplot as plt\n",
        "\n",
        "def plotting_training(history):\n",
        "  # Plot training & validation accuracy values\n",
        "  plt.plot(history.history['acc'])\n",
        "  plt.plot(history.history['val_acc'])\n",
        "  plt.title('Model accuracy')\n",
        "  plt.ylabel('Accuracy')\n",
        "  plt.xlabel('Epoch')\n",
        "  plt.legend(['Train', 'Test'], loc='upper left')\n",
        "  plt.show()\n",
        "  # Plot training & validation loss values\n",
        "  loss = history.history['loss']\n",
        "  val_loss = history.history['val_loss']\n",
        "  epochs = range(1, len(loss) + 1)\n",
        "  plt.figure()\n",
        "  plt.plot(epochs, loss, 'bo', label=\"Training loss\")\n",
        "  plt.plot(epochs, val_loss, 'b', label='Validation loss')\n",
        "  plt.title('Training and validation loss')\n",
        "  plt.xlabel('epoch', fontsize=10)\n",
        "  plt.ylabel('loss', fontsize=10)\n",
        "  plt.ylim(0.0,0.5)\n",
        "  plt.legend()\n",
        "  plt.show()"
      ],
      "execution_count": 0,
      "outputs": []
    },
    {
      "cell_type": "code",
      "metadata": {
        "id": "ziJTzntiE9SM",
        "colab_type": "code",
        "outputId": "38a4a97c-9f1f-4f28-8b4a-ac11de1c3f48",
        "colab": {
          "base_uri": "https://localhost:8080/",
          "height": 573
        }
      },
      "source": [
        "plotting_training(lstm_history)"
      ],
      "execution_count": 0,
      "outputs": [
        {
          "output_type": "display_data",
          "data": {
            "image/png": "[encoded data removed]",
            "text/plain": [
              "<Figure size 432x288 with 1 Axes>"
            ]
          },
          "metadata": {
            "tags": [],
            "needs_background": "light"
          }
        },
        {
          "output_type": "display_data",
          "data": {
            "image/png": "[encoded data removed]",
            "text/plain": [
              "<Figure size 432x288 with 1 Axes>"
            ]
          },
          "metadata": {
            "tags": [],
            "needs_background": "light"
          }
        }
      ]
    },
    {
      "cell_type": "code",
      "metadata": {
        "id": "QdyJtNbDxV0x",
        "colab_type": "code",
        "outputId": "59415e2d-c603-4776-c745-052e925de9ba",
        "colab": {
          "base_uri": "https://localhost:8080/",
          "height": 71
        }
      },
      "source": [
        "# test \n",
        "# for lstm\n",
        "x_test = []\n",
        "y_test = []\n",
        "\n",
        "for record in train_data:\n",
        "  x_test.append(record[1:])\n",
        "  label = int(record[0])\n",
        "  y_test.append(label) \n",
        "\n",
        "x_test = array(x_test)\n",
        "x_test = x_test.reshape((len(x_test), 1, len(x_test[0])))\n",
        "\n",
        "y_test = array(y_test)\n",
        "\n",
        "test_score = lstm_model.evaluate(x_test, y_test)\n",
        "print(test_score)"
      ],
      "execution_count": 0,
      "outputs": [
        {
          "output_type": "stream",
          "text": [
            "1148/1148 [==============================] - 7s 6ms/step - loss: 0.1497 - acc: 0.9395 - auc_4: 0.9805 - false_negatives_7: 49462.9883 - recall_4: 0.9486 - precision_4: 0.9125 - false_negatives_8: 49462.9883 - true_negatives_4: 878713.0625 - false_positives_4: 87488.1562 - true_positives_4: 912731.1875\n",
            "[0.14972610771656036, 0.9394516944885254, 0.9805395603179932, 49462.98828125, 0.9485976696014404, 0.9125279188156128, 49462.98828125, 878713.0625, 87488.15625, 912731.1875]\n"
          ],
          "name": "stdout"
        }
      ]
    },
    {
      "cell_type": "code",
      "metadata": {
        "id": "525FNc0f5Hj9",
        "colab_type": "code",
        "outputId": "855da0ad-ad0f-4029-b8c6-ada62ae01280",
        "colab": {
          "base_uri": "https://localhost:8080/",
          "height": 802
        }
      },
      "source": [
        "# solution 2: train model using CNN\n",
        "from tensorflow.keras.models import Sequential\n",
        "from tensorflow.keras.layers import Dense, Conv2D, Flatten, MaxPooling2D\n",
        "\n",
        "def scheduler(epoch):\n",
        "  if epoch < 10:\n",
        "    return 0.001\n",
        "  else:\n",
        "    return 0.001 * np.exp(0.1 * (10 - epoch))\n",
        "\n",
        "x_train = []\n",
        "y_train = []\n",
        "\n",
        "for record in train_data:\n",
        "  x_train.append(record[1:])\n",
        "  label = int(record[0])\n",
        "  y_train.append(label) \n",
        "\n",
        "def train_cnn_model(x_train, y_train):\n",
        "  x_train = array(x_train)\n",
        "  x_train = x_train.reshape((len(x_train), 3, int(len(x_train[0])/3), 1))\n",
        "\n",
        "  y_train = array(y_train)\n",
        "\n",
        "  #create model\n",
        "  cnn_model = Sequential()\n",
        "  cnn_model.add(Conv2D(64, \n",
        "                  kernel_size=3, \n",
        "                  activation='relu', \n",
        "                  input_shape=(3,21,1), \n",
        "                  padding='same'))\n",
        "  cnn_model.add(layers.BatchNormalization(1))\n",
        "  cnn_model.add(Conv2D(64, \n",
        "                  kernel_size=3, \n",
        "                  activation='relu', \n",
        "                  padding='same'))\n",
        "  cnn_model.add(layers.BatchNormalization(1))\n",
        "  cnn_model.add(MaxPooling2D(2,2))\n",
        "  cnn_model.add(Flatten())\n",
        "  cnn_model.add(Dense(512, activation = 'relu')) \n",
        "  cnn_model.add(Dense(1, activation='sigmoid'))\n",
        "\n",
        "  # compile and fit\n",
        "  cnn_model.compile(optimizer='Adam',\n",
        "                loss='binary_crossentropy',\n",
        "                metrics=['acc', \n",
        "                        metrics.AUC(), \n",
        "                        metrics.FalseNegatives(),\n",
        "                        metrics.Recall(),\n",
        "                        metrics.Precision(),\n",
        "                        metrics.FalseNegatives(),\n",
        "                        metrics.TrueNegatives(),\n",
        "                        metrics.FalsePositives(),\n",
        "                        metrics.TruePositives()])\n",
        "  cnn_history = cnn_model.fit(x_train, y_train,\n",
        "                      epochs=100,\n",
        "                      batch_size=16,\n",
        "                      validation_split=0.2,\n",
        "                      callbacks=[callbacks.EarlyStopping(monitor='val_loss', patience=5),\n",
        "                      callbacks.LearningRateScheduler(scheduler)])\n",
        "    \n",
        "  print(\"finish training cnn model\")\n",
        "  return cnn_model, cnn_history\n",
        "\n",
        "\n",
        "cnn_model, cnn_history = tain_cnn_model(x_train, y_train)"
      ],
      "execution_count": 0,
      "outputs": [
        {
          "output_type": "stream",
          "text": [
            "Epoch 1/100\n",
            "1837/1837 [==============================] - 17s 9ms/step - loss: 0.2590 - acc: 0.8909 - auc_5: 0.9174 - false_negatives_9: 820.3588 - recall_5: 0.8584 - precision_5: 0.8328 - false_negatives_10: 820.3588 - true_negatives_5: 6296.3540 - false_positives_5: 1063.7083 - true_positives_5: 6523.5747 - val_loss: 0.1857 - val_acc: 0.9257 - val_auc_5: 0.9616 - val_false_negatives_9: 1475.2848 - val_recall_5: 0.9104 - val_precision_5: 0.8828 - val_false_negatives_10: 1475.2848 - val_true_negatives_5: 14592.5957 - val_false_positives_5: 1989.9500 - val_true_positives_5: 15014.1416 - lr: 0.0010\n",
            "Epoch 2/100\n",
            "1837/1837 [==============================] - 16s 9ms/step - loss: 0.1693 - acc: 0.9295 - auc_5: 0.9688 - false_negatives_9: 2017.8922 - recall_5: 0.9208 - precision_5: 0.8945 - false_negatives_10: 2017.8922 - true_negatives_5: 23007.4902 - false_positives_5: 2768.3037 - true_positives_5: 23641.2949 - val_loss: 0.1963 - val_acc: 0.9137 - val_auc_5: 0.9724 - val_false_negatives_9: 2513.6392 - val_recall_5: 0.9278 - val_precision_5: 0.8990 - val_false_negatives_10: 2513.6392 - val_true_negatives_5: 31355.3906 - val_false_positives_5: 3631.1543 - val_true_positives_5: 32302.7871 - lr: 0.0010\n",
            "Epoch 3/100\n",
            "1837/1837 [==============================] - 16s 9ms/step - loss: 0.1472 - acc: 0.9385 - auc_5: 0.9749 - false_negatives_9: 2918.6772 - recall_5: 0.9334 - precision_5: 0.9020 - false_negatives_10: 2918.6772 - true_negatives_5: 39733.9844 - false_positives_5: 4450.7339 - true_positives_5: 41062.5898 - val_loss: 0.1461 - val_acc: 0.9377 - val_auc_5: 0.9772 - val_false_negatives_9: 3312.3347 - val_recall_5: 0.9377 - val_precision_5: 0.9060 - val_false_negatives_10: 3312.3347 - val_true_negatives_5: 48219.0273 - val_false_positives_5: 5171.5371 - val_true_positives_5: 49831.0781 - lr: 0.0010\n",
            "Epoch 4/100\n",
            "1837/1837 [==============================] - 16s 9ms/step - loss: 0.1283 - acc: 0.9454 - auc_5: 0.9790 - false_negatives_9: 3683.1023 - recall_5: 0.9408 - precision_5: 0.9088 - false_negatives_10: 3683.1023 - true_negatives_5: 56725.0312 - false_positives_5: 5873.9639 - true_positives_5: 58614.9883 - val_loss: 0.1511 - val_acc: 0.9402 - val_auc_5: 0.9805 - val_false_negatives_9: 4020.5347 - val_recall_5: 0.9437 - val_precision_5: 0.9119 - val_false_negatives_10: 4020.5347 - val_true_negatives_5: 65278.0703 - val_false_positives_5: 6516.4912 - val_true_positives_5: 67449.8594 - lr: 0.0010\n",
            "Epoch 5/100\n",
            "1837/1837 [==============================] - 16s 9ms/step - loss: 0.1174 - acc: 0.9499 - auc_5: 0.9816 - false_negatives_9: 4345.1201 - recall_5: 0.9460 - precision_5: 0.9141 - false_negatives_10: 4345.1201 - true_negatives_5: 73819.1562 - false_positives_5: 7166.5933 - true_positives_5: 76297.0938 - val_loss: 0.1328 - val_acc: 0.9450 - val_auc_5: 0.9826 - val_false_negatives_9: 4624.9263 - val_recall_5: 0.9485 - val_precision_5: 0.9160 - val_false_negatives_10: 4624.9263 - val_true_negatives_5: 82390.0859 - val_false_positives_5: 7808.4761 - val_true_positives_5: 85172.4688 - lr: 0.0010\n",
            "Epoch 6/100\n",
            "1837/1837 [==============================] - 16s 9ms/step - loss: 0.1068 - acc: 0.9536 - auc_5: 0.9835 - false_negatives_9: 4906.5557 - recall_5: 0.9504 - precision_5: 0.9176 - false_negatives_10: 4906.5557 - true_negatives_5: 90966.3516 - false_positives_5: 8444.5254 - true_positives_5: 94041.3828 - val_loss: 0.1249 - val_acc: 0.9461 - val_auc_5: 0.9844 - val_false_negatives_9: 5149.2153 - val_recall_5: 0.9524 - val_precision_5: 0.9193 - val_false_negatives_10: 5149.2153 - val_true_negatives_5: 99558.0000 - val_false_positives_5: 9044.5674 - val_true_positives_5: 102975.2500 - lr: 0.0010\n",
            "Epoch 7/100\n",
            "1837/1837 [==============================] - 16s 9ms/step - loss: 0.1014 - acc: 0.9570 - auc_5: 0.9850 - false_negatives_9: 5379.7295 - recall_5: 0.9541 - precision_5: 0.9206 - false_negatives_10: 5379.7295 - true_negatives_5: 108100.0938 - false_positives_5: 9648.7773 - true_positives_5: 111961.3516 - val_loss: 0.1156 - val_acc: 0.9525 - val_auc_5: 0.9857 - val_false_negatives_9: 5596.8110 - val_recall_5: 0.9557 - val_precision_5: 0.9219 - val_false_negatives_10: 5596.8110 - val_true_negatives_5: 116773.2891 - val_false_positives_5: 10233.2939 - val_true_positives_5: 120854.6250 - lr: 0.0010\n",
            "Epoch 8/100\n",
            "1837/1837 [==============================] - 16s 9ms/step - loss: 0.0946 - acc: 0.9586 - auc_5: 0.9862 - false_negatives_9: 5787.7861 - recall_5: 0.9573 - precision_5: 0.9231 - false_negatives_10: 5787.7861 - true_negatives_5: 125318.1406 - false_positives_5: 10816.6104 - true_positives_5: 129898.4141 - val_loss: 0.1081 - val_acc: 0.9529 - val_auc_5: 0.9868 - val_false_negatives_9: 5979.6890 - val_recall_5: 0.9587 - val_precision_5: 0.9240 - val_false_negatives_10: 5979.6890 - val_true_negatives_5: 133997.9375 - val_false_positives_5: 11412.5957 - val_true_positives_5: 138798.7812 - lr: 0.0010\n",
            "Epoch 9/100\n",
            "1837/1837 [==============================] - 16s 9ms/step - loss: 0.0897 - acc: 0.9600 - auc_5: 0.9872 - false_negatives_9: 6143.0493 - recall_5: 0.9601 - precision_5: 0.9249 - false_negatives_10: 6143.0493 - true_negatives_5: 142574.7188 - false_positives_5: 12001.8418 - true_positives_5: 147832.3594 - val_loss: 0.1056 - val_acc: 0.9549 - val_auc_5: 0.9876 - val_false_negatives_9: 6306.6328 - val_recall_5: 0.9613 - val_precision_5: 0.9256 - val_false_negatives_10: 6306.6328 - val_true_negatives_5: 151214.7812 - val_false_positives_5: 12599.6787 - val_true_positives_5: 156798.8125 - lr: 0.0010\n",
            "Epoch 10/100\n",
            "1837/1837 [==============================] - 17s 9ms/step - loss: 0.0869 - acc: 0.9618 - auc_5: 0.9880 - false_negatives_9: 6452.8101 - recall_5: 0.9625 - precision_5: 0.9264 - false_negatives_10: 6452.8101 - true_negatives_5: 159838.5469 - false_positives_5: 13167.4131 - true_positives_5: 165824.1406 - val_loss: 0.1065 - val_acc: 0.9548 - val_auc_5: 0.9884 - val_false_negatives_9: 6587.0933 - val_recall_5: 0.9637 - val_precision_5: 0.9269 - val_false_negatives_10: 6587.0933 - val_true_negatives_5: 168439.0312 - val_false_positives_5: 13779.5586 - val_true_positives_5: 174845.3750 - lr: 0.0010\n",
            "Epoch 11/100\n",
            "1837/1837 [==============================] - 16s 9ms/step - loss: 0.0836 - acc: 0.9621 - auc_5: 0.9887 - false_negatives_9: 6706.6387 - recall_5: 0.9648 - precision_5: 0.9274 - false_negatives_10: 6706.6387 - true_negatives_5: 177047.9844 - false_positives_5: 14393.9688 - true_positives_5: 183865.3125 - val_loss: 0.1058 - val_acc: 0.9563 - val_auc_5: 0.9890 - val_false_negatives_9: 6847.4502 - val_recall_5: 0.9657 - val_precision_5: 0.9281 - val_false_negatives_10: 6847.4502 - val_true_negatives_5: 185667.7969 - val_false_positives_5: 14954.7178 - val_true_positives_5: 192912.0000 - lr: 0.0010\n",
            "Epoch 12/100\n",
            "1837/1837 [==============================] - 16s 9ms/step - loss: 0.0814 - acc: 0.9630 - auc_5: 0.9893 - false_negatives_9: 6984.6040 - recall_5: 0.9666 - precision_5: 0.9286 - false_negatives_10: 6984.6040 - true_negatives_5: 194338.0000 - false_positives_5: 15516.2480 - true_positives_5: 201905.9531 - val_loss: 0.1044 - val_acc: 0.9573 - val_auc_5: 0.9895 - val_false_negatives_9: 7109.6782 - val_recall_5: 0.9674 - val_precision_5: 0.9291 - val_false_negatives_10: 7109.6782 - val_true_negatives_5: 202934.0312 - val_false_positives_5: 16092.4365 - val_true_positives_5: 210976.7188 - lr: 9.0484e-04\n",
            "Epoch 13/100\n",
            "1837/1837 [==============================] - 16s 9ms/step - loss: 0.0751 - acc: 0.9654 - auc_5: 0.9898 - false_negatives_9: 7221.4248 - recall_5: 0.9682 - precision_5: 0.9296 - false_negatives_10: 7221.4248 - true_negatives_5: 211513.3438 - false_positives_5: 16663.2383 - true_positives_5: 220078.0156 - val_loss: 0.1030 - val_acc: 0.9577 - val_auc_5: 0.9900 - val_false_negatives_9: 7327.1392 - val_recall_5: 0.9690 - val_precision_5: 0.9301 - val_false_negatives_10: 7327.1392 - val_true_negatives_5: 220220.1719 - val_false_positives_5: 17210.2871 - val_true_positives_5: 229086.1094 - lr: 8.1873e-04\n",
            "Epoch 14/100\n",
            "1837/1837 [==============================] - 17s 9ms/step - loss: 0.0721 - acc: 0.9659 - auc_5: 0.9902 - false_negatives_9: 7420.0791 - recall_5: 0.9698 - precision_5: 0.9306 - false_negatives_10: 7420.0791 - true_negatives_5: 228829.2812 - false_positives_5: 17759.1777 - true_positives_5: 238197.9844 - val_loss: 0.0968 - val_acc: 0.9601 - val_auc_5: 0.9905 - val_false_negatives_9: 7509.6523 - val_recall_5: 0.9705 - val_precision_5: 0.9310 - val_false_negatives_10: 7509.6523 - val_true_negatives_5: 237503.2656 - val_false_positives_5: 18331.2773 - val_true_positives_5: 247230.7031 - lr: 7.4082e-04\n",
            "Epoch 15/100\n",
            "1837/1837 [==============================] - 16s 9ms/step - loss: 0.0685 - acc: 0.9679 - auc_5: 0.9907 - false_negatives_9: 7586.5972 - recall_5: 0.9712 - precision_5: 0.9314 - false_negatives_10: 7586.5972 - true_negatives_5: 246171.7812 - false_positives_5: 18873.2891 - true_positives_5: 256306.2656 - val_loss: 0.1036 - val_acc: 0.9578 - val_auc_5: 0.9909 - val_false_negatives_9: 7663.2871 - val_recall_5: 0.9719 - val_precision_5: 0.9318 - val_false_negatives_10: 7663.2871 - val_true_negatives_5: 254818.9844 - val_false_positives_5: 19419.6387 - val_true_positives_5: 265404.0625 - lr: 6.7032e-04\n",
            "Epoch 16/100\n",
            "1837/1837 [==============================] - 16s 9ms/step - loss: 0.0674 - acc: 0.9677 - auc_5: 0.9910 - false_negatives_9: 7729.5386 - recall_5: 0.9726 - precision_5: 0.9321 - false_negatives_10: 7729.5386 - true_negatives_5: 263435.6250 - false_positives_5: 19992.9980 - true_positives_5: 274510.8438 - val_loss: 0.0995 - val_acc: 0.9584 - val_auc_5: 0.9912 - val_false_negatives_9: 7796.5088 - val_recall_5: 0.9732 - val_precision_5: 0.9324 - val_false_negatives_10: 7796.5088 - val_true_negatives_5: 272095.5938 - val_false_positives_5: 20547.0762 - val_true_positives_5: 283597.9688 - lr: 6.0653e-04\n",
            "Epoch 17/100\n",
            "1837/1837 [==============================] - 16s 9ms/step - loss: 0.0660 - acc: 0.9687 - auc_5: 0.9914 - false_negatives_9: 7857.3521 - recall_5: 0.9739 - precision_5: 0.9328 - false_negatives_10: 7857.3521 - true_negatives_5: 280722.6250 - false_positives_5: 21101.0312 - true_positives_5: 292719.0938 - val_loss: 0.0913 - val_acc: 0.9604 - val_auc_5: 0.9915 - val_false_negatives_9: 7917.3936 - val_recall_5: 0.9744 - val_precision_5: 0.9331 - val_false_negatives_10: 7917.3936 - val_true_negatives_5: 289398.2500 - val_false_positives_5: 21648.3965 - val_true_positives_5: 301803.9688 - lr: 5.4881e-04\n",
            "Epoch 18/100\n",
            "1837/1837 [==============================] - 16s 9ms/step - loss: 0.0629 - acc: 0.9693 - auc_5: 0.9917 - false_negatives_9: 7968.3223 - recall_5: 0.9750 - precision_5: 0.9334 - false_negatives_10: 7968.3223 - true_negatives_5: 298015.1562 - false_positives_5: 22193.6426 - true_positives_5: 310953.8125 - val_loss: 0.0914 - val_acc: 0.9616 - val_auc_5: 0.9918 - val_false_negatives_9: 8029.0303 - val_recall_5: 0.9755 - val_precision_5: 0.9337 - val_false_negatives_10: 8029.0303 - val_true_negatives_5: 306729.2812 - val_false_positives_5: 22721.2715 - val_true_positives_5: 320019.4062 - lr: 4.9659e-04\n",
            "Epoch 19/100\n",
            "1837/1837 [==============================] - 16s 9ms/step - loss: 0.0612 - acc: 0.9701 - auc_5: 0.9920 - false_negatives_9: 8085.5464 - recall_5: 0.9760 - precision_5: 0.9340 - false_negatives_10: 8085.5464 - true_negatives_5: 315379.5312 - false_positives_5: 23252.7949 - true_positives_5: 329144.0938 - val_loss: 0.0947 - val_acc: 0.9613 - val_auc_5: 0.9921 - val_false_negatives_9: 8138.0391 - val_recall_5: 0.9765 - val_precision_5: 0.9343 - val_false_negatives_10: 8138.0391 - val_true_negatives_5: 324077.4688 - val_false_positives_5: 23777.1133 - val_true_positives_5: 338237.2812 - lr: 4.4933e-04\n",
            "Epoch 20/100\n",
            "1837/1837 [==============================] - 16s 9ms/step - loss: 0.0605 - acc: 0.9702 - auc_5: 0.9922 - false_negatives_9: 8186.1875 - recall_5: 0.9770 - precision_5: 0.9346 - false_negatives_10: 8186.1875 - true_negatives_5: 332723.7500 - false_positives_5: 24305.0059 - true_positives_5: 347377.6562 - val_loss: 0.1063 - val_acc: 0.9613 - val_auc_5: 0.9923 - val_false_negatives_9: 8237.1064 - val_recall_5: 0.9774 - val_precision_5: 0.9349 - val_false_negatives_10: 8237.1064 - val_true_negatives_5: 341422.6562 - val_false_positives_5: 24835.8418 - val_true_positives_5: 356465.4062 - lr: 4.0657e-04\n",
            "Epoch 21/100\n",
            "1837/1837 [==============================] - 16s 9ms/step - loss: 0.0609 - acc: 0.9703 - auc_5: 0.9924 - false_negatives_9: 8290.1113 - recall_5: 0.9778 - precision_5: 0.9351 - false_negatives_10: 8290.1113 - true_negatives_5: 350113.3125 - false_positives_5: 25370.0039 - true_positives_5: 365550.3125 - val_loss: 0.0913 - val_acc: 0.9633 - val_auc_5: 0.9925 - val_false_negatives_9: 8335.3018 - val_recall_5: 0.9782 - val_precision_5: 0.9354 - val_false_negatives_10: 8335.3018 - val_true_negatives_5: 358774.0625 - val_false_positives_5: 25888.4648 - val_true_positives_5: 374694.1250 - lr: 3.6788e-04\n",
            "Epoch 22/100\n",
            "1837/1837 [==============================] - 16s 9ms/step - loss: 0.0582 - acc: 0.9710 - auc_5: 0.9926 - false_negatives_9: 8375.0059 - recall_5: 0.9786 - precision_5: 0.9356 - false_negatives_10: 8375.0059 - true_negatives_5: 367428.1250 - false_positives_5: 26405.1621 - true_positives_5: 383846.7188 - val_loss: 0.0978 - val_acc: 0.9626 - val_auc_5: 0.9927 - val_false_negatives_9: 8415.6699 - val_recall_5: 0.9790 - val_precision_5: 0.9359 - val_false_negatives_10: 8415.6699 - val_true_negatives_5: 376134.5312 - val_false_positives_5: 26932.0781 - val_true_positives_5: 392940.7188 - lr: 3.3287e-04\n",
            "finish training cnn model\n"
          ],
          "name": "stdout"
        }
      ]
    },
    {
      "cell_type": "code",
      "metadata": {
        "id": "_KQuQbmWhmXA",
        "colab_type": "code",
        "outputId": "ce220653-1c99-4766-fb13-83e21e726aec",
        "colab": {
          "base_uri": "https://localhost:8080/",
          "height": 425
        }
      },
      "source": [
        "cnn_model.summary()\n",
        "cnn_model.save(\"/content/drive/My Drive/636project/model_improved_cnn.h5\")"
      ],
      "execution_count": 0,
      "outputs": [
        {
          "output_type": "stream",
          "text": [
            "Model: \"sequential_4\"\n",
            "_________________________________________________________________\n",
            "Layer (type)                 Output Shape              Param #   \n",
            "=================================================================\n",
            "conv2d_2 (Conv2D)            (None, 3, 21, 64)         640       \n",
            "_________________________________________________________________\n",
            "batch_normalization_2 (Batch (None, 3, 21, 64)         12        \n",
            "_________________________________________________________________\n",
            "conv2d_3 (Conv2D)            (None, 3, 21, 64)         36928     \n",
            "_________________________________________________________________\n",
            "batch_normalization_3 (Batch (None, 3, 21, 64)         12        \n",
            "_________________________________________________________________\n",
            "max_pooling2d_1 (MaxPooling2 (None, 1, 10, 64)         0         \n",
            "_________________________________________________________________\n",
            "flatten_1 (Flatten)          (None, 640)               0         \n",
            "_________________________________________________________________\n",
            "dense_5 (Dense)              (None, 512)               328192    \n",
            "_________________________________________________________________\n",
            "dense_6 (Dense)              (None, 1)                 513       \n",
            "=================================================================\n",
            "Total params: 366,297\n",
            "Trainable params: 366,285\n",
            "Non-trainable params: 12\n",
            "_________________________________________________________________\n"
          ],
          "name": "stdout"
        }
      ]
    },
    {
      "cell_type": "code",
      "metadata": {
        "id": "fQCarP4QiIYb",
        "colab_type": "code",
        "outputId": "db799523-805c-4bd9-b709-87bbb591e701",
        "colab": {
          "base_uri": "https://localhost:8080/",
          "height": 573
        }
      },
      "source": [
        "plotting_training(cnn_history)"
      ],
      "execution_count": 0,
      "outputs": [
        {
          "output_type": "display_data",
          "data": {
            "image/png": "[encoded data removed]",
            "text/plain": [
              "<Figure size 432x288 with 1 Axes>"
            ]
          },
          "metadata": {
            "tags": [],
            "needs_background": "light"
          }
        },
        {
          "output_type": "display_data",
          "data": {
            "image/png": "[encoded data removed]",
            "text/plain": [
              "<Figure size 432x288 with 1 Axes>"
            ]
          },
          "metadata": {
            "tags": [],
            "needs_background": "light"
          }
        }
      ]
    },
    {
      "cell_type": "code",
      "metadata": {
        "id": "GX53NtjDKj-K",
        "colab_type": "code",
        "outputId": "67c0a8de-cd20-4b74-f12d-2d2e5eaf4044",
        "colab": {
          "base_uri": "https://localhost:8080/",
          "height": 71
        }
      },
      "source": [
        "# test\n",
        "# for cnn 2d\n",
        "x_test = []\n",
        "y_test = []\n",
        "\n",
        "for record in train_data:\n",
        "  x_test.append(record[1:])\n",
        "  label = int(record[0])\n",
        "  y_test.append(label) \n",
        "\n",
        "x_test = array(x_test)\n",
        "x_test = x_test.reshape((len(x_test), 3, int(len(x_test[0])/3), 1))\n",
        "\n",
        "y_test = array(y_test)\n",
        "\n",
        "test_score = cnn_model.evaluate(x_test, y_test)\n",
        "print(test_score)"
      ],
      "execution_count": 0,
      "outputs": [
        {
          "output_type": "stream",
          "text": [
            "1148/1148 [==============================] - 7s 6ms/step - loss: 0.0667 - acc: 0.9692 - auc_5: 0.9928 - false_negatives_9: 8458.3076 - recall_5: 0.9795 - precision_5: 0.9361 - false_negatives_10: 8458.3076 - true_negatives_5: 386510.8750 - false_positives_5: 27570.6680 - true_positives_5: 403926.0625\n",
            "[0.0666593685746193, 0.9692357778549194, 0.9928162693977356, 8458.3076171875, 0.9794872999191284, 0.9361050128936768, 8458.3076171875, 386510.875, 27570.66796875, 403926.0625]\n"
          ],
          "name": "stdout"
        }
      ]
    },
    {
      "cell_type": "code",
      "metadata": {
        "id": "s2KreaMDibpd",
        "colab_type": "code",
        "outputId": "15a6ad3e-3c30-4f2c-9eba-7a366da4f64d",
        "colab": {
          "base_uri": "https://localhost:8080/",
          "height": 1000
        }
      },
      "source": [
        "# train the final lstm model with all data (include test data) \n",
        "\n",
        "x_train_final = []\n",
        "y_train_final = []\n",
        "\n",
        "for record in all_data:\n",
        "  x_train_final.append(record[1:])\n",
        "  label = int(record[0])\n",
        "  y_train_final.append(label) \n",
        "\n",
        "final_lstm_model, final_lstm_history = train_lstm_model(x_train_final, y_train_final)\n",
        "\n",
        "final_lstm_model.save(\"/content/drive/My Drive/636project/final_lstm_model.h5\")\n"
      ],
      "execution_count": 0,
      "outputs": [
        {
          "output_type": "stream",
          "text": [
            "x_train.shape (41322, 1, 63)\n",
            "[[0.         0.         0.         0.65960469 0.11701667 0.801425\n",
            "  0.68414844 0.12653854 0.794768   0.69841875 0.18652937 0.689862\n",
            "  0.69842187 0.23430833 0.781249   0.63605312 0.10881875 0.749531\n",
            "  0.62787812 0.17014771 0.816239   0.61864375 0.223425   0.877023\n",
            "  0.66776875 0.23289583 0.624482   0.68313438 0.23288542 0.612742\n",
            "  0.67391406 0.31340625 0.764745   0.66778281 0.39387917 0.748765\n",
            "  0.65241562 0.2329     0.573559   0.65140937 0.31749375 0.752944\n",
            "  0.6534625  0.40479792 0.707101   0.63095625 0.41298125 0.712712\n",
            "  0.635075   0.41838542 0.76013    0.65961875 0.41159167 0.748788\n",
            "  0.66264687 0.38158958 0.0546427  0.         0.         0.\n",
            "  0.67083437 0.40072292 0.678566  ]]\n",
            "y_train.shape (41322,)\n",
            "Epoch 1/100\n",
            "2067/2067 [==============================] - 25s 12ms/step - loss: 0.3562 - acc: 0.8425 - auc_6: 0.8651 - false_negatives_11: 1501.9308 - recall_6: 0.7501 - precision_6: 0.7923 - false_negatives_12: 1501.9308 - true_negatives_6: 6776.6035 - false_positives_6: 1532.8477 - true_positives_6: 6732.6108 - val_loss: 0.2958 - val_acc: 0.8771 - val_auc_6: 0.9242 - val_false_negatives_11: 2665.8279 - val_recall_6: 0.8566 - val_precision_6: 0.8398 - val_false_negatives_12: 2665.8279 - val_true_negatives_6: 15572.6445 - val_false_positives_6: 3033.9631 - val_true_positives_6: 15928.5508 - lr: 0.0010\n",
            "Epoch 2/100\n",
            "2067/2067 [==============================] - 24s 11ms/step - loss: 0.2647 - acc: 0.8909 - auc_6: 0.9344 - false_negatives_11: 3687.0911 - recall_6: 0.8714 - precision_6: 0.8518 - false_negatives_12: 3687.0911 - true_negatives_6: 24563.0605 - false_positives_6: 4374.4775 - true_positives_6: 25241.4043 - val_loss: 0.4724 - val_acc: 0.7935 - val_auc_6: 0.9372 - val_false_negatives_11: 4395.1221 - val_recall_6: 0.8880 - val_precision_6: 0.8475 - val_false_negatives_12: 4395.1221 - val_true_negatives_6: 32983.0586 - val_false_positives_6: 6284.5493 - val_true_positives_6: 34860.2617 - lr: 0.0010\n",
            "Epoch 3/100\n",
            "2067/2067 [==============================] - 23s 11ms/step - loss: 0.2445 - acc: 0.9011 - auc_6: 0.9389 - false_negatives_11: 5064.6763 - recall_6: 0.8976 - precision_6: 0.8449 - false_negatives_12: 5064.6763 - true_negatives_6: 41445.8945 - false_positives_6: 8149.6680 - true_positives_6: 44527.7969 - val_loss: 0.3557 - val_acc: 0.8352 - val_auc_6: 0.9426 - val_false_negatives_11: 5734.3018 - val_recall_6: 0.9043 - val_precision_6: 0.8475 - val_false_negatives_12: 5734.3018 - val_true_negatives_6: 50176.1953 - val_false_positives_6: 9752.4258 - val_true_positives_6: 54182.0625 - lr: 0.0010\n",
            "Epoch 4/100\n",
            "2067/2067 [==============================] - 25s 12ms/step - loss: 0.2301 - acc: 0.9059 - auc_6: 0.9453 - false_negatives_11: 6389.0640 - recall_6: 0.9090 - precision_6: 0.8491 - false_negatives_12: 6389.0640 - true_negatives_6: 58908.5312 - false_positives_6: 11338.5000 - true_positives_6: 63873.9258 - val_loss: 0.2303 - val_acc: 0.9059 - val_auc_6: 0.9485 - val_false_negatives_11: 7091.9438 - val_recall_6: 0.9120 - val_precision_6: 0.8540 - val_false_negatives_12: 7091.9438 - val_true_negatives_6: 68025.4844 - val_false_positives_6: 12564.1504 - val_true_positives_6: 73485.4688 - lr: 0.0010\n",
            "Epoch 5/100\n",
            "2067/2067 [==============================] - 23s 11ms/step - loss: 0.2197 - acc: 0.9115 - auc_6: 0.9511 - false_negatives_11: 7791.6182 - recall_6: 0.9142 - precision_6: 0.8579 - false_negatives_12: 7791.6182 - true_negatives_6: 77159.2969 - false_positives_6: 13760.2031 - true_positives_6: 83120.8984 - val_loss: 0.4347 - val_acc: 0.8116 - val_auc_6: 0.9520 - val_false_negatives_11: 8361.0986 - val_recall_6: 0.9174 - val_precision_6: 0.8577 - val_false_negatives_12: 8361.0986 - val_true_negatives_6: 85841.6406 - val_false_positives_6: 15408.9785 - val_true_positives_6: 92877.2266 - lr: 0.0010\n",
            "Epoch 6/100\n",
            "2067/2067 [==============================] - 23s 11ms/step - loss: 0.2106 - acc: 0.9143 - auc_6: 0.9528 - false_negatives_11: 8933.5361 - recall_6: 0.9199 - precision_6: 0.8575 - false_negatives_12: 8933.5361 - true_negatives_6: 94567.2266 - false_positives_6: 17038.8574 - true_positives_6: 102614.3203 - val_loss: 0.2254 - val_acc: 0.9131 - val_auc_6: 0.9546 - val_false_negatives_11: 9623.9648 - val_recall_6: 0.9210 - val_precision_6: 0.8611 - val_false_negatives_12: 9623.9648 - val_true_negatives_6: 103808.8672 - val_false_positives_6: 18102.7676 - val_true_positives_6: 112275.4688 - lr: 0.0010\n",
            "Epoch 7/100\n",
            "2067/2067 [==============================] - 24s 11ms/step - loss: 0.2034 - acc: 0.9181 - auc_6: 0.9562 - false_negatives_11: 10317.1279 - recall_6: 0.9220 - precision_6: 0.8643 - false_negatives_12: 10317.1279 - true_negatives_6: 113067.5156 - false_positives_6: 19137.9824 - true_positives_6: 121953.2109 - val_loss: 0.2030 - val_acc: 0.9206 - val_auc_6: 0.9577 - val_false_negatives_11: 10946.5996 - val_recall_6: 0.9232 - val_precision_6: 0.8671 - val_false_negatives_12: 10946.5996 - val_true_negatives_6: 122395.2188 - val_false_positives_6: 20177.4629 - val_true_positives_6: 131613.8125 - lr: 0.0010\n",
            "Epoch 8/100\n",
            "2067/2067 [==============================] - 23s 11ms/step - loss: 0.1965 - acc: 0.9207 - auc_6: 0.9589 - false_negatives_11: 11578.8389 - recall_6: 0.9243 - precision_6: 0.8696 - false_negatives_12: 11578.8389 - true_negatives_6: 131696.3906 - false_positives_6: 21192.8125 - true_positives_6: 141329.8594 - val_loss: 0.2376 - val_acc: 0.9002 - val_auc_6: 0.9600 - val_false_negatives_11: 12148.7715 - val_recall_6: 0.9256 - val_precision_6: 0.8712 - val_false_negatives_12: 12148.7715 - val_true_negatives_6: 140894.9688 - val_false_positives_6: 22338.6953 - val_true_positives_6: 151072.5625 - lr: 0.0010\n",
            "Epoch 9/100\n",
            "2067/2067 [==============================] - 23s 11ms/step - loss: 0.1925 - acc: 0.9217 - auc_6: 0.9610 - false_negatives_11: 12705.8018 - recall_6: 0.9268 - precision_6: 0.8725 - false_negatives_12: 12705.8018 - true_negatives_6: 150096.0625 - false_positives_6: 23489.7891 - true_positives_6: 160828.4219 - val_loss: 0.2149 - val_acc: 0.9089 - val_auc_6: 0.9619 - val_false_negatives_11: 13314.7139 - val_recall_6: 0.9276 - val_precision_6: 0.8742 - val_false_negatives_12: 13314.7139 - val_true_negatives_6: 159344.3281 - val_false_positives_6: 24550.3066 - val_true_positives_6: 170567.7188 - lr: 0.0010\n",
            "Epoch 10/100\n",
            "2067/2067 [==============================] - 23s 11ms/step - loss: 0.1897 - acc: 0.9243 - auc_6: 0.9627 - false_negatives_11: 13904.5615 - recall_6: 0.9284 - precision_6: 0.8756 - false_negatives_12: 13904.5615 - true_negatives_6: 168668.6875 - false_positives_6: 25611.8750 - true_positives_6: 180256.5625 - val_loss: 0.3272 - val_acc: 0.8534 - val_auc_6: 0.9632 - val_false_negatives_11: 14416.8994 - val_recall_6: 0.9295 - val_precision_6: 0.8759 - val_false_negatives_12: 14416.8994 - val_true_negatives_6: 177612.1719 - val_false_positives_6: 26943.4043 - val_true_positives_6: 190126.5156 - lr: 0.0010\n",
            "Epoch 11/100\n",
            "2067/2067 [==============================] - 23s 11ms/step - loss: 0.1859 - acc: 0.9246 - auc_6: 0.9636 - false_negatives_11: 14933.3193 - recall_6: 0.9305 - precision_6: 0.8761 - false_negatives_12: 14933.3193 - true_negatives_6: 186558.0469 - false_positives_6: 28276.3164 - true_positives_6: 199996.0938 - val_loss: 0.2085 - val_acc: 0.9212 - val_auc_6: 0.9643 - val_false_negatives_11: 15564.6309 - val_recall_6: 0.9309 - val_precision_6: 0.8777 - val_false_negatives_12: 15564.6309 - val_true_negatives_6: 196010.0000 - val_false_positives_6: 29206.6816 - val_true_positives_6: 209639.7344 - lr: 0.0010\n",
            "Epoch 12/100\n",
            "2067/2067 [==============================] - 23s 11ms/step - loss: 0.1811 - acc: 0.9266 - auc_6: 0.9649 - false_negatives_11: 16201.9775 - recall_6: 0.9312 - precision_6: 0.8792 - false_negatives_12: 16201.9775 - true_negatives_6: 205466.4062 - false_positives_6: 30129.7227 - true_positives_6: 219287.5312 - val_loss: 0.1879 - val_acc: 0.9211 - val_auc_6: 0.9656 - val_false_negatives_11: 16786.1621 - val_recall_6: 0.9317 - val_precision_6: 0.8806 - val_false_negatives_12: 16786.1621 - val_true_negatives_6: 214815.9844 - val_false_positives_6: 31061.5938 - val_true_positives_6: 229079.1250 - lr: 9.0484e-04\n",
            "Epoch 13/100\n",
            "2067/2067 [==============================] - 23s 11ms/step - loss: 0.1776 - acc: 0.9270 - auc_6: 0.9662 - false_negatives_11: 17374.2266 - recall_6: 0.9322 - precision_6: 0.8819 - false_negatives_12: 17374.2266 - true_negatives_6: 224184.6719 - false_positives_6: 31997.5996 - true_positives_6: 238851.4062 - val_loss: 0.1900 - val_acc: 0.9214 - val_auc_6: 0.9667 - val_false_negatives_11: 17973.6270 - val_recall_6: 0.9326 - val_precision_6: 0.8830 - val_false_negatives_12: 17973.6270 - val_true_negatives_6: 233598.4844 - val_false_positives_6: 32940.0938 - val_true_positives_6: 248552.8281 - lr: 8.1873e-04\n",
            "Epoch 14/100\n",
            "2067/2067 [==============================] - 23s 11ms/step - loss: 0.1737 - acc: 0.9291 - auc_6: 0.9673 - false_negatives_11: 18559.3066 - recall_6: 0.9330 - precision_6: 0.8841 - false_negatives_12: 18559.3066 - true_negatives_6: 243012.7500 - false_positives_6: 33856.8945 - true_positives_6: 258300.9531 - val_loss: 0.1812 - val_acc: 0.9243 - val_auc_6: 0.9678 - val_false_negatives_11: 19093.7070 - val_recall_6: 0.9335 - val_precision_6: 0.8851 - val_false_negatives_12: 19093.7070 - val_true_negatives_6: 252401.3125 - val_false_positives_6: 34798.2500 - val_true_positives_6: 268093.8438 - lr: 7.4082e-04\n",
            "Epoch 15/100\n",
            "2067/2067 [==============================] - 23s 11ms/step - loss: 0.1714 - acc: 0.9308 - auc_6: 0.9683 - false_negatives_11: 19639.6035 - recall_6: 0.9340 - precision_6: 0.8861 - false_negatives_12: 19639.6035 - true_negatives_6: 261794.4375 - false_positives_6: 35728.0781 - true_positives_6: 277889.6562 - val_loss: 0.1843 - val_acc: 0.9252 - val_auc_6: 0.9688 - val_false_negatives_11: 20155.3145 - val_recall_6: 0.9345 - val_precision_6: 0.8870 - val_false_negatives_12: 20155.3145 - val_true_negatives_6: 271210.7812 - val_false_positives_6: 36649.6953 - val_true_positives_6: 287693.1250 - lr: 6.7032e-04\n",
            "Epoch 16/100\n",
            "2067/2067 [==============================] - 23s 11ms/step - loss: 0.1679 - acc: 0.9305 - auc_6: 0.9692 - false_negatives_11: 20672.4844 - recall_6: 0.9350 - precision_6: 0.8878 - false_negatives_12: 20672.4844 - true_negatives_6: 280598.0625 - false_positives_6: 37600.3320 - true_positives_6: 297502.8438 - val_loss: 0.1779 - val_acc: 0.9280 - val_auc_6: 0.9696 - val_false_negatives_11: 21192.1270 - val_recall_6: 0.9355 - val_precision_6: 0.8886 - val_false_negatives_12: 21192.1270 - val_true_negatives_6: 290004.9062 - val_false_positives_6: 38516.8750 - val_true_positives_6: 307317.2188 - lr: 6.0653e-04\n",
            "Epoch 17/100\n",
            "2067/2067 [==============================] - 23s 11ms/step - loss: 0.1654 - acc: 0.9329 - auc_6: 0.9700 - false_negatives_11: 21727.0742 - recall_6: 0.9359 - precision_6: 0.8894 - false_negatives_12: 21727.0742 - true_negatives_6: 299411.7188 - false_positives_6: 39418.6836 - true_positives_6: 317138.2500 - val_loss: 0.1766 - val_acc: 0.9268 - val_auc_6: 0.9704 - val_false_negatives_11: 22221.5801 - val_recall_6: 0.9364 - val_precision_6: 0.8902 - val_false_negatives_12: 22221.5801 - val_true_negatives_6: 308875.1875 - val_false_positives_6: 40307.5195 - val_true_positives_6: 326948.6562 - lr: 5.4881e-04\n",
            "Epoch 18/100\n",
            "2067/2067 [==============================] - 24s 12ms/step - loss: 0.1636 - acc: 0.9331 - auc_6: 0.9708 - false_negatives_11: 22717.9727 - recall_6: 0.9368 - precision_6: 0.8910 - false_negatives_12: 22717.9727 - true_negatives_6: 318363.6562 - false_positives_6: 41208.5156 - true_positives_6: 336727.3125 - val_loss: 0.1744 - val_acc: 0.9285 - val_auc_6: 0.9712 - val_false_negatives_11: 23228.6621 - val_recall_6: 0.9372 - val_precision_6: 0.8917 - val_false_negatives_12: 23228.6621 - val_true_negatives_6: 327737.4375 - val_false_positives_6: 42106.1133 - val_true_positives_6: 346602.5312 - lr: 4.9659e-04\n",
            "Epoch 19/100\n",
            "2067/2067 [==============================] - 23s 11ms/step - loss: 0.1611 - acc: 0.9346 - auc_6: 0.9715 - false_negatives_11: 23741.7285 - recall_6: 0.9375 - precision_6: 0.8924 - false_negatives_12: 23741.7285 - true_negatives_6: 337199.6875 - false_positives_6: 42977.0547 - true_positives_6: 356421.1875 - val_loss: 0.1966 - val_acc: 0.9247 - val_auc_6: 0.9718 - val_false_negatives_11: 24272.0957 - val_recall_6: 0.9378 - val_precision_6: 0.8931 - val_false_negatives_12: 24272.0957 - val_true_negatives_6: 346675.8750 - val_false_positives_6: 43828.8984 - val_true_positives_6: 366220.1250 - lr: 4.4933e-04\n",
            "Epoch 20/100\n",
            "2067/2067 [==============================] - 24s 11ms/step - loss: 0.1590 - acc: 0.9348 - auc_6: 0.9721 - false_negatives_11: 24808.8711 - recall_6: 0.9381 - precision_6: 0.8938 - false_negatives_12: 24808.8711 - true_negatives_6: 356123.0625 - false_positives_6: 44686.5469 - true_positives_6: 376043.0625 - val_loss: 0.1774 - val_acc: 0.9285 - val_auc_6: 0.9724 - val_false_negatives_11: 25322.3281 - val_recall_6: 0.9384 - val_precision_6: 0.8944 - val_false_negatives_12: 25322.3281 - val_true_negatives_6: 365626.4375 - val_false_positives_6: 45538.9805 - val_true_positives_6: 385831.0625 - lr: 4.0657e-04\n",
            "Epoch 21/100\n",
            "2067/2067 [==============================] - 23s 11ms/step - loss: 0.1578 - acc: 0.9349 - auc_6: 0.9727 - false_negatives_11: 25843.0840 - recall_6: 0.9387 - precision_6: 0.8951 - false_negatives_12: 25843.0840 - true_negatives_6: 375139.2188 - false_positives_6: 46380.2305 - true_positives_6: 395621.5000 - val_loss: 0.1782 - val_acc: 0.9256 - val_auc_6: 0.9730 - val_false_negatives_11: 26369.1250 - val_recall_6: 0.9389 - val_precision_6: 0.8956 - val_false_negatives_12: 26369.1250 - val_true_negatives_6: 384577.9062 - val_false_positives_6: 47248.7773 - val_true_positives_6: 405445.0625 - lr: 3.6788e-04\n",
            "Epoch 22/100\n",
            "2067/2067 [==============================] - 23s 11ms/step - loss: 0.1559 - acc: 0.9364 - auc_6: 0.9732 - false_negatives_11: 26892.3457 - recall_6: 0.9392 - precision_6: 0.8962 - false_negatives_12: 26892.3457 - true_negatives_6: 394055.4688 - false_positives_6: 48101.8516 - true_positives_6: 415256.1875 - val_loss: 0.1718 - val_acc: 0.9275 - val_auc_6: 0.9735 - val_false_negatives_11: 27341.4219 - val_recall_6: 0.9396 - val_precision_6: 0.8967 - val_false_negatives_12: 27341.4219 - val_true_negatives_6: 403499.2500 - val_false_positives_6: 48988.2227 - val_true_positives_6: 425133.9062 - lr: 3.3287e-04\n",
            "Epoch 23/100\n",
            "2067/2067 [==============================] - 23s 11ms/step - loss: 0.1547 - acc: 0.9362 - auc_6: 0.9737 - false_negatives_11: 27809.6094 - recall_6: 0.9399 - precision_6: 0.8972 - false_negatives_12: 27809.6094 - true_negatives_6: 412936.7812 - false_positives_6: 49867.5586 - true_positives_6: 435013.6562 - val_loss: 0.1834 - val_acc: 0.9237 - val_auc_6: 0.9740 - val_false_negatives_11: 28271.0820 - val_recall_6: 0.9402 - val_precision_6: 0.8975 - val_false_negatives_12: 28271.0820 - val_true_negatives_6: 422368.2500 - val_false_positives_6: 50780.1953 - val_true_positives_6: 444865.1250 - lr: 3.0119e-04\n",
            "Epoch 24/100\n",
            "2067/2067 [==============================] - 23s 11ms/step - loss: 0.1538 - acc: 0.9368 - auc_6: 0.9742 - false_negatives_11: 28720.4141 - recall_6: 0.9406 - precision_6: 0.8979 - false_negatives_12: 28720.4141 - true_negatives_6: 431756.8438 - false_positives_6: 51707.3359 - true_positives_6: 454765.3438 - val_loss: 0.1709 - val_acc: 0.9302 - val_auc_6: 0.9744 - val_false_negatives_11: 29196.6230 - val_recall_6: 0.9409 - val_precision_6: 0.8984 - val_false_negatives_12: 29196.6230 - val_true_negatives_6: 441263.4375 - val_false_positives_6: 52545.9453 - val_true_positives_6: 464600.7500 - lr: 2.7253e-04\n",
            "Epoch 25/100\n",
            "2067/2067 [==============================] - 23s 11ms/step - loss: 0.1520 - acc: 0.9374 - auc_6: 0.9746 - false_negatives_11: 29673.2109 - recall_6: 0.9411 - precision_6: 0.8988 - false_negatives_12: 29673.2109 - true_negatives_6: 450676.5312 - false_positives_6: 53420.9414 - true_positives_6: 474501.0312 - val_loss: 0.1688 - val_acc: 0.9296 - val_auc_6: 0.9749 - val_false_negatives_11: 30133.4512 - val_recall_6: 0.9414 - val_precision_6: 0.8992 - val_false_negatives_12: 30133.4512 - val_true_negatives_6: 460205.4688 - val_false_positives_6: 54265.1602 - val_true_positives_6: 484324.9375 - lr: 2.4660e-04\n",
            "Epoch 26/100\n",
            "2067/2067 [==============================] - 23s 11ms/step - loss: 0.1518 - acc: 0.9374 - auc_6: 0.9750 - false_negatives_11: 30612.6211 - recall_6: 0.9417 - precision_6: 0.8996 - false_negatives_12: 30612.6211 - true_negatives_6: 469631.8125 - false_positives_6: 55134.5391 - true_positives_6: 494215.0000 - val_loss: 0.1706 - val_acc: 0.9287 - val_auc_6: 0.9753 - val_false_negatives_11: 31076.7891 - val_recall_6: 0.9419 - val_precision_6: 0.9000 - val_false_negatives_12: 31076.7891 - val_true_negatives_6: 479157.1562 - val_false_positives_6: 55974.3555 - val_true_positives_6: 504042.5625 - lr: 2.2313e-04\n",
            "Epoch 27/100\n",
            "2067/2067 [==============================] - 23s 11ms/step - loss: 0.1512 - acc: 0.9381 - auc_6: 0.9754 - false_negatives_11: 31564.0156 - recall_6: 0.9421 - precision_6: 0.9004 - false_negatives_12: 31564.0156 - true_negatives_6: 488617.4688 - false_positives_6: 56828.7188 - true_positives_6: 513905.5000 - val_loss: 0.1730 - val_acc: 0.9290 - val_auc_6: 0.9756 - val_false_negatives_11: 32023.2500 - val_recall_6: 0.9424 - val_precision_6: 0.9008 - val_false_negatives_12: 32023.2500 - val_true_negatives_6: 498132.1875 - val_false_positives_6: 57660.5586 - val_true_positives_6: 523757.1875 - lr: 2.0190e-04\n",
            "Epoch 28/100\n",
            "2067/2067 [==============================] - 24s 12ms/step - loss: 0.1496 - acc: 0.9381 - auc_6: 0.9758 - false_negatives_11: 32507.1934 - recall_6: 0.9426 - precision_6: 0.9012 - false_negatives_12: 32507.1934 - true_negatives_6: 507593.1250 - false_positives_6: 58515.0078 - true_positives_6: 533622.6250 - val_loss: 0.1665 - val_acc: 0.9308 - val_auc_6: 0.9760 - val_false_negatives_11: 32952.7891 - val_recall_6: 0.9428 - val_precision_6: 0.9015 - val_false_negatives_12: 32952.7891 - val_true_negatives_6: 517098.9062 - val_false_positives_6: 59354.7148 - val_true_positives_6: 543488.5000 - lr: 1.8268e-04\n",
            "Epoch 29/100\n",
            "2067/2067 [==============================] - 24s 11ms/step - loss: 0.1494 - acc: 0.9385 - auc_6: 0.9761 - false_negatives_11: 33404.4023 - recall_6: 0.9431 - precision_6: 0.9019 - false_negatives_12: 33404.4023 - true_negatives_6: 526588.4375 - false_positives_6: 60217.4336 - true_positives_6: 553349.6250 - val_loss: 0.1672 - val_acc: 0.9324 - val_auc_6: 0.9763 - val_false_negatives_11: 33857.3984 - val_recall_6: 0.9433 - val_precision_6: 0.9022 - val_false_negatives_12: 33857.3984 - val_true_negatives_6: 536068.1875 - val_false_positives_6: 61046.4609 - val_true_positives_6: 563244.9375 - lr: 1.6530e-04\n",
            "Epoch 30/100\n",
            "2067/2067 [==============================] - 24s 11ms/step - loss: 0.1487 - acc: 0.9390 - auc_6: 0.9765 - false_negatives_11: 34305.2695 - recall_6: 0.9435 - precision_6: 0.9025 - false_negatives_12: 34305.2695 - true_negatives_6: 545486.6875 - false_positives_6: 61892.4883 - true_positives_6: 573197.4375 - val_loss: 0.1670 - val_acc: 0.9308 - val_auc_6: 0.9766 - val_false_negatives_11: 34735.5273 - val_recall_6: 0.9438 - val_precision_6: 0.9028 - val_false_negatives_12: 34735.5273 - val_true_negatives_6: 555023.0000 - val_false_positives_6: 62752.5898 - val_true_positives_6: 583027.7500 - lr: 1.4957e-04\n",
            "Epoch 31/100\n",
            "2067/2067 [==============================] - 25s 12ms/step - loss: 0.1481 - acc: 0.9396 - auc_6: 0.9768 - false_negatives_11: 35172.4531 - recall_6: 0.9440 - precision_6: 0.9031 - false_negatives_12: 35172.4531 - true_negatives_6: 564491.0625 - false_positives_6: 63628.5703 - true_positives_6: 592911.5625 - val_loss: 0.1663 - val_acc: 0.9313 - val_auc_6: 0.9769 - val_false_negatives_11: 35594.1680 - val_recall_6: 0.9442 - val_precision_6: 0.9034 - val_false_negatives_12: 35594.1680 - val_true_negatives_6: 573981.2500 - val_false_positives_6: 64455.3516 - val_true_positives_6: 602830.1250 - lr: 1.3534e-04\n",
            "Epoch 32/100\n",
            "2067/2067 [==============================] - 24s 11ms/step - loss: 0.1477 - acc: 0.9393 - auc_6: 0.9770 - false_negatives_11: 36047.7031 - recall_6: 0.9444 - precision_6: 0.9037 - false_negatives_12: 36047.7031 - true_negatives_6: 583435.5625 - false_positives_6: 65305.0352 - true_positives_6: 612737.5625 - val_loss: 0.1719 - val_acc: 0.9315 - val_auc_6: 0.9772 - val_false_negatives_11: 36496.6680 - val_recall_6: 0.9446 - val_precision_6: 0.9040 - val_false_negatives_12: 36496.6680 - val_true_negatives_6: 592970.7500 - val_false_positives_6: 66126.5547 - val_true_positives_6: 622588.5625 - lr: 1.2246e-04\n",
            "Epoch 33/100\n",
            "2067/2067 [==============================] - 24s 12ms/step - loss: 0.1467 - acc: 0.9398 - auc_6: 0.9773 - false_negatives_11: 36974.1797 - recall_6: 0.9448 - precision_6: 0.9042 - false_negatives_12: 36974.1797 - true_negatives_6: 602522.6250 - false_positives_6: 66970.1250 - true_positives_6: 632380.7500 - val_loss: 0.1665 - val_acc: 0.9314 - val_auc_6: 0.9774 - val_false_negatives_11: 37392.4570 - val_recall_6: 0.9450 - val_precision_6: 0.9045 - val_false_negatives_12: 37392.4570 - val_true_negatives_6: 611968.3750 - val_false_positives_6: 67790.1641 - val_true_positives_6: 642353.6250 - lr: 1.1080e-04\n",
            "Epoch 34/100\n",
            "2067/2067 [==============================] - 23s 11ms/step - loss: 0.1469 - acc: 0.9395 - auc_6: 0.9776 - false_negatives_11: 37821.5820 - recall_6: 0.9452 - precision_6: 0.9047 - false_negatives_12: 37821.5820 - true_negatives_6: 621470.3125 - false_positives_6: 68663.8281 - true_positives_6: 652214.1250 - val_loss: 0.1670 - val_acc: 0.9312 - val_auc_6: 0.9777 - val_false_negatives_11: 38268.0781 - val_recall_6: 0.9454 - val_precision_6: 0.9050 - val_false_negatives_12: 38268.0781 - val_true_negatives_6: 630938.3750 - val_false_positives_6: 69480.7109 - val_true_positives_6: 662139.2500 - lr: 1.0026e-04\n",
            "Epoch 35/100\n",
            "2067/2067 [==============================] - 23s 11ms/step - loss: 0.1464 - acc: 0.9400 - auc_6: 0.9778 - false_negatives_11: 38713.5273 - recall_6: 0.9455 - precision_6: 0.9053 - false_negatives_12: 38713.5273 - true_negatives_6: 640397.4375 - false_positives_6: 70329.1328 - true_positives_6: 672051.6875 - val_loss: 0.1652 - val_acc: 0.9312 - val_auc_6: 0.9779 - val_false_negatives_11: 39129.4141 - val_recall_6: 0.9457 - val_precision_6: 0.9055 - val_false_negatives_12: 39129.4141 - val_true_negatives_6: 649905.6250 - val_false_positives_6: 71174.9453 - val_true_positives_6: 681938.7500 - lr: 9.0718e-05\n",
            "Epoch 36/100\n",
            "2067/2067 [==============================] - 24s 12ms/step - loss: 0.1458 - acc: 0.9394 - auc_6: 0.9780 - false_negatives_11: 39565.9688 - recall_6: 0.9459 - precision_6: 0.9057 - false_negatives_12: 39565.9688 - true_negatives_6: 659330.3125 - false_positives_6: 72040.7812 - true_positives_6: 691877.0625 - val_loss: 0.1664 - val_acc: 0.9306 - val_auc_6: 0.9781 - val_false_negatives_11: 39998.0586 - val_recall_6: 0.9461 - val_precision_6: 0.9059 - val_false_negatives_12: 39998.0586 - val_true_negatives_6: 668860.4375 - val_false_positives_6: 72881.0703 - val_true_positives_6: 701731.0000 - lr: 8.2085e-05\n",
            "Epoch 37/100\n",
            "2067/2067 [==============================] - 24s 12ms/step - loss: 0.1456 - acc: 0.9404 - auc_6: 0.9782 - false_negatives_11: 40434.1680 - recall_6: 0.9462 - precision_6: 0.9061 - false_negatives_12: 40434.1680 - true_negatives_6: 678333.1250 - false_positives_6: 73746.4766 - true_positives_6: 711622.0625 - val_loss: 0.1676 - val_acc: 0.9313 - val_auc_6: 0.9784 - val_false_negatives_11: 40849.6094 - val_recall_6: 0.9464 - val_precision_6: 0.9063 - val_false_negatives_12: 40849.6094 - val_true_negatives_6: 687829.0000 - val_false_positives_6: 74573.6172 - val_true_positives_6: 721540.6250 - lr: 7.4274e-05\n",
            "Epoch 38/100\n",
            "2067/2067 [==============================] - 23s 11ms/step - loss: 0.1457 - acc: 0.9406 - auc_6: 0.9785 - false_negatives_11: 41256.6562 - recall_6: 0.9466 - precision_6: 0.9065 - false_negatives_12: 41256.6562 - true_negatives_6: 697311.5625 - false_positives_6: 75432.0078 - true_positives_6: 731457.6875 - val_loss: 0.1652 - val_acc: 0.9319 - val_auc_6: 0.9785 - val_false_negatives_11: 41696.0078 - val_recall_6: 0.9467 - val_precision_6: 0.9067 - val_false_negatives_12: 41696.0078 - val_true_negatives_6: 706811.1250 - val_false_positives_6: 76252.2422 - val_true_positives_6: 741355.4375 - lr: 6.7206e-05\n",
            "Epoch 39/100\n",
            "2067/2067 [==============================] - 23s 11ms/step - loss: 0.1452 - acc: 0.9404 - auc_6: 0.9786 - false_negatives_11: 42138.2578 - recall_6: 0.9469 - precision_6: 0.9069 - false_negatives_12: 42138.2578 - true_negatives_6: 716301.1875 - false_positives_6: 77087.2656 - true_positives_6: 751253.4375 - val_loss: 0.1646 - val_acc: 0.9324 - val_auc_6: 0.9787 - val_false_negatives_11: 42553.7500 - val_recall_6: 0.9471 - val_precision_6: 0.9071 - val_false_negatives_12: 42553.7500 - val_true_negatives_6: 725798.5000 - val_false_positives_6: 77925.9766 - val_true_positives_6: 761158.4375 - lr: 6.0810e-05\n",
            "Epoch 40/100\n",
            "2067/2067 [==============================] - 24s 11ms/step - loss: 0.1450 - acc: 0.9402 - auc_6: 0.9788 - false_negatives_11: 42982.3555 - recall_6: 0.9472 - precision_6: 0.9073 - false_negatives_12: 42982.3555 - true_negatives_6: 735245.2500 - false_positives_6: 78768.3984 - true_positives_6: 771105.8125 - val_loss: 0.1646 - val_acc: 0.9318 - val_auc_6: 0.9789 - val_false_negatives_11: 43406.2578 - val_recall_6: 0.9473 - val_precision_6: 0.9075 - val_false_negatives_12: 43406.2578 - val_true_negatives_6: 744773.8125 - val_false_positives_6: 79611.5000 - val_true_positives_6: 780967.3125 - lr: 5.5023e-05\n",
            "Epoch 41/100\n",
            "2067/2067 [==============================] - 24s 12ms/step - loss: 0.1449 - acc: 0.9402 - auc_6: 0.9790 - false_negatives_11: 43835.9414 - recall_6: 0.9475 - precision_6: 0.9077 - false_negatives_12: 43835.9414 - true_negatives_6: 754288.3125 - false_positives_6: 80451.4062 - true_positives_6: 790847.9375 - val_loss: 0.1654 - val_acc: 0.9319 - val_auc_6: 0.9791 - val_false_negatives_11: 44256.5977 - val_recall_6: 0.9476 - val_precision_6: 0.9078 - val_false_negatives_12: 44256.5977 - val_true_negatives_6: 763743.0000 - val_false_positives_6: 81303.3359 - val_true_positives_6: 800777.8750 - lr: 4.9787e-05\n",
            "Epoch 42/100\n",
            "2067/2067 [==============================] - 24s 12ms/step - loss: 0.1445 - acc: 0.9404 - auc_6: 0.9792 - false_negatives_11: 44685.6992 - recall_6: 0.9478 - precision_6: 0.9080 - false_negatives_12: 44685.6992 - true_negatives_6: 773200.3125 - false_positives_6: 82167.0625 - true_positives_6: 810692.9375 - val_loss: 0.1658 - val_acc: 0.9309 - val_auc_6: 0.9792 - val_false_negatives_11: 45108.4297 - val_recall_6: 0.9479 - val_precision_6: 0.9082 - val_false_negatives_12: 45108.4297 - val_true_negatives_6: 782722.6250 - val_false_positives_6: 82985.1016 - val_true_positives_6: 820586.8125 - lr: 4.5049e-05\n",
            "Epoch 43/100\n",
            "2067/2067 [==============================] - 24s 11ms/step - loss: 0.1446 - acc: 0.9404 - auc_6: 0.9793 - false_negatives_11: 45550.9766 - recall_6: 0.9480 - precision_6: 0.9083 - false_negatives_12: 45550.9766 - true_negatives_6: 792207.7500 - false_positives_6: 83814.4531 - true_positives_6: 830494.4375 - val_loss: 0.1663 - val_acc: 0.9316 - val_auc_6: 0.9794 - val_false_negatives_11: 45986.0820 - val_recall_6: 0.9481 - val_precision_6: 0.9085 - val_false_negatives_12: 45986.0820 - val_true_negatives_6: 801721.6250 - val_false_positives_6: 84646.7031 - val_true_positives_6: 840370.2500 - lr: 4.0762e-05\n",
            "Epoch 44/100\n",
            "2067/2067 [==============================] - 25s 12ms/step - loss: 0.1445 - acc: 0.9406 - auc_6: 0.9795 - false_negatives_11: 46441.0742 - recall_6: 0.9482 - precision_6: 0.9087 - false_negatives_12: 46441.0742 - true_negatives_6: 811244.8750 - false_positives_6: 85470.5234 - true_positives_6: 850233.8125 - val_loss: 0.1647 - val_acc: 0.9322 - val_auc_6: 0.9796 - val_false_negatives_11: 46849.6094 - val_recall_6: 0.9484 - val_precision_6: 0.9088 - val_false_negatives_12: 46849.6094 - val_true_negatives_6: 820721.1250 - val_false_positives_6: 86308.4062 - val_true_positives_6: 860167.5625 - lr: 3.6883e-05\n",
            "finish training lstm model\n"
          ],
          "name": "stdout"
        }
      ]
    },
    {
      "cell_type": "code",
      "metadata": {
        "id": "J2-2jGGmdS-u",
        "colab_type": "code",
        "outputId": "4f4d3f82-32a0-46d8-f6c3-53de42fea846",
        "colab": {
          "base_uri": "https://localhost:8080/",
          "height": 632
        }
      },
      "source": [
        "# train the final cnn model with all data (include test data) \n",
        "x_train_final = []\n",
        "y_train_final = []\n",
        "\n",
        "for record in all_data:\n",
        "  x_train_final.append(record[1:])\n",
        "  label = int(record[0])\n",
        "  y_train_final.append(label) \n",
        "\n",
        "final_cnn_model, final_cnn_history = train_cnn_model(x_train_final, y_train_final)\n",
        "\n",
        "final_cnn_model.save(\"/content/drive/My Drive/636project/final_cnn_model.h5\")\n"
      ],
      "execution_count": 0,
      "outputs": [
        {
          "output_type": "stream",
          "text": [
            "Epoch 1/100\n",
            "2067/2067 [==============================] - 19s 9ms/step - loss: 0.2442 - acc: 0.8977 - auc_7: 0.9355 - false_negatives_13: 865.3019 - recall_7: 0.8725 - precision_7: 0.8491 - false_negatives_14: 865.3019 - true_negatives_7: 7240.1792 - false_positives_7: 1093.9860 - true_positives_7: 7344.5259 - val_loss: 0.1723 - val_acc: 0.9267 - val_auc_7: 0.9658 - val_false_negatives_13: 1567.0813 - val_recall_7: 0.9156 - val_precision_7: 0.8896 - val_false_negatives_14: 1567.0813 - val_true_negatives_7: 16496.4824 - val_false_positives_7: 2110.1257 - val_true_positives_7: 17027.2988 - lr: 0.0010\n",
            "Epoch 2/100\n",
            "2067/2067 [==============================] - 19s 9ms/step - loss: 0.1672 - acc: 0.9308 - auc_7: 0.9715 - false_negatives_13: 2150.0232 - recall_7: 0.9250 - precision_7: 0.8982 - false_negatives_14: 2150.0232 - true_negatives_7: 25930.1797 - false_positives_7: 3016.7234 - true_positives_7: 26769.0566 - val_loss: 0.1496 - val_acc: 0.9362 - val_auc_7: 0.9751 - val_false_negatives_13: 2661.2185 - val_recall_7: 0.9322 - val_precision_7: 0.9043 - val_false_negatives_14: 2661.2185 - val_true_negatives_7: 35393.3555 - val_false_positives_7: 3874.2341 - val_true_positives_7: 36594.1523 - lr: 0.0010\n",
            "Epoch 3/100\n",
            "2067/2067 [==============================] - 18s 9ms/step - loss: 0.1396 - acc: 0.9411 - auc_7: 0.9777 - false_negatives_13: 3095.3479 - recall_7: 0.9374 - precision_7: 0.9084 - false_negatives_14: 3095.3479 - true_negatives_7: 44939.4414 - false_positives_7: 4675.5645 - true_positives_7: 46477.6406 - val_loss: 0.1393 - val_acc: 0.9424 - val_auc_7: 0.9797 - val_false_negatives_13: 3487.7234 - val_recall_7: 0.9418 - val_precision_7: 0.9113 - val_false_negatives_14: 3487.7234 - val_true_negatives_7: 54438.8242 - val_false_positives_7: 5489.7642 - val_true_positives_7: 56428.6250 - lr: 0.0010\n",
            "Epoch 4/100\n",
            "2067/2067 [==============================] - 18s 9ms/step - loss: 0.1238 - acc: 0.9472 - auc_7: 0.9812 - false_negatives_13: 3800.4717 - recall_7: 0.9458 - precision_7: 0.9133 - false_negatives_14: 3800.4717 - true_negatives_7: 63956.9648 - false_positives_7: 6299.0166 - true_positives_7: 66453.4062 - val_loss: 0.1325 - val_acc: 0.9433 - val_auc_7: 0.9825 - val_false_negatives_13: 4160.2998 - val_recall_7: 0.9484 - val_precision_7: 0.9157 - val_false_negatives_14: 4160.2998 - val_true_negatives_7: 73551.1328 - val_false_positives_7: 7038.4253 - val_true_positives_7: 76417.0625 - lr: 0.0010\n",
            "Epoch 5/100\n",
            "2067/2067 [==============================] - 19s 9ms/step - loss: 0.1105 - acc: 0.9521 - auc_7: 0.9835 - false_negatives_13: 4474.4336 - recall_7: 0.9507 - precision_7: 0.9175 - false_negatives_14: 4474.4336 - true_negatives_7: 83181.7188 - false_positives_7: 7764.1826 - true_positives_7: 86411.6406 - val_loss: 0.1391 - val_acc: 0.9434 - val_auc_7: 0.9844 - val_false_negatives_13: 4792.6826 - val_recall_7: 0.9527 - val_precision_7: 0.9194 - val_false_negatives_14: 4792.6826 - val_true_negatives_7: 92793.1953 - val_false_positives_7: 8457.4697 - val_true_positives_7: 96445.7578 - lr: 0.0010\n",
            "Epoch 6/100\n",
            "2067/2067 [==============================] - 18s 9ms/step - loss: 0.1046 - acc: 0.9551 - auc_7: 0.9851 - false_negatives_13: 5101.9053 - recall_7: 0.9543 - precision_7: 0.9209 - false_negatives_14: 5101.9053 - true_negatives_7: 102373.1172 - false_positives_7: 9142.8037 - true_positives_7: 106536.1406 - val_loss: 0.1112 - val_acc: 0.9510 - val_auc_7: 0.9859 - val_false_negatives_13: 5339.0640 - val_recall_7: 0.9562 - val_precision_7: 0.9222 - val_false_negatives_14: 5339.0640 - val_true_negatives_7: 112078.5781 - val_false_positives_7: 9832.9551 - val_true_positives_7: 116560.3828 - lr: 0.0010\n",
            "Epoch 7/100\n",
            "2067/2067 [==============================] - 18s 9ms/step - loss: 0.0972 - acc: 0.9573 - auc_7: 0.9865 - false_negatives_13: 5555.7061 - recall_7: 0.9580 - precision_7: 0.9233 - false_negatives_14: 5555.7061 - true_negatives_7: 121675.0469 - false_positives_7: 10523.8701 - true_positives_7: 126721.2578 - val_loss: 0.1115 - val_acc: 0.9515 - val_auc_7: 0.9870 - val_false_negatives_13: 5780.0811 - val_recall_7: 0.9595 - val_precision_7: 0.9243 - val_false_negatives_14: 5780.0811 - val_true_negatives_7: 131364.2656 - val_false_positives_7: 11208.4580 - val_true_positives_7: 136780.3125 - lr: 0.0010\n",
            "Epoch 8/100\n",
            "2067/2067 [==============================] - 19s 9ms/step - loss: 0.0948 - acc: 0.9583 - auc_7: 0.9875 - false_negatives_13: 6007.6577 - recall_7: 0.9607 - precision_7: 0.9252 - false_negatives_14: 6007.6577 - true_negatives_7: 141018.0469 - false_positives_7: 11877.2988 - true_positives_7: 146894.9844 - val_loss: 0.1003 - val_acc: 0.9529 - val_auc_7: 0.9879 - val_false_negatives_13: 6222.5205 - val_recall_7: 0.9619 - val_precision_7: 0.9260 - val_false_negatives_14: 6222.5205 - val_true_negatives_7: 150691.8438 - val_false_positives_7: 12541.7539 - val_true_positives_7: 156998.7188 - lr: 0.0010\n",
            "Epoch 9/100\n",
            "2067/2067 [==============================] - 18s 9ms/step - loss: 0.0875 - acc: 0.9616 - auc_7: 0.9883 - false_negatives_13: 6411.7319 - recall_7: 0.9630 - precision_7: 0.9268 - false_negatives_14: 6411.7319 - true_negatives_7: 160340.0156 - false_positives_7: 13192.2109 - true_positives_7: 167175.9062 - val_loss: 0.1074 - val_acc: 0.9549 - val_auc_7: 0.9887 - val_false_negatives_13: 6570.8008 - val_recall_7: 0.9643 - val_precision_7: 0.9276 - val_false_negatives_14: 6570.8008 - val_true_negatives_7: 170048.2031 - val_false_positives_7: 13846.4141 - val_true_positives_7: 177311.5000 - lr: 0.0010\n",
            "Epoch 10/100\n",
            "2067/2067 [==============================] - 18s 9ms/step - loss: 0.0856 - acc: 0.9611 - auc_7: 0.9890 - false_negatives_13: 6725.7173 - recall_7: 0.9654 - precision_7: 0.9282 - false_negatives_14: 6725.7173 - true_negatives_7: 179697.6875 - false_positives_7: 14510.2002 - true_positives_7: 187508.0156 - val_loss: 0.1156 - val_acc: 0.9508 - val_auc_7: 0.9893 - val_false_negatives_13: 6921.7773 - val_recall_7: 0.9662 - val_precision_7: 0.9287 - val_false_negatives_14: 6921.7773 - val_true_negatives_7: 189385.7969 - val_false_positives_7: 15169.7451 - val_true_positives_7: 197621.4844 - lr: 0.0010\n",
            "Epoch 11/100\n",
            "2067/2067 [==============================] - 18s 9ms/step - loss: 0.0815 - acc: 0.9629 - auc_7: 0.9896 - false_negatives_13: 7093.1304 - recall_7: 0.9670 - precision_7: 0.9293 - false_negatives_14: 7093.1304 - true_negatives_7: 199105.5781 - false_positives_7: 15815.1045 - true_positives_7: 207750.0156 - val_loss: 0.0918 - val_acc: 0.9590 - val_auc_7: 0.9898 - val_false_negatives_13: 7233.7446 - val_recall_7: 0.9679 - val_precision_7: 0.9298 - val_false_negatives_14: 7233.7446 - val_true_negatives_7: 208762.8750 - val_false_positives_7: 16453.7285 - val_true_positives_7: 217970.7500 - lr: 0.0010\n",
            "Epoch 12/100\n",
            "2067/2067 [==============================] - 18s 9ms/step - loss: 0.0778 - acc: 0.9642 - auc_7: 0.9901 - false_negatives_13: 7362.3662 - recall_7: 0.9687 - precision_7: 0.9303 - false_negatives_14: 7362.3662 - true_negatives_7: 218432.0781 - false_positives_7: 17095.4492 - true_positives_7: 228195.9844 - val_loss: 0.0909 - val_acc: 0.9603 - val_auc_7: 0.9903 - val_false_negatives_13: 7482.4795 - val_recall_7: 0.9696 - val_precision_7: 0.9308 - val_false_negatives_14: 7482.4795 - val_true_negatives_7: 228157.5469 - val_false_positives_7: 17720.0703 - val_true_positives_7: 238382.9062 - lr: 9.0484e-04\n",
            "Epoch 13/100\n",
            "2067/2067 [==============================] - 18s 9ms/step - loss: 0.0747 - acc: 0.9658 - auc_7: 0.9906 - false_negatives_13: 7595.0923 - recall_7: 0.9704 - precision_7: 0.9313 - false_negatives_14: 7595.0923 - true_negatives_7: 237846.7188 - false_positives_7: 18336.8301 - true_positives_7: 248629.2969 - val_loss: 0.0948 - val_acc: 0.9600 - val_auc_7: 0.9908 - val_false_negatives_13: 7700.1025 - val_recall_7: 0.9711 - val_precision_7: 0.9317 - val_false_negatives_14: 7700.1025 - val_true_negatives_7: 247573.5156 - val_false_positives_7: 18965.0625 - val_true_positives_7: 258826.4062 - lr: 8.1873e-04\n",
            "Epoch 14/100\n",
            "2067/2067 [==============================] - 18s 9ms/step - loss: 0.0696 - acc: 0.9675 - auc_7: 0.9910 - false_negatives_13: 7798.2070 - recall_7: 0.9718 - precision_7: 0.9322 - false_negatives_14: 7798.2070 - true_negatives_7: 257278.7969 - false_positives_7: 19572.6719 - true_positives_7: 269080.3750 - val_loss: 0.0935 - val_acc: 0.9607 - val_auc_7: 0.9912 - val_false_negatives_13: 7889.0195 - val_recall_7: 0.9725 - val_precision_7: 0.9326 - val_false_negatives_14: 7889.0195 - val_true_negatives_7: 267017.5312 - val_false_positives_7: 20182.2305 - val_true_positives_7: 279298.3125 - lr: 7.4082e-04\n",
            "Epoch 15/100\n",
            "2067/2067 [==============================] - 18s 9ms/step - loss: 0.0659 - acc: 0.9687 - auc_7: 0.9914 - false_negatives_13: 7970.8315 - recall_7: 0.9732 - precision_7: 0.9330 - false_negatives_14: 7970.8315 - true_negatives_7: 276692.7812 - false_positives_7: 20798.4746 - true_positives_7: 289589.7188 - val_loss: 0.0926 - val_acc: 0.9609 - val_auc_7: 0.9916 - val_false_negatives_13: 8035.9478 - val_recall_7: 0.9739 - val_precision_7: 0.9334 - val_false_negatives_14: 8035.9478 - val_true_negatives_7: 286466.4688 - val_false_positives_7: 21394.2344 - val_true_positives_7: 299812.5312 - lr: 6.7032e-04\n",
            "Epoch 16/100\n",
            "2067/2067 [==============================] - 19s 9ms/step - loss: 0.0643 - acc: 0.9690 - auc_7: 0.9917 - false_negatives_13: 8097.7070 - recall_7: 0.9746 - precision_7: 0.9338 - false_negatives_14: 8097.7070 - true_negatives_7: 296127.2812 - false_positives_7: 21994.0195 - true_positives_7: 310154.4062 - val_loss: 0.0955 - val_acc: 0.9626 - val_auc_7: 0.9919 - val_false_negatives_13: 8172.0176 - val_recall_7: 0.9751 - val_precision_7: 0.9341 - val_false_negatives_14: 8172.0176 - val_true_negatives_7: 305925.7188 - val_false_positives_7: 22595.8555 - val_true_positives_7: 320337.0938 - lr: 6.0653e-04\n",
            "Epoch 17/100\n",
            "2067/2067 [==============================] - 19s 9ms/step - loss: 0.0628 - acc: 0.9698 - auc_7: 0.9920 - false_negatives_13: 8243.4150 - recall_7: 0.9757 - precision_7: 0.9345 - false_negatives_14: 8243.4150 - true_negatives_7: 315638.9375 - false_positives_7: 23184.5449 - true_positives_7: 330628.7812 - val_loss: 0.0912 - val_acc: 0.9639 - val_auc_7: 0.9922 - val_false_negatives_13: 8300.3945 - val_recall_7: 0.9762 - val_precision_7: 0.9348 - val_false_negatives_14: 8300.3945 - val_true_negatives_7: 325412.5938 - val_false_positives_7: 23770.0312 - val_true_positives_7: 340870.0312 - lr: 5.4881e-04\n",
            "finish training cnn model\n"
          ],
          "name": "stdout"
        }
      ]
    },
    {
      "cell_type": "code",
      "metadata": {
        "id": "qFXgKV94H_RK",
        "colab_type": "code",
        "colab": {}
      },
      "source": [
        ""
      ],
      "execution_count": 0,
      "outputs": []
    }
  ]
}