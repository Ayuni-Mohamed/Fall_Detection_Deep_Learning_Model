{
  "nbformat": 4,
  "nbformat_minor": 0,
  "metadata": {
    "colab": {
      "name": "636model-improved_Apr16.ipynb",
      "provenance": [],
      "collapsed_sections": []
    },
    "kernelspec": {
      "name": "python3",
      "display_name": "Python 3"
    },
    "accelerator": "GPU"
  },
  "cells": [
    {
      "cell_type": "code",
      "metadata": {
        "id": "_ZYHC0XOvjYK",
        "colab_type": "code",
        "outputId": "9dda632b-0d6d-4767-f0c5-5c0e29c6c9d6",
        "colab": {
          "base_uri": "https://localhost:8080/",
          "height": 51
        }
      },
      "source": [
        "import keras\n",
        "keras.__version__"
      ],
      "execution_count": 1,
      "outputs": [
        {
          "output_type": "stream",
          "text": [
            "Using TensorFlow backend.\n"
          ],
          "name": "stderr"
        },
        {
          "output_type": "execute_result",
          "data": {
            "text/plain": [
              "'2.3.1'"
            ]
          },
          "metadata": {
            "tags": []
          },
          "execution_count": 1
        }
      ]
    },
    {
      "cell_type": "code",
      "metadata": {
        "id": "SG9jbsQVueU9",
        "colab_type": "code",
        "colab": {}
      },
      "source": [
        "from keras import models\n",
        "from keras import layers\n",
        "from keras import metrics\n",
        "from keras import optimizers\n",
        "\n",
        "import numpy as np\n",
        "import json\n",
        "import os\n",
        "import csv\n",
        "import pandas as pd\n",
        "import tensorflow_addons as tfa"
      ],
      "execution_count": 0,
      "outputs": []
    },
    {
      "cell_type": "code",
      "metadata": {
        "id": "QbBQ69_hPudh",
        "colab_type": "code",
        "outputId": "ba3f96a4-8281-44af-a5fe-021971cd2e81",
        "colab": {
          "base_uri": "https://localhost:8080/",
          "height": 122
        }
      },
      "source": [
        "from google.colab import drive\n",
        "drive.mount('/content/drive')"
      ],
      "execution_count": 3,
      "outputs": [
        {
          "output_type": "stream",
          "text": [
            "Go to this URL in a browser: https://accounts.google.com/o/oauth2/auth?client_id=947318989803-6bn6qk8qdgf4n4g3pfee6491hc0brc4i.apps.googleusercontent.com&redirect_uri=urn%3aietf%3awg%3aoauth%3a2.0%3aoob&response_type=code&scope=email%20https%3a%2f%2fwww.googleapis.com%2fauth%2fdocs.test%20https%3a%2f%2fwww.googleapis.com%2fauth%2fdrive%20https%3a%2f%2fwww.googleapis.com%2fauth%2fdrive.photos.readonly%20https%3a%2f%2fwww.googleapis.com%2fauth%2fpeopleapi.readonly\n",
            "\n",
            "Enter your authorization code:\n",
            "··········\n",
            "Mounted at /content/drive\n"
          ],
          "name": "stdout"
        }
      ]
    },
    {
      "cell_type": "code",
      "metadata": {
        "id": "e3ic_oC0Yq9N",
        "colab_type": "code",
        "outputId": "cf81c29c-ec36-49e3-f0f9-ca7fef4dea60",
        "colab": {
          "base_uri": "https://localhost:8080/",
          "height": 102
        }
      },
      "source": [
        "# read json 2-d pose as data, without using: \n",
        "#     {15, \"REye\"},\n",
        "#     {16, \"LEye\"},\n",
        "#     {17, \"REar\"},\n",
        "#     {18, \"LEar\"}\n",
        "\n",
        "ur_basepath1 = '/content/drive/My Drive/636project/data/fall_UR/fall-cam0'\n",
        "ur_basepath2 = '/content/drive/My Drive/636project/data/adl_UR'\n",
        "mc_fall_path = '/content/drive/My Drive/636project/data/MCdataset/mc_fall'\n",
        "mc_notfall_path = '/content/drive/My Drive/636project/data/MCdataset/mc-notfall'\n",
        "\n",
        "def input_data(basepath):\n",
        "  data = []\n",
        "  entries = os.listdir(basepath)\n",
        "  for entry in entries:\n",
        "    path = os.path.join(basepath, entry)\n",
        "    frames = os.listdir(path)\n",
        "    for frame in frames:\n",
        "      frame_path = os.path.join(path, frame)\n",
        "      with open(frame_path, mode='r') as json_file:\n",
        "        people_dict = json.load(json_file)\n",
        "        people = people_dict[\"people\"]\n",
        "        pose_keypoints_2d = []\n",
        "        # fill missing data as 0\n",
        "        if len(people) == 0:\n",
        "          pose_keypoints_2d = [0] * 63\n",
        "        else:\n",
        "          full_pose = people[0].get(\"pose_keypoints_2d\")\n",
        "          pose_keypoints_2d = full_pose[:45] + full_pose[57:]\n",
        "         \n",
        "        pose_keypoints_2d.append(frame.split('.')[0])\n",
        "        # each pose_keypoints_2d: \n",
        "        #    [431.949, 196.241, 0.0564434, 437.194, 187.749, 0.552267,...'fall-06-cam0_000000000065_keypoints']\n",
        "        # OR [123.949, 283.241, 0.0564434, 437.194, 187.749, 0.552267,...'43_000000000000_keypoints']\n",
        "        data.append(pose_keypoints_2d)        \n",
        "  return data\n",
        "\n",
        "# read the data of UR dataset  \n",
        "# http://fenix.univ.rzeszow.pl/~mkepski/ds/uf.html\n",
        "ur_data1 = input_data(ur_basepath1)\n",
        "print(len(ur_data1))\n",
        "\n",
        "ur_data2 = input_data(ur_basepath2)\n",
        "print(len(ur_data2))\n",
        " \n",
        "ur_data = ur_data1 + ur_data2\n",
        "print(\"length of UR dataset: \", len(ur_data))\n",
        "\n",
        "df1 = pd.DataFrame.from_records(ur_data)\n",
        "df1.to_csv (r'/content/drive/My Drive/636project/ur_data.csv', index = False, header=False)\n",
        "\n",
        "# read the data of MC dataset\n",
        "# http://www.iro.umontreal.ca/~labimage/Dataset/\n",
        "mc_fall_data = input_data(mc_fall_path)\n",
        "print(len(\"length of mc-fall dataset: \", mc_fall_data))\n",
        "\n",
        "\n",
        "df2 = pd.DataFrame.from_records(mc_fall_data)\n",
        "df2.to_csv(r'/content/drive/My Drive/636project/mc_fall_data.csv', index = False, header=False)\n",
        "\n",
        "mc_notfall_data = input_data(mc_notfall_path)\n",
        "print(len(\"length of mc-not-fall dataset: \", mc_notfall_data))\n",
        "\n",
        "df3 = pd.DataFrame.from_records(mc_notfall_data)\n",
        "df3.to_csv(r'/content/drive/My Drive/636project/mc_notfall_data.csv', index = False, header=False)"
      ],
      "execution_count": 0,
      "outputs": [
        {
          "output_type": "stream",
          "text": [
            "2995\n",
            "8941\n",
            "length of UR dataset 11936\n",
            "9488\n",
            "8236\n"
          ],
          "name": "stdout"
        }
      ]
    },
    {
      "cell_type": "code",
      "metadata": {
        "id": "v61HcYuUSK6K",
        "colab_type": "code",
        "outputId": "4148cc27-1e35-4cf4-feb6-062be6221561",
        "colab": {
          "base_uri": "https://localhost:8080/",
          "height": 88
        }
      },
      "source": [
        "# read the video data csv,\n",
        "# it is faster than running the above code each time\n",
        "\n",
        "ur_path = '/content/drive/My Drive/636project/ur_data.csv'\n",
        "mc_fall_path = '/content/drive/My Drive/636project/mc_fall_data.csv'\n",
        "mc_notfall_path = '/content/drive/My Drive/636project/mc_notfall_data.csv'\n",
        "\n",
        "def read_data(path):\n",
        "  video_data = []\n",
        "  with open(path, mode='r') as csv_file:\n",
        "    reader = csv.reader(csv_file)\n",
        "    for row in reader:\n",
        "      video_data.append(row)\n",
        "  return video_data\n",
        "\n",
        "ur_data = read_data(ur_path)\n",
        "mc_fall_data = read_data(mc_fall_path)\n",
        "mc_notfall_data = read_data(mc_notfall_path)\n",
        "\n",
        "print(ur_data[0])\n",
        "print(mc_fall_data[0])\n",
        "print(mc_notfall_data[0])"
      ],
      "execution_count": 4,
      "outputs": [
        {
          "output_type": "stream",
          "text": [
            "['520.972', '128.178', '0.833728', '544.571', '130.782', '0.739747', '540.636', '132.754', '0.726633', '553.086', '154.999', '0.800764', '541.285', '166.155', '0.742877', '549.144', '129.467', '0.745059', '572.703', '155.035', '0.841464', '543.266', '171.369', '0.817947', '572.067', '169.415', '0.607432', '564.874', '166.16', '0.534525', '526.875', '181.191', '0.862423', '554.389', '217.851', '0.612664', '577.962', '170.732', '0.619415', '535.402', '188.398', '0.760066', '560.284', '220.479', '0.65847', '545.882', '232.266', '0.604373', '553.078', '232.915', '0.532739', '566.184', '222.453', '0.655722', '541.939', '229.002', '0.399536', '541.943', '227.687', '0.344383', '560.285', '217.223', '0.153482', 'fall-16-cam0_000000000016_keypoints']\n",
            "['504.171', '238.019', '0.119379', '481.995', '237.979', '0.647555', '471.564', '247.106', '0.6547', '485.918', '299.334', '0.780827', '525.04', '307.158', '0.770417', '495.036', '228.845', '0.474206', '519.863', '220.995', '0.283234', '539.41', '214.505', '0.246275', '478.096', '275.843', '0.378863', '474.176', '284.967', '0.370422', '528.986', '277.118', '0.213783', '0.0', '0.0', '0.0', '485.934', '266.741', '0.363281', '517.291', '258.887', '0.198486', '530.273', '274.524', '0.0747612', '542.03', '277.126', '0.114463', '539.417', '277.116', '0.0888912', '532.899', '274.487', '0.0731438', '0.0', '0.0', '0.0', '0.0', '0.0', '0.0', '0.0', '0.0', '0.0', '55_000000000000_keypoints']\n",
            "['643.854', '174.088', '0.796968', '652.912', '202.706', '0.916605', '633.362', '192.272', '0.886062', '609.831', '214.468', '0.928492', '579.903', '235.396', '0.884458', '672.491', '213.16', '0.871428', '664.737', '253.631', '0.843892', '653.025', '284.941', '0.864034', '625.542', '257.608', '0.738263', '612.549', '253.669', '0.758785', '602.079', '296.765', '0.733292', '590.279', '330.665', '0.457905', '637.277', '265.416', '0.734225', '605.954', '303.234', '0.712669', '566.825', '341.124', '0.72449', '548.572', '350.196', '0.637416', '557.634', '352.806', '0.630046', '561.622', '348.878', '0.52683', '0.0', '0.0', '0.0', '0.0', '0.0', '0.0', '590.367', '337.146', '0.274113', '60_000000000000_keypoints']\n"
          ],
          "name": "stdout"
        }
      ]
    },
    {
      "cell_type": "code",
      "metadata": {
        "id": "2DchOlwQNKUA",
        "colab_type": "code",
        "outputId": "e171adb5-ac02-4945-fc6a-b6657fd172ca",
        "colab": {
          "base_uri": "https://localhost:8080/",
          "height": 34
        }
      },
      "source": [
        "# read target label of UR dataset. \n",
        "\n",
        "target = []\n",
        "path1 = '/content/drive/My Drive/636project/target/urfall-cam0-falls.csv'\n",
        "path2 = '/content/drive/My Drive/636project/target/urfall-cam0-adls.csv'\n",
        "# in these csv of UR dataset, \n",
        "# '-1' means person is not lying, '1' means person is lying on the ground; '0' is temporary pose, when person \"is falling\"\n",
        "\n",
        "def input_fall(path):\n",
        "  with open(path, mode='r') as csv_file:\n",
        "    reader = csv.reader(csv_file)\n",
        "    for row in reader:\n",
        "      record = []\n",
        "      record.append(row[0])\n",
        "      record.append(row[1])\n",
        "      label = row[2]\n",
        "      if label == '1' or label == '0':\n",
        "        record.append(1)        \n",
        "      else:\n",
        "        record.append(0)\n",
        "      # each record: [<video_id>, <frame_id>, label], eg: ['fall-17', '22', 0] \n",
        "      target.append(record)\n",
        "\n",
        "# though laying in the video, but it is not fall, so I mark 0 as label\n",
        "def input_adl(path):\n",
        "  with open(path, mode='r') as csv_file:\n",
        "    reader = csv.reader(csv_file)\n",
        "    for row in reader:\n",
        "      record = []\n",
        "      record.append(row[0])\n",
        "      record.append(row[1])\n",
        "      record.append(0)\n",
        "      target.append(record)\n",
        "\n",
        "input_fall(path1)\n",
        "print(\"falls of UR dataset\", len(target))\n",
        "\n",
        "input_adl(path2)\n",
        "\n",
        "df = pd.DataFrame.from_records(target)\n",
        "df.to_csv (r'/content/drive/My Drive/636project/target_data.csv', index = False, header=False)\n"
      ],
      "execution_count": 5,
      "outputs": [
        {
          "output_type": "stream",
          "text": [
            "falls of UR dataset 2995\n"
          ],
          "name": "stdout"
        }
      ]
    },
    {
      "cell_type": "code",
      "metadata": {
        "id": "WtMEv5GabKlC",
        "colab_type": "code",
        "colab": {}
      },
      "source": [
        "# make dictionary of target of ur dataset\n",
        "target_csv_path = '/content/drive/My Drive/636project/target_data.csv'\n",
        "idx = 0\n",
        "idx_dict = {}\n",
        "\n",
        "with open(target_csv_path, mode='r') as csv_file:\n",
        "  reader = csv.reader(csv_file)\n",
        "  for row in reader:\n",
        "    # each row: [<video_id>, <frame_id>, label], eg: ['fall-17', '22', 0] \n",
        "    idx_dict['.'.join(row[:2])] = idx  # {'fall-17.22' : 112}\n",
        "    idx += 1"
      ],
      "execution_count": 0,
      "outputs": []
    },
    {
      "cell_type": "code",
      "metadata": {
        "id": "ns3vNaNj5L3G",
        "colab_type": "code",
        "outputId": "d0f72ea5-b319-4ec0-9f67-29f6d5d74d43",
        "colab": {
          "base_uri": "https://localhost:8080/",
          "height": 122
        }
      },
      "source": [
        "# match body landmark data with label data of ur dataset\n",
        "bodylandmark = []\n",
        "label = []\n",
        "frame_name = []\n",
        "\n",
        "for landmark in ur_data:\n",
        "  video_name = landmark[-1].split('_')  # 'fall-01-cam0_000000000004'\n",
        "  a = video_name[0].split('-')\n",
        "  video_type = a[0] # 'fall'\n",
        "  video_id = a[1]   # '01'\n",
        "  frame_id = str(int(video_name[1])) # '000000000004' become '4'\n",
        "  try:\n",
        "    a = '.'.join([video_id, frame_id])\n",
        "    b = '-'.join([video_type, a])\n",
        "    label.append(target[idx_dict[b]][-1])\n",
        "    bl = landmark[:-1]\n",
        "    # convert string into float\n",
        "    bl = list(map(float,bl))\n",
        "    bodylandmark.append(bl)\n",
        "    frameName = landmark[-1]\n",
        "    frame_name.append(frameName)\n",
        "  except:\n",
        "    continue\n",
        "\n",
        "print(\"bodylandmark record sample of ur dataset:\" )\n",
        "print(bodylandmark[0])\n",
        "print(\"label of ur dataset: \", len(label))\n",
        "print(\"bodylandmark of ur dataset: \", len(bodylandmark))\n",
        "print(frame_name[0])"
      ],
      "execution_count": 7,
      "outputs": [
        {
          "output_type": "stream",
          "text": [
            "bodylandmark record sample of ur dataset:\n",
            "[520.972, 128.178, 0.833728, 544.571, 130.782, 0.739747, 540.636, 132.754, 0.726633, 553.086, 154.999, 0.800764, 541.285, 166.155, 0.742877, 549.144, 129.467, 0.745059, 572.703, 155.035, 0.841464, 543.266, 171.369, 0.817947, 572.067, 169.415, 0.607432, 564.874, 166.16, 0.534525, 526.875, 181.191, 0.862423, 554.389, 217.851, 0.612664, 577.962, 170.732, 0.619415, 535.402, 188.398, 0.760066, 560.284, 220.479, 0.65847, 545.882, 232.266, 0.604373, 553.078, 232.915, 0.532739, 566.184, 222.453, 0.655722, 541.939, 229.002, 0.399536, 541.943, 227.687, 0.344383, 560.285, 217.223, 0.153482]\n",
            "label of ur dataset:  11475\n",
            "bodylandmark of ur dataset:  11475\n",
            "fall-16-cam0_000000000016_keypoints\n"
          ],
          "name": "stdout"
        }
      ]
    },
    {
      "cell_type": "code",
      "metadata": {
        "id": "QPBAHX2HKxuL",
        "colab_type": "code",
        "colab": {}
      },
      "source": [
        "# add data of MC dataset to the whole dataset\n",
        "# For MC dataset, all frames in fall data should be label 1, \n",
        "# and all frames in notfall data should be label 0.\n",
        "for record in mc_fall_data:\n",
        "  bl = record[:-1]\n",
        "  bl = list(map(float,bl))\n",
        "  bodylandmark.append(bl)\n",
        "  label.append(1)\n",
        "  frameName = record[-1]\n",
        "  frame_name.append(frameName)\n",
        "\n",
        "for record in mc_notfall_data:\n",
        "  bl = record[:-1]\n",
        "  bl = list(map(float,bl))\n",
        "  bodylandmark.append(bl)\n",
        "  label.append(0)\n",
        "  frameName = record[-1]\n",
        "  frame_name.append(frameName)\n"
      ],
      "execution_count": 0,
      "outputs": []
    },
    {
      "cell_type": "code",
      "metadata": {
        "id": "yjQH8nEGum9U",
        "colab_type": "code",
        "outputId": "eda8fb8a-38b6-428c-c63d-391461af7cd4",
        "colab": {
          "base_uri": "https://localhost:8080/",
          "height": 88
        }
      },
      "source": [
        "# normalize data \n",
        "for record in bodylandmark:\n",
        "  for i in range(0, 63, 3):\n",
        "    record[i] = float(record[i])/ 640\n",
        "    record[i + 1] = float(record[i + 1]) / 480\n",
        "\n",
        "print(bodylandmark[0])\n",
        "print(len(label))\n",
        "print(len(bodylandmark))"
      ],
      "execution_count": 9,
      "outputs": [
        {
          "output_type": "stream",
          "text": [
            "[0.81401875, 0.2670375, 0.833728, 0.8508921875000001, 0.2724625, 0.739747, 0.8447437499999999, 0.2765708333333333, 0.726633, 0.864196875, 0.32291458333333334, 0.800764, 0.8457578124999999, 0.34615625, 0.742877, 0.8580375, 0.2697229166666667, 0.745059, 0.8948484375, 0.32298958333333333, 0.841464, 0.848853125, 0.35701875, 0.817947, 0.8938546875, 0.35294791666666664, 0.607432, 0.882615625, 0.3461666666666667, 0.534525, 0.8232421875, 0.37748125, 0.862423, 0.8662328125000001, 0.45385625, 0.612664, 0.903065625, 0.3556916666666667, 0.619415, 0.8365656250000001, 0.3924958333333333, 0.760066, 0.87544375, 0.45933125, 0.65847, 0.8529406249999999, 0.48388749999999997, 0.604373, 0.864184375, 0.48523958333333334, 0.532739, 0.8846624999999999, 0.46344375, 0.655722, 0.8467796875, 0.4770875, 0.399536, 0.8467859375, 0.4743479166666667, 0.344383, 0.8754453124999999, 0.4525479166666667, 0.153482]\n",
            "29199\n",
            "29199\n"
          ],
          "name": "stdout"
        }
      ]
    },
    {
      "cell_type": "code",
      "metadata": {
        "id": "5TseRjvqzZ9a",
        "colab_type": "code",
        "outputId": "cb24d0f8-41d0-4d07-fb85-2c6e18ab04cc",
        "colab": {
          "base_uri": "https://localhost:8080/",
          "height": 88
        }
      },
      "source": [
        "# make bodylandmark and label to be a same data frame\n",
        "all_data = []\n",
        "\n",
        "for i in range(len(bodylandmark)):\n",
        "  all_data.append([label[i]])\n",
        "  all_data[i] = all_data[i] + bodylandmark[i]\n",
        "\n",
        "print(all_data[0])\n",
        "print(len(all_data))\n",
        "print(len(all_data[0]))"
      ],
      "execution_count": 10,
      "outputs": [
        {
          "output_type": "stream",
          "text": [
            "[0, 0.81401875, 0.2670375, 0.833728, 0.8508921875000001, 0.2724625, 0.739747, 0.8447437499999999, 0.2765708333333333, 0.726633, 0.864196875, 0.32291458333333334, 0.800764, 0.8457578124999999, 0.34615625, 0.742877, 0.8580375, 0.2697229166666667, 0.745059, 0.8948484375, 0.32298958333333333, 0.841464, 0.848853125, 0.35701875, 0.817947, 0.8938546875, 0.35294791666666664, 0.607432, 0.882615625, 0.3461666666666667, 0.534525, 0.8232421875, 0.37748125, 0.862423, 0.8662328125000001, 0.45385625, 0.612664, 0.903065625, 0.3556916666666667, 0.619415, 0.8365656250000001, 0.3924958333333333, 0.760066, 0.87544375, 0.45933125, 0.65847, 0.8529406249999999, 0.48388749999999997, 0.604373, 0.864184375, 0.48523958333333334, 0.532739, 0.8846624999999999, 0.46344375, 0.655722, 0.8467796875, 0.4770875, 0.399536, 0.8467859375, 0.4743479166666667, 0.344383, 0.8754453124999999, 0.4525479166666667, 0.153482]\n",
            "29199\n",
            "64\n"
          ],
          "name": "stdout"
        }
      ]
    },
    {
      "cell_type": "code",
      "metadata": {
        "id": "3vTD4f9Abx70",
        "colab_type": "code",
        "colab": {
          "base_uri": "https://localhost:8080/",
          "height": 34
        },
        "outputId": "cc1ac0e3-8b79-4f30-87f5-d3842e4212c2"
      },
      "source": [
        "print(len(frame_name))"
      ],
      "execution_count": 11,
      "outputs": [
        {
          "output_type": "stream",
          "text": [
            "29199\n"
          ],
          "name": "stdout"
        }
      ]
    },
    {
      "cell_type": "code",
      "metadata": {
        "id": "AuHfBlogaqWQ",
        "colab_type": "code",
        "colab": {
          "base_uri": "https://localhost:8080/",
          "height": 54
        },
        "outputId": "1cd4f2cf-9e7a-4b07-9f37-198449bc9aec"
      },
      "source": [
        "# prepare data to detect and analyse fail cases of the final models\n",
        "sample_data_for_fail = []\n",
        "for i in range(len(all_data)):\n",
        "  toAdd = []\n",
        "  for record in all_data[i]:\n",
        "    toAdd.append(record)\n",
        "  toAdd.append(frame_name[i])\n",
        "  sample_data_for_fail.append(toAdd)\n",
        "\n",
        "print(sample_data_for_fail[0])"
      ],
      "execution_count": 12,
      "outputs": [
        {
          "output_type": "stream",
          "text": [
            "[0, 0.81401875, 0.2670375, 0.833728, 0.8508921875000001, 0.2724625, 0.739747, 0.8447437499999999, 0.2765708333333333, 0.726633, 0.864196875, 0.32291458333333334, 0.800764, 0.8457578124999999, 0.34615625, 0.742877, 0.8580375, 0.2697229166666667, 0.745059, 0.8948484375, 0.32298958333333333, 0.841464, 0.848853125, 0.35701875, 0.817947, 0.8938546875, 0.35294791666666664, 0.607432, 0.882615625, 0.3461666666666667, 0.534525, 0.8232421875, 0.37748125, 0.862423, 0.8662328125000001, 0.45385625, 0.612664, 0.903065625, 0.3556916666666667, 0.619415, 0.8365656250000001, 0.3924958333333333, 0.760066, 0.87544375, 0.45933125, 0.65847, 0.8529406249999999, 0.48388749999999997, 0.604373, 0.864184375, 0.48523958333333334, 0.532739, 0.8846624999999999, 0.46344375, 0.655722, 0.8467796875, 0.4770875, 0.399536, 0.8467859375, 0.4743479166666667, 0.344383, 0.8754453124999999, 0.4525479166666667, 0.153482, 'fall-16-cam0_000000000016_keypoints']\n"
          ],
          "name": "stdout"
        }
      ]
    },
    {
      "cell_type": "code",
      "metadata": {
        "id": "1KpO5VflM_zn",
        "colab_type": "code",
        "outputId": "02b5c0ed-718b-4510-96a9-be1ef0879a8e",
        "colab": {
          "base_uri": "https://localhost:8080/",
          "height": 51
        }
      },
      "source": [
        "# know the majority and minority\n",
        "fall = label.count(1)\n",
        "not_fall = label.count(0)\n",
        "print(fall)\n",
        "print(not_fall)"
      ],
      "execution_count": 13,
      "outputs": [
        {
          "output_type": "stream",
          "text": [
            "11261\n",
            "17938\n"
          ],
          "name": "stdout"
        }
      ]
    },
    {
      "cell_type": "code",
      "metadata": {
        "id": "puE0mHIKnR3O",
        "colab_type": "code",
        "outputId": "1df11cba-cca9-4320-a370-965710cc988e",
        "colab": {
          "base_uri": "https://localhost:8080/",
          "height": 170
        }
      },
      "source": [
        "# up-sampling to make the data balance\n",
        "# Separate majority and minority classes\n",
        "df = pd.DataFrame.from_records(all_data)\n",
        "header = ['label']\n",
        "for i in range(63):\n",
        "  header.append(i)\n",
        "\n",
        "df.columns = header\n",
        "df_majority = df[df.label==0]\n",
        "df_minority = df[df.label==1]\n",
        "print(\"before re-sampling, not fall vs fall: \")\n",
        "print(df['label'].value_counts())\n",
        "\n",
        "from sklearn.utils import resample\n",
        "print(\"begin to re sample...\")\n",
        "# Upsample minority class\n",
        "df_minority_upsampled = resample(df_minority, \n",
        "                                 replace=True,      # sample with replacement\n",
        "                                 n_samples=17938)    # to match majority class\n",
        "                                  \n",
        "# Combine majority class with upsampled minority class\n",
        "df_upsampled = pd.concat([df_majority, df_minority_upsampled])\n",
        " \n",
        "print(\"after re-sampling...\")\n",
        "# Display new class counts\n",
        "df_upsampled.label.value_counts()"
      ],
      "execution_count": 14,
      "outputs": [
        {
          "output_type": "stream",
          "text": [
            "before re-sampling, not fall vs fall: \n",
            "0    17938\n",
            "1    11261\n",
            "Name: label, dtype: int64\n",
            "begin to re sample...\n",
            "after re-sampling...\n"
          ],
          "name": "stdout"
        },
        {
          "output_type": "execute_result",
          "data": {
            "text/plain": [
              "1    17938\n",
              "0    17938\n",
              "Name: label, dtype: int64"
            ]
          },
          "metadata": {
            "tags": []
          },
          "execution_count": 14
        }
      ]
    },
    {
      "cell_type": "code",
      "metadata": {
        "id": "ok4SPC0u4LZX",
        "colab_type": "code",
        "outputId": "39bfc848-d170-41da-d5c6-cf75f4b3c55a",
        "colab": {
          "base_uri": "https://localhost:8080/",
          "height": 238
        }
      },
      "source": [
        "all_data = df_upsampled.values\n",
        "\n",
        "print(all_data[0])\n",
        "print(len(all_data[0]))\n",
        "print(\"number of all data:\", len(all_data))"
      ],
      "execution_count": 15,
      "outputs": [
        {
          "output_type": "stream",
          "text": [
            "[0.         0.81401875 0.2670375  0.833728   0.85089219 0.2724625\n",
            " 0.739747   0.84474375 0.27657083 0.726633   0.86419687 0.32291458\n",
            " 0.800764   0.84575781 0.34615625 0.742877   0.8580375  0.26972292\n",
            " 0.745059   0.89484844 0.32298958 0.841464   0.84885312 0.35701875\n",
            " 0.817947   0.89385469 0.35294792 0.607432   0.88261563 0.34616667\n",
            " 0.534525   0.82324219 0.37748125 0.862423   0.86623281 0.45385625\n",
            " 0.612664   0.90306562 0.35569167 0.619415   0.83656563 0.39249583\n",
            " 0.760066   0.87544375 0.45933125 0.65847    0.85294062 0.4838875\n",
            " 0.604373   0.86418438 0.48523958 0.532739   0.8846625  0.46344375\n",
            " 0.655722   0.84677969 0.4770875  0.399536   0.84678594 0.47434792\n",
            " 0.344383   0.87544531 0.45254792 0.153482  ]\n",
            "64\n",
            "number of all data: 35876\n"
          ],
          "name": "stdout"
        }
      ]
    },
    {
      "cell_type": "code",
      "metadata": {
        "id": "MEn4pkbz0SPf",
        "colab_type": "code",
        "outputId": "4f30c5e2-eff0-4bc1-ddac-838e78d97dba",
        "colab": {
          "base_uri": "https://localhost:8080/",
          "height": 255
        }
      },
      "source": [
        "# split data into train and test set\n",
        "np.random.shuffle(all_data)\n",
        "split_point = len(all_data) // 9\n",
        "print(\"split point:\", split_point)\n",
        "test_data = all_data[:split_point]\n",
        "train_data = all_data[split_point: ]\n",
        "\n",
        "print(\"number of test data:\", len(test_data))\n",
        "print(\"number of train data:\",len(train_data))\n",
        "\n",
        "print(train_data[0])"
      ],
      "execution_count": 16,
      "outputs": [
        {
          "output_type": "stream",
          "text": [
            "split point: 3986\n",
            "number of test data: 3986\n",
            "number of train data: 31890\n",
            "[1.         0.69407344 0.53113542 0.749696   0.65530312 0.56105208\n",
            " 0.710325   0.65528594 0.53395208 0.45351    0.60225469 0.50928542\n",
            " 0.538867   0.56352031 0.46865417 0.648747   0.65731406 0.5937\n",
            " 0.62183    0.61039687 0.62364583 0.776324   0.56150625 0.66433125\n",
            " 0.829948   0.54513281 0.55017083 0.646124   0.54514688 0.53118542\n",
            " 0.619853   0.45746563 0.51222083 0.561223   0.37796719 0.55282083\n",
            " 0.5152     0.54310469 0.56652083 0.53076    0.45345    0.56379583\n",
            " 0.530622   0.37596719 0.58011875 0.420266   0.34739063 0.54204375\n",
            " 0.303624   0.34534531 0.5556625  0.264057   0.36366719 0.5855375\n",
            " 0.391625   0.34940469 0.52843125 0.445797   0.35145156 0.52574583\n",
            " 0.451493   0.36565    0.56103125 0.390428  ]\n"
          ],
          "name": "stdout"
        }
      ]
    },
    {
      "cell_type": "code",
      "metadata": {
        "id": "TB-7RM66Yp7w",
        "colab_type": "code",
        "colab": {}
      },
      "source": [
        "# plotting the results\n",
        "\n",
        "import matplotlib.pyplot as plt\n",
        "\n",
        "def plotting_training(history):\n",
        "  # Plot training & validation accuracy values\n",
        "  plt.plot(history.history['acc'])\n",
        "  plt.plot(history.history['val_acc'])\n",
        "  plt.title('Model accuracy')\n",
        "  plt.ylabel('Accuracy')\n",
        "  plt.xlabel('Epoch')\n",
        "  plt.legend(['Train', 'Test'], loc='upper left')\n",
        "  plt.show()\n",
        "  # Plot training & validation loss values\n",
        "  loss = history.history['loss']\n",
        "  val_loss = history.history['val_loss']\n",
        "  epochs = range(1, len(loss) + 1)\n",
        "  plt.figure()\n",
        "  plt.plot(epochs, loss, 'bo', label=\"Training loss\")\n",
        "  plt.plot(epochs, val_loss, 'b', label='Validation loss')\n",
        "  plt.title('Training and validation loss')\n",
        "  plt.xlabel('epoch', fontsize=10)\n",
        "  plt.ylabel('loss', fontsize=10)\n",
        "  plt.ylim(0.0,0.5)\n",
        "  plt.legend()\n",
        "  plt.show()"
      ],
      "execution_count": 0,
      "outputs": []
    },
    {
      "cell_type": "code",
      "metadata": {
        "id": "qxdTfMk3TuYA",
        "colab_type": "code",
        "outputId": "6992f30c-e569-4857-dc0e-5b4fda8e8d80",
        "colab": {
          "base_uri": "https://localhost:8080/",
          "height": 1000
        }
      },
      "source": [
        "# solution 1: train model using lstm\n",
        "from tensorflow.keras.layers import LSTM\n",
        "from tensorflow.keras import callbacks\n",
        "from tensorflow.keras import layers\n",
        "from numpy import array\n",
        "from tensorflow.keras.models import Sequential\n",
        "\n",
        "def scheduler(epoch):\n",
        "  if epoch < 10:\n",
        "    return 0.001\n",
        "  else:\n",
        "    return 0.001 * np.exp(0.1 * (10 - epoch))\n",
        "\n",
        "x_train = []\n",
        "y_train = []\n",
        "\n",
        "for record in train_data:\n",
        "  x_train.append(record[1:])\n",
        "  label = int(record[0])\n",
        "  y_train.append(label) \n",
        "\n",
        "def train_lstm_model(x_train, y_train):\n",
        "  x_train = array(x_train)\n",
        "  x_train = x_train.reshape((len(x_train), 1, len(x_train[0])))\n",
        "  print(\"x_train.shape\", x_train.shape)\n",
        "  print(x_train[0])\n",
        "\n",
        "  y_train = array(y_train)\n",
        "  print(\"y_train.shape\", y_train.shape)\n",
        "\n",
        "  # imrpove log: use batch size 16 and add one more lstm layer\n",
        "\n",
        "  lstm_model = Sequential()\n",
        "  lstm_model.add(LSTM(16, \n",
        "                input_shape=(1, 63),\n",
        "                return_sequences=True))\n",
        "  lstm_model.add(LSTM(16, ))\n",
        "  lstm_model.add(layers.Dense(1, activation='sigmoid'))\n",
        "  lstm_model.compile(optimizer='rmsprop',\n",
        "                loss='binary_crossentropy',\n",
        "                metrics=['acc',\n",
        "                        metrics.AUC(), \n",
        "                        metrics.FalseNegatives(),\n",
        "                        metrics.Recall(),\n",
        "                        metrics.Precision(),\n",
        "                        metrics.FalseNegatives(),\n",
        "                        metrics.TrueNegatives(),\n",
        "                        metrics.FalsePositives(),\n",
        "                        metrics.TruePositives()])\n",
        "  lstm_history = lstm_model.fit(x_train, y_train,\n",
        "                      epochs=100,\n",
        "                      batch_size=16,\n",
        "                      validation_split=0.2,\n",
        "                      callbacks=[callbacks.EarlyStopping(monitor='val_loss', patience=5),\n",
        "                      callbacks.LearningRateScheduler(scheduler)])\n",
        "  print(\"finish training lstm model\")\n",
        "  return lstm_model, lstm_history\n",
        "\n",
        "lstm_model, lstm_history = train_lstm_model(x_train, y_train)"
      ],
      "execution_count": 23,
      "outputs": [
        {
          "output_type": "stream",
          "text": [
            "x_train.shape (31890, 1, 63)\n",
            "[[0.69407344 0.53113542 0.749696   0.65530312 0.56105208 0.710325\n",
            "  0.65528594 0.53395208 0.45351    0.60225469 0.50928542 0.538867\n",
            "  0.56352031 0.46865417 0.648747   0.65731406 0.5937     0.62183\n",
            "  0.61039687 0.62364583 0.776324   0.56150625 0.66433125 0.829948\n",
            "  0.54513281 0.55017083 0.646124   0.54514688 0.53118542 0.619853\n",
            "  0.45746563 0.51222083 0.561223   0.37796719 0.55282083 0.5152\n",
            "  0.54310469 0.56652083 0.53076    0.45345    0.56379583 0.530622\n",
            "  0.37596719 0.58011875 0.420266   0.34739063 0.54204375 0.303624\n",
            "  0.34534531 0.5556625  0.264057   0.36366719 0.5855375  0.391625\n",
            "  0.34940469 0.52843125 0.445797   0.35145156 0.52574583 0.451493\n",
            "  0.36565    0.56103125 0.390428  ]]\n",
            "y_train.shape (31890,)\n",
            "Epoch 1/100\n",
            "1595/1595 [==============================] - 14s 9ms/step - loss: 0.4169 - acc: 0.8105 - auc_3: 0.8322 - false_negatives_5: 1360.3173 - recall_3: 0.7113 - precision_3: 0.7575 - false_negatives_6: 1360.3173 - true_negatives_3: 5030.1714 - false_positives_3: 1424.8051 - true_positives_3: 4952.7017 - val_loss: 0.3608 - val_acc: 0.8437 - val_auc_3: 0.8936 - val_false_negatives_5: 2248.7219 - val_recall_3: 0.8428 - val_precision_3: 0.7973 - val_false_negatives_6: 2248.7219 - val_true_negatives_3: 11287.5234 - val_false_positives_3: 3077.4712 - val_true_positives_3: 12098.2686 - lr: 0.0010\n",
            "Epoch 2/100\n",
            "1595/1595 [==============================] - 13s 8ms/step - loss: 0.2995 - acc: 0.8744 - auc_3: 0.9095 - false_negatives_5: 2982.2815 - recall_3: 0.8654 - precision_3: 0.8103 - false_negatives_6: 2982.2815 - true_negatives_3: 17849.7305 - false_positives_3: 4489.9478 - true_positives_3: 19336.0254 - val_loss: 0.2911 - val_acc: 0.8855 - val_auc_3: 0.9210 - val_false_negatives_5: 3774.0024 - val_recall_3: 0.8755 - val_precision_3: 0.8255 - val_false_negatives_6: 3774.0024 - val_true_negatives_3: 24668.4609 - val_false_positives_3: 5608.5337 - val_true_positives_3: 26550.9883 - lr: 0.0010\n",
            "Epoch 3/100\n",
            "1595/1595 [==============================] - 13s 8ms/step - loss: 0.2745 - acc: 0.8876 - auc_3: 0.9276 - false_negatives_5: 4517.9707 - recall_3: 0.8818 - precision_3: 0.8343 - false_negatives_6: 4517.9707 - true_negatives_3: 31527.9043 - false_positives_3: 6697.7422 - true_positives_3: 33804.4297 - val_loss: 0.3262 - val_acc: 0.8572 - val_auc_3: 0.9321 - val_false_negatives_5: 5125.4961 - val_recall_3: 0.8893 - val_precision_3: 0.8383 - val_false_negatives_6: 5125.4961 - val_true_negatives_3: 38246.1484 - val_false_positives_3: 7942.8447 - val_true_positives_3: 41177.4922 - lr: 0.0010\n",
            "Epoch 4/100\n",
            "1595/1595 [==============================] - 13s 8ms/step - loss: 0.2592 - acc: 0.8948 - auc_3: 0.9353 - false_negatives_5: 5707.4170 - recall_3: 0.8947 - precision_3: 0.8406 - false_negatives_6: 5707.4170 - true_negatives_3: 44951.8945 - false_positives_3: 9201.8154 - true_positives_3: 48576.8984 - val_loss: 0.2587 - val_acc: 0.8968 - val_auc_3: 0.9388 - val_false_negatives_5: 6294.2505 - val_recall_3: 0.8989 - val_precision_3: 0.8452 - val_false_negatives_6: 6294.2505 - val_true_negatives_3: 51851.1523 - val_false_positives_3: 10249.8271 - val_true_positives_3: 55986.7500 - lr: 0.0010\n",
            "Epoch 5/100\n",
            "1595/1595 [==============================] - 14s 9ms/step - loss: 0.2441 - acc: 0.9029 - auc_3: 0.9415 - false_negatives_5: 6856.0483 - recall_3: 0.9024 - precision_3: 0.8488 - false_negatives_6: 6856.0483 - true_negatives_3: 58756.7188 - false_positives_3: 11293.9902 - true_positives_3: 63421.2695 - val_loss: 0.2440 - val_acc: 0.9097 - val_auc_3: 0.9442 - val_false_negatives_5: 7413.1855 - val_recall_3: 0.9053 - val_precision_3: 0.8528 - val_false_negatives_6: 7413.1855 - val_true_negatives_3: 65787.5703 - val_false_positives_3: 12225.4258 - val_true_positives_3: 70845.8125 - lr: 0.0010\n",
            "Epoch 6/100\n",
            "1595/1595 [==============================] - 13s 8ms/step - loss: 0.2345 - acc: 0.9071 - auc_3: 0.9461 - false_negatives_5: 7958.9785 - recall_3: 0.9077 - precision_3: 0.8557 - false_negatives_6: 7958.9785 - true_negatives_3: 72779.7188 - false_positives_3: 13191.7715 - true_positives_3: 78287.5547 - val_loss: 0.2416 - val_acc: 0.9119 - val_auc_3: 0.9481 - val_false_negatives_5: 8526.7422 - val_recall_3: 0.9095 - val_precision_3: 0.8591 - val_false_negatives_6: 8526.7422 - val_true_negatives_3: 79872.7578 - val_false_positives_3: 14052.2158 - val_true_positives_3: 85710.2344 - lr: 0.0010\n",
            "Epoch 7/100\n",
            "1595/1595 [==============================] - 13s 8ms/step - loss: 0.2260 - acc: 0.9103 - auc_3: 0.9496 - false_negatives_5: 9103.4736 - recall_3: 0.9109 - precision_3: 0.8620 - false_negatives_6: 9103.4736 - true_negatives_3: 86989.1172 - false_positives_3: 14903.9502 - true_positives_3: 93111.3203 - val_loss: 0.2566 - val_acc: 0.8989 - val_auc_3: 0.9510 - val_false_negatives_5: 9588.9600 - val_recall_3: 0.9130 - val_precision_3: 0.8637 - val_false_negatives_6: 9588.9600 - val_true_negatives_3: 93957.4141 - val_false_positives_3: 15879.6211 - val_true_positives_3: 100626.0156 - lr: 0.0010\n",
            "Epoch 8/100\n",
            "1595/1595 [==============================] - 13s 8ms/step - loss: 0.2187 - acc: 0.9122 - auc_3: 0.9522 - false_negatives_5: 10069.8535 - recall_3: 0.9148 - precision_3: 0.8651 - false_negatives_6: 10069.8535 - true_negatives_3: 100949.4688 - false_positives_3: 16857.4043 - true_positives_3: 108121.1953 - val_loss: 0.2317 - val_acc: 0.9133 - val_auc_3: 0.9535 - val_false_negatives_5: 10630.0605 - val_recall_3: 0.9158 - val_precision_3: 0.8673 - val_false_negatives_6: 10630.0605 - val_true_negatives_3: 108066.8594 - val_false_positives_3: 17682.1055 - val_true_positives_3: 115562.9297 - lr: 0.0010\n",
            "Epoch 9/100\n",
            "1595/1595 [==============================] - 13s 8ms/step - loss: 0.2133 - acc: 0.9147 - auc_3: 0.9545 - false_negatives_5: 11170.7559 - recall_3: 0.9167 - precision_3: 0.8692 - false_negatives_6: 11170.7559 - true_negatives_3: 115203.2031 - false_positives_3: 18505.9414 - true_positives_3: 123008.0078 - val_loss: 0.2139 - val_acc: 0.9178 - val_auc_3: 0.9556 - val_false_negatives_5: 11703.0352 - val_recall_3: 0.9177 - val_precision_3: 0.8710 - val_false_negatives_6: 11703.0352 - val_true_negatives_3: 122336.4688 - val_false_positives_3: 19324.5547 - val_true_positives_3: 130467.9688 - lr: 0.0010\n",
            "Epoch 10/100\n",
            "1595/1595 [==============================] - 13s 8ms/step - loss: 0.2075 - acc: 0.9169 - auc_3: 0.9566 - false_negatives_5: 12200.3477 - recall_3: 0.9187 - precision_3: 0.8726 - false_negatives_6: 12200.3477 - true_negatives_3: 129453.2109 - false_positives_3: 20145.7988 - true_positives_3: 137978.4375 - val_loss: 0.2206 - val_acc: 0.9080 - val_auc_3: 0.9574 - val_false_negatives_5: 12705.0049 - val_recall_3: 0.9197 - val_precision_3: 0.8738 - val_false_negatives_6: 12705.0049 - val_true_negatives_3: 136571.5156 - val_false_positives_3: 21001.4688 - val_true_positives_3: 145443.9531 - lr: 0.0010\n",
            "Epoch 11/100\n",
            "1595/1595 [==============================] - 13s 8ms/step - loss: 0.2024 - acc: 0.9187 - auc_3: 0.9582 - false_negatives_5: 13194.7031 - recall_3: 0.9206 - precision_3: 0.8749 - false_negatives_6: 13194.7031 - true_negatives_3: 143690.7188 - false_positives_3: 21860.1328 - true_positives_3: 152922.3594 - val_loss: 0.2059 - val_acc: 0.9221 - val_auc_3: 0.9591 - val_false_negatives_5: 13693.0049 - val_recall_3: 0.9214 - val_precision_3: 0.8764 - val_false_negatives_6: 13693.0049 - val_true_negatives_3: 150860.1094 - val_false_positives_3: 22624.8730 - val_true_positives_3: 160433.9219 - lr: 0.0010\n",
            "Epoch 12/100\n",
            "1595/1595 [==============================] - 13s 8ms/step - loss: 0.1962 - acc: 0.9207 - auc_3: 0.9598 - false_negatives_5: 14187.0898 - recall_3: 0.9221 - precision_3: 0.8777 - false_negatives_6: 14187.0898 - true_negatives_3: 158011.9688 - false_positives_3: 23398.0332 - true_positives_3: 167960.7812 - val_loss: 0.2813 - val_acc: 0.8881 - val_auc_3: 0.9604 - val_false_negatives_5: 14805.6719 - val_recall_3: 0.9221 - val_precision_3: 0.8790 - val_false_negatives_6: 14805.6719 - val_true_negatives_3: 165260.3906 - val_false_positives_3: 24136.6641 - val_true_positives_3: 175299.3281 - lr: 9.0484e-04\n",
            "Epoch 13/100\n",
            "1595/1595 [==============================] - 13s 8ms/step - loss: 0.1921 - acc: 0.9216 - auc_3: 0.9608 - false_negatives_5: 15422.8535 - recall_3: 0.9221 - precision_3: 0.8800 - false_negatives_6: 15422.8535 - true_negatives_3: 172431.6719 - false_positives_3: 24905.2793 - true_positives_3: 182688.0938 - val_loss: 0.1996 - val_acc: 0.9244 - val_auc_3: 0.9615 - val_false_negatives_5: 15904.6387 - val_recall_3: 0.9228 - val_precision_3: 0.8812 - val_false_negatives_6: 15904.6387 - val_true_negatives_3: 179673.5312 - val_false_positives_3: 25635.4414 - val_true_positives_3: 190178.3125 - lr: 8.1873e-04\n",
            "Epoch 14/100\n",
            "1595/1595 [==============================] - 13s 8ms/step - loss: 0.1880 - acc: 0.9240 - auc_3: 0.9621 - false_negatives_5: 16366.5166 - recall_3: 0.9235 - precision_3: 0.8822 - false_negatives_6: 16366.5166 - true_negatives_3: 186884.7344 - false_positives_3: 26385.3594 - true_positives_3: 197701.1094 - val_loss: 0.1960 - val_acc: 0.9238 - val_auc_3: 0.9628 - val_false_negatives_5: 16828.1172 - val_recall_3: 0.9242 - val_precision_3: 0.8832 - val_false_negatives_6: 16828.1172 - val_true_negatives_3: 194084.9062 - val_false_positives_3: 27136.0918 - val_true_positives_3: 205232.9219 - lr: 7.4082e-04\n",
            "Epoch 15/100\n",
            "1595/1595 [==============================] - 13s 8ms/step - loss: 0.1849 - acc: 0.9244 - auc_3: 0.9633 - false_negatives_5: 17295.5527 - recall_3: 0.9248 - precision_3: 0.8841 - false_negatives_6: 17295.5527 - true_negatives_3: 201266.7188 - false_positives_3: 27882.7715 - true_positives_3: 212782.7656 - val_loss: 0.2020 - val_acc: 0.9249 - val_auc_3: 0.9639 - val_false_negatives_5: 17758.3789 - val_recall_3: 0.9254 - val_precision_3: 0.8850 - val_false_negatives_6: 17758.3789 - val_true_negatives_3: 208520.4688 - val_false_positives_3: 28612.5020 - val_true_positives_3: 220280.6406 - lr: 6.7032e-04\n",
            "Epoch 16/100\n",
            "1595/1595 [==============================] - 13s 8ms/step - loss: 0.1823 - acc: 0.9260 - auc_3: 0.9643 - false_negatives_5: 18223.9727 - recall_3: 0.9259 - precision_3: 0.8858 - false_negatives_6: 18223.9727 - true_negatives_3: 215738.3281 - false_positives_3: 29365.0859 - true_positives_3: 227790.4375 - val_loss: 0.1975 - val_acc: 0.9210 - val_auc_3: 0.9648 - val_false_negatives_5: 18650.2227 - val_recall_3: 0.9266 - val_precision_3: 0.8866 - val_false_negatives_6: 18650.2227 - val_true_negatives_3: 222946.2500 - val_false_positives_3: 30098.7500 - val_true_positives_3: 235366.7969 - lr: 6.0653e-04\n",
            "Epoch 17/100\n",
            "1595/1595 [==============================] - 13s 8ms/step - loss: 0.1795 - acc: 0.9267 - auc_3: 0.9653 - false_negatives_5: 19091.1992 - recall_3: 0.9271 - precision_3: 0.8873 - false_negatives_6: 19091.1992 - true_negatives_3: 230146.9062 - false_positives_3: 30863.5527 - true_positives_3: 242906.1094 - val_loss: 0.2106 - val_acc: 0.9225 - val_auc_3: 0.9657 - val_false_negatives_5: 19545.2812 - val_recall_3: 0.9276 - val_precision_3: 0.8880 - val_false_negatives_6: 19545.2812 - val_true_negatives_3: 237383.9375 - val_false_positives_3: 31573.1855 - val_true_positives_3: 250449.7656 - lr: 5.4881e-04\n",
            "Epoch 18/100\n",
            "1595/1595 [==============================] - 13s 8ms/step - loss: 0.1782 - acc: 0.9271 - auc_3: 0.9661 - false_negatives_5: 20009.6836 - recall_3: 0.9280 - precision_3: 0.8888 - false_negatives_6: 20009.6836 - true_negatives_3: 244669.1094 - false_positives_3: 32283.2109 - true_positives_3: 257935.6875 - val_loss: 0.1931 - val_acc: 0.9247 - val_auc_3: 0.9665 - val_false_negatives_5: 20447.5020 - val_recall_3: 0.9285 - val_precision_3: 0.8894 - val_false_negatives_6: 20447.5020 - val_true_negatives_3: 251850.4219 - val_false_positives_3: 33018.5781 - val_true_positives_3: 265525.6250 - lr: 4.9659e-04\n",
            "Epoch 19/100\n",
            "1595/1595 [==============================] - 13s 8ms/step - loss: 0.1756 - acc: 0.9291 - auc_3: 0.9669 - false_negatives_5: 20852.7480 - recall_3: 0.9291 - precision_3: 0.8900 - false_negatives_6: 20852.7480 - true_negatives_3: 259042.8750 - false_positives_3: 33758.9922 - true_positives_3: 273133.0938 - val_loss: 0.1897 - val_acc: 0.9265 - val_auc_3: 0.9673 - val_false_negatives_5: 21283.7676 - val_recall_3: 0.9295 - val_precision_3: 0.8906 - val_false_negatives_6: 21283.7676 - val_true_negatives_3: 266318.5625 - val_false_positives_3: 34462.4648 - val_true_positives_3: 280667.3438 - lr: 4.4933e-04\n",
            "Epoch 20/100\n",
            "1595/1595 [==============================] - 13s 8ms/step - loss: 0.1739 - acc: 0.9303 - auc_3: 0.9676 - false_negatives_5: 21701.3066 - recall_3: 0.9300 - precision_3: 0.8912 - false_negatives_6: 21701.3066 - true_negatives_3: 273597.4375 - false_positives_3: 35173.0000 - true_positives_3: 288206.1562 - val_loss: 0.2123 - val_acc: 0.9138 - val_auc_3: 0.9679 - val_false_negatives_5: 22078.3965 - val_recall_3: 0.9306 - val_precision_3: 0.8916 - val_false_negatives_6: 22078.3965 - val_true_negatives_3: 280732.2812 - val_false_positives_3: 35960.8008 - val_true_positives_3: 295850.5312 - lr: 4.0657e-04\n",
            "Epoch 21/100\n",
            "1595/1595 [==============================] - 13s 8ms/step - loss: 0.1723 - acc: 0.9291 - auc_3: 0.9683 - false_negatives_5: 22454.0996 - recall_3: 0.9311 - precision_3: 0.8920 - false_negatives_6: 22454.0996 - true_negatives_3: 287874.3125 - false_positives_3: 36746.5273 - true_positives_3: 303492.9375 - val_loss: 0.1902 - val_acc: 0.9279 - val_auc_3: 0.9686 - val_false_negatives_5: 22890.1875 - val_recall_3: 0.9314 - val_precision_3: 0.8925 - val_false_negatives_6: 22890.1875 - val_true_negatives_3: 295146.1562 - val_false_positives_3: 37458.7852 - val_true_positives_3: 311016.8438 - lr: 3.6788e-04\n",
            "Epoch 22/100\n",
            "1595/1595 [==============================] - 13s 8ms/step - loss: 0.1709 - acc: 0.9305 - auc_3: 0.9689 - false_negatives_5: 23309.6582 - recall_3: 0.9318 - precision_3: 0.8930 - false_negatives_6: 23309.6582 - true_negatives_3: 302423.4062 - false_positives_3: 38175.6875 - true_positives_3: 318548.9688 - val_loss: 0.1919 - val_acc: 0.9282 - val_auc_3: 0.9692 - val_false_negatives_5: 23733.3242 - val_recall_3: 0.9322 - val_precision_3: 0.8936 - val_false_negatives_6: 23733.3242 - val_true_negatives_3: 309668.6562 - val_false_positives_3: 38848.2852 - val_true_positives_3: 326151.6250 - lr: 3.3287e-04\n",
            "Epoch 23/100\n",
            "1595/1595 [==============================] - 13s 8ms/step - loss: 0.1699 - acc: 0.9316 - auc_3: 0.9694 - false_negatives_5: 24141.9629 - recall_3: 0.9325 - precision_3: 0.8940 - false_negatives_6: 24141.9629 - true_negatives_3: 316909.1875 - false_positives_3: 39563.6094 - true_positives_3: 333733.1250 - val_loss: 0.1888 - val_acc: 0.9262 - val_auc_3: 0.9697 - val_false_negatives_5: 24534.7441 - val_recall_3: 0.9329 - val_precision_3: 0.8945 - val_false_negatives_6: 24534.7441 - val_true_negatives_3: 324166.4062 - val_false_positives_3: 40262.5547 - val_true_positives_3: 341328.3125 - lr: 3.0119e-04\n",
            "Epoch 24/100\n",
            "1595/1595 [==============================] - 13s 8ms/step - loss: 0.1684 - acc: 0.9319 - auc_3: 0.9699 - false_negatives_5: 24926.3516 - recall_3: 0.9333 - precision_3: 0.8949 - false_negatives_6: 24926.3516 - true_negatives_3: 331385.1875 - false_positives_3: 40992.9648 - true_positives_3: 348933.2500 - val_loss: 0.1903 - val_acc: 0.9274 - val_auc_3: 0.9702 - val_false_negatives_5: 25320.4395 - val_recall_3: 0.9337 - val_precision_3: 0.8953 - val_false_negatives_6: 25320.4395 - val_true_negatives_3: 338666.4688 - val_false_positives_3: 41674.5508 - val_true_positives_3: 356520.5000 - lr: 2.7253e-04\n",
            "Epoch 25/100\n",
            "1595/1595 [==============================] - 13s 8ms/step - loss: 0.1681 - acc: 0.9324 - auc_3: 0.9704 - false_negatives_5: 25709.4727 - recall_3: 0.9340 - precision_3: 0.8957 - false_negatives_6: 25709.4727 - true_negatives_3: 345925.5312 - false_positives_3: 42391.9531 - true_positives_3: 364100.8125 - val_loss: 0.1909 - val_acc: 0.9283 - val_auc_3: 0.9707 - val_false_negatives_5: 26116.3457 - val_recall_3: 0.9344 - val_precision_3: 0.8962 - val_false_negatives_6: 26116.3457 - val_true_negatives_3: 353189.4688 - val_false_positives_3: 43063.6875 - val_true_positives_3: 371702.6250 - lr: 2.4660e-04\n",
            "Epoch 26/100\n",
            "1595/1595 [==============================] - 13s 8ms/step - loss: 0.1666 - acc: 0.9316 - auc_3: 0.9709 - false_negatives_5: 26536.3105 - recall_3: 0.9346 - precision_3: 0.8965 - false_negatives_6: 26536.3105 - true_negatives_3: 360483.3438 - false_positives_3: 43765.3984 - true_positives_3: 379232.7500 - val_loss: 0.1909 - val_acc: 0.9285 - val_auc_3: 0.9711 - val_false_negatives_5: 26935.7539 - val_recall_3: 0.9349 - val_precision_3: 0.8969 - val_false_negatives_6: 26935.7539 - val_true_negatives_3: 367716.2500 - val_false_positives_3: 44448.6602 - val_true_positives_3: 386861.2188 - lr: 2.2313e-04\n",
            "Epoch 27/100\n",
            "1595/1595 [==============================] - 13s 8ms/step - loss: 0.1661 - acc: 0.9323 - auc_3: 0.9713 - false_negatives_5: 27330.3730 - recall_3: 0.9352 - precision_3: 0.8973 - false_negatives_6: 27330.3730 - true_negatives_3: 374943.2500 - false_positives_3: 45160.1172 - true_positives_3: 394473.9375 - val_loss: 0.1861 - val_acc: 0.9276 - val_auc_3: 0.9715 - val_false_negatives_5: 27720.5957 - val_recall_3: 0.9355 - val_precision_3: 0.8976 - val_false_negatives_6: 27720.5957 - val_true_negatives_3: 382224.5938 - val_false_positives_3: 45852.3906 - val_true_positives_3: 402054.4062 - lr: 2.0190e-04\n",
            "Epoch 28/100\n",
            "1595/1595 [==============================] - 14s 9ms/step - loss: 0.1652 - acc: 0.9330 - auc_3: 0.9717 - false_negatives_5: 28094.6660 - recall_3: 0.9358 - precision_3: 0.8979 - false_negatives_6: 28094.6660 - true_negatives_3: 389503.8750 - false_positives_3: 46579.0078 - true_positives_3: 409620.2500 - val_loss: 0.1847 - val_acc: 0.9272 - val_auc_3: 0.9719 - val_false_negatives_5: 28482.3652 - val_recall_3: 0.9361 - val_precision_3: 0.8983 - val_false_negatives_6: 28482.3652 - val_true_negatives_3: 396727.4062 - val_false_positives_3: 47261.6172 - val_true_positives_3: 417270.7812 - lr: 1.8268e-04\n",
            "Epoch 29/100\n",
            "1595/1595 [==============================] - 13s 8ms/step - loss: 0.1648 - acc: 0.9333 - auc_3: 0.9721 - false_negatives_5: 28854.4004 - recall_3: 0.9364 - precision_3: 0.8986 - false_negatives_6: 28854.4004 - true_negatives_3: 404001.0938 - false_positives_3: 47964.6484 - true_positives_3: 424867.4688 - val_loss: 0.1864 - val_acc: 0.9298 - val_auc_3: 0.9723 - val_false_negatives_5: 29251.8672 - val_recall_3: 0.9366 - val_precision_3: 0.8989 - val_false_negatives_6: 29251.8672 - val_true_negatives_3: 411250.9375 - val_false_positives_3: 48650.0352 - val_true_positives_3: 432479.3125 - lr: 1.6530e-04\n",
            "Epoch 30/100\n",
            "1595/1595 [==============================] - 13s 8ms/step - loss: 0.1637 - acc: 0.9335 - auc_3: 0.9724 - false_negatives_5: 29635.8730 - recall_3: 0.9369 - precision_3: 0.8992 - false_negatives_6: 29635.8730 - true_negatives_3: 418524.1250 - false_positives_3: 49339.5273 - true_positives_3: 440078.0000 - val_loss: 0.1839 - val_acc: 0.9298 - val_auc_3: 0.9726 - val_false_negatives_5: 30026.5039 - val_recall_3: 0.9371 - val_precision_3: 0.8995 - val_false_negatives_6: 30026.5039 - val_true_negatives_3: 425793.2500 - val_false_positives_3: 50019.7578 - val_true_positives_3: 447682.4062 - lr: 1.4957e-04\n",
            "Epoch 31/100\n",
            "1595/1595 [==============================] - 13s 8ms/step - loss: 0.1636 - acc: 0.9335 - auc_3: 0.9728 - false_negatives_5: 30400.5410 - recall_3: 0.9374 - precision_3: 0.8998 - false_negatives_6: 30400.5410 - true_negatives_3: 433044.4688 - false_positives_3: 50724.1445 - true_positives_3: 455298.5625 - val_loss: 0.1852 - val_acc: 0.9302 - val_auc_3: 0.9729 - val_false_negatives_5: 30792.1934 - val_recall_3: 0.9376 - val_precision_3: 0.9001 - val_false_negatives_6: 30792.1934 - val_true_negatives_3: 440328.5000 - val_false_positives_3: 51396.4805 - val_true_positives_3: 462894.9062 - lr: 1.3534e-04\n",
            "Epoch 32/100\n",
            "1595/1595 [==============================] - 13s 8ms/step - loss: 0.1633 - acc: 0.9340 - auc_3: 0.9731 - false_negatives_5: 31178.7793 - recall_3: 0.9379 - precision_3: 0.9003 - false_negatives_6: 31178.7793 - true_negatives_3: 447585.2188 - false_positives_3: 52092.9688 - true_positives_3: 470501.0625 - val_loss: 0.1865 - val_acc: 0.9305 - val_auc_3: 0.9733 - val_false_negatives_5: 31564.3984 - val_recall_3: 0.9381 - val_precision_3: 0.9006 - val_false_negatives_6: 31564.3984 - val_true_negatives_3: 454887.2500 - val_false_positives_3: 52749.8438 - val_true_positives_3: 478100.7812 - lr: 1.2246e-04\n",
            "Epoch 33/100\n",
            "1595/1595 [==============================] - 13s 8ms/step - loss: 0.1626 - acc: 0.9336 - auc_3: 0.9734 - false_negatives_5: 31959.4082 - recall_3: 0.9383 - precision_3: 0.9009 - false_negatives_6: 31959.4082 - true_negatives_3: 462127.9062 - false_positives_3: 53444.9258 - true_positives_3: 485715.5312 - val_loss: 0.1850 - val_acc: 0.9296 - val_auc_3: 0.9735 - val_false_negatives_5: 32340.7500 - val_recall_3: 0.9385 - val_precision_3: 0.9011 - val_false_negatives_6: 32340.7500 - val_true_negatives_3: 469434.3750 - val_false_positives_3: 54114.4062 - val_true_positives_3: 493302.3438 - lr: 1.1080e-04\n",
            "Epoch 34/100\n",
            "1595/1595 [==============================] - 13s 8ms/step - loss: 0.1624 - acc: 0.9344 - auc_3: 0.9737 - false_negatives_5: 32716.5645 - recall_3: 0.9387 - precision_3: 0.9014 - false_negatives_6: 32716.5645 - true_negatives_3: 476667.1875 - false_positives_3: 54811.3359 - true_positives_3: 500942.9375 - val_loss: 0.1843 - val_acc: 0.9294 - val_auc_3: 0.9738 - val_false_negatives_5: 33097.0508 - val_recall_3: 0.9389 - val_precision_3: 0.9016 - val_false_negatives_6: 33097.0508 - val_true_negatives_3: 483979.1562 - val_false_positives_3: 55481.6055 - val_true_positives_3: 508523.8750 - lr: 1.0026e-04\n",
            "Epoch 35/100\n",
            "1595/1595 [==============================] - 13s 8ms/step - loss: 0.1618 - acc: 0.9346 - auc_3: 0.9739 - false_negatives_5: 33465.4062 - recall_3: 0.9391 - precision_3: 0.9018 - false_negatives_6: 33465.4062 - true_negatives_3: 491213.8125 - false_positives_3: 56203.3047 - true_positives_3: 516145.2188 - val_loss: 0.1848 - val_acc: 0.9290 - val_auc_3: 0.9741 - val_false_negatives_5: 33837.1602 - val_recall_3: 0.9393 - val_precision_3: 0.9021 - val_false_negatives_6: 33837.1602 - val_true_negatives_3: 498510.3125 - val_false_positives_3: 56862.6172 - val_true_positives_3: 523761.8750 - lr: 9.0718e-05\n",
            "finish training lstm model\n"
          ],
          "name": "stdout"
        }
      ]
    },
    {
      "cell_type": "code",
      "metadata": {
        "id": "E-KQYZ5ng7V1",
        "colab_type": "code",
        "colab": {
          "base_uri": "https://localhost:8080/",
          "height": 255
        },
        "outputId": "070808c6-d704-4a8c-f0bc-0a131c918f6d"
      },
      "source": [
        "lstm_model.summary()\n",
        "lstm_model.save(\"/content/drive/My Drive/636project/model_improved_lstm.h5\")"
      ],
      "execution_count": 24,
      "outputs": [
        {
          "output_type": "stream",
          "text": [
            "Model: \"sequential_2\"\n",
            "_________________________________________________________________\n",
            "Layer (type)                 Output Shape              Param #   \n",
            "=================================================================\n",
            "lstm_4 (LSTM)                (None, 1, 16)             5120      \n",
            "_________________________________________________________________\n",
            "lstm_5 (LSTM)                (None, 16)                2112      \n",
            "_________________________________________________________________\n",
            "dense_2 (Dense)              (None, 1)                 17        \n",
            "=================================================================\n",
            "Total params: 7,249\n",
            "Trainable params: 7,249\n",
            "Non-trainable params: 0\n",
            "_________________________________________________________________\n"
          ],
          "name": "stdout"
        }
      ]
    },
    {
      "cell_type": "code",
      "metadata": {
        "id": "ziJTzntiE9SM",
        "colab_type": "code",
        "colab": {
          "base_uri": "https://localhost:8080/",
          "height": 573
        },
        "outputId": "d5a271f8-76f5-49e8-c872-a8fdbd2ada1f"
      },
      "source": [
        "plotting_training(lstm_history)"
      ],
      "execution_count": 25,
      "outputs": [
        {
          "output_type": "display_data",
          "data": {
            "image/png": "[encoded data removed]",
            "text/plain": [
              "<Figure size 432x288 with 1 Axes>"
            ]
          },
          "metadata": {
            "tags": [],
            "needs_background": "light"
          }
        },
        {
          "output_type": "display_data",
          "data": {
            "image/png": "[encoded data removed]",
            "text/plain": [
              "<Figure size 432x288 with 1 Axes>"
            ]
          },
          "metadata": {
            "tags": [],
            "needs_background": "light"
          }
        }
      ]
    },
    {
      "cell_type": "code",
      "metadata": {
        "id": "QdyJtNbDxV0x",
        "colab_type": "code",
        "colab": {
          "base_uri": "https://localhost:8080/",
          "height": 71
        },
        "outputId": "69c6327e-39cc-4ee8-c2fe-fd4796fdacc4"
      },
      "source": [
        "# test \n",
        "# for lstm\n",
        "x_test = []\n",
        "y_test = []\n",
        "\n",
        "for record in train_data:\n",
        "  x_test.append(record[1:])\n",
        "  label = int(record[0])\n",
        "  y_test.append(label) \n",
        "\n",
        "x_test = array(x_test)\n",
        "x_test = x_test.reshape((len(x_test), 1, len(x_test[0])))\n",
        "\n",
        "y_test = array(y_test)\n",
        "\n",
        "test_score = lstm_model.evaluate(x_test, y_test)\n",
        "print(test_score)"
      ],
      "execution_count": 30,
      "outputs": [
        {
          "output_type": "stream",
          "text": [
            "997/997 [==============================] - 5s 5ms/step - loss: 0.1672 - acc: 0.9326 - auc_3: 0.9742 - false_negatives_5: 34228.1445 - recall_3: 0.9397 - precision_3: 0.9022 - false_negatives_6: 34228.1445 - true_negatives_3: 507151.3750 - false_positives_3: 57775.7812 - true_positives_3: 532962.4375\n",
            "[0.16719713807106018, 0.9325807690620422, 0.9741894006729126, 34228.14453125, 0.9396514892578125, 0.9021955132484436, 34228.14453125, 507151.375, 57775.78125, 532962.4375]\n"
          ],
          "name": "stdout"
        }
      ]
    },
    {
      "cell_type": "code",
      "metadata": {
        "id": "525FNc0f5Hj9",
        "colab_type": "code",
        "outputId": "e265fab6-d98a-4ea0-cef8-00640a676b16",
        "colab": {
          "base_uri": "https://localhost:8080/",
          "height": 666
        }
      },
      "source": [
        "# solution 2: train model using CNN\n",
        "from tensorflow.keras.models import Sequential\n",
        "from tensorflow.keras.layers import Dense, Conv2D, Flatten, MaxPooling2D\n",
        "\n",
        "def scheduler(epoch):\n",
        "  if epoch < 10:\n",
        "    return 0.001\n",
        "  else:\n",
        "    return 0.001 * np.exp(0.1 * (10 - epoch))\n",
        "\n",
        "x_train = []\n",
        "y_train = []\n",
        "\n",
        "for record in train_data:\n",
        "  x_train.append(record[1:])\n",
        "  label = int(record[0])\n",
        "  y_train.append(label) \n",
        "\n",
        "def tain_cnn_model(x_train, y_train):\n",
        "  x_train = array(x_train)\n",
        "  x_train = x_train.reshape((len(x_train), 3, int(len(x_train[0])/3), 1))\n",
        "\n",
        "  y_train = array(y_train)\n",
        "\n",
        "  #create model\n",
        "  cnn_model = Sequential()\n",
        "  cnn_model.add(Conv2D(64, \n",
        "                  kernel_size=3, \n",
        "                  activation='relu', \n",
        "                  input_shape=(3,21,1), \n",
        "                  padding='same'))\n",
        "  cnn_model.add(layers.BatchNormalization(1))\n",
        "  cnn_model.add(Conv2D(64, \n",
        "                  kernel_size=3, \n",
        "                  activation='relu', \n",
        "                  padding='same'))\n",
        "  cnn_model.add(layers.BatchNormalization(1))\n",
        "  cnn_model.add(MaxPooling2D(2,2))\n",
        "  cnn_model.add(Flatten())\n",
        "  cnn_model.add(Dense(512, activation = 'relu')) \n",
        "  cnn_model.add(Dense(1, activation='sigmoid'))\n",
        "\n",
        "  # compile and fit\n",
        "  cnn_model.compile(optimizer='Adam',\n",
        "                loss='binary_crossentropy',\n",
        "                metrics=['acc', \n",
        "                        metrics.AUC(), \n",
        "                        metrics.FalseNegatives(),\n",
        "                        metrics.Recall(),\n",
        "                        metrics.Precision(),\n",
        "                        metrics.FalseNegatives(),\n",
        "                        metrics.TrueNegatives(),\n",
        "                        metrics.FalsePositives(),\n",
        "                        metrics.TruePositives()])\n",
        "  cnn_history = cnn_model.fit(x_train, y_train,\n",
        "                      epochs=100,\n",
        "                      batch_size=16,\n",
        "                      validation_split=0.2,\n",
        "                      callbacks=[callbacks.EarlyStopping(monitor='val_loss', patience=5),\n",
        "                      callbacks.LearningRateScheduler(scheduler)])\n",
        "    \n",
        "  print(\"finish training cnn model\")\n",
        "  return cnn_model, cnn_history\n",
        "\n",
        "\n",
        "cnn_model, cnn_history = tain_cnn_model(x_train, y_train)"
      ],
      "execution_count": 27,
      "outputs": [
        {
          "output_type": "stream",
          "text": [
            "Epoch 1/100\n",
            "1595/1595 [==============================] - 11s 7ms/step - loss: 0.2648 - acc: 0.8899 - auc_5: 0.9219 - false_negatives_9: 694.5599 - recall_5: 0.8722 - precision_5: 0.8430 - false_negatives_10: 694.5599 - true_negatives_5: 5476.1650 - false_positives_5: 905.9066 - true_positives_5: 5691.3638 - val_loss: 0.2339 - val_acc: 0.9144 - val_auc_5: 0.9588 - val_false_negatives_9: 1383.1904 - val_recall_5: 0.9036 - val_precision_5: 0.8850 - val_false_negatives_10: 1383.1904 - val_true_negatives_5: 12683.2178 - val_false_positives_5: 1681.7770 - val_true_positives_5: 12963.7998 - lr: 0.0010\n",
            "Epoch 2/100\n",
            "1595/1595 [==============================] - 11s 7ms/step - loss: 0.1778 - acc: 0.9264 - auc_5: 0.9653 - false_negatives_9: 1982.2225 - recall_5: 0.9105 - precision_5: 0.8964 - false_negatives_10: 1982.2225 - true_negatives_5: 19983.9531 - false_positives_5: 2339.1580 - true_positives_5: 20352.6602 - val_loss: 0.1736 - val_acc: 0.9320 - val_auc_5: 0.9703 - val_false_negatives_9: 2481.1028 - val_recall_5: 0.9182 - val_precision_5: 0.9039 - val_false_negatives_10: 2481.1028 - val_true_negatives_5: 27318.8730 - val_false_positives_5: 2958.1228 - val_true_positives_5: 27843.8867 - lr: 0.0010\n",
            "Epoch 3/100\n",
            "1595/1595 [==============================] - 11s 7ms/step - loss: 0.1464 - acc: 0.9380 - auc_5: 0.9736 - false_negatives_9: 2897.5129 - recall_5: 0.9241 - precision_5: 0.9084 - false_negatives_10: 2897.5129 - true_negatives_5: 34639.5547 - false_positives_5: 3566.5234 - true_positives_5: 35444.4297 - val_loss: 0.1364 - val_acc: 0.9458 - val_auc_5: 0.9763 - val_false_negatives_9: 3229.9976 - val_recall_5: 0.9302 - val_precision_5: 0.9115 - val_false_negatives_10: 3229.9976 - val_true_negatives_5: 42008.9453 - val_false_positives_5: 4180.0503 - val_true_positives_5: 43072.9961 - lr: 0.0010\n",
            "Epoch 4/100\n",
            "1595/1595 [==============================] - 11s 7ms/step - loss: 0.1300 - acc: 0.9460 - auc_5: 0.9782 - false_negatives_9: 3530.0964 - recall_5: 0.9348 - precision_5: 0.9141 - false_negatives_10: 3530.0964 - true_negatives_5: 49405.4727 - false_positives_5: 4762.6851 - true_positives_5: 50739.8008 - val_loss: 0.1294 - val_acc: 0.9464 - val_auc_5: 0.9799 - val_false_negatives_9: 3807.6843 - val_recall_5: 0.9389 - val_precision_5: 0.9165 - val_false_negatives_10: 3807.6843 - val_true_negatives_5: 56773.4688 - val_false_positives_5: 5327.5112 - val_true_positives_5: 58473.3516 - lr: 0.0010\n",
            "Epoch 5/100\n",
            "1595/1595 [==============================] - 11s 7ms/step - loss: 0.1150 - acc: 0.9524 - auc_5: 0.9812 - false_negatives_9: 4041.4294 - recall_5: 0.9424 - precision_5: 0.9185 - false_negatives_10: 4041.4294 - true_negatives_5: 64181.6016 - false_positives_5: 5873.7524 - true_positives_5: 66231.2422 - val_loss: 0.1564 - val_acc: 0.9406 - val_auc_5: 0.9822 - val_false_negatives_9: 4306.1504 - val_recall_5: 0.9450 - val_precision_5: 0.9203 - val_false_negatives_10: 4306.1504 - val_true_negatives_5: 71609.6250 - val_false_positives_5: 6403.3735 - val_true_positives_5: 73952.8125 - lr: 0.0010\n",
            "Epoch 6/100\n",
            "1595/1595 [==============================] - 11s 7ms/step - loss: 0.1078 - acc: 0.9538 - auc_5: 0.9831 - false_negatives_9: 4566.4121 - recall_5: 0.9470 - precision_5: 0.9218 - false_negatives_10: 4566.4121 - true_negatives_5: 79038.1719 - false_positives_5: 6931.6270 - true_positives_5: 81681.7812 - val_loss: 0.1134 - val_acc: 0.9514 - val_auc_5: 0.9840 - val_false_negatives_9: 4783.1377 - val_recall_5: 0.9492 - val_precision_5: 0.9231 - val_false_negatives_10: 4783.1377 - val_true_negatives_5: 86474.8906 - val_false_positives_5: 7450.0073 - val_true_positives_5: 89453.8438 - lr: 0.0010\n",
            "Epoch 7/100\n",
            "1595/1595 [==============================] - 11s 7ms/step - loss: 0.1010 - acc: 0.9568 - auc_5: 0.9848 - false_negatives_9: 4971.1943 - recall_5: 0.9513 - precision_5: 0.9243 - false_negatives_10: 4971.1943 - true_negatives_5: 93896.2031 - false_positives_5: 7965.7314 - true_positives_5: 97274.8906 - val_loss: 0.1020 - val_acc: 0.9602 - val_auc_5: 0.9854 - val_false_negatives_9: 5131.8096 - val_recall_5: 0.9534 - val_precision_5: 0.9253 - val_false_negatives_10: 5131.8096 - val_true_negatives_5: 101356.0078 - val_false_positives_5: 8480.9678 - val_true_positives_5: 105083.1641 - lr: 0.0010\n",
            "Epoch 8/100\n",
            "1595/1595 [==============================] - 11s 7ms/step - loss: 0.0977 - acc: 0.9569 - auc_5: 0.9860 - false_negatives_9: 5293.7681 - recall_5: 0.9552 - precision_5: 0.9261 - false_negatives_10: 5293.7681 - true_negatives_5: 108811.2578 - false_positives_5: 9008.6123 - true_positives_5: 112884.3203 - val_loss: 0.1071 - val_acc: 0.9556 - val_auc_5: 0.9865 - val_false_negatives_9: 5479.1655 - val_recall_5: 0.9566 - val_precision_5: 0.9270 - val_false_negatives_10: 5479.1655 - val_true_negatives_5: 116242.8750 - val_false_positives_5: 9506.0850 - val_true_positives_5: 120713.8438 - lr: 0.0010\n",
            "Epoch 9/100\n",
            "1595/1595 [==============================] - 11s 7ms/step - loss: 0.0886 - acc: 0.9605 - auc_5: 0.9870 - false_negatives_9: 5617.6143 - recall_5: 0.9581 - precision_5: 0.9277 - false_negatives_10: 5617.6143 - true_negatives_5: 123686.7812 - false_positives_5: 10015.9014 - true_positives_5: 128567.4453 - val_loss: 0.1047 - val_acc: 0.9572 - val_auc_5: 0.9875 - val_false_negatives_9: 5756.9927 - val_recall_5: 0.9595 - val_precision_5: 0.9285 - val_false_negatives_10: 5756.9927 - val_true_negatives_5: 131151.5625 - val_false_positives_5: 10509.3584 - val_true_positives_5: 136413.9531 - lr: 0.0010\n",
            "Epoch 10/100\n",
            "1595/1595 [==============================] - 11s 7ms/step - loss: 0.0859 - acc: 0.9617 - auc_5: 0.9879 - false_negatives_9: 5895.0923 - recall_5: 0.9607 - precision_5: 0.9290 - false_negatives_10: 5895.0923 - true_negatives_5: 138560.6406 - false_positives_5: 11023.6689 - true_positives_5: 144298.4375 - val_loss: 0.1086 - val_acc: 0.9569 - val_auc_5: 0.9882 - val_false_negatives_9: 6011.1455 - val_recall_5: 0.9620 - val_precision_5: 0.9297 - val_false_negatives_10: 6011.1455 - val_true_negatives_5: 146065.9062 - val_false_positives_5: 11507.0850 - val_true_positives_5: 152137.8594 - lr: 0.0010\n",
            "Epoch 11/100\n",
            "1595/1595 [==============================] - 11s 7ms/step - loss: 0.0852 - acc: 0.9626 - auc_5: 0.9885 - false_negatives_9: 6121.5474 - recall_5: 0.9631 - precision_5: 0.9301 - false_negatives_10: 6121.5474 - true_negatives_5: 153504.8594 - false_positives_5: 12026.0322 - true_positives_5: 160015.2500 - val_loss: 0.1038 - val_acc: 0.9636 - val_auc_5: 0.9888 - val_false_negatives_9: 6211.7993 - val_recall_5: 0.9643 - val_precision_5: 0.9306 - val_false_negatives_10: 6211.7993 - val_true_negatives_5: 160970.7812 - val_false_positives_5: 12514.1553 - val_true_positives_5: 167915.2656 - lr: 0.0010\n",
            "Epoch 12/100\n",
            "1595/1595 [==============================] - 11s 7ms/step - loss: 0.0818 - acc: 0.9628 - auc_5: 0.9891 - false_negatives_9: 6304.9688 - recall_5: 0.9654 - precision_5: 0.9310 - false_negatives_10: 6304.9688 - true_negatives_5: 168392.4062 - false_positives_5: 13033.8779 - true_positives_5: 175826.6562 - val_loss: 0.0980 - val_acc: 0.9617 - val_auc_5: 0.9894 - val_false_negatives_9: 6396.2832 - val_recall_5: 0.9664 - val_precision_5: 0.9314 - val_false_negatives_10: 6396.2832 - val_true_negatives_5: 175876.2031 - val_false_positives_5: 13520.7617 - val_true_positives_5: 183708.7969 - lr: 9.0484e-04\n",
            "Epoch 13/100\n",
            "1595/1595 [==============================] - 11s 7ms/step - loss: 0.0749 - acc: 0.9652 - auc_5: 0.9896 - false_negatives_9: 6466.9741 - recall_5: 0.9673 - precision_5: 0.9318 - false_negatives_10: 6466.9741 - true_negatives_5: 183365.3750 - false_positives_5: 14030.4072 - true_positives_5: 191585.3906 - val_loss: 0.0910 - val_acc: 0.9633 - val_auc_5: 0.9899 - val_false_negatives_9: 6555.3359 - val_recall_5: 0.9682 - val_precision_5: 0.9323 - val_false_negatives_10: 6555.3359 - val_true_negatives_5: 190826.1094 - val_false_positives_5: 14482.8975 - val_true_positives_5: 199527.6562 - lr: 8.1873e-04\n",
            "Epoch 14/100\n",
            "1595/1595 [==============================] - 11s 7ms/step - loss: 0.0707 - acc: 0.9670 - auc_5: 0.9901 - false_negatives_9: 6633.1548 - recall_5: 0.9690 - precision_5: 0.9328 - false_negatives_10: 6633.1548 - true_negatives_5: 198320.0156 - false_positives_5: 14940.4912 - true_positives_5: 207444.0781 - val_loss: 0.0913 - val_acc: 0.9652 - val_auc_5: 0.9903 - val_false_negatives_9: 6708.3257 - val_recall_5: 0.9698 - val_precision_5: 0.9332 - val_false_negatives_10: 6708.3257 - val_true_negatives_5: 205817.3594 - val_false_positives_5: 15403.6289 - val_true_positives_5: 215352.5781 - lr: 7.4082e-04\n",
            "Epoch 15/100\n",
            "1595/1595 [==============================] - 11s 7ms/step - loss: 0.0697 - acc: 0.9671 - auc_5: 0.9906 - false_negatives_9: 6778.0659 - recall_5: 0.9705 - precision_5: 0.9336 - false_negatives_10: 6778.0659 - true_negatives_5: 213309.0312 - false_positives_5: 15871.6719 - true_positives_5: 223269.1094 - val_loss: 0.0950 - val_acc: 0.9639 - val_auc_5: 0.9907 - val_false_negatives_9: 6843.9297 - val_recall_5: 0.9712 - val_precision_5: 0.9340 - val_false_negatives_10: 6843.9297 - val_true_negatives_5: 220799.4844 - val_false_positives_5: 16333.5791 - val_true_positives_5: 231195.1250 - lr: 6.7032e-04\n",
            "Epoch 16/100\n",
            "1595/1595 [==============================] - 11s 7ms/step - loss: 0.0676 - acc: 0.9683 - auc_5: 0.9909 - false_negatives_9: 6904.1611 - recall_5: 0.9719 - precision_5: 0.9343 - false_negatives_10: 6904.1611 - true_negatives_5: 228316.2344 - false_positives_5: 16803.5312 - true_positives_5: 239093.9062 - val_loss: 0.1033 - val_acc: 0.9619 - val_auc_5: 0.9911 - val_false_negatives_9: 6959.2207 - val_recall_5: 0.9726 - val_precision_5: 0.9347 - val_false_negatives_10: 6959.2207 - val_true_negatives_5: 235783.2812 - val_false_positives_5: 17261.6738 - val_true_positives_5: 247057.6406 - lr: 6.0653e-04\n",
            "Epoch 17/100\n",
            "1595/1595 [==============================] - 11s 7ms/step - loss: 0.0668 - acc: 0.9684 - auc_5: 0.9912 - false_negatives_9: 7011.9692 - recall_5: 0.9732 - precision_5: 0.9349 - false_negatives_10: 7011.9692 - true_negatives_5: 243265.1406 - false_positives_5: 17749.4727 - true_positives_5: 254981.1406 - val_loss: 0.0971 - val_acc: 0.9639 - val_auc_5: 0.9914 - val_false_negatives_9: 7064.5864 - val_recall_5: 0.9738 - val_precision_5: 0.9353 - val_false_negatives_10: 7064.5864 - val_true_negatives_5: 250754.2188 - val_false_positives_5: 18202.6973 - val_true_positives_5: 262930.5000 - lr: 5.4881e-04\n",
            "Epoch 18/100\n",
            "1595/1595 [==============================] - 11s 7ms/step - loss: 0.0652 - acc: 0.9690 - auc_5: 0.9915 - false_negatives_9: 7105.3105 - recall_5: 0.9744 - precision_5: 0.9355 - false_negatives_10: 7105.3105 - true_negatives_5: 258220.7812 - false_positives_5: 18680.4570 - true_positives_5: 270891.3438 - val_loss: 0.0960 - val_acc: 0.9639 - val_auc_5: 0.9917 - val_false_negatives_9: 7165.1504 - val_recall_5: 0.9749 - val_precision_5: 0.9358 - val_false_negatives_10: 7165.1504 - val_true_negatives_5: 265746.2812 - val_false_positives_5: 19122.7188 - val_true_positives_5: 278807.7500 - lr: 4.9659e-04\n",
            "finish training cnn model\n"
          ],
          "name": "stdout"
        }
      ]
    },
    {
      "cell_type": "code",
      "metadata": {
        "id": "_KQuQbmWhmXA",
        "colab_type": "code",
        "colab": {
          "base_uri": "https://localhost:8080/",
          "height": 425
        },
        "outputId": "94c6c214-966b-4ba4-da17-66cef3fe73dc"
      },
      "source": [
        "cnn_model.summary()\n",
        "cnn_model.save(\"/content/drive/My Drive/636project/model_improved_cnn.h5\")"
      ],
      "execution_count": 28,
      "outputs": [
        {
          "output_type": "stream",
          "text": [
            "Model: \"sequential_4\"\n",
            "_________________________________________________________________\n",
            "Layer (type)                 Output Shape              Param #   \n",
            "=================================================================\n",
            "conv2d_2 (Conv2D)            (None, 3, 21, 64)         640       \n",
            "_________________________________________________________________\n",
            "batch_normalization_2 (Batch (None, 3, 21, 64)         12        \n",
            "_________________________________________________________________\n",
            "conv2d_3 (Conv2D)            (None, 3, 21, 64)         36928     \n",
            "_________________________________________________________________\n",
            "batch_normalization_3 (Batch (None, 3, 21, 64)         12        \n",
            "_________________________________________________________________\n",
            "max_pooling2d_1 (MaxPooling2 (None, 1, 10, 64)         0         \n",
            "_________________________________________________________________\n",
            "flatten_1 (Flatten)          (None, 640)               0         \n",
            "_________________________________________________________________\n",
            "dense_5 (Dense)              (None, 512)               328192    \n",
            "_________________________________________________________________\n",
            "dense_6 (Dense)              (None, 1)                 513       \n",
            "=================================================================\n",
            "Total params: 366,297\n",
            "Trainable params: 366,285\n",
            "Non-trainable params: 12\n",
            "_________________________________________________________________\n"
          ],
          "name": "stdout"
        }
      ]
    },
    {
      "cell_type": "code",
      "metadata": {
        "id": "fQCarP4QiIYb",
        "colab_type": "code",
        "colab": {
          "base_uri": "https://localhost:8080/",
          "height": 573
        },
        "outputId": "d1881413-003b-4b24-8f99-422bf3a19708"
      },
      "source": [
        "plotting_training(cnn_history)"
      ],
      "execution_count": 29,
      "outputs": [
        {
          "output_type": "display_data",
          "data": {
            "image/png": "[encoded data removed]",
            "text/plain": [
              "<Figure size 432x288 with 1 Axes>"
            ]
          },
          "metadata": {
            "tags": [],
            "needs_background": "light"
          }
        },
        {
          "output_type": "display_data",
          "data": {
            "image/png": "[encoded data removed]",
            "text/plain": [
              "<Figure size 432x288 with 1 Axes>"
            ]
          },
          "metadata": {
            "tags": [],
            "needs_background": "light"
          }
        }
      ]
    },
    {
      "cell_type": "code",
      "metadata": {
        "id": "GX53NtjDKj-K",
        "colab_type": "code",
        "outputId": "eb7fe7e7-415b-4449-a9a6-8d2c709f3833",
        "colab": {
          "base_uri": "https://localhost:8080/",
          "height": 71
        }
      },
      "source": [
        "# test\n",
        "# for cnn 2d\n",
        "x_test = []\n",
        "y_test = []\n",
        "\n",
        "for record in train_data:\n",
        "  x_test.append(record[1:])\n",
        "  label = int(record[0])\n",
        "  y_test.append(label) \n",
        "\n",
        "x_test = array(x_test)\n",
        "x_test = x_test.reshape((len(x_test), 3, int(len(x_test[0])/3), 1))\n",
        "\n",
        "y_test = array(y_test)\n",
        "\n",
        "test_score = cnn_model.evaluate(x_test, y_test)\n",
        "print(test_score)"
      ],
      "execution_count": 31,
      "outputs": [
        {
          "output_type": "stream",
          "text": [
            "997/997 [==============================] - 5s 5ms/step - loss: 0.0713 - acc: 0.9679 - auc_5: 0.9918 - false_negatives_9: 7266.2437 - recall_5: 0.9754 - precision_5: 0.9362 - false_negatives_10: 7266.2437 - true_negatives_5: 274784.0312 - false_positives_5: 19639.0781 - true_positives_5: 288298.6250\n",
            "[0.07127624750137329, 0.9679209589958191, 0.9918053150177002, 7266.24365234375, 0.9754136800765991, 0.9362214207649231, 7266.24365234375, 274784.03125, 19639.078125, 288298.625]\n"
          ],
          "name": "stdout"
        }
      ]
    },
    {
      "cell_type": "code",
      "metadata": {
        "id": "DFArkR2GEb8A",
        "colab_type": "code",
        "colab": {
          "base_uri": "https://localhost:8080/",
          "height": 34
        },
        "outputId": "86f0ba03-1546-4810-dfe4-62f23f1d89d3"
      },
      "source": [
        "# get wrong predictions(fail cases) of cnn model\n",
        "from numpy import array\n",
        "import tensorflow as tf\n",
        "\n",
        "sample_data_for_fail\n",
        "\n",
        "cnn_model = tf.keras.models.load_model('/content/drive/My Drive/636project/model_improved_cnn.h5')\n",
        "\n",
        "x_sample = []\n",
        "y_sample = []\n",
        "\n",
        "for record in sample_data_for_fail:\n",
        "  x_sample.append(record[1:-1])\n",
        "  label = int(record[0])\n",
        "  y_sample.append(label) \n",
        "\n",
        "x_sample = array(x_sample)\n",
        "x_sample = x_sample.reshape((len(x_sample), 3, int(len(x_sample[0])/3), 1))\n",
        "\n",
        "y_sample = array(y_sample)\n",
        "\n",
        "probality = cnn_model.predict(x_sample)\n",
        "\n",
        "fails = []\n",
        "false_negatives = []\n",
        "false_positives = []\n",
        "\n",
        "for i in range(len(probality)):\n",
        "  if probality[i] >= 0.5:\n",
        "    x = 1\n",
        "  else:\n",
        "    x = 0\n",
        "  if x != y_sample[i]:\n",
        "    fails.append(i)\n",
        "    if x == 1:\n",
        "      false_positive.append(i)\n",
        "    else:\n",
        "      false_negative.append(i)\n",
        "\n",
        "print(\"number of fail cases of CNN model:\", len(fails))"
      ],
      "execution_count": 35,
      "outputs": [
        {
          "output_type": "stream",
          "text": [
            "number of fail cases of CNN model: 1137\n"
          ],
          "name": "stdout"
        }
      ]
    },
    {
      "cell_type": "code",
      "metadata": {
        "id": "Jh6v0agahzsd",
        "colab_type": "code",
        "colab": {
          "base_uri": "https://localhost:8080/",
          "height": 34
        },
        "outputId": "1cd6284f-ffcc-47c2-e803-444a352bf6dc"
      },
      "source": [
        "# get name of fail frames\n",
        "fail_frames = []\n",
        "for fail in fails:\n",
        "  fail_frames.append(sample_data_for_fail[fail][-1])\n",
        "\n",
        "print(fail_frames[0])"
      ],
      "execution_count": 36,
      "outputs": [
        {
          "output_type": "stream",
          "text": [
            "fall-16-cam0_000000000017_keypoints\n"
          ],
          "name": "stdout"
        }
      ]
    },
    {
      "cell_type": "code",
      "metadata": {
        "id": "ms_Rhea-oUcv",
        "colab_type": "code",
        "colab": {}
      },
      "source": [
        "df_fail_frames = pd.DataFrame.from_records(fail_frames)\n",
        "df_fail_frames.to_csv (r'/content/drive/My Drive/636project/fail_frames.csv', index = False, header=False)\n",
        "\n",
        "df_false_negative = pd.DataFrame.from_records(false_negatives)\n",
        "df_false_negative.to_csv (r'/content/drive/My Drive/636project/false_negative_frames.csv', index = False, header=False)\n",
        "\n",
        "df_false_positive = pd.DataFrame.from_records(false_positives)\n",
        "df_false_positive.to_csv (r'/content/drive/My Drive/636project/false_positive_frames.csv', index = False, header=False)\n"
      ],
      "execution_count": 0,
      "outputs": []
    },
    {
      "cell_type": "code",
      "metadata": {
        "id": "s2KreaMDibpd",
        "colab_type": "code",
        "colab": {}
      },
      "source": [
        "# train the final lstm model with all data (include test data) \n",
        "\n",
        "x_train_final = []\n",
        "y_train_final = []\n",
        "\n",
        "for record in all_data:\n",
        "  x_train_final.append(record[1:])\n",
        "  label = int(record[0])\n",
        "  y_train_final.append(label) \n",
        "\n",
        "final_lstm_model, final_lstm_history = train_lstm_model(x_train_final, y_train_final)\n",
        "\n",
        "final_lstm_model.save(\"/content/drive/My Drive/636project/final_lstm_model.h5\")"
      ],
      "execution_count": 0,
      "outputs": []
    },
    {
      "cell_type": "code",
      "metadata": {
        "id": "J2-2jGGmdS-u",
        "colab_type": "code",
        "colab": {}
      },
      "source": [
        "# train the final cnn model with all data (include test data) \n",
        "x_train_final = []\n",
        "y_train_final = []\n",
        "\n",
        "for record in all_data:\n",
        "  x_train_final.append(record[1:])\n",
        "  label = int(record[0])\n",
        "  y_train_final.append(label) \n",
        "\n",
        "final_cnn_model, final_cnn_history = train_cnn_model(x_train_final, y_train)\n",
        "\n",
        "final_model.save(\"/content/drive/My Drive/636project/final_cnn_model.h5\")\n"
      ],
      "execution_count": 0,
      "outputs": []
    }
  ]
}