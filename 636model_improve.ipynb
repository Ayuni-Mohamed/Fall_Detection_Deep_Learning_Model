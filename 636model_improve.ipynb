{
  "nbformat": 4,
  "nbformat_minor": 0,
  "metadata": {
    "colab": {
      "name": "636model-improve.ipynb",
      "provenance": [],
      "collapsed_sections": [],
      "toc_visible": true
    },
    "kernelspec": {
      "name": "python3",
      "display_name": "Python 3"
    },
    "accelerator": "GPU"
  },
  "cells": [
    {
      "cell_type": "code",
      "metadata": {
        "id": "_ZYHC0XOvjYK",
        "colab_type": "code",
        "outputId": "cbd98d05-60e4-4ccc-8d1e-736ba671dfba",
        "colab": {
          "base_uri": "https://localhost:8080/",
          "height": 34
        }
      },
      "source": [
        "import keras\n",
        "keras.__version__"
      ],
      "execution_count": 40,
      "outputs": [
        {
          "output_type": "execute_result",
          "data": {
            "text/plain": [
              "'2.2.5'"
            ]
          },
          "metadata": {
            "tags": []
          },
          "execution_count": 40
        }
      ]
    },
    {
      "cell_type": "code",
      "metadata": {
        "id": "SG9jbsQVueU9",
        "colab_type": "code",
        "colab": {}
      },
      "source": [
        "from keras import models\n",
        "from keras import layers\n",
        "\n",
        "import numpy as np\n",
        "import json\n",
        "import os\n",
        "import csv\n",
        "import pandas as pd"
      ],
      "execution_count": 0,
      "outputs": []
    },
    {
      "cell_type": "code",
      "metadata": {
        "id": "QbBQ69_hPudh",
        "colab_type": "code",
        "outputId": "3ecfbaf6-2bfa-405e-cd4e-a7dfa3122328",
        "colab": {
          "base_uri": "https://localhost:8080/",
          "height": 34
        }
      },
      "source": [
        "from google.colab import drive\n",
        "drive.mount('/content/drive')"
      ],
      "execution_count": 42,
      "outputs": [
        {
          "output_type": "stream",
          "text": [
            "Drive already mounted at /content/drive; to attempt to forcibly remount, call drive.mount(\"/content/drive\", force_remount=True).\n"
          ],
          "name": "stdout"
        }
      ]
    },
    {
      "cell_type": "code",
      "metadata": {
        "id": "e3ic_oC0Yq9N",
        "colab_type": "code",
        "colab": {
          "base_uri": "https://localhost:8080/",
          "height": 102
        },
        "outputId": "cf81c29c-ec36-49e3-f0f9-ca7fef4dea60"
      },
      "source": [
        "# read json 2-d pose as data, without using: \n",
        "#     {15, \"REye\"},\n",
        "#     {16, \"LEye\"},\n",
        "#     {17, \"REar\"},\n",
        "#     {18, \"LEar\"}\n",
        "\n",
        "ur_basepath1 = '/content/drive/My Drive/636project/data/fall_UR/fall-cam0'\n",
        "ur_basepath2 = '/content/drive/My Drive/636project/data/adl_UR'\n",
        "mc_fall_path = '/content/drive/My Drive/636project/data/MCdataset/mc_fall'\n",
        "mc_notfall_path = '/content/drive/My Drive/636project/data/MCdataset/mc-notfall'\n",
        "\n",
        "def input_data(basepath):\n",
        "  data = []\n",
        "  entries = os.listdir(basepath)\n",
        "  for entry in entries:\n",
        "    path = os.path.join(basepath, entry)\n",
        "    frames = os.listdir(path)\n",
        "    for frame in frames:\n",
        "      frame_path = os.path.join(path, frame)\n",
        "      with open(frame_path, mode='r') as json_file:\n",
        "        people_dict = json.load(json_file)\n",
        "        people = people_dict[\"people\"]\n",
        "        pose_keypoints_2d = []\n",
        "        # fill missing data as 0\n",
        "        if len(people) == 0:\n",
        "          pose_keypoints_2d = [0] * 63\n",
        "        else:\n",
        "          full_pose = people[0].get(\"pose_keypoints_2d\")\n",
        "          pose_keypoints_2d = full_pose[:45] + full_pose[57:]\n",
        "         \n",
        "        pose_keypoints_2d.append(frame.split('.')[0])\n",
        "        # each pose_keypoints_2d: \n",
        "        #    [431.949, 196.241, 0.0564434, 437.194, 187.749, 0.552267,...'fall-06-cam0_000000000065_keypoints']\n",
        "        # OR [123.949, 283.241, 0.0564434, 437.194, 187.749, 0.552267,...'43_000000000000_keypoints']\n",
        "        data.append(pose_keypoints_2d)        \n",
        "  return data\n",
        "\n",
        "# read the data of UR dataset  \n",
        "# http://fenix.univ.rzeszow.pl/~mkepski/ds/uf.html\n",
        "ur_data1 = input_data(ur_basepath1)\n",
        "print(len(ur_data1))\n",
        "\n",
        "ur_data2 = input_data(ur_basepath2)\n",
        "print(len(ur_data2))\n",
        " \n",
        "ur_data = ur_data1 + ur_data2\n",
        "print(\"length of UR dataset: \", len(ur_data))\n",
        "\n",
        "df1 = pd.DataFrame.from_records(ur_data)\n",
        "df1.to_csv (r'/content/drive/My Drive/636project/ur_data.csv', index = False, header=False)\n",
        "\n",
        "# read the data of MC dataset\n",
        "# http://www.iro.umontreal.ca/~labimage/Dataset/\n",
        "mc_fall_data = input_data(mc_fall_path)\n",
        "print(len(\"length of mc-fall dataset: \", mc_fall_data))\n",
        "\n",
        "\n",
        "df2 = pd.DataFrame.from_records(mc_fall_data)\n",
        "df2.to_csv(r'/content/drive/My Drive/636project/mc_fall_data.csv', index = False, header=False)\n",
        "\n",
        "mc_notfall_data = input_data(mc_notfall_path)\n",
        "print(len(\"length of mc-not-fall dataset: \", mc_notfall_data))\n",
        "\n",
        "df3 = pd.DataFrame.from_records(mc_notfall_data)\n",
        "df3.to_csv(r'/content/drive/My Drive/636project/mc_notfall_data.csv', index = False, header=False)"
      ],
      "execution_count": 11,
      "outputs": [
        {
          "output_type": "stream",
          "text": [
            "2995\n",
            "8941\n",
            "length of UR dataset 11936\n",
            "9488\n",
            "8236\n"
          ],
          "name": "stdout"
        }
      ]
    },
    {
      "cell_type": "code",
      "metadata": {
        "id": "v61HcYuUSK6K",
        "colab_type": "code",
        "colab": {
          "base_uri": "https://localhost:8080/",
          "height": 88
        },
        "outputId": "fef85403-2aee-4930-e865-fcbf22f327f8"
      },
      "source": [
        "ur_path = '/content/drive/My Drive/636project/ur_data.csv'\n",
        "mc_fall_path = '/content/drive/My Drive/636project/mc_fall_data.csv'\n",
        "mc_notfall_path = '/content/drive/My Drive/636project/mc_notfall_data.csv'\n",
        "\n",
        "# read the video data csv,\n",
        "# it is faster than running the above code each time\n",
        "def read_data(path):\n",
        "  video_data = []\n",
        "  with open(path, mode='r') as csv_file:\n",
        "    reader = csv.reader(csv_file)\n",
        "    for row in reader:\n",
        "      video_data.append(row)\n",
        "  return video_data\n",
        "\n",
        "ur_data = read_data(ur_path)\n",
        "mc_fall_data = read_data(mc_fall_path)\n",
        "mc_notfall_data = read_data(mc_notfall_path)\n",
        "\n",
        "print(ur_data[0])\n",
        "print(mc_fall_data[0])\n",
        "print(mc_notfall_data[0])"
      ],
      "execution_count": 43,
      "outputs": [
        {
          "output_type": "stream",
          "text": [
            "['520.972', '128.178', '0.833728', '544.571', '130.782', '0.739747', '540.636', '132.754', '0.726633', '553.086', '154.999', '0.800764', '541.285', '166.155', '0.742877', '549.144', '129.467', '0.745059', '572.703', '155.035', '0.841464', '543.266', '171.369', '0.817947', '572.067', '169.415', '0.607432', '564.874', '166.16', '0.534525', '526.875', '181.191', '0.862423', '554.389', '217.851', '0.612664', '577.962', '170.732', '0.619415', '535.402', '188.398', '0.760066', '560.284', '220.479', '0.65847', '545.882', '232.266', '0.604373', '553.078', '232.915', '0.532739', '566.184', '222.453', '0.655722', '541.939', '229.002', '0.399536', '541.943', '227.687', '0.344383', '560.285', '217.223', '0.153482', 'fall-16-cam0_000000000016_keypoints']\n",
            "['504.171', '238.019', '0.119379', '481.995', '237.979', '0.647555', '471.564', '247.106', '0.6547', '485.918', '299.334', '0.780827', '525.04', '307.158', '0.770417', '495.036', '228.845', '0.474206', '519.863', '220.995', '0.283234', '539.41', '214.505', '0.246275', '478.096', '275.843', '0.378863', '474.176', '284.967', '0.370422', '528.986', '277.118', '0.213783', '0.0', '0.0', '0.0', '485.934', '266.741', '0.363281', '517.291', '258.887', '0.198486', '530.273', '274.524', '0.0747612', '542.03', '277.126', '0.114463', '539.417', '277.116', '0.0888912', '532.899', '274.487', '0.0731438', '0.0', '0.0', '0.0', '0.0', '0.0', '0.0', '0.0', '0.0', '0.0', '55_000000000000_keypoints']\n",
            "['643.854', '174.088', '0.796968', '652.912', '202.706', '0.916605', '633.362', '192.272', '0.886062', '609.831', '214.468', '0.928492', '579.903', '235.396', '0.884458', '672.491', '213.16', '0.871428', '664.737', '253.631', '0.843892', '653.025', '284.941', '0.864034', '625.542', '257.608', '0.738263', '612.549', '253.669', '0.758785', '602.079', '296.765', '0.733292', '590.279', '330.665', '0.457905', '637.277', '265.416', '0.734225', '605.954', '303.234', '0.712669', '566.825', '341.124', '0.72449', '548.572', '350.196', '0.637416', '557.634', '352.806', '0.630046', '561.622', '348.878', '0.52683', '0.0', '0.0', '0.0', '0.0', '0.0', '0.0', '590.367', '337.146', '0.274113', '60_000000000000_keypoints']\n"
          ],
          "name": "stdout"
        }
      ]
    },
    {
      "cell_type": "code",
      "metadata": {
        "id": "2DchOlwQNKUA",
        "colab_type": "code",
        "outputId": "9abc834d-6f2f-4279-c695-48b42e16d342",
        "colab": {
          "base_uri": "https://localhost:8080/",
          "height": 34
        }
      },
      "source": [
        "# read target label of UR dataset. \n",
        "\n",
        "target = []\n",
        "path1 = '/content/drive/My Drive/636project/target/urfall-cam0-falls.csv'\n",
        "path2 = '/content/drive/My Drive/636project/target/urfall-cam0-adls.csv'\n",
        "# in these csv of UR dataset, \n",
        "# '-1' means person is not lying, '1' means person is lying on the ground; '0' is temporary pose, when person \"is falling\"\n",
        "\n",
        "def input_fall(path):\n",
        "  with open(path, mode='r') as csv_file:\n",
        "    reader = csv.reader(csv_file)\n",
        "    for row in reader:\n",
        "      record = []\n",
        "      record.append(row[0])\n",
        "      record.append(row[1])\n",
        "      label = row[2]\n",
        "      if label == '1' or label == '0':\n",
        "        record.append(1)        \n",
        "      else:\n",
        "        record.append(0)\n",
        "      # each record: [<video_id>, <frame_id>, label], eg: ['fall-17', '22', 0] \n",
        "      target.append(record)\n",
        "\n",
        "# though laying in the video, but it is not fall, so I mark 0 as label\n",
        "def input_adl(path):\n",
        "  with open(path, mode='r') as csv_file:\n",
        "    reader = csv.reader(csv_file)\n",
        "    for row in reader:\n",
        "      record = []\n",
        "      record.append(row[0])\n",
        "      record.append(row[1])\n",
        "      record.append(0)\n",
        "      target.append(record)\n",
        "\n",
        "input_fall(path1)\n",
        "print(\"falls of UR dataset\", len(target))\n",
        "\n",
        "input_adl(path2)\n",
        "\n",
        "df = pd.DataFrame.from_records(target)\n",
        "df.to_csv (r'/content/drive/My Drive/636project/target_data.csv', index = False, header=False)\n"
      ],
      "execution_count": 44,
      "outputs": [
        {
          "output_type": "stream",
          "text": [
            "falls of UR dataset 2995\n"
          ],
          "name": "stdout"
        }
      ]
    },
    {
      "cell_type": "code",
      "metadata": {
        "id": "WtMEv5GabKlC",
        "colab_type": "code",
        "colab": {}
      },
      "source": [
        "# make dictionary of target of ur dataset\n",
        "target_csv_path = '/content/drive/My Drive/636project/target_data.csv'\n",
        "idx = 0\n",
        "idx_dict = {}\n",
        "\n",
        "with open(target_csv_path, mode='r') as csv_file:\n",
        "  reader = csv.reader(csv_file)\n",
        "  for row in reader:\n",
        "    # each row: [<video_id>, <frame_id>, label], eg: ['fall-17', '22', 0] \n",
        "    idx_dict['.'.join(row[:2])] = idx  # {'fall-17.22' : 112}\n",
        "    idx += 1"
      ],
      "execution_count": 0,
      "outputs": []
    },
    {
      "cell_type": "code",
      "metadata": {
        "id": "ns3vNaNj5L3G",
        "colab_type": "code",
        "outputId": "44038dec-d48a-4b0c-e0f5-cf897b10635f",
        "colab": {
          "base_uri": "https://localhost:8080/",
          "height": 105
        }
      },
      "source": [
        "# match body landmark data with label data of ur dataset\n",
        "bodylandmark = []\n",
        "label = []\n",
        "\n",
        "for landmark in ur_data:\n",
        "  video_name = landmark[-1].split('_')  # 'fall-01-cam0_000000000004'\n",
        "  a = video_name[0].split('-')\n",
        "  video_type = a[0] # 'fall'\n",
        "  video_id = a[1]   # '01'\n",
        "  frame_id = str(int(video_name[1])) # '000000000004' become '4'\n",
        "  try:\n",
        "    a = '.'.join([video_id, frame_id])\n",
        "    b = '-'.join([video_type, a])\n",
        "    label.append(target[idx_dict[b]][-1])\n",
        "    bl = landmark[:-1]\n",
        "    # convert string into float\n",
        "    bl = list(map(float,bl))\n",
        "    bodylandmark.append(bl)\n",
        "  except:\n",
        "    continue\n",
        "\n",
        "print(\"bodylandmark record sample of ur dataset:\" )\n",
        "print(bodylandmark[0])\n",
        "print(\"label of ur dataset: \", len(label))\n",
        "print(\"bodylandmark of ur dataset: \", len(bodylandmark))"
      ],
      "execution_count": 46,
      "outputs": [
        {
          "output_type": "stream",
          "text": [
            "bodylandmark record sample of ur dataset:\n",
            "[520.972, 128.178, 0.833728, 544.571, 130.782, 0.739747, 540.636, 132.754, 0.726633, 553.086, 154.999, 0.800764, 541.285, 166.155, 0.742877, 549.144, 129.467, 0.745059, 572.703, 155.035, 0.841464, 543.266, 171.369, 0.817947, 572.067, 169.415, 0.607432, 564.874, 166.16, 0.534525, 526.875, 181.191, 0.862423, 554.389, 217.851, 0.612664, 577.962, 170.732, 0.619415, 535.402, 188.398, 0.760066, 560.284, 220.479, 0.65847, 545.882, 232.266, 0.604373, 553.078, 232.915, 0.532739, 566.184, 222.453, 0.655722, 541.939, 229.002, 0.399536, 541.943, 227.687, 0.344383, 560.285, 217.223, 0.153482]\n",
            "label of ur dataset:  11475\n",
            "bodylandmark of ur dataset:  11475\n"
          ],
          "name": "stdout"
        }
      ]
    },
    {
      "cell_type": "code",
      "metadata": {
        "id": "QPBAHX2HKxuL",
        "colab_type": "code",
        "colab": {}
      },
      "source": [
        "# add data of MC dataset to the whole dataset\n",
        "# For MC dataset, all frames in fall data should be label 1, \n",
        "# and all frames in notfall data should be label 0.\n",
        "for record in mc_fall_data:\n",
        "  bl = record[:-1]\n",
        "  bl = list(map(float,bl))\n",
        "  bodylandmark.append(bl)\n",
        "  label.append(1)\n",
        "\n",
        "for record in mc_notfall_data:\n",
        "  bl = record[:-1]\n",
        "  bl = list(map(float,bl))\n",
        "  bodylandmark.append(bl)\n",
        "  label.append(0)\n"
      ],
      "execution_count": 0,
      "outputs": []
    },
    {
      "cell_type": "code",
      "metadata": {
        "id": "yjQH8nEGum9U",
        "colab_type": "code",
        "outputId": "4ec699bd-4bb4-442c-eb8d-50efd7b78f5c",
        "colab": {
          "base_uri": "https://localhost:8080/",
          "height": 88
        }
      },
      "source": [
        "# normalize data \n",
        "for record in bodylandmark:\n",
        "  for i in range(0, 63, 3):\n",
        "    record[i] = float(record[i])/ 640\n",
        "    record[i + 1] = float(record[i + 1]) / 480\n",
        "\n",
        "print(bodylandmark[0])\n",
        "print(len(label))\n",
        "print(len(bodylandmark))"
      ],
      "execution_count": 48,
      "outputs": [
        {
          "output_type": "stream",
          "text": [
            "[0.81401875, 0.2670375, 0.833728, 0.8508921875000001, 0.2724625, 0.739747, 0.8447437499999999, 0.2765708333333333, 0.726633, 0.864196875, 0.32291458333333334, 0.800764, 0.8457578124999999, 0.34615625, 0.742877, 0.8580375, 0.2697229166666667, 0.745059, 0.8948484375, 0.32298958333333333, 0.841464, 0.848853125, 0.35701875, 0.817947, 0.8938546875, 0.35294791666666664, 0.607432, 0.882615625, 0.3461666666666667, 0.534525, 0.8232421875, 0.37748125, 0.862423, 0.8662328125000001, 0.45385625, 0.612664, 0.903065625, 0.3556916666666667, 0.619415, 0.8365656250000001, 0.3924958333333333, 0.760066, 0.87544375, 0.45933125, 0.65847, 0.8529406249999999, 0.48388749999999997, 0.604373, 0.864184375, 0.48523958333333334, 0.532739, 0.8846624999999999, 0.46344375, 0.655722, 0.8467796875, 0.4770875, 0.399536, 0.8467859375, 0.4743479166666667, 0.344383, 0.8754453124999999, 0.4525479166666667, 0.153482]\n",
            "29199\n",
            "29199\n"
          ],
          "name": "stdout"
        }
      ]
    },
    {
      "cell_type": "code",
      "metadata": {
        "id": "5TseRjvqzZ9a",
        "colab_type": "code",
        "outputId": "bfb94d9c-09cd-4837-d45b-c5b3f84b385f",
        "colab": {
          "base_uri": "https://localhost:8080/",
          "height": 88
        }
      },
      "source": [
        "# make bodylandmark and label to be a same data frame\n",
        "all_data = []\n",
        "\n",
        "for i in range(len(bodylandmark)):\n",
        "  all_data.append([label[i]])\n",
        "  all_data[i] = all_data[i] + bodylandmark[i]\n",
        "\n",
        "print(all_data[0])\n",
        "print(len(all_data))\n",
        "print(len(all_data[0]))"
      ],
      "execution_count": 49,
      "outputs": [
        {
          "output_type": "stream",
          "text": [
            "[0, 0.81401875, 0.2670375, 0.833728, 0.8508921875000001, 0.2724625, 0.739747, 0.8447437499999999, 0.2765708333333333, 0.726633, 0.864196875, 0.32291458333333334, 0.800764, 0.8457578124999999, 0.34615625, 0.742877, 0.8580375, 0.2697229166666667, 0.745059, 0.8948484375, 0.32298958333333333, 0.841464, 0.848853125, 0.35701875, 0.817947, 0.8938546875, 0.35294791666666664, 0.607432, 0.882615625, 0.3461666666666667, 0.534525, 0.8232421875, 0.37748125, 0.862423, 0.8662328125000001, 0.45385625, 0.612664, 0.903065625, 0.3556916666666667, 0.619415, 0.8365656250000001, 0.3924958333333333, 0.760066, 0.87544375, 0.45933125, 0.65847, 0.8529406249999999, 0.48388749999999997, 0.604373, 0.864184375, 0.48523958333333334, 0.532739, 0.8846624999999999, 0.46344375, 0.655722, 0.8467796875, 0.4770875, 0.399536, 0.8467859375, 0.4743479166666667, 0.344383, 0.8754453124999999, 0.4525479166666667, 0.153482]\n",
            "29199\n",
            "64\n"
          ],
          "name": "stdout"
        }
      ]
    },
    {
      "cell_type": "code",
      "metadata": {
        "id": "1KpO5VflM_zn",
        "colab_type": "code",
        "colab": {
          "base_uri": "https://localhost:8080/",
          "height": 51
        },
        "outputId": "8f7ec67c-3101-4195-a7e2-cf18bea62591"
      },
      "source": [
        "# know the majority and minority\n",
        "fall = label.count(1)\n",
        "not_fall = label.count(0)\n",
        "print(fall)\n",
        "print(not_fall)"
      ],
      "execution_count": 50,
      "outputs": [
        {
          "output_type": "stream",
          "text": [
            "11261\n",
            "17938\n"
          ],
          "name": "stdout"
        }
      ]
    },
    {
      "cell_type": "code",
      "metadata": {
        "id": "puE0mHIKnR3O",
        "colab_type": "code",
        "outputId": "9399e497-eeed-4db7-cc00-3a3efa045f10",
        "colab": {
          "base_uri": "https://localhost:8080/",
          "height": 170
        }
      },
      "source": [
        "# up-sampling to make the data balance\n",
        "# Separate majority and minority classes\n",
        "df = pd.DataFrame.from_records(all_data)\n",
        "header = ['label']\n",
        "for i in range(63):\n",
        "  header.append(i)\n",
        "\n",
        "df.columns = header\n",
        "df_majority = df[df.label==0]\n",
        "df_minority = df[df.label==1]\n",
        "print(\"before re-sampling, fall vs not fall: \")\n",
        "print(df['label'].value_counts())\n",
        "\n",
        "from sklearn.utils import resample\n",
        "print(\"begin to re sample...\")\n",
        "# Upsample minority class\n",
        "df_minority_upsampled = resample(df_minority, \n",
        "                                 replace=True,      # sample with replacement\n",
        "                                 n_samples=17938)    # to match majority class\n",
        "                                  \n",
        "# Combine majority class with upsampled minority class\n",
        "df_upsampled = pd.concat([df_majority, df_minority_upsampled])\n",
        " \n",
        "print(\"after re-sampling...\")\n",
        "# Display new class counts\n",
        "df_upsampled.label.value_counts()"
      ],
      "execution_count": 51,
      "outputs": [
        {
          "output_type": "stream",
          "text": [
            "before re-sampling, fall vs not fall: \n",
            "0    17938\n",
            "1    11261\n",
            "Name: label, dtype: int64\n",
            "begin to re sample...\n",
            "after re-sampling...\n"
          ],
          "name": "stdout"
        },
        {
          "output_type": "execute_result",
          "data": {
            "text/plain": [
              "1    17938\n",
              "0    17938\n",
              "Name: label, dtype: int64"
            ]
          },
          "metadata": {
            "tags": []
          },
          "execution_count": 51
        }
      ]
    },
    {
      "cell_type": "code",
      "metadata": {
        "id": "ok4SPC0u4LZX",
        "colab_type": "code",
        "outputId": "ed9e6b17-22e6-4803-bed8-5e08a1ecb9b3",
        "colab": {
          "base_uri": "https://localhost:8080/",
          "height": 238
        }
      },
      "source": [
        "all_data = df_upsampled.values\n",
        "\n",
        "print(all_data[0])\n",
        "print(len(all_data[0]))\n",
        "print(\"number of all data:\", len(all_data))"
      ],
      "execution_count": 52,
      "outputs": [
        {
          "output_type": "stream",
          "text": [
            "[0.         0.81401875 0.2670375  0.833728   0.85089219 0.2724625\n",
            " 0.739747   0.84474375 0.27657083 0.726633   0.86419687 0.32291458\n",
            " 0.800764   0.84575781 0.34615625 0.742877   0.8580375  0.26972292\n",
            " 0.745059   0.89484844 0.32298958 0.841464   0.84885312 0.35701875\n",
            " 0.817947   0.89385469 0.35294792 0.607432   0.88261563 0.34616667\n",
            " 0.534525   0.82324219 0.37748125 0.862423   0.86623281 0.45385625\n",
            " 0.612664   0.90306562 0.35569167 0.619415   0.83656563 0.39249583\n",
            " 0.760066   0.87544375 0.45933125 0.65847    0.85294062 0.4838875\n",
            " 0.604373   0.86418438 0.48523958 0.532739   0.8846625  0.46344375\n",
            " 0.655722   0.84677969 0.4770875  0.399536   0.84678594 0.47434792\n",
            " 0.344383   0.87544531 0.45254792 0.153482  ]\n",
            "64\n",
            "number of all data: 35876\n"
          ],
          "name": "stdout"
        }
      ]
    },
    {
      "cell_type": "code",
      "metadata": {
        "id": "MEn4pkbz0SPf",
        "colab_type": "code",
        "outputId": "b49b8dc8-c723-41c4-fc58-c5f307df92b5",
        "colab": {
          "base_uri": "https://localhost:8080/",
          "height": 255
        }
      },
      "source": [
        "# split data into train and test set\n",
        "np.random.shuffle(all_data)\n",
        "split_point = len(all_data) // 9\n",
        "print(\"split point:\", split_point)\n",
        "test_data = all_data[:split_point]\n",
        "train_data = all_data[split_point: ]\n",
        "\n",
        "print(\"number of test data:\", len(test_data))\n",
        "print(\"number of train data:\",len(train_data))\n",
        "\n",
        "print(train_data[0])"
      ],
      "execution_count": 53,
      "outputs": [
        {
          "output_type": "stream",
          "text": [
            "split point: 3986\n",
            "number of test data: 3986\n",
            "number of train data: 31890\n",
            "[0.         0.47994531 0.36533542 0.91405    0.4799875  0.4088\n",
            " 0.914333   0.44929844 0.41702292 0.883865   0.43293594 0.4848875\n",
            " 0.877196   0.43097031 0.55015625 0.876976   0.51247656 0.40338542\n",
            " 0.927394   0.53297812 0.46042292 0.854528   0.5594125  0.50393542\n",
            " 0.816151   0.49213281 0.52846458 0.802972   0.46977813 0.5310875\n",
            " 0.807922   0.47780625 0.59910833 0.839575   0.47982656 0.6643125\n",
            " 0.87482    0.51051406 0.52834583 0.791414   0.51255781 0.59906875\n",
            " 0.913026   0.50034531 0.66432917 0.87518    0.51664844 0.68619792\n",
            " 0.826039   0.52272188 0.68335833 0.841119   0.49620625 0.66712917\n",
            " 0.807065   0.48204687 0.68600625 0.870046   0.47580625 0.68343333\n",
            " 0.834456   0.47791875 0.66713333 0.728486  ]\n"
          ],
          "name": "stdout"
        }
      ]
    },
    {
      "cell_type": "code",
      "metadata": {
        "id": "qxdTfMk3TuYA",
        "colab_type": "code",
        "colab": {
          "base_uri": "https://localhost:8080/",
          "height": 1000
        },
        "outputId": "a177f460-5032-45c8-bc10-cd5e7a0f0295"
      },
      "source": [
        "# solution 1: train model using lstm\n",
        "from tensorflow.keras.layers import LSTM\n",
        "from tensorflow.keras import callbacks\n",
        "from tensorflow.keras import layers\n",
        "from numpy import array\n",
        "from tensorflow.keras.models import Sequential\n",
        "\n",
        "\n",
        "def scheduler(epoch):\n",
        "  if epoch < 10:\n",
        "    return 0.001\n",
        "  else:\n",
        "    return 0.001 * np.exp(0.1 * (10 - epoch))\n",
        "\n",
        "x_train = []\n",
        "y_train = []\n",
        "\n",
        "for record in train_data:\n",
        "  x_train.append(record[1:])\n",
        "  label = int(record[0])\n",
        "  y_train.append(label) \n",
        "\n",
        "x_train = array(x_train)\n",
        "x_train = x_train.reshape((len(x_train), 1, len(x_train[0])))\n",
        "print(\"x_train.shape\", x_train.shape)\n",
        "print(x_train[0])\n",
        "\n",
        "y_train = array(y_train)\n",
        "print(\"y_train.shape\", y_train.shape)\n",
        "\n",
        "# imrpove log: use batch size 16 and add one more lstm layer\n",
        "model = Sequential()\n",
        "model.add(LSTM(16, \n",
        "               input_shape=(1, 63),\n",
        "               return_sequences=True))\n",
        "model.add(LSTM(16, ))\n",
        "model.add(layers.Dense(1, activation='sigmoid'))\n",
        "model.compile(optimizer='rmsprop',\n",
        "              loss='binary_crossentropy',\n",
        "              metrics=['acc'])\n",
        "history = model.fit(x_train, y_train,\n",
        "                    epochs=100,\n",
        "                    batch_size=16,\n",
        "                    validation_split=0.2,\n",
        "                    callbacks=[callbacks.EarlyStopping(monitor='val_loss', patience=5),\n",
        "                    callbacks.LearningRateScheduler(scheduler)])\n",
        "\n",
        "print(\"finish training\")"
      ],
      "execution_count": 39,
      "outputs": [
        {
          "output_type": "stream",
          "text": [
            "x_train.shape (31890, 1, 63)\n",
            "[[0.45145625 0.39521667 0.761139   0.51664844 0.46859375 0.805305\n",
            "  0.54306562 0.43604167 0.671503   0.         0.         0.\n",
            "  0.         0.         0.         0.49825313 0.50939375 0.633329\n",
            "  0.47993281 0.63444792 0.806003   0.4126125  0.67793125 0.792962\n",
            "  0.52070938 0.61811458 0.411039   0.53293437 0.60727083 0.236312\n",
            "  0.46572812 0.64530417 0.312318   0.44528906 0.74858125 0.621006\n",
            "  0.51467031 0.63170625 0.432919   0.5309375  0.71067083 0.610663\n",
            "  0.59415    0.77303333 0.829398   0.55942656 0.7949625  0.776691\n",
            "  0.56964844 0.80302917 0.74127    0.61043281 0.77316875 0.748917\n",
            "  0.39828281 0.74316458 0.601995   0.40035938 0.73774792 0.570832\n",
            "  0.449375   0.76759583 0.52409   ]]\n",
            "y_train.shape (31890,)\n",
            "Epoch 1/100\n",
            "1595/1595 [==============================] - 12s 8ms/step - loss: 0.4056 - acc: 0.8219 - val_loss: 0.3362 - val_acc: 0.8576 - lr: 0.0010\n",
            "Epoch 2/100\n",
            "1595/1595 [==============================] - 12s 7ms/step - loss: 0.2952 - acc: 0.8787 - val_loss: 0.3166 - val_acc: 0.8692 - lr: 0.0010\n",
            "Epoch 3/100\n",
            "1595/1595 [==============================] - 12s 7ms/step - loss: 0.2659 - acc: 0.8918 - val_loss: 0.2733 - val_acc: 0.8928 - lr: 0.0010\n",
            "Epoch 4/100\n",
            "1595/1595 [==============================] - 12s 7ms/step - loss: 0.2491 - acc: 0.9002 - val_loss: 0.2541 - val_acc: 0.8982 - lr: 0.0010\n",
            "Epoch 5/100\n",
            "1595/1595 [==============================] - 12s 7ms/step - loss: 0.2365 - acc: 0.9065 - val_loss: 0.2443 - val_acc: 0.9022 - lr: 0.0010\n",
            "Epoch 6/100\n",
            "1595/1595 [==============================] - 12s 7ms/step - loss: 0.2244 - acc: 0.9114 - val_loss: 0.2603 - val_acc: 0.8929 - lr: 0.0010\n",
            "Epoch 7/100\n",
            "1595/1595 [==============================] - 12s 7ms/step - loss: 0.2172 - acc: 0.9149 - val_loss: 0.2251 - val_acc: 0.9135 - lr: 0.0010\n",
            "Epoch 8/100\n",
            "1595/1595 [==============================] - 12s 7ms/step - loss: 0.2105 - acc: 0.9173 - val_loss: 0.2175 - val_acc: 0.9180 - lr: 0.0010\n",
            "Epoch 9/100\n",
            "1595/1595 [==============================] - 12s 7ms/step - loss: 0.2041 - acc: 0.9194 - val_loss: 0.3064 - val_acc: 0.8659 - lr: 0.0010\n",
            "Epoch 10/100\n",
            "1595/1595 [==============================] - 12s 7ms/step - loss: 0.1980 - acc: 0.9207 - val_loss: 0.2012 - val_acc: 0.9207 - lr: 0.0010\n",
            "Epoch 11/100\n",
            "1595/1595 [==============================] - 12s 7ms/step - loss: 0.1937 - acc: 0.9229 - val_loss: 0.2059 - val_acc: 0.9188 - lr: 0.0010\n",
            "Epoch 12/100\n",
            "1595/1595 [==============================] - 12s 7ms/step - loss: 0.1883 - acc: 0.9246 - val_loss: 0.1988 - val_acc: 0.9208 - lr: 9.0484e-04\n",
            "Epoch 13/100\n",
            "1595/1595 [==============================] - 12s 7ms/step - loss: 0.1842 - acc: 0.9247 - val_loss: 0.1941 - val_acc: 0.9249 - lr: 8.1873e-04\n",
            "Epoch 14/100\n",
            "1595/1595 [==============================] - 12s 7ms/step - loss: 0.1802 - acc: 0.9270 - val_loss: 0.1887 - val_acc: 0.9249 - lr: 7.4082e-04\n",
            "Epoch 15/100\n",
            "1595/1595 [==============================] - 12s 7ms/step - loss: 0.1763 - acc: 0.9285 - val_loss: 0.1896 - val_acc: 0.9247 - lr: 6.7032e-04\n",
            "Epoch 16/100\n",
            "1595/1595 [==============================] - 12s 7ms/step - loss: 0.1735 - acc: 0.9297 - val_loss: 0.2070 - val_acc: 0.9169 - lr: 6.0653e-04\n",
            "Epoch 17/100\n",
            "1595/1595 [==============================] - 12s 7ms/step - loss: 0.1704 - acc: 0.9309 - val_loss: 0.1885 - val_acc: 0.9254 - lr: 5.4881e-04\n",
            "Epoch 18/100\n",
            "1595/1595 [==============================] - 12s 8ms/step - loss: 0.1684 - acc: 0.9308 - val_loss: 0.1803 - val_acc: 0.9287 - lr: 4.9659e-04\n",
            "Epoch 19/100\n",
            "1595/1595 [==============================] - 12s 7ms/step - loss: 0.1668 - acc: 0.9321 - val_loss: 0.1785 - val_acc: 0.9269 - lr: 4.4933e-04\n",
            "Epoch 20/100\n",
            "1595/1595 [==============================] - 12s 7ms/step - loss: 0.1649 - acc: 0.9323 - val_loss: 0.1935 - val_acc: 0.9224 - lr: 4.0657e-04\n",
            "Epoch 21/100\n",
            "1595/1595 [==============================] - 11s 7ms/step - loss: 0.1640 - acc: 0.9326 - val_loss: 0.1757 - val_acc: 0.9298 - lr: 3.6788e-04\n",
            "Epoch 22/100\n",
            "1595/1595 [==============================] - 12s 7ms/step - loss: 0.1623 - acc: 0.9329 - val_loss: 0.1743 - val_acc: 0.9316 - lr: 3.3287e-04\n",
            "Epoch 23/100\n",
            "1595/1595 [==============================] - 12s 7ms/step - loss: 0.1605 - acc: 0.9345 - val_loss: 0.1728 - val_acc: 0.9315 - lr: 3.0119e-04\n",
            "Epoch 24/100\n",
            "1595/1595 [==============================] - 12s 7ms/step - loss: 0.1594 - acc: 0.9347 - val_loss: 0.1831 - val_acc: 0.9283 - lr: 2.7253e-04\n",
            "Epoch 25/100\n",
            "1595/1595 [==============================] - 12s 7ms/step - loss: 0.1578 - acc: 0.9354 - val_loss: 0.1750 - val_acc: 0.9316 - lr: 2.4660e-04\n",
            "Epoch 26/100\n",
            "1595/1595 [==============================] - 11s 7ms/step - loss: 0.1574 - acc: 0.9351 - val_loss: 0.1720 - val_acc: 0.9320 - lr: 2.2313e-04\n",
            "Epoch 27/100\n",
            "1595/1595 [==============================] - 11s 7ms/step - loss: 0.1563 - acc: 0.9361 - val_loss: 0.1721 - val_acc: 0.9315 - lr: 2.0190e-04\n",
            "Epoch 28/100\n",
            "1595/1595 [==============================] - 11s 7ms/step - loss: 0.1559 - acc: 0.9356 - val_loss: 0.1701 - val_acc: 0.9329 - lr: 1.8268e-04\n",
            "Epoch 29/100\n",
            "1595/1595 [==============================] - 11s 7ms/step - loss: 0.1551 - acc: 0.9355 - val_loss: 0.1705 - val_acc: 0.9334 - lr: 1.6530e-04\n",
            "Epoch 30/100\n",
            "1595/1595 [==============================] - 12s 7ms/step - loss: 0.1547 - acc: 0.9367 - val_loss: 0.1693 - val_acc: 0.9334 - lr: 1.4957e-04\n",
            "Epoch 31/100\n",
            "1595/1595 [==============================] - 12s 7ms/step - loss: 0.1539 - acc: 0.9360 - val_loss: 0.1692 - val_acc: 0.9332 - lr: 1.3534e-04\n",
            "Epoch 32/100\n",
            "1595/1595 [==============================] - 12s 7ms/step - loss: 0.1536 - acc: 0.9363 - val_loss: 0.1720 - val_acc: 0.9326 - lr: 1.2246e-04\n",
            "Epoch 33/100\n",
            "1595/1595 [==============================] - 11s 7ms/step - loss: 0.1528 - acc: 0.9373 - val_loss: 0.1744 - val_acc: 0.9313 - lr: 1.1080e-04\n",
            "Epoch 34/100\n",
            "1595/1595 [==============================] - 12s 7ms/step - loss: 0.1530 - acc: 0.9369 - val_loss: 0.1722 - val_acc: 0.9321 - lr: 1.0026e-04\n",
            "Epoch 35/100\n",
            "1595/1595 [==============================] - 11s 7ms/step - loss: 0.1522 - acc: 0.9367 - val_loss: 0.1686 - val_acc: 0.9335 - lr: 9.0718e-05\n",
            "Epoch 36/100\n",
            "1595/1595 [==============================] - 11s 7ms/step - loss: 0.1522 - acc: 0.9372 - val_loss: 0.1686 - val_acc: 0.9343 - lr: 8.2085e-05\n",
            "Epoch 37/100\n",
            "1595/1595 [==============================] - 11s 7ms/step - loss: 0.1521 - acc: 0.9377 - val_loss: 0.1686 - val_acc: 0.9329 - lr: 7.4274e-05\n",
            "Epoch 38/100\n",
            "1595/1595 [==============================] - 11s 7ms/step - loss: 0.1515 - acc: 0.9378 - val_loss: 0.1704 - val_acc: 0.9332 - lr: 6.7206e-05\n",
            "Epoch 39/100\n",
            "1595/1595 [==============================] - 11s 7ms/step - loss: 0.1513 - acc: 0.9382 - val_loss: 0.1700 - val_acc: 0.9327 - lr: 6.0810e-05\n",
            "Epoch 40/100\n",
            "1595/1595 [==============================] - 11s 7ms/step - loss: 0.1512 - acc: 0.9379 - val_loss: 0.1679 - val_acc: 0.9343 - lr: 5.5023e-05\n",
            "Epoch 41/100\n",
            "1595/1595 [==============================] - 11s 7ms/step - loss: 0.1509 - acc: 0.9381 - val_loss: 0.1684 - val_acc: 0.9337 - lr: 4.9787e-05\n",
            "Epoch 42/100\n",
            "1595/1595 [==============================] - 11s 7ms/step - loss: 0.1506 - acc: 0.9381 - val_loss: 0.1680 - val_acc: 0.9332 - lr: 4.5049e-05\n",
            "Epoch 43/100\n",
            "1595/1595 [==============================] - 11s 7ms/step - loss: 0.1506 - acc: 0.9382 - val_loss: 0.1685 - val_acc: 0.9331 - lr: 4.0762e-05\n",
            "Epoch 44/100\n",
            "1595/1595 [==============================] - 11s 7ms/step - loss: 0.1507 - acc: 0.9383 - val_loss: 0.1680 - val_acc: 0.9338 - lr: 3.6883e-05\n",
            "Epoch 45/100\n",
            "1595/1595 [==============================] - 12s 7ms/step - loss: 0.1505 - acc: 0.9385 - val_loss: 0.1680 - val_acc: 0.9332 - lr: 3.3373e-05\n",
            "finish training\n"
          ],
          "name": "stdout"
        }
      ]
    },
    {
      "cell_type": "code",
      "metadata": {
        "id": "525FNc0f5Hj9",
        "colab_type": "code",
        "colab": {
          "base_uri": "https://localhost:8080/",
          "height": 391
        },
        "outputId": "d38c8466-9100-429a-b5bb-7b5e02bb13a0"
      },
      "source": [
        "# solution 2: train model using CNN\n",
        "from tensorflow.keras.models import Sequential\n",
        "from tensorflow.keras.layers import Dense, Conv2D, Flatten, MaxPooling2D\n",
        "\n",
        "def scheduler(epoch):\n",
        "  if epoch < 10:\n",
        "    return 0.001\n",
        "  else:\n",
        "    return 0.001 * np.exp(0.1 * (10 - epoch))\n",
        "\n",
        "x_train = []\n",
        "y_train = []\n",
        "\n",
        "for record in train_data:\n",
        "  x_train.append(record[1:])\n",
        "  label = int(record[0])\n",
        "  y_train.append(label) \n",
        "\n",
        "x_train = array(x_train)\n",
        "x_train = x_train.reshape((len(x_train), 3, int(len(x_train[0])/3), 1))\n",
        "\n",
        "y_train = array(y_train)\n",
        "\n",
        "#create model\n",
        "model = Sequential()\n",
        "model.add(Conv2D(64, \n",
        "                 kernel_size=3, \n",
        "                 activation='relu', \n",
        "                 input_shape=(3,21,1), \n",
        "                 padding='same'))\n",
        "model.add(Conv2D(32, \n",
        "                 kernel_size=3, \n",
        "                 activation='relu', \n",
        "                 padding='same'))\n",
        "model.add(MaxPooling2D(2,2))\n",
        "model.add(Flatten())\n",
        "model.add(Dense(128, activation = 'relu'))\n",
        "model.add(Dense(1, activation='sigmoid'))\n",
        "# compile and fit\n",
        "model.compile(optimizer='rmsprop',\n",
        "              loss='binary_crossentropy',\n",
        "              metrics=['acc'])\n",
        "history = model.fit(x_train, y_train,\n",
        "                    epochs=100,\n",
        "                    batch_size=16,\n",
        "                    validation_split=0.2,\n",
        "                    callbacks=[callbacks.EarlyStopping(monitor='val_loss', patience=5),\n",
        "                    callbacks.LearningRateScheduler(scheduler)])\n"
      ],
      "execution_count": 33,
      "outputs": [
        {
          "output_type": "stream",
          "text": [
            "Epoch 1/100\n",
            "1595/1595 [==============================] - 8s 5ms/step - loss: 0.2790 - acc: 0.8816 - val_loss: 0.2485 - val_acc: 0.8935 - lr: 0.0010\n",
            "Epoch 2/100\n",
            "1595/1595 [==============================] - 7s 5ms/step - loss: 0.1883 - acc: 0.9253 - val_loss: 0.2121 - val_acc: 0.9169 - lr: 0.0010\n",
            "Epoch 3/100\n",
            "1595/1595 [==============================] - 7s 5ms/step - loss: 0.1668 - acc: 0.9336 - val_loss: 0.2166 - val_acc: 0.9219 - lr: 0.0010\n",
            "Epoch 4/100\n",
            "1595/1595 [==============================] - 8s 5ms/step - loss: 0.1526 - acc: 0.9392 - val_loss: 0.1642 - val_acc: 0.9363 - lr: 0.0010\n",
            "Epoch 5/100\n",
            "1595/1595 [==============================] - 7s 5ms/step - loss: 0.1412 - acc: 0.9423 - val_loss: 0.1585 - val_acc: 0.9454 - lr: 0.0010\n",
            "Epoch 6/100\n",
            "1595/1595 [==============================] - 7s 5ms/step - loss: 0.1342 - acc: 0.9445 - val_loss: 0.1297 - val_acc: 0.9483 - lr: 0.0010\n",
            "Epoch 7/100\n",
            "1595/1595 [==============================] - 7s 5ms/step - loss: 0.1292 - acc: 0.9501 - val_loss: 0.1811 - val_acc: 0.9389 - lr: 0.0010\n",
            "Epoch 8/100\n",
            "1595/1595 [==============================] - 7s 5ms/step - loss: 0.1260 - acc: 0.9496 - val_loss: 0.1459 - val_acc: 0.9429 - lr: 0.0010\n",
            "Epoch 9/100\n",
            "1595/1595 [==============================] - 7s 5ms/step - loss: 0.1226 - acc: 0.9513 - val_loss: 0.1352 - val_acc: 0.9484 - lr: 0.0010\n",
            "Epoch 10/100\n",
            "1595/1595 [==============================] - 7s 5ms/step - loss: 0.1209 - acc: 0.9532 - val_loss: 0.1423 - val_acc: 0.9475 - lr: 0.0010\n",
            "Epoch 11/100\n",
            "1595/1595 [==============================] - 7s 5ms/step - loss: 0.1168 - acc: 0.9537 - val_loss: 0.1406 - val_acc: 0.9505 - lr: 0.0010\n"
          ],
          "name": "stdout"
        }
      ]
    },
    {
      "cell_type": "code",
      "metadata": {
        "id": "TB-7RM66Yp7w",
        "colab_type": "code",
        "outputId": "c67cea34-d104-45dc-f1b9-1559887040db",
        "colab": {
          "base_uri": "https://localhost:8080/",
          "height": 295
        }
      },
      "source": [
        "# plotting the results\n",
        "\n",
        "import matplotlib.pyplot as plt\n",
        "\n",
        "loss = history.history['loss']\n",
        "val_loss = history.history['val_loss']\n",
        "epochs = range(1, len(loss) + 1)\n",
        "\n",
        "plt.figure()\n",
        "plt.plot(epochs, loss, 'bo', label=\"Training loss\")\n",
        "plt.plot(epochs, val_loss, 'b', label='Validation loss')\n",
        "plt.title('Training and validation loss')\n",
        "plt.xlabel('epoch', fontsize=10)\n",
        "plt.ylabel('loss', fontsize=10)\n",
        "plt.ylim(0.0,0.5)\n",
        "plt.legend()\n",
        "\n",
        "plt.show()"
      ],
      "execution_count": 34,
      "outputs": [
        {
          "output_type": "display_data",
          "data": {
            "image/png": "[encoded data removed]",
            "text/plain": [
              "<Figure size 432x288 with 1 Axes>"
            ]
          },
          "metadata": {
            "tags": []
          }
        }
      ]
    },
    {
      "cell_type": "code",
      "metadata": {
        "id": "QdyJtNbDxV0x",
        "colab_type": "code",
        "colab": {}
      },
      "source": [
        "# train the final model on all non-test data avaliable\n",
        "# for lstm\n",
        "x_test = []\n",
        "y_test = []\n",
        "\n",
        "for record in train_data:\n",
        "  x_test.append(record[1:])\n",
        "  label = int(record[0])\n",
        "  y_test.append(label) \n",
        "\n",
        "x_test = array(x_test)\n",
        "x_test = x_test.reshape((len(x_test), 1, len(x_test[0])))\n",
        "\n",
        "y_test = array(y_test)\n",
        "\n",
        "test_score = model.evaluate(x_test, y_test)\n",
        "print(test_score)"
      ],
      "execution_count": 0,
      "outputs": []
    },
    {
      "cell_type": "code",
      "metadata": {
        "id": "GX53NtjDKj-K",
        "colab_type": "code",
        "colab": {
          "base_uri": "https://localhost:8080/",
          "height": 51
        },
        "outputId": "8d43de18-7917-461a-b65d-b61b29a5a26f"
      },
      "source": [
        "# train the final model on all non-test data avaliable\n",
        "# for cnn 2d\n",
        "x_test = []\n",
        "y_test = []\n",
        "\n",
        "for record in train_data:\n",
        "  x_test.append(record[1:])\n",
        "  label = int(record[0])\n",
        "  y_test.append(label) \n",
        "\n",
        "x_test = array(x_test)\n",
        "x_test = x_test.reshape((len(x_test), 3, int(len(x_test[0])/3), 1))\n",
        "\n",
        "y_test = array(y_test)\n",
        "\n",
        "test_score = model.evaluate(x_test, y_test)\n",
        "print(test_score)"
      ],
      "execution_count": 36,
      "outputs": [
        {
          "output_type": "stream",
          "text": [
            "997/997 [==============================] - 2s 2ms/step - loss: 0.1164 - acc: 0.9559\n",
            "[0.11636932939291, 0.9558795690536499]\n"
          ],
          "name": "stdout"
        }
      ]
    },
    {
      "cell_type": "code",
      "metadata": {
        "id": "3UfpedxBtuu_",
        "colab_type": "code",
        "colab": {
          "base_uri": "https://localhost:8080/",
          "height": 357
        },
        "outputId": "d7d9e66c-3a87-4bc4-a309-5f07ee8736bd"
      },
      "source": [
        "model.summary()"
      ],
      "execution_count": 38,
      "outputs": [
        {
          "output_type": "stream",
          "text": [
            "Model: \"sequential_1\"\n",
            "_________________________________________________________________\n",
            "Layer (type)                 Output Shape              Param #   \n",
            "=================================================================\n",
            "conv2d (Conv2D)              (None, 3, 21, 64)         640       \n",
            "_________________________________________________________________\n",
            "conv2d_1 (Conv2D)            (None, 3, 21, 32)         18464     \n",
            "_________________________________________________________________\n",
            "max_pooling2d (MaxPooling2D) (None, 1, 10, 32)         0         \n",
            "_________________________________________________________________\n",
            "flatten (Flatten)            (None, 320)               0         \n",
            "_________________________________________________________________\n",
            "dense_1 (Dense)              (None, 128)               41088     \n",
            "_________________________________________________________________\n",
            "dense_2 (Dense)              (None, 1)                 129       \n",
            "=================================================================\n",
            "Total params: 60,321\n",
            "Trainable params: 60,321\n",
            "Non-trainable params: 0\n",
            "_________________________________________________________________\n"
          ],
          "name": "stdout"
        }
      ]
    },
    {
      "cell_type": "code",
      "metadata": {
        "id": "ZR5MyMOF7zsI",
        "colab_type": "code",
        "colab": {}
      },
      "source": [
        "model.save(\"/content/drive/My Drive/636project/model_improve_cnn.h5\")"
      ],
      "execution_count": 0,
      "outputs": []
    }
  ]
}